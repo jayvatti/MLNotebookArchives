{
 "cells": [
  {
   "cell_type": "code",
   "execution_count": 1,
   "id": "70a10435",
   "metadata": {},
   "outputs": [],
   "source": [
    "import numpy as np\n",
    "import pandas as pd"
   ]
  },
  {
   "cell_type": "code",
   "execution_count": 2,
   "id": "7e07cb06",
   "metadata": {},
   "outputs": [],
   "source": [
    "df = pd.read_csv('../data/logisticRegression.csv')"
   ]
  },
  {
   "cell_type": "code",
   "execution_count": 3,
   "id": "9f7dd4d1",
   "metadata": {},
   "outputs": [
    {
     "name": "stdout",
     "output_type": "stream",
     "text": [
      "   0.5  1.5  0\n",
      "0  1.0  1.0  0\n",
      "1  1.5  0.5  0\n",
      "2  3.0  0.5  1\n",
      "3  2.0  2.0  1\n",
      "4  1.0  2.5  1\n"
     ]
    }
   ],
   "source": [
    "print(df)"
   ]
  },
  {
   "cell_type": "code",
   "execution_count": 4,
   "id": "fe5f378e",
   "metadata": {},
   "outputs": [],
   "source": [
    "x = []\n",
    "y = []\n",
    "for i in range(df.shape[0]):\n",
    "    temp = df.iloc[i]\n",
    "    x.append(temp[0:-1])\n",
    "    y.append(temp[-1])"
   ]
  },
  {
   "cell_type": "code",
   "execution_count": 5,
   "id": "06924020",
   "metadata": {},
   "outputs": [],
   "source": [
    "x_values = np.array(x)\n",
    "y_values = np.array(y)"
   ]
  },
  {
   "cell_type": "markdown",
   "id": "b8dd7490",
   "metadata": {},
   "source": [
    "* Logistic regression model  \n",
    "    $z = \\mathbf{w} \\cdot \\mathbf{x} + b$  \n",
    "    $f_{\\mathbf{w},b}(x) = g(z)$  \n",
    "    where $g(z)$ is the sigmoid function:  \n",
    "    $g(z) = \\frac{1}{1+e^{-z}}$   "
   ]
  },
  {
   "cell_type": "code",
   "execution_count": 6,
   "id": "33da4610",
   "metadata": {},
   "outputs": [],
   "source": [
    "def calculate_gradient_descent(x_values, y_values, w_values, b): \n",
    "    m,n = x_values.shape # tuple (m,n)\n",
    "    derivatives_w = np.zeros(n)                         \n",
    "    derivative_b = 0\n",
    "\n",
    "    for i in range(m):\n",
    "        f_i = sigmoid(np.dot(x_values[i],w_values) + b)          \n",
    "        error_i  = f_i  - y_values[i]                      \n",
    "        for j in range(n):\n",
    "            derivatives_w[j] = derivatives_w[j] + error_i * x_values[i,j]     \n",
    "        derivative_b = derivative_b + error_i\n",
    "                                \n",
    "        \n",
    "    return derivative_b/m, derivatives_w/m  "
   ]
  },
  {
   "cell_type": "code",
   "execution_count": 7,
   "id": "806a83a8",
   "metadata": {},
   "outputs": [],
   "source": [
    "def sigmoid(z):\n",
    "    value = 1/(1+np.exp(-z))\n",
    "    return value"
   ]
  },
  {
   "cell_type": "markdown",
   "id": "9b229518",
   "metadata": {},
   "source": [
    "\n",
    "$$ J(\\mathbf{w},b) = \\frac{1}{m} \\sum_{i=0}^{m-1} \\left[ loss(f_{\\mathbf{w},b}(\\mathbf{x}^{(i)}), y^{(i)}) \\right] \\tag{1}$$\n",
    "\n",
    "\n",
    "* $loss(f_{\\mathbf{w},b}(\\mathbf{x}^{(i)}), y^{(i)})$ : cost for a single data point.\n",
    "\n",
    "    $$loss(f_{\\mathbf{w},b}(\\mathbf{x}^{(i)}), y^{(i)}) = -y^{(i)} \\log\\left(f_{\\mathbf{w},b}\\left( \\mathbf{x}^{(i)} \\right) \\right) - \\left( 1 - y^{(i)}\\right) \\log \\left( 1 - f_{\\mathbf{w},b}\\left( \\mathbf{x}^{(i)} \\right) \\right) \\tag{2}$$\n",
    "    \n",
    "* m: training examples\n",
    "$$\n",
    "\\begin{align}\n",
    "  f_{\\mathbf{w},b}(\\mathbf{x^{(i)}}) &= g(z^{(i)})\\tag{3} \\\\\n",
    "  z^{(i)} &= \\mathbf{w} \\cdot \\mathbf{x}^{(i)}+ b\\tag{4} \\\\\n",
    "  g(z^{(i)}) &= \\frac{1}{1+e^{-z^{(i)}}}\\tag{5} \n",
    "\\end{align}\n",
    "$$\n",
    " "
   ]
  },
  {
   "cell_type": "code",
   "execution_count": 8,
   "id": "66f8716b",
   "metadata": {},
   "outputs": [],
   "source": [
    "def calculate_cost(x_values, y_values, w_values, b):\n",
    "\n",
    "    m = x_values.shape[0]\n",
    "    total_cost = 0.0\n",
    "    for i in range(m):\n",
    "        f_i = sigmoid(np.dot(x_values[i],w_values) + b)\n",
    "        total_cost +=  -y_values[i]*np.log(f_i) - (1-y_values[i])*np.log(1-f_i)\n",
    "    return total_cost/m"
   ]
  },
  {
   "cell_type": "code",
   "execution_count": 9,
   "id": "afdab23c",
   "metadata": {},
   "outputs": [],
   "source": [
    "import copy \n",
    "\n",
    "def gradient_descent(x_values, y_values, w_initial, b_initial, alpha, iterations): \n",
    "    cost_cache = []\n",
    "    w = copy.deepcopy(w_initial)  \n",
    "    b = b_initial\n",
    "    \n",
    "    for i in range(iterations):\n",
    "        derivative_b, derivatives_w = calculate_gradient_descent(x_values, y_values, w, b)   \n",
    "\n",
    "       #simultaneous update\n",
    "        w = w - alpha * derivatives_w               \n",
    "        b = b - alpha * derivative_b     \n",
    "\n",
    "        if i<100000:      \n",
    "            cost_cache.append(calculate_cost(x_values, y_values, w, b))\n",
    "    return w, b, cost_cache"
   ]
  },
  {
   "cell_type": "code",
   "execution_count": 10,
   "id": "613010e3",
   "metadata": {},
   "outputs": [],
   "source": [
    "w_initial_values  = np.zeros(x_values.shape[1])\n",
    "b_initial  = 0\n",
    "learning_rate = 0.1\n",
    "iterations = 10000\n"
   ]
  },
  {
   "cell_type": "code",
   "execution_count": 11,
   "id": "f077097d",
   "metadata": {},
   "outputs": [],
   "source": [
    "w_final, b_final, cost_cache = gradient_descent(x_values, y_values, w_initial_values, b_initial, learning_rate, iterations) "
   ]
  },
  {
   "cell_type": "code",
   "execution_count": 12,
   "id": "2576ee99",
   "metadata": {},
   "outputs": [
    {
     "name": "stdout",
     "output_type": "stream",
     "text": [
      "[5.09255896 5.23631964] -13.917026239040428\n"
     ]
    }
   ],
   "source": [
    "print(w_final, b_final)"
   ]
  },
  {
   "cell_type": "code",
   "execution_count": 13,
   "id": "8b725655",
   "metadata": {},
   "outputs": [
    {
     "name": "stdout",
     "output_type": "stream",
     "text": [
      "Predictions: [0. 0. 1. 1. 1.]\n",
      "Actual: [0. 0. 1. 1. 1.]\n"
     ]
    }
   ],
   "source": [
    "def predict(x_values, w_values, b): \n",
    "    m, n = x_values.shape   \n",
    "    predictions = np.zeros(m)\n",
    "    for i in range(m):\n",
    "        f_i = sigmoid(np.dot(x_values[i],w_values) + b)\n",
    "        predictions[i] = f_i >= 0.5\n",
    "    return predictions\n",
    "\n",
    "print(\"Predictions:\",predict(x_values,w_final,b_final))\n",
    "print(\"Actual:\", y_values)"
   ]
  },
  {
   "cell_type": "code",
   "execution_count": 14,
   "id": "09d389ef",
   "metadata": {},
   "outputs": [
    {
     "data": {
      "image/png": "[encoded data removed]",
      "text/plain": [
       "<Figure size 640x480 with 1 Axes>"
      ]
     },
     "metadata": {},
     "output_type": "display_data"
    }
   ],
   "source": [
    "#NOTE: I looked at the Cost Vs Iteration graph and kept changing the learning rate best fit for my data\n",
    "\n",
    "\n",
    "import matplotlib.pyplot as plt\n",
    "plt.figure()\n",
    "plt.plot(cost_cache)\n",
    "plt.xlabel('Iteration')\n",
    "plt.ylabel('Cost')\n",
    "plt.title('Cost vs. Iteration')\n",
    "plt.show()\n"
   ]
  },
  {
   "cell_type": "code",
   "execution_count": 15,
   "id": "65c4b319",
   "metadata": {},
   "outputs": [
    {
     "data": {
      "text/html": [
       "<style>#sk-container-id-1 {color: black;background-color: white;}#sk-container-id-1 pre{padding: 0;}#sk-container-id-1 div.sk-toggleable {background-color: white;}#sk-container-id-1 label.sk-toggleable__label {cursor: pointer;display: block;width: 100%;margin-bottom: 0;padding: 0.3em;box-sizing: border-box;text-align: center;}#sk-container-id-1 label.sk-toggleable__label-arrow:before {content: \"▸\";float: left;margin-right: 0.25em;color: #696969;}#sk-container-id-1 label.sk-toggleable__label-arrow:hover:before {color: black;}#sk-container-id-1 div.sk-estimator:hover label.sk-toggleable__label-arrow:before {color: black;}#sk-container-id-1 div.sk-toggleable__content {max-height: 0;max-width: 0;overflow: hidden;text-align: left;background-color: #f0f8ff;}#sk-container-id-1 div.sk-toggleable__content pre {margin: 0.2em;color: black;border-radius: 0.25em;background-color: #f0f8ff;}#sk-container-id-1 input.sk-toggleable__control:checked~div.sk-toggleable__content {max-height: 200px;max-width: 100%;overflow: auto;}#sk-container-id-1 input.sk-toggleable__control:checked~label.sk-toggleable__label-arrow:before {content: \"▾\";}#sk-container-id-1 div.sk-estimator input.sk-toggleable__control:checked~label.sk-toggleable__label {background-color: #d4ebff;}#sk-container-id-1 div.sk-label input.sk-toggleable__control:checked~label.sk-toggleable__label {background-color: #d4ebff;}#sk-container-id-1 input.sk-hidden--visually {border: 0;clip: rect(1px 1px 1px 1px);clip: rect(1px, 1px, 1px, 1px);height: 1px;margin: -1px;overflow: hidden;padding: 0;position: absolute;width: 1px;}#sk-container-id-1 div.sk-estimator {font-family: monospace;background-color: #f0f8ff;border: 1px dotted black;border-radius: 0.25em;box-sizing: border-box;margin-bottom: 0.5em;}#sk-container-id-1 div.sk-estimator:hover {background-color: #d4ebff;}#sk-container-id-1 div.sk-parallel-item::after {content: \"\";width: 100%;border-bottom: 1px solid gray;flex-grow: 1;}#sk-container-id-1 div.sk-label:hover label.sk-toggleable__label {background-color: #d4ebff;}#sk-container-id-1 div.sk-serial::before {content: \"\";position: absolute;border-left: 1px solid gray;box-sizing: border-box;top: 0;bottom: 0;left: 50%;z-index: 0;}#sk-container-id-1 div.sk-serial {display: flex;flex-direction: column;align-items: center;background-color: white;padding-right: 0.2em;padding-left: 0.2em;position: relative;}#sk-container-id-1 div.sk-item {position: relative;z-index: 1;}#sk-container-id-1 div.sk-parallel {display: flex;align-items: stretch;justify-content: center;background-color: white;position: relative;}#sk-container-id-1 div.sk-item::before, #sk-container-id-1 div.sk-parallel-item::before {content: \"\";position: absolute;border-left: 1px solid gray;box-sizing: border-box;top: 0;bottom: 0;left: 50%;z-index: -1;}#sk-container-id-1 div.sk-parallel-item {display: flex;flex-direction: column;z-index: 1;position: relative;background-color: white;}#sk-container-id-1 div.sk-parallel-item:first-child::after {align-self: flex-end;width: 50%;}#sk-container-id-1 div.sk-parallel-item:last-child::after {align-self: flex-start;width: 50%;}#sk-container-id-1 div.sk-parallel-item:only-child::after {width: 0;}#sk-container-id-1 div.sk-dashed-wrapped {border: 1px dashed gray;margin: 0 0.4em 0.5em 0.4em;box-sizing: border-box;padding-bottom: 0.4em;background-color: white;}#sk-container-id-1 div.sk-label label {font-family: monospace;font-weight: bold;display: inline-block;line-height: 1.2em;}#sk-container-id-1 div.sk-label-container {text-align: center;}#sk-container-id-1 div.sk-container {/* jupyter's `normalize.less` sets `[hidden] { display: none; }` but bootstrap.min.css set `[hidden] { display: none !important; }` so we also need the `!important` here to be able to override the default hidden behavior on the sphinx rendered scikit-learn.org. See: https://github.com/scikit-learn/scikit-learn/issues/21755 */display: inline-block !important;position: relative;}#sk-container-id-1 div.sk-text-repr-fallback {display: none;}</style><div id=\"sk-container-id-1\" class=\"sk-top-container\"><div class=\"sk-text-repr-fallback\"><pre>LogisticRegression()</pre><b>In a Jupyter environment, please rerun this cell to show the HTML representation or trust the notebook. <br />On GitHub, the HTML representation is unable to render, please try loading this page with nbviewer.org.</b></div><div class=\"sk-container\" hidden><div class=\"sk-item\"><div class=\"sk-estimator sk-toggleable\"><input class=\"sk-toggleable__control sk-hidden--visually\" id=\"sk-estimator-id-1\" type=\"checkbox\" checked><label for=\"sk-estimator-id-1\" class=\"sk-toggleable__label sk-toggleable__label-arrow\">LogisticRegression</label><div class=\"sk-toggleable__content\"><pre>LogisticRegression()</pre></div></div></div></div></div>"
      ],
      "text/plain": [
       "LogisticRegression()"
      ]
     },
     "execution_count": 15,
     "metadata": {},
     "output_type": "execute_result"
    }
   ],
   "source": [
    "from sklearn.linear_model import LogisticRegression\n",
    "\n",
    "lr_model = LogisticRegression()\n",
    "lr_model.fit(x_values, y_values)"
   ]
  },
  {
   "cell_type": "code",
   "execution_count": 16,
   "id": "b28a049b",
   "metadata": {},
   "outputs": [
    {
     "name": "stdout",
     "output_type": "stream",
     "text": [
      "Accuracy: 1.0\n"
     ]
    }
   ],
   "source": [
    "print(\"Accuracy:\", lr_model.score(x_values, y_values))"
   ]
  },
  {
   "cell_type": "code",
   "execution_count": 17,
   "id": "0360b456",
   "metadata": {},
   "outputs": [
    {
     "name": "stdout",
     "output_type": "stream",
     "text": [
      "Prediction: [0. 0. 1. 1. 1.]\n",
      "Acutal: [0. 0. 1. 1. 1.]\n"
     ]
    }
   ],
   "source": [
    "y_pred = lr_model.predict(x_values)\n",
    "\n",
    "print(\"Prediction:\", y_pred)\n",
    "print(\"Acutal:\",y_values)"
   ]
  },
  {
   "cell_type": "code",
   "execution_count": 18,
   "id": "e9494205",
   "metadata": {},
   "outputs": [
    {
     "name": "stdout",
     "output_type": "stream",
     "text": [
      "Weights (Coefficients): [[0.67681174 0.73903629]]\n",
      "Intercept (Bias): [-1.67353142]\n"
     ]
    }
   ],
   "source": [
    "#normalized#\n",
    "\n",
    "print(\"Weights (Coefficients):\", lr_model.coef_)\n",
    "print(\"Intercept (Bias):\", lr_model.intercept_)\n",
    "\n"
   ]
  },
  {
   "cell_type": "code",
   "execution_count": 19,
   "id": "eb9c918f",
   "metadata": {},
   "outputs": [
    {
     "name": "stdout",
     "output_type": "stream",
     "text": [
      "Accuracy: 100.000000\n"
     ]
    }
   ],
   "source": [
    "p = predict(x_values, w_final,b_final)\n",
    "print('Accuracy: %f'%(np.mean(p == y_values) * 100))"
   ]
  },
  {
   "cell_type": "code",
   "execution_count": 20,
   "id": "7d4498cf",
   "metadata": {},
   "outputs": [
    {
     "data": {
      "image/png": "[encoded data removed]",
      "text/plain": [
       "<Figure size 640x480 with 1 Axes>"
      ]
     },
     "metadata": {},
     "output_type": "display_data"
    }
   ],
   "source": [
    "import numpy as np\n",
    "import matplotlib.pyplot as plt\n",
    "from matplotlib.colors import ListedColormap\n",
    "\n",
    "def plot_decision_boundary(X, y, model):\n",
    "    \"\"\"\n",
    "    X: 2D input data\n",
    "    y: target\n",
    "    model: trained model\n",
    "    \"\"\"\n",
    "    # defining color maps\n",
    "    cmap_light = ListedColormap(['#FFAAAA', '#AAFFAA'])\n",
    "    cmap_bold = ListedColormap(['#FF0000', '#00FF00'])\n",
    "\n",
    "    # creating a mesh\n",
    "    h = .02  # step size in the mesh\n",
    "    x_min, x_max = X[:, 0].min() - 1, X[:, 0].max() + 1\n",
    "    y_min, y_max = X[:, 1].min() - 1, X[:, 1].max() + 1\n",
    "    xx, yy = np.meshgrid(np.arange(x_min, x_max, h),\n",
    "                         np.arange(y_min, y_max, h))\n",
    "    \n",
    "    # calculating decision boundary\n",
    "    Z = model.predict(np.c_[xx.ravel(), yy.ravel()])\n",
    "    Z = Z.reshape(xx.shape)\n",
    "    \n",
    "    # plotting decision boundary\n",
    "    plt.figure()\n",
    "    plt.pcolormesh(xx, yy, Z, cmap=cmap_light)\n",
    "\n",
    "    # plotting the training points\n",
    "    plt.scatter(X[:, 0], X[:, 1], c=y, cmap=cmap_bold, edgecolor='k', s=20)\n",
    "    plt.xlim(xx.min(), xx.max())\n",
    "    plt.ylim(yy.min(), yy.max())\n",
    "    plt.title(\"2-Class classification\")\n",
    "    plt.show()\n",
    "\n",
    "plot_decision_boundary(x_values, y_values, lr_model)\n"
   ]
  },
  {
   "cell_type": "code",
   "execution_count": null,
   "id": "d23cf5c8",
   "metadata": {},
   "outputs": [],
   "source": []
  }
 ],
 "metadata": {
  "kernelspec": {
   "display_name": "Python 3 (ipykernel)",
   "language": "python",
   "name": "python3"
  },
  "language_info": {
   "codemirror_mode": {
    "name": "ipython",
    "version": 3
   },
   "file_extension": ".py",
   "mimetype": "text/x-python",
   "name": "python",
   "nbconvert_exporter": "python",
   "pygments_lexer": "ipython3",
   "version": "3.9.13"
  }
 },
 "nbformat": 4,
 "nbformat_minor": 5
}
