{
 "cells": [
  {
   "cell_type": "code",
   "execution_count": 1,
   "id": "a50a1470",
   "metadata": {},
   "outputs": [],
   "source": [
    "import tensorflow as tf\n",
    "from tensorflow.keras import layers\n",
    "import pandas as pd\n",
    "import numpy as np"
   ]
  },
  {
   "cell_type": "code",
   "execution_count": 2,
   "id": "9e8e27c3",
   "metadata": {},
   "outputs": [
    {
     "data": {
      "text/html": [
       "<div>\n",
       "<style scoped>\n",
       "    .dataframe tbody tr th:only-of-type {\n",
       "        vertical-align: middle;\n",
       "    }\n",
       "\n",
       "    .dataframe tbody tr th {\n",
       "        vertical-align: top;\n",
       "    }\n",
       "\n",
       "    .dataframe thead th {\n",
       "        text-align: right;\n",
       "    }\n",
       "</style>\n",
       "<table border=\"1\" class=\"dataframe\">\n",
       "  <thead>\n",
       "    <tr style=\"text-align: right;\">\n",
       "      <th></th>\n",
       "      <th>sepal.length</th>\n",
       "      <th>sepal.width</th>\n",
       "      <th>petal.length</th>\n",
       "      <th>petal.width</th>\n",
       "      <th>variety</th>\n",
       "    </tr>\n",
       "  </thead>\n",
       "  <tbody>\n",
       "    <tr>\n",
       "      <th>0</th>\n",
       "      <td>5.1</td>\n",
       "      <td>3.5</td>\n",
       "      <td>1.4</td>\n",
       "      <td>0.2</td>\n",
       "      <td>Setosa</td>\n",
       "    </tr>\n",
       "    <tr>\n",
       "      <th>1</th>\n",
       "      <td>4.9</td>\n",
       "      <td>3.0</td>\n",
       "      <td>1.4</td>\n",
       "      <td>0.2</td>\n",
       "      <td>Setosa</td>\n",
       "    </tr>\n",
       "    <tr>\n",
       "      <th>2</th>\n",
       "      <td>4.7</td>\n",
       "      <td>3.2</td>\n",
       "      <td>1.3</td>\n",
       "      <td>0.2</td>\n",
       "      <td>Setosa</td>\n",
       "    </tr>\n",
       "    <tr>\n",
       "      <th>3</th>\n",
       "      <td>4.6</td>\n",
       "      <td>3.1</td>\n",
       "      <td>1.5</td>\n",
       "      <td>0.2</td>\n",
       "      <td>Setosa</td>\n",
       "    </tr>\n",
       "    <tr>\n",
       "      <th>4</th>\n",
       "      <td>5.0</td>\n",
       "      <td>3.6</td>\n",
       "      <td>1.4</td>\n",
       "      <td>0.2</td>\n",
       "      <td>Setosa</td>\n",
       "    </tr>\n",
       "  </tbody>\n",
       "</table>\n",
       "</div>"
      ],
      "text/plain": [
       "   sepal.length  sepal.width  petal.length  petal.width variety\n",
       "0           5.1          3.5           1.4          0.2  Setosa\n",
       "1           4.9          3.0           1.4          0.2  Setosa\n",
       "2           4.7          3.2           1.3          0.2  Setosa\n",
       "3           4.6          3.1           1.5          0.2  Setosa\n",
       "4           5.0          3.6           1.4          0.2  Setosa"
      ]
     },
     "execution_count": 2,
     "metadata": {},
     "output_type": "execute_result"
    }
   ],
   "source": [
    "#reading data\n",
    "data = pd.read_csv('iris_dataset.csv')\n",
    "\n",
    "data.head()"
   ]
  },
  {
   "cell_type": "code",
   "execution_count": 3,
   "id": "8e7013b7",
   "metadata": {},
   "outputs": [],
   "source": [
    "from keras.utils import to_categorical\n",
    "from sklearn.preprocessing import LabelEncoder\n",
    "\n",
    "#encoding variety as target \n",
    "\n",
    "X = data.drop('variety', axis=1)\n",
    "y = data['variety']\n",
    "\n",
    "label_encoder = LabelEncoder()\n",
    "y_encoded = label_encoder.fit_transform(y)\n",
    "y_categorical = to_categorical(y_encoded)\n"
   ]
  },
  {
   "cell_type": "code",
   "execution_count": 4,
   "id": "51c1cb1f",
   "metadata": {},
   "outputs": [
    {
     "data": {
      "text/plain": [
       "((150, 4), (150, 3))"
      ]
     },
     "execution_count": 4,
     "metadata": {},
     "output_type": "execute_result"
    }
   ],
   "source": [
    "X.shape, y_categorical.shape"
   ]
  },
  {
   "cell_type": "code",
   "execution_count": 5,
   "id": "2ee72bef",
   "metadata": {},
   "outputs": [
    {
     "data": {
      "text/plain": [
       "array([1., 0., 0.], dtype=float32)"
      ]
     },
     "execution_count": 5,
     "metadata": {},
     "output_type": "execute_result"
    }
   ],
   "source": [
    "y_categorical[0]"
   ]
  },
  {
   "cell_type": "code",
   "execution_count": 6,
   "id": "1f3c71e5",
   "metadata": {},
   "outputs": [],
   "source": [
    "import random\n",
    "RANDOM_STATE = 15\n",
    "\n",
    "random.seed(15)\n",
    "np.random.seed(15)"
   ]
  },
  {
   "cell_type": "code",
   "execution_count": 7,
   "id": "97484f07",
   "metadata": {},
   "outputs": [],
   "source": [
    "from sklearn.model_selection import train_test_split\n",
    "\n",
    "#splitting 80 20\n",
    "X_temp, X_test, y_temp, y_test = train_test_split(X, y_categorical, test_size=0.2, random_state=RANDOM_STATE, shuffle=True)\n",
    "\n",
    "#splitting temp to 75 - 20\n",
    "#after splitting, train: 60&%, test: 20%, validation: 20%\n",
    "X_train, X_val, y_train, y_val = train_test_split(X_temp, y_temp, test_size=0.25, random_state=RANDOM_STATE, shuffle=True)"
   ]
  },
  {
   "cell_type": "code",
   "execution_count": 8,
   "id": "e950e80e",
   "metadata": {},
   "outputs": [
    {
     "data": {
      "text/plain": [
       "(30, 3)"
      ]
     },
     "execution_count": 8,
     "metadata": {},
     "output_type": "execute_result"
    }
   ],
   "source": [
    "y_test.shape"
   ]
  },
  {
   "cell_type": "code",
   "execution_count": 10,
   "id": "a500ed14",
   "metadata": {},
   "outputs": [],
   "source": [
    "'''Model definition'''\n",
    "from tensorflow import keras\n",
    "\n",
    "model = keras.Sequential([\n",
    "    layers.Dense(30, activation=\"relu\"),\n",
    "    layers.Dense(30, activation=\"relu\"),\n",
    "    layers.Dense(3, activation=\"softmax\")\n",
    "])\n",
    "\n",
    "#y_test.shape"
   ]
  },
  {
   "cell_type": "code",
   "execution_count": 11,
   "id": "b922fad8",
   "metadata": {},
   "outputs": [],
   "source": [
    "model.compile(optimizer=\"rmsprop\",\n",
    "              loss=\"categorical_crossentropy\",\n",
    "              metrics=[\"accuracy\"])"
   ]
  },
  {
   "cell_type": "code",
   "execution_count": 12,
   "id": "7aeea186",
   "metadata": {},
   "outputs": [
    {
     "name": "stdout",
     "output_type": "stream",
     "text": [
      "Epoch 1/25\n",
      "9/9 [==============================] - 0s 11ms/step - loss: 1.0997 - accuracy: 0.4000 - val_loss: 0.9408 - val_accuracy: 0.4333\n",
      "Epoch 2/25\n",
      "9/9 [==============================] - 0s 2ms/step - loss: 0.9692 - accuracy: 0.5667 - val_loss: 0.8927 - val_accuracy: 0.8667\n",
      "Epoch 3/25\n",
      "9/9 [==============================] - 0s 2ms/step - loss: 0.8973 - accuracy: 0.7778 - val_loss: 0.8358 - val_accuracy: 0.6667\n",
      "Epoch 4/25\n",
      "9/9 [==============================] - 0s 2ms/step - loss: 0.8251 - accuracy: 0.8333 - val_loss: 0.7835 - val_accuracy: 0.7000\n",
      "Epoch 5/25\n",
      "9/9 [==============================] - 0s 2ms/step - loss: 0.7723 - accuracy: 0.7444 - val_loss: 0.7405 - val_accuracy: 0.8667\n",
      "Epoch 6/25\n",
      "9/9 [==============================] - 0s 2ms/step - loss: 0.7074 - accuracy: 0.7889 - val_loss: 0.7041 - val_accuracy: 0.9333\n",
      "Epoch 7/25\n",
      "9/9 [==============================] - 0s 2ms/step - loss: 0.6553 - accuracy: 0.8667 - val_loss: 0.6367 - val_accuracy: 0.7000\n",
      "Epoch 8/25\n",
      "9/9 [==============================] - 0s 2ms/step - loss: 0.6262 - accuracy: 0.7667 - val_loss: 0.6020 - val_accuracy: 0.7000\n",
      "Epoch 9/25\n",
      "9/9 [==============================] - 0s 2ms/step - loss: 0.5897 - accuracy: 0.7444 - val_loss: 0.5797 - val_accuracy: 0.8333\n",
      "Epoch 10/25\n",
      "9/9 [==============================] - 0s 2ms/step - loss: 0.5519 - accuracy: 0.8556 - val_loss: 0.5499 - val_accuracy: 0.8000\n",
      "Epoch 11/25\n",
      "9/9 [==============================] - 0s 2ms/step - loss: 0.5353 - accuracy: 0.8111 - val_loss: 0.5267 - val_accuracy: 0.8000\n",
      "Epoch 12/25\n",
      "9/9 [==============================] - 0s 2ms/step - loss: 0.5060 - accuracy: 0.8333 - val_loss: 0.5117 - val_accuracy: 0.9667\n",
      "Epoch 13/25\n",
      "9/9 [==============================] - 0s 2ms/step - loss: 0.4826 - accuracy: 0.8444 - val_loss: 0.4916 - val_accuracy: 0.9667\n",
      "Epoch 14/25\n",
      "9/9 [==============================] - 0s 2ms/step - loss: 0.4546 - accuracy: 0.9111 - val_loss: 0.4732 - val_accuracy: 0.9667\n",
      "Epoch 15/25\n",
      "9/9 [==============================] - 0s 2ms/step - loss: 0.4444 - accuracy: 0.8444 - val_loss: 0.4684 - val_accuracy: 0.9333\n",
      "Epoch 16/25\n",
      "9/9 [==============================] - 0s 2ms/step - loss: 0.4265 - accuracy: 0.8778 - val_loss: 0.4430 - val_accuracy: 0.9667\n",
      "Epoch 17/25\n",
      "9/9 [==============================] - 0s 2ms/step - loss: 0.4082 - accuracy: 0.9333 - val_loss: 0.4219 - val_accuracy: 0.9000\n",
      "Epoch 18/25\n",
      "9/9 [==============================] - 0s 2ms/step - loss: 0.4026 - accuracy: 0.8667 - val_loss: 0.4089 - val_accuracy: 0.9000\n",
      "Epoch 19/25\n",
      "9/9 [==============================] - 0s 2ms/step - loss: 0.3951 - accuracy: 0.8333 - val_loss: 0.4062 - val_accuracy: 1.0000\n",
      "Epoch 20/25\n",
      "9/9 [==============================] - 0s 2ms/step - loss: 0.3742 - accuracy: 0.8889 - val_loss: 0.4011 - val_accuracy: 1.0000\n",
      "Epoch 21/25\n",
      "9/9 [==============================] - 0s 2ms/step - loss: 0.3648 - accuracy: 0.8778 - val_loss: 0.3963 - val_accuracy: 0.9667\n",
      "Epoch 22/25\n",
      "9/9 [==============================] - 0s 2ms/step - loss: 0.3574 - accuracy: 0.9333 - val_loss: 0.3695 - val_accuracy: 0.9667\n",
      "Epoch 23/25\n",
      "9/9 [==============================] - 0s 2ms/step - loss: 0.3402 - accuracy: 0.9333 - val_loss: 0.3569 - val_accuracy: 0.9667\n",
      "Epoch 24/25\n",
      "9/9 [==============================] - 0s 2ms/step - loss: 0.3418 - accuracy: 0.9333 - val_loss: 0.3515 - val_accuracy: 1.0000\n",
      "Epoch 25/25\n",
      "9/9 [==============================] - 0s 2ms/step - loss: 0.3318 - accuracy: 0.9111 - val_loss: 0.3404 - val_accuracy: 0.9333\n"
     ]
    }
   ],
   "source": [
    "''' Training your model'''\n",
    "history = model.fit(X_train,\n",
    "                    y_train,\n",
    "                    epochs=25,\n",
    "                    batch_size=10,\n",
    "                    validation_data=(X_val, y_val))"
   ]
  },
  {
   "cell_type": "code",
   "execution_count": 13,
   "id": "ffe0d48c",
   "metadata": {},
   "outputs": [
    {
     "data": {
      "text/plain": [
       "dict_keys(['loss', 'accuracy', 'val_loss', 'val_accuracy'])"
      ]
     },
     "execution_count": 13,
     "metadata": {},
     "output_type": "execute_result"
    }
   ],
   "source": [
    "history_dict = history.history\n",
    "history_dict.keys()"
   ]
  },
  {
   "cell_type": "code",
   "execution_count": 14,
   "id": "14857054",
   "metadata": {},
   "outputs": [
    {
     "data": {
      "image/png": "[encoded data removed]",
      "text/plain": [
       "<Figure size 640x480 with 1 Axes>"
      ]
     },
     "metadata": {},
     "output_type": "display_data"
    },
    {
     "data": {
      "image/png": "[encoded data removed]",
      "text/plain": [
       "<Figure size 640x480 with 1 Axes>"
      ]
     },
     "metadata": {},
     "output_type": "display_data"
    }
   ],
   "source": [
    "'''Plotting the training and validation loss'''\n",
    "\n",
    "import matplotlib.pyplot as plt\n",
    "history_dict = history.history\n",
    "loss_values = history_dict[\"loss\"]\n",
    "val_loss_values = history_dict[\"val_loss\"]\n",
    "epochs = range(1, len(loss_values) + 1)\n",
    "\n",
    "#\"bo\" is for blue dot.\n",
    "plt.plot(epochs, loss_values, \"bo\", label=\"Training loss\")\n",
    "\n",
    "#\"b\" is for solid blue line.\n",
    "plt.plot(epochs, val_loss_values, \"b\", label=\"Validation loss\")\n",
    "plt.title(\"Training and validation loss\")\n",
    "plt.xlabel(\"Epochs\")\n",
    "plt.ylabel(\"Loss\")\n",
    "plt.legend()\n",
    "plt.show()\n",
    "\n",
    "\n",
    "''' Plotting the training and validation accuracy'''\n",
    "\n",
    "#Clears the figure\n",
    "plt.clf()\n",
    "acc = history_dict[\"accuracy\"]\n",
    "val_acc = history_dict[\"val_accuracy\"]\n",
    "plt.plot(epochs, acc, \"bo\", label=\"Training acc\")\n",
    "plt.plot(epochs, val_acc, \"b\", label=\"Validation acc\")\n",
    "plt.title(\"Training and validation accuracy\")\n",
    "plt.xlabel(\"Epochs\")\n",
    "plt.ylabel(\"Accuracy\")\n",
    "plt.legend()\n",
    "plt.show()"
   ]
  },
  {
   "cell_type": "code",
   "execution_count": 15,
   "id": "9c4dca04",
   "metadata": {},
   "outputs": [
    {
     "name": "stdout",
     "output_type": "stream",
     "text": [
      "Epoch 1/18\n",
      "9/9 [==============================] - 0s 699us/step - loss: 1.0627 - accuracy: 0.4889\n",
      "Epoch 2/18\n",
      "9/9 [==============================] - 0s 769us/step - loss: 0.9260 - accuracy: 0.7556\n",
      "Epoch 3/18\n",
      "9/9 [==============================] - 0s 722us/step - loss: 0.8550 - accuracy: 0.7778\n",
      "Epoch 4/18\n",
      "9/9 [==============================] - 0s 737us/step - loss: 0.8012 - accuracy: 0.6889\n",
      "Epoch 5/18\n",
      "9/9 [==============================] - 0s 690us/step - loss: 0.7508 - accuracy: 0.6889\n",
      "Epoch 6/18\n",
      "9/9 [==============================] - 0s 737us/step - loss: 0.7170 - accuracy: 0.7444\n",
      "Epoch 7/18\n",
      "9/9 [==============================] - 0s 690us/step - loss: 0.6747 - accuracy: 0.7222\n",
      "Epoch 8/18\n",
      "9/9 [==============================] - 0s 739us/step - loss: 0.6411 - accuracy: 0.8333\n",
      "Epoch 9/18\n",
      "9/9 [==============================] - 0s 694us/step - loss: 0.6126 - accuracy: 0.7333\n",
      "Epoch 10/18\n",
      "9/9 [==============================] - 0s 756us/step - loss: 0.5798 - accuracy: 0.7889\n",
      "Epoch 11/18\n",
      "9/9 [==============================] - 0s 626us/step - loss: 0.5441 - accuracy: 0.7889\n",
      "Epoch 12/18\n",
      "9/9 [==============================] - 0s 610us/step - loss: 0.5139 - accuracy: 0.8667\n",
      "Epoch 13/18\n",
      "9/9 [==============================] - 0s 542us/step - loss: 0.4869 - accuracy: 0.8222\n",
      "Epoch 14/18\n",
      "9/9 [==============================] - 0s 654us/step - loss: 0.4627 - accuracy: 0.8889\n",
      "Epoch 15/18\n",
      "9/9 [==============================] - 0s 608us/step - loss: 0.4462 - accuracy: 0.9000\n",
      "Epoch 16/18\n",
      "9/9 [==============================] - 0s 694us/step - loss: 0.4258 - accuracy: 0.8222\n",
      "Epoch 17/18\n",
      "9/9 [==============================] - 0s 1ms/step - loss: 0.4206 - accuracy: 0.9000\n",
      "Epoch 18/18\n",
      "9/9 [==============================] - 0s 612us/step - loss: 0.3992 - accuracy: 0.9222\n"
     ]
    },
    {
     "data": {
      "text/plain": [
       "<keras.src.callbacks.History at 0x28766e940>"
      ]
     },
     "execution_count": 15,
     "metadata": {},
     "output_type": "execute_result"
    }
   ],
   "source": [
    "'''Retraining a model from scratch'''\n",
    "model = keras.Sequential([\n",
    "  layers.Dense(25, activation=\"relu\"),\n",
    "  layers.Dense(25, activation=\"relu\"),\n",
    "  layers.Dense(3, activation=\"softmax\")\n",
    "])\n",
    "model.compile(optimizer=\"rmsprop\",\n",
    "              loss=\"categorical_crossentropy\",\n",
    "              metrics=[\"accuracy\"])\n",
    "model.fit(X_train,\n",
    "          y_train,\n",
    "          epochs=18,\n",
    "          batch_size=10)\n"
   ]
  },
  {
   "cell_type": "code",
   "execution_count": 16,
   "id": "cbdb70b5",
   "metadata": {},
   "outputs": [
    {
     "name": "stdout",
     "output_type": "stream",
     "text": [
      "1/1 [==============================] - 0s 57ms/step - loss: 0.4483 - accuracy: 0.9000\n"
     ]
    },
    {
     "data": {
      "text/plain": [
       "[0.4483412206172943, 0.8999999761581421]"
      ]
     },
     "execution_count": 16,
     "metadata": {},
     "output_type": "execute_result"
    }
   ],
   "source": [
    "results = model.evaluate(X_test, y_test)\n",
    "results"
   ]
  },
  {
   "cell_type": "code",
   "execution_count": 17,
   "id": "d87bb8ad",
   "metadata": {},
   "outputs": [],
   "source": [
    "#the test accuracy of the model is approximately 90% accurate\n",
    "#the test loss is about 45%"
   ]
  },
  {
   "cell_type": "code",
   "execution_count": 18,
   "id": "7e77938e",
   "metadata": {},
   "outputs": [
    {
     "name": "stdout",
     "output_type": "stream",
     "text": [
      "1/1 [==============================] - 0s 37ms/step\n"
     ]
    }
   ],
   "source": [
    "predictions = model.predict(X_test)"
   ]
  },
  {
   "cell_type": "code",
   "execution_count": 19,
   "id": "19ef2c15",
   "metadata": {},
   "outputs": [
    {
     "name": "stdout",
     "output_type": "stream",
     "text": [
      "Accuracy: 90.0%\n"
     ]
    }
   ],
   "source": [
    "#calculating accuracy manually \n",
    "predicted_labels = np.argmax(predictions, axis=1)\n",
    "true_labels = np.argmax(y_test, axis=1)\n",
    "comparison_array = predicted_labels == true_labels\n",
    "accuracy = np.mean(comparison_array)\n",
    "print(f\"Accuracy: {accuracy*100}%\")"
   ]
  },
  {
   "cell_type": "code",
   "execution_count": null,
   "id": "a2dc1be6",
   "metadata": {},
   "outputs": [],
   "source": []
  }
 ],
 "metadata": {
  "kernelspec": {
   "display_name": "Python 3 (ipykernel)",
   "language": "python",
   "name": "python3"
  },
  "language_info": {
   "codemirror_mode": {
    "name": "ipython",
    "version": 3
   },
   "file_extension": ".py",
   "mimetype": "text/x-python",
   "name": "python",
   "nbconvert_exporter": "python",
   "pygments_lexer": "ipython3",
   "version": "3.9.13"
  }
 },
 "nbformat": 4,
 "nbformat_minor": 5
}
