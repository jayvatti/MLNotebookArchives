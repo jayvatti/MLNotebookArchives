{
 "cells": [
  {
   "cell_type": "code",
   "execution_count": 70,
   "id": "6ec2d7aa",
   "metadata": {},
   "outputs": [],
   "source": [
    "import numpy as np\n",
    "import pandas as pd "
   ]
  },
  {
   "cell_type": "code",
   "execution_count": 71,
   "id": "5c368929",
   "metadata": {},
   "outputs": [],
   "source": [
    "data = np.loadtxt('../data/logisticRegressionTumorSingle.csv', delimiter=',')"
   ]
  },
  {
   "cell_type": "code",
   "execution_count": 72,
   "id": "5af1b80e",
   "metadata": {},
   "outputs": [],
   "source": [
    "x = data[:,0] #1st Column\n",
    "y = data[:,1] #2nd Column"
   ]
  },
  {
   "cell_type": "code",
   "execution_count": 73,
   "id": "db5c00c9",
   "metadata": {},
   "outputs": [
    {
     "name": "stdout",
     "output_type": "stream",
     "text": [
      "[0. 1. 2. 3. 4. 5. 6. 7.]\n",
      "[0. 0. 0. 0. 1. 1. 1. 1.]\n"
     ]
    }
   ],
   "source": [
    "print(x,y,sep=\"\\n\")"
   ]
  },
  {
   "cell_type": "code",
   "execution_count": 74,
   "id": "a6df3a97",
   "metadata": {},
   "outputs": [],
   "source": [
    "import matplotlib.pyplot as plt\n",
    "from sklearn.linear_model import LogisticRegression"
   ]
  },
  {
   "cell_type": "code",
   "execution_count": 75,
   "id": "76962d61",
   "metadata": {
    "scrolled": true
   },
   "outputs": [
    {
     "data": {
      "image/png": "[encoded data removed]",
      "text/plain": [
       "<Figure size 640x480 with 1 Axes>"
      ]
     },
     "metadata": {},
     "output_type": "display_data"
    }
   ],
   "source": [
    "# Creating a logistic regression model\n",
    "lr_model = LogisticRegression()\n",
    "lr_model.fit(x.reshape(-1, 1), y)\n",
    "\n",
    "# Generating x values for the line plot\n",
    "x_line = np.linspace(min(x), max(x), 1000)\n",
    "\n",
    "# Compute the predicted labels for the line plot\n",
    "probs = lr_model.predict(x_line.reshape(-1, 1))\n",
    "\n",
    "# Scatter plot of the data points\n",
    "plt.scatter(x[y == 0], y[y == 0], marker='o', c='b', label=\"Benign (0)\")\n",
    "plt.scatter(x[y == 1], y[y == 1], marker='*', c='black', label=\"Malignant (1)\")\n",
    "\n",
    "\n",
    "# Plotting the logistic regression line\n",
    "plt.plot(x_line, probs, color='r', label=\"Logistic Regression Line\")\n",
    "\n",
    "plt.xlabel('Tumor Size')\n",
    "plt.ylabel('Malignant (1) or Benign (0)')\n",
    "plt.legend(fontsize='large')\n",
    "plt.show()"
   ]
  },
  {
   "cell_type": "code",
   "execution_count": 76,
   "id": "7c798c37",
   "metadata": {},
   "outputs": [],
   "source": [
    "from tensorflow.keras.layers import Dense, Input\n",
    "from tensorflow.keras import Sequential\n",
    "from tensorflow.keras.losses import MeanSquaredError, BinaryCrossentropy\n",
    "from tensorflow.keras.activations import sigmoid"
   ]
  },
  {
   "cell_type": "code",
   "execution_count": 77,
   "id": "540b5a59",
   "metadata": {},
   "outputs": [],
   "source": [
    "#1 logistic Neuron \n",
    "#input_dim: 1 -> (batch_size, 1) ; batch_size: no.of samples\n",
    "\n",
    "model = Sequential(\n",
    "    [\n",
    "        Dense(1, input_dim=1,  activation = 'sigmoid', name='L1')\n",
    "    ]\n",
    ")"
   ]
  },
  {
   "cell_type": "code",
   "execution_count": 78,
   "id": "3f31b1a2",
   "metadata": {},
   "outputs": [
    {
     "name": "stdout",
     "output_type": "stream",
     "text": [
      "Model: \"sequential_2\"\n",
      "_________________________________________________________________\n",
      " Layer (type)                Output Shape              Param #   \n",
      "=================================================================\n",
      " L1 (Dense)                  (None, 1)                 2         \n",
      "                                                                 \n",
      "=================================================================\n",
      "Total params: 2 (8.00 Byte)\n",
      "Trainable params: 2 (8.00 Byte)\n",
      "Non-trainable params: 0 (0.00 Byte)\n",
      "_________________________________________________________________\n"
     ]
    }
   ],
   "source": [
    "model.summary()"
   ]
  },
  {
   "cell_type": "code",
   "execution_count": 79,
   "id": "55d61349",
   "metadata": {},
   "outputs": [
    {
     "name": "stdout",
     "output_type": "stream",
     "text": [
      "Weights:[[0.5774621]]; Bias:[0.]\n",
      "\n",
      "Shape:\n",
      "Weights(1, 1); Bias (1,)\n"
     ]
    }
   ],
   "source": [
    "logistic_layer = model.get_layer('L1')\n",
    "w,b = logistic_layer.get_weights()\n",
    "\n",
    "print(f\"Weights:{w}; Bias:{b}\\n\")\n",
    "print(f\"Shape:\\nWeights{w.shape}; Bias {b.shape}\")"
   ]
  },
  {
   "cell_type": "code",
   "execution_count": 80,
   "id": "0817c611",
   "metadata": {},
   "outputs": [
    {
     "name": "stdout",
     "output_type": "stream",
     "text": [
      "Weights: [1.16976221]\n",
      "Bias: [-4.09418835]\n"
     ]
    }
   ],
   "source": [
    "# Retrieve weights from the trained logistic regression model\n",
    "set_weight = lr_model.coef_[0]\n",
    "set_bias = lr_model.intercept_\n",
    "\n",
    "print(\"Weights:\", weights)\n",
    "print(\"Bias:\", bias)"
   ]
  },
  {
   "cell_type": "code",
   "execution_count": 81,
   "id": "f6bfb51d",
   "metadata": {},
   "outputs": [
    {
     "name": "stdout",
     "output_type": "stream",
     "text": [
      "[array([[1.1697623]], dtype=float32), array([-4.094188], dtype=float32)]\n"
     ]
    }
   ],
   "source": [
    "#weights: 2D-array\n",
    "#bias: 1D-array \n",
    "logistic_layer.set_weights([set_weight.reshape(1, 1), set_bias])\n",
    "print(logistic_layer.get_weights())"
   ]
  },
  {
   "cell_type": "code",
   "execution_count": 83,
   "id": "2c1ddfbb",
   "metadata": {},
   "outputs": [
    {
     "name": "stdout",
     "output_type": "stream",
     "text": [
      "1/1 [==============================] - 0s 16ms/step\n",
      "Logistic Neuron:[[0.01639596]]\n",
      "\n",
      "Logistic Neuron Layer: [[0.01639596]]\n",
      "\n",
      "Numpy: [[0.01639596]]\n",
      "\n",
      "Tensor: tf.Tensor([0.01639596], shape=(1,), dtype=float64)\n"
     ]
    }
   ],
   "source": [
    "a1 = model.predict(x[0].reshape(1,1))\n",
    "print(f\"Logistic Neuron:{a1}\\n\")\n",
    "\n",
    "a1_output = logistic_layer(x[0].reshape(1,1))\n",
    "print(f\"Logistic Neuron Layer: {a1_output}\\n\")\n",
    "\n",
    "#Matrix\n",
    "aNum= sigmoid(set_weight.reshape(1,1) @ x[0].reshape(1,1) + set_bias)\n",
    "print(f\"Numpy: {aNum}\\n\")\n",
    "\n",
    "#Vectors \n",
    "print(\"Tensor:\",sigmoid(set_weight * x[0] + set_bias))"
   ]
  }
 ],
 "metadata": {
  "kernelspec": {
   "display_name": "Python 3 (ipykernel)",
   "language": "python",
   "name": "python3"
  },
  "language_info": {
   "codemirror_mode": {
    "name": "ipython",
    "version": 3
   },
   "file_extension": ".py",
   "mimetype": "text/x-python",
   "name": "python",
   "nbconvert_exporter": "python",
   "pygments_lexer": "ipython3",
   "version": "3.9.13"
  }
 },
 "nbformat": 4,
 "nbformat_minor": 5
}
