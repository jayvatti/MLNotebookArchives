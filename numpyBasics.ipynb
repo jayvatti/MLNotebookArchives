{
 "cells": [
  {
   "cell_type": "code",
   "execution_count": 1,
   "id": "c596df91",
   "metadata": {},
   "outputs": [],
   "source": [
    "#NUMPY BASICS\n",
    "import numpy as np"
   ]
  },
  {
   "cell_type": "code",
   "execution_count": 2,
   "id": "64665804",
   "metadata": {},
   "outputs": [
    {
     "name": "stdout",
     "output_type": "stream",
     "text": [
      "X:\n",
      " [0 1 2 3 4 5]\n",
      "A:\n",
      " [[0 1]\n",
      " [2 3]\n",
      " [4 5]]\n",
      "B:\n",
      " [[ 0 10]\n",
      " [20 30]\n",
      " [40 50]]\n"
     ]
    }
   ],
   "source": [
    "A = np.arange(3*2).reshape(3,2)\n",
    "\n",
    "#broadcasting\n",
    "B = 10 * np.arange(3*2).reshape(3,2)\n",
    "\n",
    "X = np.arange(3*2)\n",
    "print(\"X:\\n\",X)\n",
    "print(\"A:\\n\",A)\n",
    "print(\"B:\\n\",B)"
   ]
  },
  {
   "cell_type": "code",
   "execution_count": 3,
   "id": "53122e1d",
   "metadata": {},
   "outputs": [],
   "source": [
    "#ADDITION: "
   ]
  },
  {
   "cell_type": "code",
   "execution_count": 4,
   "id": "2b0d36b5",
   "metadata": {},
   "outputs": [
    {
     "data": {
      "text/plain": [
       "array([[ 0, 11],\n",
       "       [22, 33],\n",
       "       [44, 55]])"
      ]
     },
     "execution_count": 4,
     "metadata": {},
     "output_type": "execute_result"
    }
   ],
   "source": [
    "A + B"
   ]
  },
  {
   "cell_type": "code",
   "execution_count": 5,
   "id": "d9cb3403",
   "metadata": {},
   "outputs": [
    {
     "data": {
      "text/plain": [
       "array([[100, 101],\n",
       "       [102, 103],\n",
       "       [104, 105]])"
      ]
     },
     "execution_count": 5,
     "metadata": {},
     "output_type": "execute_result"
    }
   ],
   "source": [
    "#if we have different dimensions -> broadcasting happens\n",
    "\n",
    "#we can add scalars to the whole array\n",
    "A + 100 "
   ]
  },
  {
   "cell_type": "code",
   "execution_count": 6,
   "id": "6d003fb8",
   "metadata": {},
   "outputs": [
    {
     "name": "stdout",
     "output_type": "stream",
     "text": [
      "Temp:\n",
      " [  0 100]\n",
      "(2,)\n",
      "A:\n",
      " [[0 1]\n",
      " [2 3]\n",
      " [4 5]]\n",
      "(3, 2)\n"
     ]
    }
   ],
   "source": [
    "temp = 100*np.arange(2).reshape(2)\n",
    "print(\"Temp:\\n\",temp)\n",
    "print(temp.shape)\n",
    "print(\"A:\\n\",A)\n",
    "print(A.shape)"
   ]
  },
  {
   "cell_type": "code",
   "execution_count": 7,
   "id": "2afc9e49",
   "metadata": {},
   "outputs": [
    {
     "data": {
      "text/plain": [
       "array([[  0, 101],\n",
       "       [  2, 103],\n",
       "       [  4, 105]])"
      ]
     },
     "execution_count": 7,
     "metadata": {},
     "output_type": "execute_result"
    }
   ],
   "source": [
    "#Broadcasting\n",
    "A + temp"
   ]
  },
  {
   "cell_type": "code",
   "execution_count": 8,
   "id": "5653710f",
   "metadata": {},
   "outputs": [
    {
     "name": "stdout",
     "output_type": "stream",
     "text": [
      "Temp:\n",
      " [[  0 100 200]\n",
      " [300 400 500]]\n",
      "(2, 3)\n",
      "A:\n",
      " [[0 1]\n",
      " [2 3]\n",
      " [4 5]]\n",
      "(3, 2)\n"
     ]
    }
   ],
   "source": [
    "temp = 100*np.arange(3*2).reshape(2,3)\n",
    "print(\"Temp:\\n\",temp)\n",
    "print(temp.shape)\n",
    "print(\"A:\\n\",A)\n",
    "print(A.shape)"
   ]
  },
  {
   "cell_type": "code",
   "execution_count": 9,
   "id": "6865290f",
   "metadata": {},
   "outputs": [
    {
     "ename": "ValueError",
     "evalue": "operands could not be broadcast together with shapes (3,2) (2,3) ",
     "output_type": "error",
     "traceback": [
      "\u001b[0;31m---------------------------------------------------------------------------\u001b[0m",
      "\u001b[0;31mValueError\u001b[0m                                Traceback (most recent call last)",
      "Cell \u001b[0;32mIn[9], line 2\u001b[0m\n\u001b[1;32m      1\u001b[0m \u001b[38;5;66;03m#Numpy only broadcasts in one direction \u001b[39;00m\n\u001b[0;32m----> 2\u001b[0m \u001b[43mA\u001b[49m\u001b[43m \u001b[49m\u001b[38;5;241;43m+\u001b[39;49m\u001b[43m \u001b[49m\u001b[43mtemp\u001b[49m\n",
      "\u001b[0;31mValueError\u001b[0m: operands could not be broadcast together with shapes (3,2) (2,3) "
     ]
    }
   ],
   "source": [
    "#Numpy only broadcasts in one direction \n",
    "A + temp"
   ]
  },
  {
   "cell_type": "code",
   "execution_count": 10,
   "id": "4147b8fd",
   "metadata": {},
   "outputs": [
    {
     "name": "stdout",
     "output_type": "stream",
     "text": [
      "X:\n",
      " [0 1 2 3 4 5]\n",
      "A:\n",
      " [[0 1]\n",
      " [2 3]\n",
      " [4 5]]\n",
      "B:\n",
      " [[ 0 10]\n",
      " [20 30]\n",
      " [40 50]]\n"
     ]
    }
   ],
   "source": [
    "#Dot Product \n",
    "\n",
    "A = np.arange(3*2).reshape(3,2)\n",
    "\n",
    "#broadcasting\n",
    "B = 10 * np.arange(3*2).reshape(3,2)\n",
    "\n",
    "X = np.arange(3*2)\n",
    "print(\"X:\\n\",X)\n",
    "print(\"A:\\n\",A)\n",
    "print(\"B:\\n\",B)"
   ]
  },
  {
   "cell_type": "code",
   "execution_count": 11,
   "id": "83ab299a",
   "metadata": {},
   "outputs": [
    {
     "data": {
      "text/plain": [
       "array([[  0,  10],\n",
       "       [ 40,  90],\n",
       "       [160, 250]])"
      ]
     },
     "execution_count": 11,
     "metadata": {},
     "output_type": "execute_result"
    }
   ],
   "source": [
    "A * B"
   ]
  },
  {
   "cell_type": "code",
   "execution_count": 12,
   "id": "ff372b9e",
   "metadata": {},
   "outputs": [
    {
     "name": "stdout",
     "output_type": "stream",
     "text": [
      "mul:\n",
      " [  0 100]\n",
      "(2,)\n",
      "A:\n",
      " [[0 1]\n",
      " [2 3]\n",
      " [4 5]]\n"
     ]
    },
    {
     "data": {
      "text/plain": [
       "array([[  0, 100],\n",
       "       [  0, 300],\n",
       "       [  0, 500]])"
      ]
     },
     "execution_count": 12,
     "metadata": {},
     "output_type": "execute_result"
    }
   ],
   "source": [
    "mul = 100*np.arange(2).reshape(2) \n",
    "print(\"mul:\\n\",mul)\n",
    "print(mul.shape)\n",
    "print(\"A:\\n\",A) \n",
    "A * mul"
   ]
  },
  {
   "cell_type": "code",
   "execution_count": 13,
   "id": "4ed974b6",
   "metadata": {},
   "outputs": [
    {
     "name": "stdout",
     "output_type": "stream",
     "text": [
      "mul:\n",
      " [[  0 100]\n",
      " [200 300]\n",
      " [400 500]]\n",
      "(3, 2)\n",
      "A:\n",
      " [[0 1]\n",
      " [2 3]\n",
      " [4 5]]\n"
     ]
    },
    {
     "data": {
      "text/plain": [
       "array([[   0,  100],\n",
       "       [ 400,  900],\n",
       "       [1600, 2500]])"
      ]
     },
     "execution_count": 13,
     "metadata": {},
     "output_type": "execute_result"
    }
   ],
   "source": [
    "mul = 100*np.arange(3*2).reshape(3,2) \n",
    "print(\"mul:\\n\",mul)\n",
    "print(mul.shape)\n",
    "print(\"A:\\n\",A) \n",
    "A * mul"
   ]
  },
  {
   "cell_type": "code",
   "execution_count": 14,
   "id": "acada47d",
   "metadata": {},
   "outputs": [
    {
     "name": "stdout",
     "output_type": "stream",
     "text": [
      "mul:\n",
      " [[  0 100 200]\n",
      " [300 400 500]]\n",
      "(2, 3)\n",
      "A:\n",
      " [[0 1]\n",
      " [2 3]\n",
      " [4 5]]\n"
     ]
    },
    {
     "ename": "ValueError",
     "evalue": "operands could not be broadcast together with shapes (3,2) (2,3) ",
     "output_type": "error",
     "traceback": [
      "\u001b[0;31m---------------------------------------------------------------------------\u001b[0m",
      "\u001b[0;31mValueError\u001b[0m                                Traceback (most recent call last)",
      "Cell \u001b[0;32mIn[14], line 6\u001b[0m\n\u001b[1;32m      4\u001b[0m \u001b[38;5;28mprint\u001b[39m(mul\u001b[38;5;241m.\u001b[39mshape)\n\u001b[1;32m      5\u001b[0m \u001b[38;5;28mprint\u001b[39m(\u001b[38;5;124m\"\u001b[39m\u001b[38;5;124mA:\u001b[39m\u001b[38;5;130;01m\\n\u001b[39;00m\u001b[38;5;124m\"\u001b[39m,A) \n\u001b[0;32m----> 6\u001b[0m \u001b[43mA\u001b[49m\u001b[43m \u001b[49m\u001b[38;5;241;43m*\u001b[39;49m\u001b[43m \u001b[49m\u001b[43mmul\u001b[49m\n",
      "\u001b[0;31mValueError\u001b[0m: operands could not be broadcast together with shapes (3,2) (2,3) "
     ]
    }
   ],
   "source": [
    "#broadcasting doesn't work\n",
    "mul = 100*np.arange(3*2).reshape(2,3) \n",
    "print(\"mul:\\n\",mul)\n",
    "print(mul.shape)\n",
    "print(\"A:\\n\",A) \n",
    "A * mul"
   ]
  },
  {
   "cell_type": "code",
   "execution_count": 15,
   "id": "876667f5",
   "metadata": {},
   "outputs": [],
   "source": [
    "#A.T -> to transpose"
   ]
  },
  {
   "cell_type": "code",
   "execution_count": 16,
   "id": "ce513aa1",
   "metadata": {},
   "outputs": [
    {
     "data": {
      "text/plain": [
       "array([[ 10,  30,  50],\n",
       "       [ 30, 130, 230],\n",
       "       [ 50, 230, 410]])"
      ]
     },
     "execution_count": 16,
     "metadata": {},
     "output_type": "execute_result"
    }
   ],
   "source": [
    "np.dot(A,B.T)"
   ]
  },
  {
   "cell_type": "code",
   "execution_count": 17,
   "id": "0b97a6b2",
   "metadata": {},
   "outputs": [
    {
     "data": {
      "text/plain": [
       "array([[ 10,  30,  50],\n",
       "       [ 30, 130, 230],\n",
       "       [ 50, 230, 410]])"
      ]
     },
     "execution_count": 17,
     "metadata": {},
     "output_type": "execute_result"
    }
   ],
   "source": [
    "A.dot(B.T)"
   ]
  },
  {
   "cell_type": "code",
   "execution_count": 18,
   "id": "556f038c",
   "metadata": {},
   "outputs": [
    {
     "data": {
      "text/plain": [
       "array([[ 10,  30,  50],\n",
       "       [ 30, 130, 230],\n",
       "       [ 50, 230, 410]])"
      ]
     },
     "execution_count": 18,
     "metadata": {},
     "output_type": "execute_result"
    }
   ],
   "source": [
    "A @ B.T"
   ]
  },
  {
   "cell_type": "code",
   "execution_count": 19,
   "id": "32856321",
   "metadata": {},
   "outputs": [
    {
     "data": {
      "text/plain": [
       "array([[ 10,  30,  50],\n",
       "       [ 30, 130, 230],\n",
       "       [ 50, 230, 410]])"
      ]
     },
     "execution_count": 19,
     "metadata": {},
     "output_type": "execute_result"
    }
   ],
   "source": [
    "np.matmul(A,B.T)"
   ]
  },
  {
   "cell_type": "code",
   "execution_count": 20,
   "id": "b10a7192",
   "metadata": {},
   "outputs": [
    {
     "name": "stdout",
     "output_type": "stream",
     "text": [
      "[1 3 5]\n",
      "[10 30 50]\n"
     ]
    }
   ],
   "source": [
    "print(A[:,1])\n",
    "print(B[:,1])"
   ]
  },
  {
   "cell_type": "code",
   "execution_count": 21,
   "id": "ab399478",
   "metadata": {},
   "outputs": [
    {
     "data": {
      "text/plain": [
       "array([0, 0, 0])"
      ]
     },
     "execution_count": 21,
     "metadata": {},
     "output_type": "execute_result"
    }
   ],
   "source": [
    "np.cross(A[:,1],B[:,1])"
   ]
  },
  {
   "cell_type": "code",
   "execution_count": 22,
   "id": "afadfeed",
   "metadata": {},
   "outputs": [
    {
     "name": "stdout",
     "output_type": "stream",
     "text": [
      "Result using .dot: [[19 22]\n",
      " [43 50]]\n",
      "Result using .matmul: [[19 22]\n",
      " [43 50]]\n",
      "Result using @: [[19 22]\n",
      " [43 50]]\n",
      "Result of higher dim using .dot:\n",
      " [[[[0.25042496 0.1335071 ]\n",
      "   [0.19562969 0.42193583]]\n",
      "\n",
      "  [[0.67644466 0.29077666]\n",
      "   [0.06090049 0.67748125]]]\n",
      "\n",
      "\n",
      " [[[0.41014415 0.22647595]\n",
      "   [0.37273568 0.74278656]]\n",
      "\n",
      "  [[0.32291427 0.18045561]\n",
      "   [0.30783099 0.59901662]]]]\n",
      "\n",
      "Result of higher dim using .matmul: [[[0.25042496 0.1335071 ]\n",
      "  [0.67644466 0.29077666]]\n",
      "\n",
      " [[0.37273568 0.74278656]\n",
      "  [0.30783099 0.59901662]]]\n"
     ]
    }
   ],
   "source": [
    "a = np.array([[1, 2], [3, 4]])\n",
    "b = np.array([[5, 6], [7, 8]])\n",
    "\n",
    "# performing matrix multiplication using .dot and storing the result in result_dot\n",
    "result_dot = np.dot(a, b)\n",
    "\n",
    "# performing matrix multiplication using .matmul and storing the result in result_matmul\n",
    "result_matmul = np.matmul(a, b)\n",
    "\n",
    "# performing matrix multiplication using the @ operator and storing the result in result_at\n",
    "result_at = a @ b\n",
    "\n",
    "# displaying the results of matrix multiplication\n",
    "print(\"Result using .dot:\", result_dot)\n",
    "print(\"Result using .matmul:\", result_matmul)\n",
    "print(\"Result using @:\", result_at)\n",
    "\n",
    "# initializing random 3D arrays c and d\n",
    "c = np.random.rand(2, 2, 2)\n",
    "d = np.random.rand(2, 2, 2)\n",
    "\n",
    "# performing matrix multiplication using .dot on 3D arrays and storing the result in result_dot_higher\n",
    "result_dot_higher = np.dot(c, d)\n",
    "\n",
    "# performing matrix multiplication using .matmul on 3D arrays and storing the result in result_matmul_higher\n",
    "result_matmul_higher = np.matmul(c, d)\n",
    "\n",
    "# displaying the results of matrix multiplication on higher dimensional arrays\n",
    "print(\"Result of higher dim using .dot:\\n\", result_dot_higher)\n",
    "print(\"\\nResult of higher dim using .matmul:\", result_matmul_higher)\n"
   ]
  },
  {
   "cell_type": "code",
   "execution_count": 23,
   "id": "629732e6",
   "metadata": {},
   "outputs": [
    {
     "data": {
      "text/plain": [
       "'\\n# Comparing `.dot` and `.matmul` in NumPy for Higher-dimensional Arrays\\n\\nIn NumPy, both `.dot` and `.matmul` are used for matrix multiplication. \\nWhile they behave similarly for 2D arrays, there are key differences when higher-dimensional \\narrays are involved.\\n\\n## `.dot` Method\\n\\nThe `.dot` function performs matrix multiplication that can handle multi-dimensional arrays.\\nFor 2D matrices, it behaves as standard matrix multiplication.\\n\\n### What is a Stack of Matrices?\\n\\nA 3D array like \\n\\n```python\\narray_3d = np.array([[[1, 2], [3, 4]], [[5, 6], [7, 8]], [[9, 10], [11, 12]]])\\ncan be considered a stack of three 2D matrices:\\n\\n[[1, 2], [3, 4]]\\n[[5, 6], [7, 8]]\\n[[9, 10], [11, 12]]\\nIn the case of .dot, these slices would be combined with corresponding slices from the \\nother array involved in the operation.\\n\\nExample Code for .dot:\\n\\nimport numpy as np\\nc = np.random.rand(2, 2, 2)\\nd = np.random.rand(2, 2, 2)\\nresult_dot_higher = np.dot(c, d)\\n\\n\\n.matmul Method\\n.matmul performs matrix multiplication that\\'s more specialized for 2D matrices. \\nFor higher-dimensional arrays, .matmul performs \"batch\" matrix multiplication over the \\nlast two dimensions.\\n\\nExample Code for .matmul:\\n\\nresult_matmul_higher = np.matmul(c, d)\\n\\n'"
      ]
     },
     "execution_count": 23,
     "metadata": {},
     "output_type": "execute_result"
    }
   ],
   "source": [
    "'''\n",
    "# Comparing `.dot` and `.matmul` in NumPy for Higher-dimensional Arrays\n",
    "\n",
    "In NumPy, both `.dot` and `.matmul` are used for matrix multiplication. \n",
    "While they behave similarly for 2D arrays, there are key differences when higher-dimensional \n",
    "arrays are involved.\n",
    "\n",
    "## `.dot` Method\n",
    "\n",
    "The `.dot` function performs matrix multiplication that can handle multi-dimensional arrays.\n",
    "For 2D matrices, it behaves as standard matrix multiplication.\n",
    "\n",
    "### What is a Stack of Matrices?\n",
    "\n",
    "A 3D array like \n",
    "\n",
    "```python\n",
    "array_3d = np.array([[[1, 2], [3, 4]], [[5, 6], [7, 8]], [[9, 10], [11, 12]]])\n",
    "can be considered a stack of three 2D matrices:\n",
    "\n",
    "[[1, 2], [3, 4]]\n",
    "[[5, 6], [7, 8]]\n",
    "[[9, 10], [11, 12]]\n",
    "In the case of .dot, these slices would be combined with corresponding slices from the \n",
    "other array involved in the operation.\n",
    "\n",
    "Example Code for .dot:\n",
    "\n",
    "import numpy as np\n",
    "c = np.random.rand(2, 2, 2)\n",
    "d = np.random.rand(2, 2, 2)\n",
    "result_dot_higher = np.dot(c, d)\n",
    "\n",
    "\n",
    ".matmul Method\n",
    ".matmul performs matrix multiplication that's more specialized for 2D matrices. \n",
    "For higher-dimensional arrays, .matmul performs \"batch\" matrix multiplication over the \n",
    "last two dimensions.\n",
    "\n",
    "Example Code for .matmul:\n",
    "\n",
    "result_matmul_higher = np.matmul(c, d)\n",
    "\n",
    "'''"
   ]
  },
  {
   "cell_type": "code",
   "execution_count": 24,
   "id": "57ba34bc",
   "metadata": {},
   "outputs": [
    {
     "name": "stdout",
     "output_type": "stream",
     "text": [
      "Array 'a':\n",
      " [[0. 0. 0.]\n",
      " [0. 0. 0.]]\n",
      "Array 'b':\n",
      " [1 2 3]\n",
      "Result of broadcasting and addition:\n",
      " [[1. 2. 3.]\n",
      " [1. 2. 3.]]\n"
     ]
    }
   ],
   "source": [
    "# creating a 2x3 array filled with zeros\n",
    "a = np.zeros((2, 3))\n",
    "\n",
    "# creating a 1D array with shape (3,)\n",
    "b = np.array([1, 2, 3])\n",
    "\n",
    "# adding 'a' and 'b' together using broadcasting\n",
    "# broadcasting stretches 'b' to have the same shape as 'a' \n",
    "# so that they can be added together\n",
    "result = a + b\n",
    "\n",
    "print(\"Array 'a':\\n\", a)\n",
    "print(\"Array 'b':\\n\", b)\n",
    "print(\"Result of broadcasting and addition:\\n\", result)\n"
   ]
  },
  {
   "cell_type": "code",
   "execution_count": 25,
   "id": "c1979633",
   "metadata": {},
   "outputs": [
    {
     "name": "stdout",
     "output_type": "stream",
     "text": [
      "An error occurred: operands could not be broadcast together with shapes (2,3) (3,2) \n",
      "Broadcasting did not happen because dimensions are not aligned.\n",
      "An error occurred: operands could not be broadcast together with shapes (2,3) (4,) \n",
      "This is dangerous because the dimensions are not even close.\n"
     ]
    }
   ],
   "source": [
    "# creating a 2x3 array\n",
    "a = np.array([[1, 2, 3], [4, 5, 6]])\n",
    "\n",
    "# creating another 2x3 array but transposed to 3x2\n",
    "b = np.array([[1, 4], [2, 5], [3, 6]])\n",
    "\n",
    "try:\n",
    "    # trying to add 'a' and 'b' together\n",
    "    # since the shapes don't align properly, broadcasting is not happening\n",
    "    # this will throw a ValueError\n",
    "    result = a + b\n",
    "except ValueError as e:\n",
    "    print(f\"An error occurred: {e}\")\n",
    "    print(\"Broadcasting did not happen because dimensions are not aligned.\")\n",
    "\n",
    "# creating a 1D array with shape (4,)\n",
    "c = np.array([1, 2, 3, 4])\n",
    "\n",
    "try:\n",
    "    # trying to add 'a' and 'c' together\n",
    "    # shapes are not compatible for broadcasting\n",
    "    # this is dangerous as it will throw a ValueError\n",
    "    dangerous_result = a + c\n",
    "except ValueError as e:\n",
    "    print(f\"An error occurred: {e}\")\n",
    "    print(\"This is dangerous because the dimensions are not even close.\")\n"
   ]
  },
  {
   "cell_type": "code",
   "execution_count": null,
   "id": "32766d63",
   "metadata": {},
   "outputs": [],
   "source": []
  }
 ],
 "metadata": {
  "kernelspec": {
   "display_name": "Python 3 (ipykernel)",
   "language": "python",
   "name": "python3"
  },
  "language_info": {
   "codemirror_mode": {
    "name": "ipython",
    "version": 3
   },
   "file_extension": ".py",
   "mimetype": "text/x-python",
   "name": "python",
   "nbconvert_exporter": "python",
   "pygments_lexer": "ipython3",
   "version": "3.9.13"
  }
 },
 "nbformat": 4,
 "nbformat_minor": 5
}
