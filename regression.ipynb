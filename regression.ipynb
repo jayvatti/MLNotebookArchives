{
 "cells": [
  {
   "cell_type": "code",
   "execution_count": 15,
   "id": "ea7eeff1",
   "metadata": {},
   "outputs": [],
   "source": [
    "from tensorflow import keras\n",
    "from tensorflow.keras.datasets import boston_housing\n",
    "(train_data, train_targets), (test_data, test_targets) = boston_housing.load_data()"
   ]
  },
  {
   "cell_type": "code",
   "execution_count": 16,
   "id": "29eba642",
   "metadata": {},
   "outputs": [
    {
     "data": {
      "text/plain": [
       "(404, 13)"
      ]
     },
     "execution_count": 16,
     "metadata": {},
     "output_type": "execute_result"
    }
   ],
   "source": [
    "train_data.shape"
   ]
  },
  {
   "cell_type": "code",
   "execution_count": 17,
   "id": "b9ffd23d",
   "metadata": {},
   "outputs": [
    {
     "data": {
      "text/plain": [
       "(102, 13)"
      ]
     },
     "execution_count": 17,
     "metadata": {},
     "output_type": "execute_result"
    }
   ],
   "source": [
    "test_data.shape"
   ]
  },
  {
   "cell_type": "code",
   "execution_count": 18,
   "id": "016e1eac",
   "metadata": {},
   "outputs": [
    {
     "data": {
      "text/plain": [
       "'\\n404 training samples and 102 test samples, each with 13 numerical features, \\nsuch as per capita crime rate, average number of rooms per dwelling, \\naccessibility to highways, and so on.\\n'"
      ]
     },
     "execution_count": 18,
     "metadata": {},
     "output_type": "execute_result"
    }
   ],
   "source": [
    "'''\n",
    "404 training samples and 102 test samples, each with 13 numerical features, \n",
    "such as per capita crime rate, average number of rooms per dwelling, \n",
    "accessibility to highways, and so on.\n",
    "'''"
   ]
  },
  {
   "cell_type": "code",
   "execution_count": 19,
   "id": "bfce3df0",
   "metadata": {},
   "outputs": [
    {
     "data": {
      "text/plain": [
       "\"\\nThe targets are the median values of owner-occupied homes, in thousands of dollars.\\n\\nThe prices are typically between 10 and 50,000 dollars. \\nIf that sounds cheap, remember that this was the mid-1970s, \\nand these prices haven't been adjusted for inflation.\\n\""
      ]
     },
     "execution_count": 19,
     "metadata": {},
     "output_type": "execute_result"
    }
   ],
   "source": [
    "'''\n",
    "The targets are the median values of owner-occupied homes, in thousands of dollars.\n",
    "\n",
    "The prices are typically between 10 and 50,000 dollars. \n",
    "If that sounds cheap, remember that this was the mid-1970s, \n",
    "and these prices haven't been adjusted for inflation.\n",
    "'''"
   ]
  },
  {
   "cell_type": "code",
   "execution_count": 20,
   "id": "dbf59a50",
   "metadata": {},
   "outputs": [],
   "source": [
    "'''Normalizing the data'''\n",
    "\n",
    "mean = train_data.mean(axis=0)\n",
    "train_data -= mean\n",
    "std = train_data.std(axis=0)\n",
    "train_data /= std\n",
    "test_data -= mean\n",
    "test_data /= std"
   ]
  },
  {
   "cell_type": "code",
   "execution_count": 21,
   "id": "bb3f35b6",
   "metadata": {},
   "outputs": [
    {
     "data": {
      "text/plain": [
       "'\\nNote that the quantities used for normalizing the test data are computed using \\nthe training data. You should never use any quantity computed on the test data in your \\nworkflow, even for something as simple as data normalization.\\n'"
      ]
     },
     "execution_count": 21,
     "metadata": {},
     "output_type": "execute_result"
    }
   ],
   "source": [
    "'''\n",
    "Note that the quantities used for normalizing the test data are computed using \n",
    "the training data. You should never use any quantity computed on the test data in your \n",
    "workflow, even for something as simple as data normalization.\n",
    "'''"
   ]
  },
  {
   "cell_type": "code",
   "execution_count": 22,
   "id": "6d8564f3",
   "metadata": {},
   "outputs": [],
   "source": [
    "'''Model definition'''\n",
    "from tensorflow.keras import layers\n",
    "\n",
    "#using a function since we need to use the same model multiple times\n",
    "def build_model():\n",
    "    model = keras.Sequential([\n",
    "        layers.Dense(64, activation=\"relu\"),\n",
    "        layers.Dense(64, activation=\"relu\"),\n",
    "        layers.Dense(1, activation='linear')\n",
    "    ])\n",
    "    model.compile(optimizer=\"rmsprop\", loss=\"mse\", metrics=[\"mae\"])\n",
    "    return model"
   ]
  },
  {
   "cell_type": "markdown",
   "id": "7a1cf0f3",
   "metadata": {},
   "source": [
    "The model ends with a single unit and no activation (*it will be a linear layer*). This is a typical setup for scalar regression which is a regression where you are trying to predict a single continuous value. Applying an activation function would constrain the range the output can take. For example, if you apply a `sigmoid` activation function to the last layer, the model could only learn to predict values between 0 and 1. Here, because the last layer is purely linear, the model is free to learn to predict values in any range.\n",
    "\n",
    "Note that we compile the model with the `mse` loss function, `mean squared error`, the square of the difference between the predictions and the targets. This is a widely used loss function for regression problems.\n",
    "\n",
    "We are also monitoring a new metric during training, the `mean absolute error (MAE)`. It is the\n",
    "absolute value of the difference between the predictions and the targets. For example , an `MAE` of 0.5 on this problem would mean your predictions are off by $500 on average."
   ]
  },
  {
   "cell_type": "markdown",
   "id": "c09b085d",
   "metadata": {},
   "source": [
    "#### **Validating your approach using K-fold validation**\n",
    "\n",
    "To evaluate our model while we keep adjusting its parameters (such as the number of epochs used for training), we could split the data into a training set and a validation set, as we did in the previous examples. But because we have so few data points, the validation set would end up being very small. As a consequence, the validation scores might change a lot depending on which data points we chose for validation and which ones we chose for training. The validation scores might have a high variance with regard to the validation split. This would prevent us from reliably evaluating our model.\n",
    "\n",
    "The best practice in such situations is to use K-fold cross-validation which consists of the following steps:\n",
    "*   Split the available data into K partitions (typically K = 4 or 5).\n",
    "*   Instantiate K identical models.\n",
    "*   Train each one on `K – 1` partitions while evaluating on the remaining partition.\n",
    "\n",
    "The validation score for the model used is then the average of the K validation scores obtained.\n",
    "\n",
    "**N.B: In terms of code, this is straightforward.**"
   ]
  },
  {
   "cell_type": "code",
   "execution_count": 23,
   "id": "15f5303d",
   "metadata": {},
   "outputs": [
    {
     "name": "stdout",
     "output_type": "stream",
     "text": [
      "Processing fold #0\n",
      "Processing fold #1\n",
      "Processing fold #2\n",
      "Processing fold #3\n"
     ]
    }
   ],
   "source": [
    "'''K-fold validation'''\n",
    "\n",
    "import numpy as np\n",
    "\n",
    "k = 4\n",
    "num_val_samples = len(train_data) // k\n",
    "num_epochs = 100\n",
    "all_scores = []\n",
    "for i in range(k):\n",
    "    print(f\"Processing fold #{i}\")\n",
    " #preparing the validation data: data from partition #k\n",
    "    val_data = train_data[i * num_val_samples: (i + 1) * num_val_samples]\n",
    "    val_targets = train_targets[i * num_val_samples: (i + 1) * num_val_samples]\n",
    " #prepareing the training data.\n",
    " #data from all other partitions\n",
    "    partial_train_data = np.concatenate(\n",
    "        [train_data[:i * num_val_samples],\n",
    "         train_data[(i + 1) * num_val_samples:]],\n",
    "        axis=0)\n",
    "    partial_train_targets = np.concatenate(\n",
    "        [train_targets[:i * num_val_samples],\n",
    "         train_targets[(i + 1) * num_val_samples:]],\n",
    "        axis=0)\n",
    " #building the Keras model (already compiled)\n",
    "    model = build_model()\n",
    " #training the model (in silent mode, verbose = 0)\n",
    "    model.fit(partial_train_data, partial_train_targets,\n",
    "              epochs=num_epochs, batch_size=16, verbose=0)\n",
    " #evaluating the model on the validation data\n",
    "    val_mse, val_mae = model.evaluate(val_data, val_targets, verbose=0)\n",
    "    all_scores.append(val_mae)"
   ]
  },
  {
   "cell_type": "code",
   "execution_count": 24,
   "id": "f88ba6f0",
   "metadata": {},
   "outputs": [
    {
     "data": {
      "text/plain": [
       "[2.1393587589263916, 2.366600275039673, 2.495450496673584, 2.4732613563537598]"
      ]
     },
     "execution_count": 24,
     "metadata": {},
     "output_type": "execute_result"
    }
   ],
   "source": [
    "all_scores"
   ]
  },
  {
   "cell_type": "code",
   "execution_count": 25,
   "id": "7f853fb3",
   "metadata": {},
   "outputs": [
    {
     "data": {
      "text/plain": [
       "2.368667721748352"
      ]
     },
     "execution_count": 25,
     "metadata": {},
     "output_type": "execute_result"
    }
   ],
   "source": [
    "np.mean(all_scores)"
   ]
  },
  {
   "cell_type": "markdown",
   "id": "2d09668a",
   "metadata": {},
   "source": [
    "The different runs do indeed show rather different validation scores, from 1.9 to 2.4 (may vary). The average (2.2) is a much more reliable metric than any single score. That is the entire point of K-fold cross-validation. In this case, we are off by 2,400 dollars on average, which is significant considering that the prices range from 10 to 50,000 dollars."
   ]
  },
  {
   "cell_type": "code",
   "execution_count": 26,
   "id": "8b786914",
   "metadata": {},
   "outputs": [
    {
     "name": "stdout",
     "output_type": "stream",
     "text": [
      "Processing fold #0\n",
      "Processing fold #1\n",
      "Processing fold #2\n",
      "Processing fold #3\n"
     ]
    }
   ],
   "source": [
    "''' Saving the validation logs at each fold'''\n",
    "num_epochs = 500\n",
    "all_mae_histories = []\n",
    "for i in range(k):\n",
    "    print(f\"Processing fold #{i}\")\n",
    "    #preparing the validation data: data from partition #k\n",
    "    val_data = train_data[i * num_val_samples: (i + 1) * num_val_samples]\n",
    "    val_targets = train_targets[i * num_val_samples: (i + 1) * num_val_samples]\n",
    "    #preparing the training data: data from all other partitions\n",
    "    partial_train_data = np.concatenate(\n",
    "        [train_data[:i * num_val_samples],\n",
    "         train_data[(i + 1) * num_val_samples:]],\n",
    "        axis=0)\n",
    "    partial_train_targets = np.concatenate(\n",
    "        [train_targets[:i * num_val_samples],\n",
    "         train_targets[(i + 1) * num_val_samples:]],\n",
    "        axis=0)\n",
    "    #building the Keras model (already compiled)\n",
    "    model = build_model()\n",
    "    #training the model (in silent mode, verbose=0)\n",
    "    history = model.fit(partial_train_data, partial_train_targets,\n",
    "                        validation_data=(val_data, val_targets),\n",
    "                        epochs=num_epochs, batch_size=16, verbose=0)\n",
    "    mae_history = history.history[\"val_mae\"]\n",
    "    all_mae_histories.append(mae_history)"
   ]
  },
  {
   "cell_type": "markdown",
   "id": "aa23b480",
   "metadata": {},
   "source": [
    "We can then compute the average of the per-epoch MAE (mean absolute error) scores for all folds."
   ]
  },
  {
   "cell_type": "code",
   "execution_count": 27,
   "id": "f4a025ce",
   "metadata": {},
   "outputs": [],
   "source": [
    "'''building the history of successive mean K-fold validation scores'''\n",
    "\n",
    "average_mae_history = [\n",
    "    np.mean([x[i] for x in all_mae_histories]) for i in range(num_epochs)]"
   ]
  },
  {
   "cell_type": "code",
   "execution_count": 28,
   "id": "95467a3e",
   "metadata": {},
   "outputs": [
    {
     "data": {
      "image/png": "[encoded data removed]",
      "text/plain": [
       "<Figure size 640x480 with 1 Axes>"
      ]
     },
     "metadata": {},
     "output_type": "display_data"
    }
   ],
   "source": [
    "'''plotting validation scores'''\n",
    "\n",
    "import matplotlib.pyplot as plt\n",
    "plt.plot(range(1, len(average_mae_history) + 1), average_mae_history)\n",
    "plt.xlabel(\"Epochs\")\n",
    "plt.ylabel(\"Validation MAE\")\n",
    "plt.show()"
   ]
  },
  {
   "cell_type": "markdown",
   "id": "674487cd",
   "metadata": {},
   "source": [
    "It may be a little difficult to read the plot, due to a scaling issue, The validation MAE for the first few epochs is dramatically higher than the values that follow. Let’s omit the first 10 data points, which are on a different scale than the rest of the curve."
   ]
  },
  {
   "cell_type": "code",
   "execution_count": 29,
   "id": "0791b35d",
   "metadata": {},
   "outputs": [
    {
     "data": {
      "image/png": "[encoded data removed]",
      "text/plain": [
       "<Figure size 640x480 with 1 Axes>"
      ]
     },
     "metadata": {},
     "output_type": "display_data"
    }
   ],
   "source": [
    "'''Plotting validation scores, excluding the first 10 data points'''\n",
    "truncated_mae_history = average_mae_history[10:]\n",
    "plt.plot(range(1, len(truncated_mae_history) + 1), truncated_mae_history)\n",
    "plt.xlabel(\"Epochs\")\n",
    "plt.ylabel(\"Validation MAE\")\n",
    "plt.show()"
   ]
  },
  {
   "cell_type": "markdown",
   "id": "3a05d894",
   "metadata": {},
   "source": [
    "As you can see in the plot above, the validation MAE stops improving significantly after 120–140 epochs (this number includes the 10 epochs we omitted). Past that point, we start overfitting.\n",
    "\n",
    " Once you are done tuning other parameters of the model (in addition to the number of epochs, you could also adjust the size of the intermediate layers), you can train a final production model on all of the training data, with the best parameters,\n",
    "and then look at its performance on the test data."
   ]
  },
  {
   "cell_type": "code",
   "execution_count": 32,
   "id": "e5ba3e2f",
   "metadata": {},
   "outputs": [
    {
     "name": "stdout",
     "output_type": "stream",
     "text": [
      "4/4 [==============================] - 0s 1ms/step - loss: 14.8338 - mae: 2.5001\n"
     ]
    }
   ],
   "source": [
    "'''Training the final model'''\n",
    "\n",
    "#Gets a fresh, compiled model\n",
    "model = build_model()\n",
    "model.fit(train_data, train_targets,\n",
    "#Trains it on the entirety of the data\n",
    "          epochs=120, batch_size=16, verbose=0)\n",
    "test_mse_score, test_mae_score = model.evaluate(test_data, test_targets)"
   ]
  },
  {
   "cell_type": "code",
   "execution_count": 33,
   "id": "1efe0684",
   "metadata": {},
   "outputs": [
    {
     "data": {
      "text/plain": [
       "2.500082015991211"
      ]
     },
     "execution_count": 33,
     "metadata": {},
     "output_type": "execute_result"
    }
   ],
   "source": [
    "test_mae_score"
   ]
  },
  {
   "cell_type": "markdown",
   "id": "cb9aeb4f",
   "metadata": {},
   "source": [
    "We are still off by a bit under 2,500 dollars. It is an improvement! Just like with the two previous tasks, you can try varying the number of layers in the model, or the number of units per layer, to see if you can squeeze out a lower test error."
   ]
  },
  {
   "cell_type": "code",
   "execution_count": 42,
   "id": "a10b5e44",
   "metadata": {},
   "outputs": [
    {
     "name": "stdout",
     "output_type": "stream",
     "text": [
      "4/4 [==============================] - 0s 857us/step\n"
     ]
    },
    {
     "data": {
      "text/plain": [
       "(102, 1)"
      ]
     },
     "execution_count": 42,
     "metadata": {},
     "output_type": "execute_result"
    }
   ],
   "source": [
    "predictions = model.predict(test_data)\n",
    "predictions.shape\n",
    "predictions = (predictions*std) + mean\n",
    "predictions.shape"
   ]
  },
  {
   "cell_type": "markdown",
   "id": "621c2bbe",
   "metadata": {},
   "source": [
    "*   Regression is done using different loss functions than we used for classification. Mean squared error (MSE) is a loss function commonly used for regression.\n",
    "*   Similarly, evaluation metrics to be used for regression differ from those used for classification. Naturally, the concept of accuracy does not apply for regression. A common regression metric is mean absolute error (MAE).\n",
    "* When features in the input data have values in different ranges, each feature should be scaled independently as a preprocessing step.\n",
    "*   When there is little data available, using K-fold validation is a great way to reliably evaluate a model.\n",
    "*   When little training data is available, it is preferable to use a small model with few intermediate layers (typically only one or two), in order to avoid severe overfitting."
   ]
  },
  {
   "cell_type": "code",
   "execution_count": null,
   "id": "8b9ae34b",
   "metadata": {},
   "outputs": [],
   "source": []
  }
 ],
 "metadata": {
  "kernelspec": {
   "display_name": "Python 3 (ipykernel)",
   "language": "python",
   "name": "python3"
  },
  "language_info": {
   "codemirror_mode": {
    "name": "ipython",
    "version": 3
   },
   "file_extension": ".py",
   "mimetype": "text/x-python",
   "name": "python",
   "nbconvert_exporter": "python",
   "pygments_lexer": "ipython3",
   "version": "3.9.13"
  }
 },
 "nbformat": 4,
 "nbformat_minor": 5
}
