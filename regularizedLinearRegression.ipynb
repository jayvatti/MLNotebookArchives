{
 "cells": [
  {
   "cell_type": "code",
   "execution_count": 219,
   "id": "c7b4ae30",
   "metadata": {},
   "outputs": [],
   "source": [
    "import numpy as np\n",
    "import pandas as pd"
   ]
  },
  {
   "cell_type": "markdown",
   "id": "c006c2a6",
   "metadata": {},
   "source": [
    "Regularized Linear Regression:\n",
    "$$J(\\mathbf{w},b) = \\frac{1}{2m} \\sum\\limits_{i = 0}^{m-1} (f_{\\mathbf{w},b}(\\mathbf{x}^{(i)}) - y^{(i)})^2  + \\frac{\\lambda}{2m}  \\sum_{j=0}^{n-1} w_j^2 \\tag{1}$$ \n",
    "where:\n",
    "$$ f_{\\mathbf{w},b}(\\mathbf{x}^{(i)}) = \\mathbf{w} \\cdot \\mathbf{x}^{(i)} + b  \\tag{2} $$ \n",
    "\n",
    "\n",
    "Without Regularization:\n",
    "\n",
    "$$J(\\mathbf{w},b) = \\frac{1}{2m} \\sum\\limits_{i = 0}^{m-1} (f_{\\mathbf{w},b}(\\mathbf{x}^{(i)}) - y^{(i)})^2 $$ \n",
    "\n",
    "The difference:  <span style=\"color:red\">\n",
    "    $\\frac{\\lambda}{2m}  \\sum_{j=0}^{n-1} w_j^2$ </span> \n",
    "    \n",
    "Minimizes the size of the parameters. B is not regularized (standard practice)\n"
   ]
  },
  {
   "cell_type": "code",
   "execution_count": 220,
   "id": "5d21baa4",
   "metadata": {},
   "outputs": [],
   "source": [
    "#regularized cost \n",
    "def calculate_cost(x_values, y_values, w_values, b, lambda_ = 1):\n",
    "    m  = x_values.shape[0]\n",
    "    n  = len(w_values)\n",
    "    total_cost = 0\n",
    "    for i in range(m):\n",
    "        f_i = np.dot(x_values[i], w_values) + b                                  \n",
    "        total_cost += (f_i - y_values[i])**2                                      \n",
    "    total_cost =  1 / (2 * m) * total_cost                                  \n",
    "    \n",
    "    regularized_cost = 0\n",
    "    for j in range(n):\n",
    "        regularized_cost += (w_values[j]**2)                                         \n",
    "    regularized_cost = (lambda_/(2*m)) * regularized_cost                             \n",
    "    \n",
    "    total_cost = total_cost + regularized_cost                                       \n",
    "    return total_cost                           "
   ]
  },
  {
   "cell_type": "markdown",
   "id": "6590712f",
   "metadata": {},
   "source": [
    "### Computing the Gradient with regularization (both linear/logistic)\n",
    "The gradient calculation for linear and logistic regression:\n",
    "$$\\begin{align*}\n",
    "\\frac{\\partial J(\\mathbf{w},b)}{\\partial w_j}  &= \\frac{1}{m} \\sum\\limits_{i = 0}^{m-1} (f_{\\mathbf{w},b}(\\mathbf{x}^{(i)}) - y^{(i)})x_{j}^{(i)}  +  \\frac{\\lambda}{m} w_j \\tag{2} \\\\\n",
    "\\frac{\\partial J(\\mathbf{w},b)}{\\partial b}  &= \\frac{1}{m} \\sum\\limits_{i = 0}^{m-1} (f_{\\mathbf{w},b}(\\mathbf{x}^{(i)}) - y^{(i)}) \\tag{3} \n",
    "\\end{align*}$$\n",
    "\n",
    "* m: training examples\n",
    "* $f_{\\mathbf{w},b}(x^{(i)})$ : prediction\n",
    "* $y^{(i)}$ : target\n",
    "\n",
    "   \n",
    "   \n",
    "   \n",
    "<span style=\"color:red\"> **Linear** </span> regression model  \n",
    "    * $f_{\\mathbf{w},b}(x) = \\mathbf{w} \\cdot \\mathbf{x} + b$  \n",
    "    \n",
    "<span style=\"color:red\"> **Logistic** </span> regression model  \n",
    "    * $z = \\mathbf{w} \\cdot \\mathbf{x} + b$  \n",
    "    * $f_{\\mathbf{w},b}(x) = g(z)$  \n",
    "    * $g(z)$ : sigmoid function  \n",
    "    * $g(z) = \\frac{1}{1+e^{-z}}$   \n",
    "    "
   ]
  },
  {
   "cell_type": "code",
   "execution_count": 221,
   "id": "e54c8c96",
   "metadata": {},
   "outputs": [],
   "source": [
    "\n",
    "def calculate_gradient_descent(x_values, y_values, w_values, b,lambda_): \n",
    "    \n",
    "    m,n = x_values.shape     \n",
    "    #m : examples ; n: features \n",
    "    derivatives_w = np.zeros(n)\n",
    "    derivative_b = 0\n",
    "\n",
    "    for i in range(m):                             \n",
    "        error = (np.dot(x_values[i], w_values) + b) - y_values[i] \n",
    "        for j in range(n):                         \n",
    "            derivatives_w[j] = derivatives_w[j] + error * x_values[i, j]    \n",
    "        derivative_b += error\n",
    "        \n",
    "    derivative_b /= m\n",
    "    derivatives_w /= m\n",
    "\n",
    "    for j in range(n):\n",
    "        derivatives_w[j] = derivatives_w[j] + (lambda_/m) * w_values[j]\n",
    "\n",
    "    return derivative_b, derivatives_w"
   ]
  },
  {
   "cell_type": "code",
   "execution_count": 222,
   "id": "3b98f196",
   "metadata": {},
   "outputs": [],
   "source": [
    "import copy\n",
    "\n",
    "def gradient_descent(x_values, y_values, w_initial_values, b_initial, cost_function, gradient_function, alpha, iterations, lambda_): \n",
    "    \n",
    "\n",
    "    cost_cache = []\n",
    "    w_values = copy.deepcopy(w_initial_values)  \n",
    "    b = b_initial\n",
    "    for i in range(iterations):\n",
    "\n",
    "        derivative_b,derivatives_w = gradient_function(x_values, y_values, w_values, b, lambda_)   \n",
    "\n",
    "        w_values = w_values - alpha * derivatives_w              \n",
    "        b = b - alpha * derivative_b\n",
    "        \n",
    "        if i<100000:\n",
    "            cost_cache.append(cost_function(x_values, y_values, w_values, b, lambda_))\n",
    "            \n",
    "    return w_values, b, cost_cache "
   ]
  },
  {
   "cell_type": "code",
   "execution_count": 223,
   "id": "964f9175",
   "metadata": {},
   "outputs": [],
   "source": [
    "df = pd.read_csv('../data/multipleFeatures.csv')"
   ]
  },
  {
   "cell_type": "code",
   "execution_count": 224,
   "id": "9d2395cd",
   "metadata": {},
   "outputs": [],
   "source": [
    "x = []\n",
    "y = []\n",
    "for i in range(df.shape[0]):\n",
    "    temp = df.iloc[i]\n",
    "    x.append(temp[0:-1])\n",
    "    y.append(temp[-1])\n",
    "    "
   ]
  },
  {
   "cell_type": "code",
   "execution_count": 225,
   "id": "924e7413",
   "metadata": {},
   "outputs": [],
   "source": [
    "x_values = np.array(x)\n",
    "y_values = np.array(y)\n",
    "\n",
    "w_initial_values = np.zeros(x_values.shape[1])\n",
    "b_initial = 0\n",
    "\n",
    "iterations = 500000\n",
    "learning_rate = 3.0e-5\n",
    "lambda_ = 0.1\n",
    "\n",
    "x_normalized = (x - np.mean(x, axis=0)) / np.std(x, axis=0)\n",
    "\n",
    "y_normalized = (y - np.mean(y)) / np.std(y)\n",
    "\n",
    "w_final_values, b_final, cost_cache = gradient_descent(x_normalized, y_normalized, w_initial_values ,b_initial ,\n",
    "                                                    calculate_cost, calculate_gradient_descent, \n",
    "                                                    learning_rate, iterations,lambda_)"
   ]
  },
  {
   "cell_type": "code",
   "execution_count": 226,
   "id": "24df445c",
   "metadata": {},
   "outputs": [
    {
     "data": {
      "image/png": "[encoded data removed]",
      "text/plain": [
       "<Figure size 640x480 with 1 Axes>"
      ]
     },
     "metadata": {},
     "output_type": "display_data"
    }
   ],
   "source": [
    "\n",
    "\n",
    "import matplotlib.pyplot as plt\n",
    "plt.figure()\n",
    "plt.plot(cost_cache)\n",
    "plt.xlabel('Iteration')\n",
    "plt.ylabel('Cost')\n",
    "plt.title('Cost vs. Iteration')\n",
    "plt.show()"
   ]
  },
  {
   "cell_type": "code",
   "execution_count": 227,
   "id": "12457531",
   "metadata": {},
   "outputs": [],
   "source": [
    "new_data = pd.DataFrame({'area': [3000, 2000], 'bedrooms': [3, 2], 'bathrooms': [2, 1], 'age': [1, 2]})\n",
    "new_data_values = new_data.values"
   ]
  },
  {
   "cell_type": "code",
   "execution_count": 228,
   "id": "ab9637e3",
   "metadata": {},
   "outputs": [
    {
     "data": {
      "text/plain": [
       "array([431394.36802277, 239655.97906882])"
      ]
     },
     "execution_count": 228,
     "metadata": {},
     "output_type": "execute_result"
    }
   ],
   "source": [
    "\n",
    "x_mean = np.mean(x, axis=0)\n",
    "x_std = np.std(x, axis=0)\n",
    "y_mean = np.mean(y)\n",
    "y_std = np.std(y)\n",
    "\n",
    "new_data_normalized = (new_data_values - x_mean) / x_std\n",
    "\n",
    "prediction_normalized = np.dot(new_data_normalized, w_final_values) + b_final\n",
    "\n",
    "predictions_custom = prediction_normalized * y_std + y_mean\n",
    "\n",
    "predictions_custom\n"
   ]
  }
 ],
 "metadata": {
  "kernelspec": {
   "display_name": "Python 3 (ipykernel)",
   "language": "python",
   "name": "python3"
  },
  "language_info": {
   "codemirror_mode": {
    "name": "ipython",
    "version": 3
   },
   "file_extension": ".py",
   "mimetype": "text/x-python",
   "name": "python",
   "nbconvert_exporter": "python",
   "pygments_lexer": "ipython3",
   "version": "3.9.13"
  }
 },
 "nbformat": 4,
 "nbformat_minor": 5
}
