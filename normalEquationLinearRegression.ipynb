{
 "cells": [
  {
   "cell_type": "code",
   "execution_count": 1,
   "id": "f2a7b5fa",
   "metadata": {},
   "outputs": [],
   "source": [
    "import pandas as pd\n",
    "import numpy as np"
   ]
  },
  {
   "cell_type": "code",
   "execution_count": 3,
   "id": "cf3486c7",
   "metadata": {},
   "outputs": [],
   "source": [
    "df = pd.read_csv('../data/height_weight.csv')"
   ]
  },
  {
   "cell_type": "code",
   "execution_count": 4,
   "id": "df9e3d1b",
   "metadata": {},
   "outputs": [],
   "source": [
    "X = df['height'].values\n",
    "y = df['weight'].values"
   ]
  },
  {
   "cell_type": "code",
   "execution_count": 8,
   "id": "57c90280",
   "metadata": {},
   "outputs": [],
   "source": [
    "\"\"\"\n",
    "if X is a matrix representing two features:\n",
    "\n",
    "X = [[2, 3],\n",
    "[4, 5],\n",
    "[6, 7]]\n",
    "\n",
    "X_bias would be:\n",
    "\n",
    "X_bias = [[1, 2, 3],\n",
    "[1, 4, 5],\n",
    "[1, 6, 7]]\n",
    "\"\"\"\n",
    "X_bias = np.c_[np.ones((X.shape[0], 1)), X]"
   ]
  },
  {
   "cell_type": "markdown",
   "id": "f57baa19",
   "metadata": {},
   "source": [
    "Formula:\n",
    "\n",
    "&nbsp;\n",
    "\n",
    "θ = (X<sup>T</sup>X)<sup>-1</sup>X<sup>T</sup>y\n",
    "\n",
    "&nbsp;\n",
    "\n",
    "Breakdown:\n",
    "\n",
    "&nbsp;\n",
    "\n",
    "- θ is the vector of model parameters that minimize the cost function.\n",
    "\n",
    "&nbsp;\n",
    "\n",
    "- X is the matrix of feature values, with each row representing an example and each column a feature. In our context, X is the matrix X_bias, which includes a column of ones to account for the bias term (also called the intercept term) in the linear regression model.\n",
    "\n",
    "&nbsp;\n",
    "\n",
    "- X<sup>T</sup> is the transpose of matrix X. Transposing a matrix means to interchange its rows into columns (and vice versa).\n",
    "\n",
    "&nbsp;\n",
    "\n",
    "- y is the vector of target values, with each element corresponding to an example.\n",
    "\n",
    "&nbsp;\n",
    "\n",
    "- (X<sup>T</sup>X)<sup>-1</sup> is the inverse of the matrix product X<sup>T</sup>X. Inversing a matrix means to find another matrix that, when multiplied with the original matrix, gives the identity matrix.\n",
    "\n",
    "&nbsp;\n",
    "\n",
    "Please note that the normal equation requires the inversion of a matrix. In case the matrix X<sup>T</sup>X is not invertible (singular), or nearly so, the computation could lead to large numerical errors. Such scenarios can occur if features are redundant (multicollinearity) or too many features are present (more than training instances).\n",
    "\n"
   ]
  },
  {
   "cell_type": "code",
   "execution_count": null,
   "id": "842209f6",
   "metadata": {},
   "outputs": [],
   "source": [
    "#.T : Transpose. Changes 2x3 to 3x2\n",
    "#linalg.inv: Inverse of a matrix. (Can use Row-echelon form for small values and check by hand)\n",
    "theta = np.linalg.inv(X_bias.T.dot(X_bias)).dot(X_bias.T).dot(y)"
   ]
  },
  {
   "cell_type": "code",
   "execution_count": 10,
   "id": "9a6e918b",
   "metadata": {},
   "outputs": [
    {
     "data": {
      "text/plain": [
       "array([-145.77332096,    3.95387466])"
      ]
     },
     "execution_count": 10,
     "metadata": {},
     "output_type": "execute_result"
    }
   ],
   "source": [
    "theta"
   ]
  },
  {
   "cell_type": "code",
   "execution_count": 13,
   "id": "a52d395b",
   "metadata": {},
   "outputs": [
    {
     "data": {
      "text/plain": [
       "130.9979055236534"
      ]
     },
     "execution_count": 13,
     "metadata": {},
     "output_type": "execute_result"
    }
   ],
   "source": [
    "#predicting for height 70\n",
    "\n",
    "y_pred = theta[0] + theta[1]*70\n",
    "\n",
    "y_pred"
   ]
  }
 ],
 "metadata": {
  "kernelspec": {
   "display_name": "Python 3 (ipykernel)",
   "language": "python",
   "name": "python3"
  },
  "language_info": {
   "codemirror_mode": {
    "name": "ipython",
    "version": 3
   },
   "file_extension": ".py",
   "mimetype": "text/x-python",
   "name": "python",
   "nbconvert_exporter": "python",
   "pygments_lexer": "ipython3",
   "version": "3.9.13"
  }
 },
 "nbformat": 4,
 "nbformat_minor": 5
}
