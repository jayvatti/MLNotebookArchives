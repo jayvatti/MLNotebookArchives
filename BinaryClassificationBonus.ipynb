{
 "cells": [
  {
   "cell_type": "code",
   "execution_count": 2,
   "id": "a6c38d93",
   "metadata": {},
   "outputs": [],
   "source": [
    "import tensorflow as tf\n",
    "from tensorflow.keras import layers\n",
    "from tensorflow import keras\n",
    "import pandas as pd\n",
    "import numpy as np"
   ]
  },
  {
   "cell_type": "code",
   "execution_count": 3,
   "id": "fcc85965",
   "metadata": {},
   "outputs": [
    {
     "data": {
      "text/html": [
       "<div>\n",
       "<style scoped>\n",
       "    .dataframe tbody tr th:only-of-type {\n",
       "        vertical-align: middle;\n",
       "    }\n",
       "\n",
       "    .dataframe tbody tr th {\n",
       "        vertical-align: top;\n",
       "    }\n",
       "\n",
       "    .dataframe thead th {\n",
       "        text-align: right;\n",
       "    }\n",
       "</style>\n",
       "<table border=\"1\" class=\"dataframe\">\n",
       "  <thead>\n",
       "    <tr style=\"text-align: right;\">\n",
       "      <th></th>\n",
       "      <th>IsSpam</th>\n",
       "      <th>Text</th>\n",
       "    </tr>\n",
       "  </thead>\n",
       "  <tbody>\n",
       "    <tr>\n",
       "      <th>0</th>\n",
       "      <td>0</td>\n",
       "      <td>key issues going forwarda year end reviews rep...</td>\n",
       "    </tr>\n",
       "    <tr>\n",
       "      <th>1</th>\n",
       "      <td>0</td>\n",
       "      <td>congrats contratulations the execution the cen...</td>\n",
       "    </tr>\n",
       "    <tr>\n",
       "      <th>2</th>\n",
       "      <td>0</td>\n",
       "      <td>key issues going forwardall under control set...</td>\n",
       "    </tr>\n",
       "    <tr>\n",
       "      <th>3</th>\n",
       "      <td>0</td>\n",
       "      <td>epmi files protest entergy transcoattached our...</td>\n",
       "    </tr>\n",
       "    <tr>\n",
       "      <th>4</th>\n",
       "      <td>0</td>\n",
       "      <td>california power please contact kristin walsh ...</td>\n",
       "    </tr>\n",
       "  </tbody>\n",
       "</table>\n",
       "</div>"
      ],
      "text/plain": [
       "   IsSpam                                               Text\n",
       "0       0  key issues going forwarda year end reviews rep...\n",
       "1       0  congrats contratulations the execution the cen...\n",
       "2       0   key issues going forwardall under control set...\n",
       "3       0  epmi files protest entergy transcoattached our...\n",
       "4       0  california power please contact kristin walsh ..."
      ]
     },
     "execution_count": 3,
     "metadata": {},
     "output_type": "execute_result"
    }
   ],
   "source": [
    "ham_spam_df = pd.read_csv(\"ham-spam.csv\")\n",
    "\n",
    "#used to make sure that the data is properly loaded. \n",
    "ham_spam_df.head()"
   ]
  },
  {
   "cell_type": "code",
   "execution_count": 4,
   "id": "6492cea6",
   "metadata": {},
   "outputs": [
    {
     "name": "stdout",
     "output_type": "stream",
     "text": [
      "<class 'pandas.core.frame.DataFrame'>\n",
      "RangeIndex: 1000 entries, 0 to 999\n",
      "Data columns (total 2 columns):\n",
      " #   Column  Non-Null Count  Dtype \n",
      "---  ------  --------------  ----- \n",
      " 0   IsSpam  1000 non-null   int64 \n",
      " 1   Text    1000 non-null   object\n",
      "dtypes: int64(1), object(1)\n",
      "memory usage: 15.8+ KB\n"
     ]
    }
   ],
   "source": [
    "#finding out how many rows the dataset contains and confirm that there are no missing values.\n",
    "ham_spam_df.info()"
   ]
  },
  {
   "cell_type": "code",
   "execution_count": 5,
   "id": "f6bc501f",
   "metadata": {},
   "outputs": [
    {
     "data": {
      "text/html": [
       "<div>\n",
       "<style scoped>\n",
       "    .dataframe tbody tr th:only-of-type {\n",
       "        vertical-align: middle;\n",
       "    }\n",
       "\n",
       "    .dataframe tbody tr th {\n",
       "        vertical-align: top;\n",
       "    }\n",
       "\n",
       "    .dataframe thead tr th {\n",
       "        text-align: left;\n",
       "    }\n",
       "\n",
       "    .dataframe thead tr:last-of-type th {\n",
       "        text-align: right;\n",
       "    }\n",
       "</style>\n",
       "<table border=\"1\" class=\"dataframe\">\n",
       "  <thead>\n",
       "    <tr>\n",
       "      <th></th>\n",
       "      <th colspan=\"4\" halign=\"left\">Text</th>\n",
       "    </tr>\n",
       "    <tr>\n",
       "      <th></th>\n",
       "      <th>count</th>\n",
       "      <th>unique</th>\n",
       "      <th>top</th>\n",
       "      <th>freq</th>\n",
       "    </tr>\n",
       "    <tr>\n",
       "      <th>IsSpam</th>\n",
       "      <th></th>\n",
       "      <th></th>\n",
       "      <th></th>\n",
       "      <th></th>\n",
       "    </tr>\n",
       "  </thead>\n",
       "  <tbody>\n",
       "    <tr>\n",
       "      <th>0</th>\n",
       "      <td>499</td>\n",
       "      <td>499</td>\n",
       "      <td>key issues going forwarda year end reviews rep...</td>\n",
       "      <td>1</td>\n",
       "    </tr>\n",
       "    <tr>\n",
       "      <th>1</th>\n",
       "      <td>500</td>\n",
       "      <td>500</td>\n",
       "      <td>take the reinsbecomeyour employer substantial ...</td>\n",
       "      <td>1</td>\n",
       "    </tr>\n",
       "  </tbody>\n",
       "</table>\n",
       "</div>"
      ],
      "text/plain": [
       "        Text                                                               \n",
       "       count unique                                                top freq\n",
       "IsSpam                                                                     \n",
       "0        499    499  key issues going forwarda year end reviews rep...    1\n",
       "1        500    500  take the reinsbecomeyour employer substantial ...    1"
      ]
     },
     "execution_count": 5,
     "metadata": {},
     "output_type": "execute_result"
    }
   ],
   "source": [
    "#removing duplicate rows from the dataset and check for balance\n",
    "ham_spam_df = ham_spam_df.drop_duplicates()\n",
    "ham_spam_df.groupby('IsSpam').describe()"
   ]
  },
  {
   "cell_type": "code",
   "execution_count": 6,
   "id": "5cf788d7",
   "metadata": {},
   "outputs": [
    {
     "data": {
      "text/plain": [
       "999"
      ]
     },
     "execution_count": 6,
     "metadata": {},
     "output_type": "execute_result"
    }
   ],
   "source": [
    "len(ham_spam_df)"
   ]
  },
  {
   "cell_type": "code",
   "execution_count": 7,
   "id": "1e9f5633",
   "metadata": {},
   "outputs": [
    {
     "name": "stdout",
     "output_type": "stream",
     "text": [
      "[604, 144, 166, 5753, 123, 203, 1277, 141, 459, 1527, 55, 817, 123, 4422, 67, 504, 380, 167, 1890, 134, 121, 113, 31, 135, 397, 3, 1, 5754, 144, 855, 134, 121, 381, 1000, 144, 1891, 2221, 953, 2222]\n"
     ]
    }
   ],
   "source": [
    "#tokenizing the email text\n",
    "from tensorflow.keras.preprocessing.text import Tokenizer\n",
    "\n",
    "emails = ham_spam_df['Text'].values\n",
    "tokenizer = Tokenizer(num_words=100000)\n",
    "tokenizer.fit_on_texts(emails)\n",
    "sequences = tokenizer.texts_to_sequences(emails)\n",
    "\n",
    "print(sequences[0])\n"
   ]
  },
  {
   "cell_type": "code",
   "execution_count": 8,
   "id": "c10b29fd",
   "metadata": {},
   "outputs": [
    {
     "data": {
      "text/plain": [
       "999"
      ]
     },
     "execution_count": 8,
     "metadata": {},
     "output_type": "execute_result"
    }
   ],
   "source": [
    "len(sequences)"
   ]
  },
  {
   "cell_type": "code",
   "execution_count": 9,
   "id": "e5b09288",
   "metadata": {},
   "outputs": [
    {
     "data": {
      "text/html": [
       "<div>\n",
       "<style scoped>\n",
       "    .dataframe tbody tr th:only-of-type {\n",
       "        vertical-align: middle;\n",
       "    }\n",
       "\n",
       "    .dataframe tbody tr th {\n",
       "        vertical-align: top;\n",
       "    }\n",
       "\n",
       "    .dataframe thead th {\n",
       "        text-align: right;\n",
       "    }\n",
       "</style>\n",
       "<table border=\"1\" class=\"dataframe\">\n",
       "  <thead>\n",
       "    <tr style=\"text-align: right;\">\n",
       "      <th></th>\n",
       "      <th>Original_Text</th>\n",
       "      <th>Decoded_Text</th>\n",
       "    </tr>\n",
       "  </thead>\n",
       "  <tbody>\n",
       "    <tr>\n",
       "      <th>0</th>\n",
       "      <td>key issues going forwarda year end reviews rep...</td>\n",
       "      <td>key issues going forwarda year end reviews rep...</td>\n",
       "    </tr>\n",
       "    <tr>\n",
       "      <th>1</th>\n",
       "      <td>congrats contratulations the execution the cen...</td>\n",
       "      <td>congrats contratulations the execution the cen...</td>\n",
       "    </tr>\n",
       "    <tr>\n",
       "      <th>2</th>\n",
       "      <td>key issues going forwardall under control set...</td>\n",
       "      <td>key issues going forwardall under control set ...</td>\n",
       "    </tr>\n",
       "    <tr>\n",
       "      <th>3</th>\n",
       "      <td>epmi files protest entergy transcoattached our...</td>\n",
       "      <td>epmi files protest entergy transcoattached our...</td>\n",
       "    </tr>\n",
       "    <tr>\n",
       "      <th>4</th>\n",
       "      <td>california power please contact kristin walsh ...</td>\n",
       "      <td>california power please contact kristin walsh ...</td>\n",
       "    </tr>\n",
       "    <tr>\n",
       "      <th>5</th>\n",
       "      <td>california power the following information fro...</td>\n",
       "      <td>california power the following information fro...</td>\n",
       "    </tr>\n",
       "    <tr>\n",
       "      <th>6</th>\n",
       "      <td>urg gas securitization agreementsfyi srs forwa...</td>\n",
       "      <td>urg gas securitization agreementsfyi srs forwa...</td>\n",
       "    </tr>\n",
       "    <tr>\n",
       "      <th>7</th>\n",
       "      <td>brazil commercial update version delete previ...</td>\n",
       "      <td>brazil commercial update version delete previo...</td>\n",
       "    </tr>\n",
       "    <tr>\n",
       "      <th>8</th>\n",
       "      <td>brazil commercial update version delete previo...</td>\n",
       "      <td>brazil commercial update version delete previo...</td>\n",
       "    </tr>\n",
       "    <tr>\n",
       "      <th>9</th>\n",
       "      <td>traveli will out the office this afternoon fri...</td>\n",
       "      <td>traveli will out the office this afternoon fri...</td>\n",
       "    </tr>\n",
       "  </tbody>\n",
       "</table>\n",
       "</div>"
      ],
      "text/plain": [
       "                                       Original_Text  \\\n",
       "0  key issues going forwarda year end reviews rep...   \n",
       "1  congrats contratulations the execution the cen...   \n",
       "2   key issues going forwardall under control set...   \n",
       "3  epmi files protest entergy transcoattached our...   \n",
       "4  california power please contact kristin walsh ...   \n",
       "5  california power the following information fro...   \n",
       "6  urg gas securitization agreementsfyi srs forwa...   \n",
       "7   brazil commercial update version delete previ...   \n",
       "8  brazil commercial update version delete previo...   \n",
       "9  traveli will out the office this afternoon fri...   \n",
       "\n",
       "                                        Decoded_Text  \n",
       "0  key issues going forwarda year end reviews rep...  \n",
       "1  congrats contratulations the execution the cen...  \n",
       "2  key issues going forwardall under control set ...  \n",
       "3  epmi files protest entergy transcoattached our...  \n",
       "4  california power please contact kristin walsh ...  \n",
       "5  california power the following information fro...  \n",
       "6  urg gas securitization agreementsfyi srs forwa...  \n",
       "7  brazil commercial update version delete previo...  \n",
       "8  brazil commercial update version delete previo...  \n",
       "9  traveli will out the office this afternoon fri...  "
      ]
     },
     "execution_count": 9,
     "metadata": {},
     "output_type": "execute_result"
    }
   ],
   "source": [
    "#a dictionary that maps integer values to words\n",
    "reverse_word_map = dict(map(reversed, tokenizer.word_index.items()))\n",
    "\n",
    "def sequence_to_text(sequence):\n",
    "    \"\"\"Decode a sequence back to its original text.\"\"\"\n",
    "    return ' '.join([reverse_word_map.get(i, '?') for i in sequence])\n",
    "\n",
    "#decoding the sqeuence back to text\n",
    "decoded_texts = [sequence_to_text(seq) for seq in sequences]\n",
    "\n",
    "comparison_df = pd.DataFrame({\n",
    "    'Original_Text': ham_spam_df['Text'],\n",
    "    'Decoded_Text': decoded_texts\n",
    "})\n",
    "\n",
    "comparison_df.head(10)\n"
   ]
  },
  {
   "cell_type": "code",
   "execution_count": 10,
   "id": "9738ddfd",
   "metadata": {},
   "outputs": [],
   "source": [
    "'''Encoding the integer sequences via multi-hot encoding'''\n",
    "\n",
    "#dimensions should be equal to num_words of the tokenizer -> 100000\n",
    "def vectorize_sequences(sequences, dimension=100000):\n",
    "  #createing an all-zero matrix of shape (len(sequences), dimension)\n",
    "    results = np.zeros((len(sequences), dimension))\n",
    "    for i, sequence in enumerate(sequences):\n",
    "        for j in sequence:\n",
    "          #sets specific indices of results[i] to 1s\n",
    "            results[i, j] = 1.\n",
    "    return results"
   ]
  },
  {
   "cell_type": "code",
   "execution_count": 11,
   "id": "4d50be0a",
   "metadata": {},
   "outputs": [],
   "source": [
    "import random\n",
    "RANDOM_STATE = 15\n",
    "\n",
    "random.seed(15)\n",
    "np.random.seed(15)"
   ]
  },
  {
   "cell_type": "code",
   "execution_count": 12,
   "id": "32fa0cf8",
   "metadata": {},
   "outputs": [],
   "source": [
    "from sklearn.model_selection import train_test_split\n",
    "\n",
    "X = sequences\n",
    "y = ham_spam_df['IsSpam'].values\n",
    "\n",
    "X_temp, X_test, y_temp, y_test = train_test_split(X, y, test_size=0.2, shuffle=True, random_state=RANDOM_STATE)\n",
    "\n",
    "X_train, X_val, y_train, y_val = train_test_split(X_temp, y_temp, test_size=0.5, shuffle=True, random_state=RANDOM_STATE)\n",
    "\n",
    "X_train = vectorize_sequences(X_train)\n",
    "X_val = vectorize_sequences(X_val)\n",
    "X_test = vectorize_sequences(X_test)\n",
    "\n",
    "y_train = np.asarray(y_train).astype(\"float32\")\n",
    "y_val = np.asarray(y_val).astype(\"float32\")\n",
    "y_test = np.asarray(y_test).astype(\"float32\")\n",
    "\n"
   ]
  },
  {
   "cell_type": "code",
   "execution_count": 13,
   "id": "79e257b5",
   "metadata": {},
   "outputs": [],
   "source": [
    "model = keras.Sequential([\n",
    "    layers.Dense(50, activation=\"relu\"),\n",
    "    layers.Dense(50, activation=\"relu\"),\n",
    "    layers.Dense(1, activation=\"sigmoid\")\n",
    "])"
   ]
  },
  {
   "cell_type": "code",
   "execution_count": 14,
   "id": "ce25ee9e",
   "metadata": {},
   "outputs": [],
   "source": [
    "model.compile(optimizer=\"rmsprop\",\n",
    "              loss=\"binary_crossentropy\",\n",
    "              metrics=[\"accuracy\"])"
   ]
  },
  {
   "cell_type": "code",
   "execution_count": 15,
   "id": "b3bf873e",
   "metadata": {},
   "outputs": [
    {
     "name": "stdout",
     "output_type": "stream",
     "text": [
      "Epoch 1/20\n",
      "20/20 [==============================] - 1s 23ms/step - loss: 0.4387 - accuracy: 0.9048 - val_loss: 0.2500 - val_accuracy: 0.9625\n",
      "Epoch 2/20\n",
      "20/20 [==============================] - 0s 12ms/step - loss: 0.1117 - accuracy: 0.9925 - val_loss: 0.1493 - val_accuracy: 0.9700\n",
      "Epoch 3/20\n",
      "20/20 [==============================] - 0s 11ms/step - loss: 0.0445 - accuracy: 0.9950 - val_loss: 0.1149 - val_accuracy: 0.9675\n",
      "Epoch 4/20\n",
      "20/20 [==============================] - 0s 11ms/step - loss: 0.0209 - accuracy: 1.0000 - val_loss: 0.0990 - val_accuracy: 0.9700\n",
      "Epoch 5/20\n",
      "20/20 [==============================] - 0s 11ms/step - loss: 0.0106 - accuracy: 1.0000 - val_loss: 0.0932 - val_accuracy: 0.9650\n",
      "Epoch 6/20\n",
      "20/20 [==============================] - 0s 11ms/step - loss: 0.0053 - accuracy: 1.0000 - val_loss: 0.0924 - val_accuracy: 0.9625\n",
      "Epoch 7/20\n",
      "20/20 [==============================] - 0s 11ms/step - loss: 0.0028 - accuracy: 1.0000 - val_loss: 0.1025 - val_accuracy: 0.9600\n",
      "Epoch 8/20\n",
      "20/20 [==============================] - 0s 11ms/step - loss: 0.0014 - accuracy: 1.0000 - val_loss: 0.1062 - val_accuracy: 0.9575\n",
      "Epoch 9/20\n",
      "20/20 [==============================] - 0s 11ms/step - loss: 6.9926e-04 - accuracy: 1.0000 - val_loss: 0.1258 - val_accuracy: 0.9600\n",
      "Epoch 10/20\n",
      "20/20 [==============================] - 0s 11ms/step - loss: 3.5928e-04 - accuracy: 1.0000 - val_loss: 0.1192 - val_accuracy: 0.9575\n",
      "Epoch 11/20\n",
      "20/20 [==============================] - 0s 12ms/step - loss: 2.0027e-04 - accuracy: 1.0000 - val_loss: 0.1299 - val_accuracy: 0.9550\n",
      "Epoch 12/20\n",
      "20/20 [==============================] - 0s 11ms/step - loss: 1.0251e-04 - accuracy: 1.0000 - val_loss: 0.1404 - val_accuracy: 0.9525\n",
      "Epoch 13/20\n",
      "20/20 [==============================] - 0s 11ms/step - loss: 5.4298e-05 - accuracy: 1.0000 - val_loss: 0.1482 - val_accuracy: 0.9525\n",
      "Epoch 14/20\n",
      "20/20 [==============================] - 0s 12ms/step - loss: 2.9017e-05 - accuracy: 1.0000 - val_loss: 0.1609 - val_accuracy: 0.9525\n",
      "Epoch 15/20\n",
      "20/20 [==============================] - 0s 11ms/step - loss: 1.5862e-05 - accuracy: 1.0000 - val_loss: 0.1705 - val_accuracy: 0.9525\n",
      "Epoch 16/20\n",
      "20/20 [==============================] - 0s 11ms/step - loss: 8.7853e-06 - accuracy: 1.0000 - val_loss: 0.1798 - val_accuracy: 0.9525\n",
      "Epoch 17/20\n",
      "20/20 [==============================] - 0s 11ms/step - loss: 5.0814e-06 - accuracy: 1.0000 - val_loss: 0.1810 - val_accuracy: 0.9525\n",
      "Epoch 18/20\n",
      "20/20 [==============================] - 0s 11ms/step - loss: 2.9395e-06 - accuracy: 1.0000 - val_loss: 0.1997 - val_accuracy: 0.9500\n",
      "Epoch 19/20\n",
      "20/20 [==============================] - 0s 11ms/step - loss: 1.6544e-06 - accuracy: 1.0000 - val_loss: 0.2033 - val_accuracy: 0.9500\n",
      "Epoch 20/20\n",
      "20/20 [==============================] - 0s 12ms/step - loss: 9.9104e-07 - accuracy: 1.0000 - val_loss: 0.2157 - val_accuracy: 0.9500\n"
     ]
    }
   ],
   "source": [
    "history = model.fit(X_train,\n",
    "                    y_train,\n",
    "                    epochs=20,\n",
    "                    batch_size=20,\n",
    "                    validation_data=(X_val, y_val))"
   ]
  },
  {
   "cell_type": "code",
   "execution_count": null,
   "id": "9e82c799",
   "metadata": {},
   "outputs": [],
   "source": [
    "history_dict = history.history\n",
    "history_dict.keys()"
   ]
  },
  {
   "cell_type": "code",
   "execution_count": 16,
   "id": "91da757b",
   "metadata": {},
   "outputs": [
    {
     "data": {
      "image/png": "[encoded data removed]",
      "text/plain": [
       "<Figure size 640x480 with 1 Axes>"
      ]
     },
     "metadata": {},
     "output_type": "display_data"
    },
    {
     "data": {
      "image/png": "[encoded data removed]",
      "text/plain": [
       "<Figure size 640x480 with 1 Axes>"
      ]
     },
     "metadata": {},
     "output_type": "display_data"
    }
   ],
   "source": [
    "'''plotting the training and validation loss'''\n",
    "\n",
    "import matplotlib.pyplot as plt\n",
    "history_dict = history.history\n",
    "loss_values = history_dict[\"loss\"]\n",
    "val_loss_values = history_dict[\"val_loss\"]\n",
    "epochs = range(1, len(loss_values) + 1)\n",
    "\n",
    "#\"bo\" is for blue dot.\n",
    "plt.plot(epochs, loss_values, \"bo\", label=\"Training loss\")\n",
    "\n",
    "#\"b\" is for solid blue line.\n",
    "plt.plot(epochs, val_loss_values, \"b\", label=\"Validation loss\")\n",
    "plt.title(\"Training and validation loss\")\n",
    "plt.xlabel(\"Epochs\")\n",
    "plt.ylabel(\"Loss\")\n",
    "plt.legend()\n",
    "plt.show()\n",
    "\n",
    "\n",
    "''' Plotting the training and validation accuracy'''\n",
    "\n",
    "#Clears the figure\n",
    "plt.clf()\n",
    "acc = history_dict[\"accuracy\"]\n",
    "val_acc = history_dict[\"val_accuracy\"]\n",
    "plt.plot(epochs, acc, \"bo\", label=\"Training acc\")\n",
    "plt.plot(epochs, val_acc, \"b\", label=\"Validation acc\")\n",
    "plt.title(\"Training and validation accuracy\")\n",
    "plt.xlabel(\"Epochs\")\n",
    "plt.ylabel(\"Accuracy\")\n",
    "plt.legend()\n",
    "plt.show()"
   ]
  },
  {
   "cell_type": "code",
   "execution_count": 17,
   "id": "cbfb3408",
   "metadata": {},
   "outputs": [
    {
     "name": "stdout",
     "output_type": "stream",
     "text": [
      "Epoch 1/3\n",
      "20/20 [==============================] - 0s 8ms/step - loss: 0.4378 - accuracy: 0.8647\n",
      "Epoch 2/3\n",
      "20/20 [==============================] - 0s 8ms/step - loss: 0.1173 - accuracy: 0.9950\n",
      "Epoch 3/3\n",
      "20/20 [==============================] - 0s 8ms/step - loss: 0.0452 - accuracy: 0.9950\n",
      "7/7 [==============================] - 0s 2ms/step - loss: 0.1056 - accuracy: 0.9750\n"
     ]
    }
   ],
   "source": [
    "'''retraining a model from scratch'''\n",
    "\n",
    "model = keras.Sequential([\n",
    "    layers.Dense(50, activation=\"relu\"),\n",
    "    layers.Dense(50, activation=\"relu\"),\n",
    "    layers.Dense(1, activation=\"sigmoid\")\n",
    "])\n",
    "model.compile(optimizer=\"rmsprop\",\n",
    "              loss=\"binary_crossentropy\",\n",
    "              metrics=[\"accuracy\"])\n",
    "#limiting the epochs to 4\n",
    "model.fit(X_train, y_train, epochs=3, batch_size=20)\n",
    "results = model.evaluate(X_test, y_test)"
   ]
  },
  {
   "cell_type": "code",
   "execution_count": 18,
   "id": "56808676",
   "metadata": {},
   "outputs": [
    {
     "data": {
      "text/plain": [
       "[0.10563987493515015, 0.9750000238418579]"
      ]
     },
     "execution_count": 18,
     "metadata": {},
     "output_type": "execute_result"
    }
   ],
   "source": [
    "results"
   ]
  },
  {
   "cell_type": "code",
   "execution_count": 19,
   "id": "6950f2ae",
   "metadata": {},
   "outputs": [],
   "source": [
    "#the test accuracy of the model is approximately 97% accurate\n",
    "#the test loss is about 1%"
   ]
  },
  {
   "cell_type": "code",
   "execution_count": 20,
   "id": "e3e0ba41",
   "metadata": {},
   "outputs": [
    {
     "name": "stdout",
     "output_type": "stream",
     "text": [
      "7/7 [==============================] - 0s 2ms/step\n"
     ]
    }
   ],
   "source": [
    "predictions = model.predict(X_test)"
   ]
  },
  {
   "cell_type": "code",
   "execution_count": 21,
   "id": "17fd651d",
   "metadata": {},
   "outputs": [
    {
     "name": "stdout",
     "output_type": "stream",
     "text": [
      "Accuracy: 97.5%\n"
     ]
    }
   ],
   "source": [
    "#predicted_labels = np.where(predictions >= 0.5, 1, 0).flatten()\n",
    "\n",
    "#manually calculating test accuracy\n",
    "predicted_labels = np.where(predictions >= 0.5, 1, 0).reshape(-1)\n",
    "comparison_array = predicted_labels == y_test.astype(int)\n",
    "accuracy = np.mean(comparison_array)\n",
    "print(f\"Accuracy: {accuracy*100}%\")\n"
   ]
  },
  {
   "cell_type": "code",
   "execution_count": 22,
   "id": "cf250dff",
   "metadata": {},
   "outputs": [],
   "source": [
    "#downloaded a new dataset from kaggle -> https://www.kaggle.com/datasets/venky73/spam-mails-dataset/"
   ]
  },
  {
   "cell_type": "code",
   "execution_count": 23,
   "id": "34cb59ce",
   "metadata": {},
   "outputs": [
    {
     "data": {
      "text/html": [
       "<div>\n",
       "<style scoped>\n",
       "    .dataframe tbody tr th:only-of-type {\n",
       "        vertical-align: middle;\n",
       "    }\n",
       "\n",
       "    .dataframe tbody tr th {\n",
       "        vertical-align: top;\n",
       "    }\n",
       "\n",
       "    .dataframe thead th {\n",
       "        text-align: right;\n",
       "    }\n",
       "</style>\n",
       "<table border=\"1\" class=\"dataframe\">\n",
       "  <thead>\n",
       "    <tr style=\"text-align: right;\">\n",
       "      <th></th>\n",
       "      <th>Unnamed: 0</th>\n",
       "      <th>label</th>\n",
       "      <th>text</th>\n",
       "      <th>label_num</th>\n",
       "    </tr>\n",
       "  </thead>\n",
       "  <tbody>\n",
       "    <tr>\n",
       "      <th>0</th>\n",
       "      <td>605</td>\n",
       "      <td>ham</td>\n",
       "      <td>Subject: enron methanol ; meter # : 988291\\r\\n...</td>\n",
       "      <td>0</td>\n",
       "    </tr>\n",
       "    <tr>\n",
       "      <th>1</th>\n",
       "      <td>2349</td>\n",
       "      <td>ham</td>\n",
       "      <td>Subject: hpl nom for january 9 , 2001\\r\\n( see...</td>\n",
       "      <td>0</td>\n",
       "    </tr>\n",
       "    <tr>\n",
       "      <th>2</th>\n",
       "      <td>3624</td>\n",
       "      <td>ham</td>\n",
       "      <td>Subject: neon retreat\\r\\nho ho ho , we ' re ar...</td>\n",
       "      <td>0</td>\n",
       "    </tr>\n",
       "    <tr>\n",
       "      <th>3</th>\n",
       "      <td>4685</td>\n",
       "      <td>spam</td>\n",
       "      <td>Subject: photoshop , windows , office . cheap ...</td>\n",
       "      <td>1</td>\n",
       "    </tr>\n",
       "    <tr>\n",
       "      <th>4</th>\n",
       "      <td>2030</td>\n",
       "      <td>ham</td>\n",
       "      <td>Subject: re : indian springs\\r\\nthis deal is t...</td>\n",
       "      <td>0</td>\n",
       "    </tr>\n",
       "  </tbody>\n",
       "</table>\n",
       "</div>"
      ],
      "text/plain": [
       "   Unnamed: 0 label                                               text  \\\n",
       "0         605   ham  Subject: enron methanol ; meter # : 988291\\r\\n...   \n",
       "1        2349   ham  Subject: hpl nom for january 9 , 2001\\r\\n( see...   \n",
       "2        3624   ham  Subject: neon retreat\\r\\nho ho ho , we ' re ar...   \n",
       "3        4685  spam  Subject: photoshop , windows , office . cheap ...   \n",
       "4        2030   ham  Subject: re : indian springs\\r\\nthis deal is t...   \n",
       "\n",
       "   label_num  \n",
       "0          0  \n",
       "1          0  \n",
       "2          0  \n",
       "3          1  \n",
       "4          0  "
      ]
     },
     "execution_count": 23,
     "metadata": {},
     "output_type": "execute_result"
    }
   ],
   "source": [
    "#spam_ham_dataset.csv is from kaggle and I used it to test on totally unseen emails\n",
    "test_df = pd.read_csv(\"spam_ham_dataset.csv\")\n",
    "\n",
    "test_df.head()"
   ]
  },
  {
   "cell_type": "code",
   "execution_count": 29,
   "id": "21fb5a30",
   "metadata": {},
   "outputs": [
    {
     "data": {
      "text/html": [
       "<div>\n",
       "<style scoped>\n",
       "    .dataframe tbody tr th:only-of-type {\n",
       "        vertical-align: middle;\n",
       "    }\n",
       "\n",
       "    .dataframe tbody tr th {\n",
       "        vertical-align: top;\n",
       "    }\n",
       "\n",
       "    .dataframe thead tr th {\n",
       "        text-align: left;\n",
       "    }\n",
       "\n",
       "    .dataframe thead tr:last-of-type th {\n",
       "        text-align: right;\n",
       "    }\n",
       "</style>\n",
       "<table border=\"1\" class=\"dataframe\">\n",
       "  <thead>\n",
       "    <tr>\n",
       "      <th></th>\n",
       "      <th colspan=\"8\" halign=\"left\">Unnamed: 0</th>\n",
       "    </tr>\n",
       "    <tr>\n",
       "      <th></th>\n",
       "      <th>count</th>\n",
       "      <th>mean</th>\n",
       "      <th>std</th>\n",
       "      <th>min</th>\n",
       "      <th>25%</th>\n",
       "      <th>50%</th>\n",
       "      <th>75%</th>\n",
       "      <th>max</th>\n",
       "    </tr>\n",
       "    <tr>\n",
       "      <th>label_num</th>\n",
       "      <th></th>\n",
       "      <th></th>\n",
       "      <th></th>\n",
       "      <th></th>\n",
       "      <th></th>\n",
       "      <th></th>\n",
       "      <th></th>\n",
       "      <th></th>\n",
       "    </tr>\n",
       "  </thead>\n",
       "  <tbody>\n",
       "    <tr>\n",
       "      <th>0</th>\n",
       "      <td>3672.0</td>\n",
       "      <td>1835.5</td>\n",
       "      <td>1060.159422</td>\n",
       "      <td>0.0</td>\n",
       "      <td>917.75</td>\n",
       "      <td>1835.5</td>\n",
       "      <td>2753.25</td>\n",
       "      <td>3671.0</td>\n",
       "    </tr>\n",
       "    <tr>\n",
       "      <th>1</th>\n",
       "      <td>1499.0</td>\n",
       "      <td>4421.0</td>\n",
       "      <td>432.868340</td>\n",
       "      <td>3672.0</td>\n",
       "      <td>4046.50</td>\n",
       "      <td>4421.0</td>\n",
       "      <td>4795.50</td>\n",
       "      <td>5170.0</td>\n",
       "    </tr>\n",
       "  </tbody>\n",
       "</table>\n",
       "</div>"
      ],
      "text/plain": [
       "          Unnamed: 0                                                         \\\n",
       "               count    mean          std     min      25%     50%      75%   \n",
       "label_num                                                                     \n",
       "0             3672.0  1835.5  1060.159422     0.0   917.75  1835.5  2753.25   \n",
       "1             1499.0  4421.0   432.868340  3672.0  4046.50  4421.0  4795.50   \n",
       "\n",
       "                   \n",
       "              max  \n",
       "label_num          \n",
       "0          3671.0  \n",
       "1          5170.0  "
      ]
     },
     "execution_count": 29,
     "metadata": {},
     "output_type": "execute_result"
    }
   ],
   "source": [
    "test_df = test_df.drop_duplicates()\n",
    "test_df.groupby('label_num').describe()"
   ]
  },
  {
   "cell_type": "code",
   "execution_count": 30,
   "id": "b2beb7c7",
   "metadata": {},
   "outputs": [
    {
     "data": {
      "text/plain": [
       "5171"
      ]
     },
     "execution_count": 30,
     "metadata": {},
     "output_type": "execute_result"
    }
   ],
   "source": [
    "len(test_df)"
   ]
  },
  {
   "cell_type": "code",
   "execution_count": 31,
   "id": "ec47ab1d",
   "metadata": {},
   "outputs": [],
   "source": [
    "test_sequences = tokenizer.texts_to_sequences(test_df['text'])\n",
    "\n",
    "X_new_test = vectorize_sequences(test_sequences)\n",
    "\n",
    "y_new_test = test_df['label_num'].values.astype(\"float32\")\n"
   ]
  },
  {
   "cell_type": "code",
   "execution_count": 32,
   "id": "7c4bed5b",
   "metadata": {},
   "outputs": [
    {
     "name": "stdout",
     "output_type": "stream",
     "text": [
      "162/162 [==============================] - 0s 2ms/step\n"
     ]
    }
   ],
   "source": [
    "predicted_probabilities = model.predict(X_new_test)"
   ]
  },
  {
   "cell_type": "code",
   "execution_count": 33,
   "id": "40a78424",
   "metadata": {},
   "outputs": [
    {
     "name": "stdout",
     "output_type": "stream",
     "text": [
      "Accuracy on the new test set: 93.03809707986849%\n"
     ]
    }
   ],
   "source": [
    "#calculating accuracy\n",
    "predicted_labels = np.where(predicted_probabilities >= 0.5, 1, 0).flatten()\n",
    "\n",
    "correct_predictions = np.sum(predicted_labels == y_new_test)\n",
    "accuracy = (correct_predictions / len(y_new_test)) * 100\n",
    "\n",
    "print(f\"Accuracy on the new test set: {accuracy}%\")"
   ]
  },
  {
   "cell_type": "code",
   "execution_count": 28,
   "id": "bb4d4c66",
   "metadata": {},
   "outputs": [],
   "source": [
    "#the test accuracy is approximately 93% for totally unseen data which is great! "
   ]
  }
 ],
 "metadata": {
  "kernelspec": {
   "display_name": "Python 3 (ipykernel)",
   "language": "python",
   "name": "python3"
  },
  "language_info": {
   "codemirror_mode": {
    "name": "ipython",
    "version": 3
   },
   "file_extension": ".py",
   "mimetype": "text/x-python",
   "name": "python",
   "nbconvert_exporter": "python",
   "pygments_lexer": "ipython3",
   "version": "3.9.13"
  }
 },
 "nbformat": 4,
 "nbformat_minor": 5
}
