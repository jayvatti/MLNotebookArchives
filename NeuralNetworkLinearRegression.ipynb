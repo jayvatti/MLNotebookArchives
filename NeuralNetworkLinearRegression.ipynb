{
 "cells": [
  {
   "cell_type": "code",
   "execution_count": 15,
   "id": "0ce84684",
   "metadata": {
    "ExecuteTime": {
     "end_time": "2023-07-25T02:12:13.859682Z",
     "start_time": "2023-07-25T02:12:13.854974Z"
    }
   },
   "outputs": [],
   "source": [
    "import numpy as np\n",
    "import pandas as pd "
   ]
  },
  {
   "cell_type": "code",
   "execution_count": 16,
   "id": "94eb72a4",
   "metadata": {
    "ExecuteTime": {
     "end_time": "2023-07-25T02:12:20.782661Z",
     "start_time": "2023-07-25T02:12:20.777775Z"
    }
   },
   "outputs": [],
   "source": [
    "data = np.loadtxt('data/linearRegressionSimple.csv', delimiter=',')"
   ]
  },
  {
   "cell_type": "code",
   "execution_count": 17,
   "id": "bc29eae5",
   "metadata": {
    "ExecuteTime": {
     "end_time": "2023-07-25T02:12:21.933947Z",
     "start_time": "2023-07-25T02:12:21.918995Z"
    }
   },
   "outputs": [
    {
     "data": {
      "text/plain": [
       "(8, 2)"
      ]
     },
     "execution_count": 17,
     "metadata": {},
     "output_type": "execute_result"
    }
   ],
   "source": [
    "data.shape"
   ]
  },
  {
   "cell_type": "code",
   "execution_count": 18,
   "id": "f7b61379",
   "metadata": {
    "ExecuteTime": {
     "end_time": "2023-07-25T02:12:22.859781Z",
     "start_time": "2023-07-25T02:12:22.855359Z"
    }
   },
   "outputs": [],
   "source": [
    "x = data[:,0] #1st Column\n",
    "y = data[:,1] #2nd Column"
   ]
  },
  {
   "cell_type": "code",
   "execution_count": 19,
   "id": "5c878813",
   "metadata": {
    "ExecuteTime": {
     "end_time": "2023-07-25T02:12:23.616467Z",
     "start_time": "2023-07-25T02:12:23.612891Z"
    }
   },
   "outputs": [
    {
     "name": "stdout",
     "output_type": "stream",
     "text": [
      "[1. 2. 3. 4. 5. 6. 7. 9.]\n",
      "[ 300.  500.  700.  900. 1100. 1300. 1500. 1700.]\n"
     ]
    }
   ],
   "source": [
    "print(x,y,sep=\"\\n\")"
   ]
  },
  {
   "cell_type": "code",
   "execution_count": 20,
   "id": "8bbe2619",
   "metadata": {
    "ExecuteTime": {
     "end_time": "2023-07-25T02:12:24.306012Z",
     "start_time": "2023-07-25T02:12:24.050978Z"
    }
   },
   "outputs": [],
   "source": [
    "import matplotlib.pyplot as plt"
   ]
  },
  {
   "cell_type": "code",
   "execution_count": 21,
   "id": "b91c7ed2",
   "metadata": {
    "ExecuteTime": {
     "end_time": "2023-07-25T02:12:24.517Z",
     "start_time": "2023-07-25T02:12:24.434675Z"
    }
   },
   "outputs": [
    {
     "data": {
      "image/png": "[encoded data removed]",
      "text/plain": [
       "<Figure size 640x480 with 1 Axes>"
      ]
     },
     "metadata": {},
     "output_type": "display_data"
    }
   ],
   "source": [
    "#graphing\n",
    "fig, ax = plt.subplots(1,1)\n",
    "ax.scatter(x, y, marker='*', c='b', label=\"Linear Data\")\n",
    "ax.legend( fontsize='large')\n",
    "ax.set_ylabel('Price')\n",
    "ax.set_xlabel('Size')\n",
    "plt.show()"
   ]
  },
  {
   "cell_type": "code",
   "execution_count": 22,
   "id": "65c60ac2",
   "metadata": {
    "ExecuteTime": {
     "end_time": "2023-07-25T02:12:26.105749Z",
     "start_time": "2023-07-25T02:12:26.086686Z"
    }
   },
   "outputs": [],
   "source": [
    "#if you are using tensorflow-metal, uninstall tensorflow and tensorflow-metal and reinstall tensorflow\n",
    "\n",
    "import tensorflow as tf"
   ]
  },
  {
   "cell_type": "code",
   "execution_count": 23,
   "id": "71a67221",
   "metadata": {},
   "outputs": [],
   "source": [
    "from tensorflow.keras.layers import Dense, Input\n",
    "from tensorflow.keras import Sequential\n",
    "from tensorflow.keras.losses import MeanSquaredError, BinaryCrossentropy\n",
    "from tensorflow.keras.activations import sigmoid"
   ]
  },
  {
   "cell_type": "code",
   "execution_count": 24,
   "id": "880499de",
   "metadata": {},
   "outputs": [
    {
     "name": "stdout",
     "output_type": "stream",
     "text": [
      "[]\n",
      "<keras.src.layers.core.dense.Dense object at 0x1266fe5e0>\n"
     ]
    }
   ],
   "source": [
    "#1 neuron with no activation\n",
    "# Linear activation: Outputs a linear combination of inputs\n",
    "linear_layer = Dense(units=1, activation = 'linear', )\n",
    "\n",
    "print(linear_layer.get_weights()) #the weights are not available yet as they have not been initialized.\n",
    "\n",
    "print(linear_layer)"
   ]
  },
  {
   "cell_type": "code",
   "execution_count": 25,
   "id": "c63797c8",
   "metadata": {},
   "outputs": [
    {
     "name": "stdout",
     "output_type": "stream",
     "text": [
      "tf.Tensor([[-1.2690184]], shape=(1, 1), dtype=float32)\n",
      "\n",
      "Weights and Bias after initialization:\n",
      "w = [[-1.2690184]], b = [0.]\n",
      "\n",
      "Weights: [array([[200.]], dtype=float32), array([100.], dtype=float32)]\n"
     ]
    }
   ],
   "source": [
    "#forward passing \n",
    "a1 = linear_layer(x[0].reshape(1, 1))\n",
    "print(a1)\n",
    "\n",
    "# The weights are randomly initialized to small numbers, and the bias is set to zero.\n",
    "w, b = linear_layer.get_weights()\n",
    "print(\"\\nWeights and Bias after initialization:\")\n",
    "print(f\"w = {w}, b = {b}\\n\")\n",
    "\n",
    "set_weight = np.array([[200]])\n",
    "set_bias = np.array([100])\n",
    "\n",
    "# Set custom weights and bias using the set_weights() method\n",
    "linear_layer.set_weights([set_weight, set_bias])\n",
    "print(\"Weights:\",linear_layer.get_weights())"
   ]
  },
  {
   "cell_type": "code",
   "execution_count": 26,
   "id": "57a94d17",
   "metadata": {},
   "outputs": [
    {
     "name": "stdout",
     "output_type": "stream",
     "text": [
      "Output after custom weights and bias:\n",
      "Linear Layer: tf.Tensor([[300.]], shape=(1, 1), dtype=float32) \n",
      "\n",
      "Expected Output using numpy calculation:\n",
      "numpy: [[300.]]\n"
     ]
    }
   ],
   "source": [
    "a1 = linear_layer(x[0].reshape(1,1))\n",
    "print(\"Output after custom weights and bias:\")\n",
    "print(\"Linear Layer:\", a1,\"\\n\")\n",
    "\n",
    "alin = set_weight @ x[0].reshape(1,1) + set_bias\n",
    "print(\"Expected Output using numpy calculation:\")\n",
    "print(\"numpy:\", alin)\n"
   ]
  },
  {
   "cell_type": "code",
   "execution_count": 27,
   "id": "fa46fed2",
   "metadata": {},
   "outputs": [
    {
     "data": {
      "image/png": "[encoded data removed]",
      "text/plain": [
       "<Figure size 640x480 with 1 Axes>"
      ]
     },
     "metadata": {},
     "output_type": "display_data"
    }
   ],
   "source": [
    "# Scatter plot of the data points\n",
    "plt.scatter(x, y, marker='*', c='b', label=\"Linear Data\")\n",
    "plt.ylabel('Price')\n",
    "plt.xlabel('Size')\n",
    "\n",
    "# Getting the weights and bias from the linear_layer\n",
    "weights, bias = linear_layer.get_weights()\n",
    "\n",
    "# Plotting the linear regression line\n",
    "x_line = np.linspace(min(x), max(x), 100)\n",
    "y_line = weights[0] * x_line + bias\n",
    "plt.plot(x_line, y_line, color='r', label=\"Linear Regression Line\")\n",
    "\n",
    "plt.legend(fontsize='large')\n",
    "plt.show()\n"
   ]
  },
  {
   "cell_type": "code",
   "execution_count": null,
   "id": "b6452dda",
   "metadata": {},
   "outputs": [],
   "source": []
  },
  {
   "cell_type": "code",
   "execution_count": null,
   "id": "3eae174b",
   "metadata": {},
   "outputs": [],
   "source": []
  }
 ],
 "metadata": {
  "kernelspec": {
   "display_name": "Python 3 (ipykernel)",
   "language": "python",
   "name": "python3"
  },
  "language_info": {
   "codemirror_mode": {
    "name": "ipython",
    "version": 3
   },
   "file_extension": ".py",
   "mimetype": "text/x-python",
   "name": "python",
   "nbconvert_exporter": "python",
   "pygments_lexer": "ipython3",
   "version": "3.9.13"
  }
 },
 "nbformat": 4,
 "nbformat_minor": 5
}
