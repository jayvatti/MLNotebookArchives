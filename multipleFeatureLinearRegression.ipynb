{
 "cells": [
  {
   "cell_type": "code",
   "execution_count": 1,
   "id": "7841538a",
   "metadata": {},
   "outputs": [],
   "source": [
    "import numpy as np\n",
    "import pandas as pd"
   ]
  },
  {
   "cell_type": "code",
   "execution_count": 2,
   "id": "1a5125b8",
   "metadata": {},
   "outputs": [],
   "source": [
    "df = pd.read_csv('../data/multipleFeatures.csv')"
   ]
  },
  {
   "cell_type": "code",
   "execution_count": 3,
   "id": "371a40f1",
   "metadata": {},
   "outputs": [
    {
     "data": {
      "text/html": [
       "<div>\n",
       "<style scoped>\n",
       "    .dataframe tbody tr th:only-of-type {\n",
       "        vertical-align: middle;\n",
       "    }\n",
       "\n",
       "    .dataframe tbody tr th {\n",
       "        vertical-align: top;\n",
       "    }\n",
       "\n",
       "    .dataframe thead th {\n",
       "        text-align: right;\n",
       "    }\n",
       "</style>\n",
       "<table border=\"1\" class=\"dataframe\">\n",
       "  <thead>\n",
       "    <tr style=\"text-align: right;\">\n",
       "      <th></th>\n",
       "      <th>area</th>\n",
       "      <th>bedrooms</th>\n",
       "      <th>bathrooms</th>\n",
       "      <th>age</th>\n",
       "      <th>price</th>\n",
       "    </tr>\n",
       "  </thead>\n",
       "  <tbody>\n",
       "    <tr>\n",
       "      <th>0</th>\n",
       "      <td>2100</td>\n",
       "      <td>3</td>\n",
       "      <td>2</td>\n",
       "      <td>5</td>\n",
       "      <td>320000</td>\n",
       "    </tr>\n",
       "    <tr>\n",
       "      <th>1</th>\n",
       "      <td>1800</td>\n",
       "      <td>2</td>\n",
       "      <td>1</td>\n",
       "      <td>10</td>\n",
       "      <td>250000</td>\n",
       "    </tr>\n",
       "    <tr>\n",
       "      <th>2</th>\n",
       "      <td>2400</td>\n",
       "      <td>4</td>\n",
       "      <td>3</td>\n",
       "      <td>8</td>\n",
       "      <td>450000</td>\n",
       "    </tr>\n",
       "    <tr>\n",
       "      <th>3</th>\n",
       "      <td>1900</td>\n",
       "      <td>3</td>\n",
       "      <td>2</td>\n",
       "      <td>6</td>\n",
       "      <td>300000</td>\n",
       "    </tr>\n",
       "    <tr>\n",
       "      <th>4</th>\n",
       "      <td>3000</td>\n",
       "      <td>4</td>\n",
       "      <td>3</td>\n",
       "      <td>2</td>\n",
       "      <td>500000</td>\n",
       "    </tr>\n",
       "    <tr>\n",
       "      <th>5</th>\n",
       "      <td>2200</td>\n",
       "      <td>3</td>\n",
       "      <td>2</td>\n",
       "      <td>4</td>\n",
       "      <td>350000</td>\n",
       "    </tr>\n",
       "  </tbody>\n",
       "</table>\n",
       "</div>"
      ],
      "text/plain": [
       "   area  bedrooms  bathrooms  age   price\n",
       "0  2100         3          2    5  320000\n",
       "1  1800         2          1   10  250000\n",
       "2  2400         4          3    8  450000\n",
       "3  1900         3          2    6  300000\n",
       "4  3000         4          3    2  500000\n",
       "5  2200         3          2    4  350000"
      ]
     },
     "execution_count": 3,
     "metadata": {},
     "output_type": "execute_result"
    }
   ],
   "source": [
    "df"
   ]
  },
  {
   "cell_type": "code",
   "execution_count": 4,
   "id": "74bab28e",
   "metadata": {},
   "outputs": [
    {
     "data": {
      "text/plain": [
       "(5,)"
      ]
     },
     "execution_count": 4,
     "metadata": {},
     "output_type": "execute_result"
    }
   ],
   "source": [
    "df.shape\n",
    "i = df.iloc[0]\n",
    "i.shape"
   ]
  },
  {
   "cell_type": "code",
   "execution_count": 5,
   "id": "422236c9",
   "metadata": {},
   "outputs": [],
   "source": [
    "#x: Features: area, bedrooms, bathrooms, age\n",
    "#y: Target : Price\n",
    "x = []\n",
    "y = []\n",
    "for i in range(df.shape[0]):\n",
    "    temp = df.iloc[i]\n",
    "    x.append(temp[0:-1])\n",
    "    y.append(temp[-1])\n",
    "\n"
   ]
  },
  {
   "cell_type": "code",
   "execution_count": 6,
   "id": "4859cb55",
   "metadata": {},
   "outputs": [
    {
     "data": {
      "text/plain": [
       "array([[2100,    3,    2,    5],\n",
       "       [1800,    2,    1,   10],\n",
       "       [2400,    4,    3,    8],\n",
       "       [1900,    3,    2,    6],\n",
       "       [3000,    4,    3,    2],\n",
       "       [2200,    3,    2,    4]])"
      ]
     },
     "execution_count": 6,
     "metadata": {},
     "output_type": "execute_result"
    }
   ],
   "source": [
    "x_values = np.array(x)\n",
    "\n",
    "x_values"
   ]
  },
  {
   "cell_type": "code",
   "execution_count": 7,
   "id": "eb85de2f",
   "metadata": {},
   "outputs": [
    {
     "data": {
      "text/plain": [
       "array([320000, 250000, 450000, 300000, 500000, 350000])"
      ]
     },
     "execution_count": 7,
     "metadata": {},
     "output_type": "execute_result"
    }
   ],
   "source": [
    "y_values = np.array(y)\n",
    "\n",
    "y_values"
   ]
  },
  {
   "cell_type": "code",
   "execution_count": 8,
   "id": "c9770ae8",
   "metadata": {},
   "outputs": [],
   "source": [
    " def calculate_cost(x_values, y_values, w_values, b): \n",
    "    \n",
    "    m = x_values.shape[0]\n",
    "    cost = 0\n",
    "    for i in range(m):                                \n",
    "        f_wb_i = np.dot(x_values[i], w_values) + b           \n",
    "        cost = cost + (f_wb_i - y_values[i])**2       \n",
    "    return cost / (2 * m)      "
   ]
  },
  {
   "cell_type": "markdown",
   "id": "5d9e9681",
   "metadata": {},
   "source": [
    "Gradient descent - multiple features:\n",
    "\n",
    "$$\\begin{align*} \\text{repeat}&\\text{ until convergence:} \\; \\lbrace \\newline\\;\n",
    "& w_j = w_j -  \\alpha \\frac{\\partial J(\\mathbf{w},b)}{\\partial w_j} \\tag{5}  \\; & \\text{for j = 0..n-1}\\newline\n",
    "&b\\ \\ = b -  \\alpha \\frac{\\partial J(\\mathbf{w},b)}{\\partial b}  \\newline \\rbrace\n",
    "\\end{align*}$$\n",
    "\n",
    "n: features \n",
    "\n",
    "-*simulatenous update*\n",
    "$$\n",
    "\\begin{align}\n",
    "\\frac{\\partial J(\\mathbf{w},b)}{\\partial w_j}  &= \\frac{1}{m} \\sum\\limits_{i = 0}^{m-1} (f_{\\mathbf{w},b}(\\mathbf{x}^{(i)}) - y^{(i)})x_{j}^{(i)} \\tag{6}  \\\\\n",
    "\\frac{\\partial J(\\mathbf{w},b)}{\\partial b}  &= \\frac{1}{m} \\sum\\limits_{i = 0}^{m-1} (f_{\\mathbf{w},b}(\\mathbf{x}^{(i)}) - y^{(i)}) \\tag{7}\n",
    "\\end{align}\n",
    "$$\n",
    "* m : training examples\n",
    "    \n",
    "*  $f_{\\mathbf{w},b}(\\mathbf{x}^{(i)})$: prediction, $y^{(i)}$: target\n"
   ]
  },
  {
   "cell_type": "code",
   "execution_count": 9,
   "id": "f01c07ab",
   "metadata": {},
   "outputs": [],
   "source": [
    "def calculate_gradient_descent(x_values, y_values, w_values, b): \n",
    "    m,n = x_values.shape     \n",
    "    #m : examples ; n: features \n",
    "    derivatives_w = np.zeros((n,))\n",
    "    derivative_b = 0\n",
    "\n",
    "    for i in range(m):                             \n",
    "        error = (np.dot(x_values[i], w_values) + b) - y_values[i]   \n",
    "        for j in range(n):                         \n",
    "            derivatives_w[j] = derivatives_w[j] + error * x_values[i, j]    \n",
    "        derivative_b = derivative_b + error                        \n",
    "                               \n",
    "        \n",
    "    return derivative_b/m, derivatives_w/m"
   ]
  },
  {
   "cell_type": "code",
   "execution_count": 10,
   "id": "edd2797c",
   "metadata": {},
   "outputs": [],
   "source": [
    "import copy\n",
    "\n",
    "def gradient_descent(x_values, y_values, w_initial_values, b_initial, cost_function, gradient_function, alpha, iterations): \n",
    "    \n",
    "\n",
    "    cost_cache = []\n",
    "    w_values = copy.deepcopy(w_initial_values)  \n",
    "    b = b_initial\n",
    "    for i in range(iterations):\n",
    "\n",
    "        derivative_b,derivatives_w = gradient_function(x_values, y_values, w_values, b)   \n",
    "\n",
    "        w_values = w_values - alpha * derivatives_w              \n",
    "        b = b - alpha * derivative_b\n",
    "        \n",
    "        if i<100000:\n",
    "            cost_cache.append(cost_function(x_values, y_values, w_values, b))\n",
    "            \n",
    "    return w_values, b, cost_cache "
   ]
  },
  {
   "cell_type": "code",
   "execution_count": 11,
   "id": "04db3611",
   "metadata": {},
   "outputs": [],
   "source": [
    "w_initial_values = np.zeros(x_values.shape[1])\n",
    "b_initial = 0\n",
    "\n",
    "iterations = 500000\n",
    "learning_rate = 3.0e-5"
   ]
  },
  {
   "cell_type": "code",
   "execution_count": 12,
   "id": "82a904c9",
   "metadata": {},
   "outputs": [],
   "source": [
    "x_normalized = (x - np.mean(x, axis=0)) / np.std(x, axis=0)\n",
    "\n",
    "y_normalized = (y - np.mean(y)) / np.std(y)\n",
    "\n",
    "w_final_values, b_final, cost_cache = gradient_descent(x_normalized, y_normalized, w_initial_values,b_initial ,\n",
    "                                                    calculate_cost, calculate_gradient_descent, \n",
    "                                                    learning_rate, iterations)"
   ]
  },
  {
   "cell_type": "code",
   "execution_count": 13,
   "id": "158d420f",
   "metadata": {},
   "outputs": [
    {
     "data": {
      "image/png": "[encoded data removed]",
      "text/plain": [
       "<Figure size 640x480 with 1 Axes>"
      ]
     },
     "metadata": {},
     "output_type": "display_data"
    }
   ],
   "source": [
    "import matplotlib.pyplot as plt\n",
    "plt.figure()\n",
    "plt.plot(cost_cache)\n",
    "plt.xlabel('Iteration')\n",
    "plt.ylabel('Cost')\n",
    "plt.title('Cost vs. Iteration')\n",
    "plt.show()"
   ]
  },
  {
   "cell_type": "code",
   "execution_count": 14,
   "id": "7406af80",
   "metadata": {},
   "outputs": [
    {
     "name": "stdout",
     "output_type": "stream",
     "text": [
      "[438515.69643401 237921.36543737]\n"
     ]
    }
   ],
   "source": [
    "from sklearn.linear_model import LinearRegression\n",
    "model = LinearRegression()\n",
    "model.fit(x_values, y_values)\n",
    "\n",
    "new_data = pd.DataFrame({'area': [3000, 2000], 'bedrooms': [3, 2], 'bathrooms': [2, 1], 'age': [1, 2]})\n",
    "new_data_values = new_data.values\n",
    "predictions = model.predict(new_data_values)\n",
    "\n",
    "print(predictions)\n"
   ]
  },
  {
   "cell_type": "code",
   "execution_count": 15,
   "id": "5ce2cf9e",
   "metadata": {},
   "outputs": [
    {
     "data": {
      "text/plain": [
       "array([433937.14711791, 237831.75441513])"
      ]
     },
     "execution_count": 15,
     "metadata": {},
     "output_type": "execute_result"
    }
   ],
   "source": [
    "#let us compare with our custom model \n",
    "\n",
    "x_mean = np.mean(x, axis=0)\n",
    "x_std = np.std(x, axis=0)\n",
    "y_mean = np.mean(y)\n",
    "y_std = np.std(y)\n",
    "\n",
    "new_data_normalized = (new_data_values - x_mean) / x_std\n",
    "\n",
    "prediction_normalized = np.dot(new_data_normalized, w_final_values) + b_final\n",
    "\n",
    "predictions_custom = prediction_normalized * y_std + y_mean\n",
    "\n",
    "predictions_custom\n"
   ]
  },
  {
   "cell_type": "code",
   "execution_count": 16,
   "id": "fbff08a7",
   "metadata": {},
   "outputs": [],
   "source": [
    "# Assuming that x_train, y_train and z_train are your data\n",
    "#2 features; 1 target \n",
    "\n",
    "x_train = np.array(df[\"area\"])\n",
    "y_train = np.array(df[\"age\"])\n",
    "z_train = np.array(df[\"price\"])\n",
    "x = x_train.reshape(-1, 1)\n",
    "y = y_train.reshape(-1, 1)\n",
    "z = z_train.reshape(-1, 1)\n",
    "\n",
    "# For multiple variables, we need to concatenate them first\n",
    "xy = np.concatenate((x, y), axis=1)\n",
    "# Fit the Linear Regression\n",
    "regressor = LinearRegression()\n",
    "regressor.fit(xy, z)\n",
    "\n",
    "# Generate the prediction\n",
    "z_pred = regressor.predict(xy)"
   ]
  },
  {
   "cell_type": "code",
   "execution_count": 19,
   "id": "5c8dc475",
   "metadata": {},
   "outputs": [
    {
     "name": "stdout",
     "output_type": "stream",
     "text": [
      "[[327881.74337092]\n",
      " [250484.60835111]\n",
      " [447071.01493447]\n",
      " [303876.8668089 ]\n",
      " [503413.59341664]\n",
      " [337272.17311795]] \n",
      "\n",
      "[327881.74337092 250484.60835111 447071.01493447 303876.8668089\n",
      " 503413.59341664 337272.17311795]\n"
     ]
    }
   ],
   "source": [
    "# Assuming that x_train, y_train and z_train, and w_train are your data\n",
    "#4 features; 1 target \n",
    "\n",
    "x_train = np.array(df[\"area\"])\n",
    "y_train = np.array(df[\"bedrooms\"])\n",
    "z_train = np.array(df[\"bathrooms\"])\n",
    "w_train = np.array(df[\"age\"])\n",
    "k_train = np.array(df[\"price\"])\n",
    "\n",
    "x = x_train.reshape(-1, 1)\n",
    "y = y_train.reshape(-1, 1)\n",
    "z = z_train.reshape(-1, 1)\n",
    "w = w_train.reshape(-1, 1)\n",
    "k = k_train.reshape(-1, 1)\n",
    "\n",
    "\n",
    "# For multiple variables, we need to concatenate them first\n",
    "xyzw = np.concatenate((x, y, z, w), axis=1)\n",
    "\n",
    "# Fit the Linear Regression\n",
    "regressor = LinearRegression()\n",
    "regressor.fit(xyzw, k)\n",
    "\n",
    "# Generate the prediction\n",
    "k_pred = regressor.predict(xyzw)\n",
    "\n",
    "print(k_pred,\"\\n\")\n",
    "\n",
    "print(model.predict(x_values))"
   ]
  },
  {
   "cell_type": "code",
   "execution_count": 23,
   "id": "027eb4ba",
   "metadata": {},
   "outputs": [
    {
     "name": "stdout",
     "output_type": "stream",
     "text": [
      "[[327881.74337092]\n",
      " [250484.60835111]\n",
      " [447071.01493447]\n",
      " [303876.8668089 ]\n",
      " [503413.59341664]\n",
      " [337272.17311795]]\n"
     ]
    },
    {
     "data": {
      "image/png": "[encoded data removed]",
      "text/plain": [
       "<Figure size 1000x1000 with 4 Axes>"
      ]
     },
     "metadata": {},
     "output_type": "display_data"
    }
   ],
   "source": [
    "# creating subplots\n",
    "fig, axs = plt.subplots(2, 2, figsize=(10, 10))\n",
    "#plotting for area feature\n",
    "axs[0, 0].scatter(x_train, k_train, color='blue', label='Original data')\n",
    "axs[0, 0].scatter(x_train, k_pred, color='red', label='Predicted data')\n",
    "axs[0, 0].set_xlabel('Area')\n",
    "axs[0, 0].set_ylabel('Price')\n",
    "axs[0, 0].legend()\n",
    "\n",
    "#plotting for bedrooms feature\n",
    "axs[0, 1].scatter(y_train, k_train, color='blue', label='Original data')\n",
    "axs[0, 1].scatter(y_train, k_pred, color='red', label='Predicted data')\n",
    "axs[0, 1].set_xlabel('Bedrooms')\n",
    "axs[0, 1].set_ylabel('Price')\n",
    "axs[0, 1].legend()\n",
    "\n",
    "#plotting for bathrooms feature\n",
    "axs[1, 0].scatter(z_train, k_train, color='blue', label='Original data')\n",
    "axs[1, 0].scatter(z_train, k_pred, color='red', label='Predicted data')\n",
    "axs[1, 0].set_xlabel('Bathrooms')\n",
    "axs[1, 0].set_ylabel('Price')\n",
    "axs[1, 0].legend()\n",
    "\n",
    "#plotting for age feature\n",
    "axs[1, 1].scatter(w_train, k_train, color='blue', label='Original data')\n",
    "axs[1, 1].scatter(w_train, k_pred, color='red', label='Predicted data')\n",
    "axs[1, 1].set_xlabel('Age')\n",
    "axs[1, 1].set_ylabel('Price')\n",
    "axs[1, 1].legend()\n",
    "\n",
    "# displaying the figure with subplots\n",
    "plt.tight_layout()\n",
    "plt.show()\n",
    "\n"
   ]
  },
  {
   "cell_type": "code",
   "execution_count": null,
   "id": "72e63697",
   "metadata": {},
   "outputs": [],
   "source": []
  }
 ],
 "metadata": {
  "kernelspec": {
   "display_name": "Python 3 (ipykernel)",
   "language": "python",
   "name": "python3"
  },
  "language_info": {
   "codemirror_mode": {
    "name": "ipython",
    "version": 3
   },
   "file_extension": ".py",
   "mimetype": "text/x-python",
   "name": "python",
   "nbconvert_exporter": "python",
   "pygments_lexer": "ipython3",
   "version": "3.9.13"
  }
 },
 "nbformat": 4,
 "nbformat_minor": 5
}
