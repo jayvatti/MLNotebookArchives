{
 "cells": [
  {
   "cell_type": "markdown",
   "id": "c1da4238",
   "metadata": {},
   "source": [
    "Classification and regression involve many specialized terms that you should get familiar with. Amongst them are:\n",
    "\n",
    "* **Sample**: Input that goes into your model\n",
    "* **Target**: What comes out of the model\n",
    "* **Prediction error or loss value**: A measure of the distance between your\n",
    "model’s prediction and the target.\n",
    "* **Classes**: A set of possible labels or categories to choose from in a classification problem.\n",
    "* **Label**: A specific instance of a class annotation in a classification problem.\n",
    "* **binary classification**: The label to predict has only two possible classes\n",
    "  *for example, fraud or not fraud.*\n",
    "* **Multiclass classification**: The label to predict has more than two possible classes *for example, whether an image is a dog, cat, or bird*\n",
    "* **Multilabel classification**: Each observation can belong to more than one class. *Movie genres are a good example of this. A movie can be classified as both action and comedy.*\n",
    "* **Scalar regression**: A task where the target is a continuous scalar value.\n",
    "* **Vector regression**: A task where the target is a set of continuous values.\n",
    "* **Mini-batch or batch**: A small set of samples (typically between 8 and 128) that are processed simultaneously by the model."
   ]
  },
  {
   "cell_type": "code",
   "execution_count": 1,
   "id": "512fae43",
   "metadata": {},
   "outputs": [],
   "source": [
    "from tensorflow.keras.datasets import imdb\n",
    "(train_data, train_labels), (test_data, test_labels) = imdb.load_data(\n",
    "    num_words=10000)"
   ]
  },
  {
   "cell_type": "markdown",
   "id": "32dace86",
   "metadata": {},
   "source": [
    "The argument `num_words=10000` means you will only keep the top 10,000 most frequently occurring words in the training data. Rare words will be discarded which allows us to work with vector data of manageable size. If we didn’t set this limit, we would be working with 88,585 unique words in the training data, which is unnecessarily large. Many\n",
    "of these words only occur in a single sample, so they cannot be meaningfully used for classification.\n",
    "\n",
    "The variables `train_data` and `test_data` are lists of reviews. Each review is a list of word indices (encoding a sequence of words). `train_labels` and `test_labels` are lists of 0s and 1s, where 0 stands for negative and 1 stands for positive."
   ]
  },
  {
   "cell_type": "code",
   "execution_count": 2,
   "id": "e8cd02b8",
   "metadata": {},
   "outputs": [
    {
     "data": {
      "text/plain": [
       "[1,\n",
       " 14,\n",
       " 22,\n",
       " 16,\n",
       " 43,\n",
       " 530,\n",
       " 973,\n",
       " 1622,\n",
       " 1385,\n",
       " 65,\n",
       " 458,\n",
       " 4468,\n",
       " 66,\n",
       " 3941,\n",
       " 4,\n",
       " 173,\n",
       " 36,\n",
       " 256,\n",
       " 5,\n",
       " 25,\n",
       " 100,\n",
       " 43,\n",
       " 838,\n",
       " 112,\n",
       " 50,\n",
       " 670,\n",
       " 2,\n",
       " 9,\n",
       " 35,\n",
       " 480,\n",
       " 284,\n",
       " 5,\n",
       " 150,\n",
       " 4,\n",
       " 172,\n",
       " 112,\n",
       " 167,\n",
       " 2,\n",
       " 336,\n",
       " 385,\n",
       " 39,\n",
       " 4,\n",
       " 172,\n",
       " 4536,\n",
       " 1111,\n",
       " 17,\n",
       " 546,\n",
       " 38,\n",
       " 13,\n",
       " 447,\n",
       " 4,\n",
       " 192,\n",
       " 50,\n",
       " 16,\n",
       " 6,\n",
       " 147,\n",
       " 2025,\n",
       " 19,\n",
       " 14,\n",
       " 22,\n",
       " 4,\n",
       " 1920,\n",
       " 4613,\n",
       " 469,\n",
       " 4,\n",
       " 22,\n",
       " 71,\n",
       " 87,\n",
       " 12,\n",
       " 16,\n",
       " 43,\n",
       " 530,\n",
       " 38,\n",
       " 76,\n",
       " 15,\n",
       " 13,\n",
       " 1247,\n",
       " 4,\n",
       " 22,\n",
       " 17,\n",
       " 515,\n",
       " 17,\n",
       " 12,\n",
       " 16,\n",
       " 626,\n",
       " 18,\n",
       " 2,\n",
       " 5,\n",
       " 62,\n",
       " 386,\n",
       " 12,\n",
       " 8,\n",
       " 316,\n",
       " 8,\n",
       " 106,\n",
       " 5,\n",
       " 4,\n",
       " 2223,\n",
       " 5244,\n",
       " 16,\n",
       " 480,\n",
       " 66,\n",
       " 3785,\n",
       " 33,\n",
       " 4,\n",
       " 130,\n",
       " 12,\n",
       " 16,\n",
       " 38,\n",
       " 619,\n",
       " 5,\n",
       " 25,\n",
       " 124,\n",
       " 51,\n",
       " 36,\n",
       " 135,\n",
       " 48,\n",
       " 25,\n",
       " 1415,\n",
       " 33,\n",
       " 6,\n",
       " 22,\n",
       " 12,\n",
       " 215,\n",
       " 28,\n",
       " 77,\n",
       " 52,\n",
       " 5,\n",
       " 14,\n",
       " 407,\n",
       " 16,\n",
       " 82,\n",
       " 2,\n",
       " 8,\n",
       " 4,\n",
       " 107,\n",
       " 117,\n",
       " 5952,\n",
       " 15,\n",
       " 256,\n",
       " 4,\n",
       " 2,\n",
       " 7,\n",
       " 3766,\n",
       " 5,\n",
       " 723,\n",
       " 36,\n",
       " 71,\n",
       " 43,\n",
       " 530,\n",
       " 476,\n",
       " 26,\n",
       " 400,\n",
       " 317,\n",
       " 46,\n",
       " 7,\n",
       " 4,\n",
       " 2,\n",
       " 1029,\n",
       " 13,\n",
       " 104,\n",
       " 88,\n",
       " 4,\n",
       " 381,\n",
       " 15,\n",
       " 297,\n",
       " 98,\n",
       " 32,\n",
       " 2071,\n",
       " 56,\n",
       " 26,\n",
       " 141,\n",
       " 6,\n",
       " 194,\n",
       " 7486,\n",
       " 18,\n",
       " 4,\n",
       " 226,\n",
       " 22,\n",
       " 21,\n",
       " 134,\n",
       " 476,\n",
       " 26,\n",
       " 480,\n",
       " 5,\n",
       " 144,\n",
       " 30,\n",
       " 5535,\n",
       " 18,\n",
       " 51,\n",
       " 36,\n",
       " 28,\n",
       " 224,\n",
       " 92,\n",
       " 25,\n",
       " 104,\n",
       " 4,\n",
       " 226,\n",
       " 65,\n",
       " 16,\n",
       " 38,\n",
       " 1334,\n",
       " 88,\n",
       " 12,\n",
       " 16,\n",
       " 283,\n",
       " 5,\n",
       " 16,\n",
       " 4472,\n",
       " 113,\n",
       " 103,\n",
       " 32,\n",
       " 15,\n",
       " 16,\n",
       " 5345,\n",
       " 19,\n",
       " 178,\n",
       " 32]"
      ]
     },
     "execution_count": 2,
     "metadata": {},
     "output_type": "execute_result"
    }
   ],
   "source": [
    "train_data[0]"
   ]
  },
  {
   "cell_type": "code",
   "execution_count": 3,
   "id": "16f9abaa",
   "metadata": {},
   "outputs": [
    {
     "data": {
      "text/plain": [
       "1"
      ]
     },
     "execution_count": 3,
     "metadata": {},
     "output_type": "execute_result"
    }
   ],
   "source": [
    "train_labels[0]"
   ]
  },
  {
   "cell_type": "code",
   "execution_count": 4,
   "id": "272f2846",
   "metadata": {},
   "outputs": [
    {
     "data": {
      "text/plain": [
       "9999"
      ]
     },
     "execution_count": 4,
     "metadata": {},
     "output_type": "execute_result"
    }
   ],
   "source": [
    "#no word index will exceed 10,000\n",
    "max([max(sequence) for sequence in train_data])"
   ]
  },
  {
   "cell_type": "code",
   "execution_count": 5,
   "id": "57be70e8",
   "metadata": {},
   "outputs": [],
   "source": [
    "#word_index is a dictionary mapping words to an integer index.\n",
    "word_index = imdb.get_word_index()\n",
    "reverse_word_index = dict(\n",
    "#Reverses it and mapping integer indices to words\n",
    "    [(value, key) for (key, value) in word_index.items()])\n",
    "decoded_review = \" \".join(\n",
    "#Decodes the review. Note that the indices are offset by 3\n",
    "#because 0, 1, and 2 are reserved indices for “padding,” “start of sequence,” and “unknown.”\n",
    "    [reverse_word_index.get(i - 3, \"?\") for i in train_data[0]])"
   ]
  },
  {
   "cell_type": "code",
   "execution_count": 6,
   "id": "48d50bb5",
   "metadata": {},
   "outputs": [
    {
     "name": "stdout",
     "output_type": "stream",
     "text": [
      "? this film was just brilliant casting location scenery story direction everyone's really suited the part they played and you could just imagine being there robert ? is an amazing actor and now the same being director ? father came from the same scottish island as myself so i loved the fact there was a real connection with this film the witty remarks throughout the film were great it was just brilliant so much that i bought the film as soon as it was released for ? and would recommend it to everyone to watch and the fly fishing was amazing really cried at the end it was so sad and you know what they say if you cry at a film it must have been good and this definitely was also ? to the two little boy's that played the ? of norman and paul they were just brilliant children are often left out of the ? list i think because the stars that play them all grown up are such a big profile for the whole film but these children are amazing and should be praised for what they have done don't you think the whole story was so lovely because it was true and was someone's life after all that was shared with us all\n"
     ]
    }
   ],
   "source": [
    "print(decoded_review)"
   ]
  },
  {
   "cell_type": "markdown",
   "id": "11e474aa",
   "metadata": {},
   "source": [
    "#### **Preparing the data**\n",
    "\n",
    "We cannot directly feed lists of integers into a neural network. They all have different lengths, but a neural network expects to process contiguous batches of data. We have to turn the lists into tensors. There are two ways to do that:\n",
    "1.    By padding the lists so that they all have the same length, turn them into an integer tensor of shape (`samples, max_length`), and start your model with a layer capable of handling such integer tensors (the `Embedding` layer, which we will cover in detail later in the semester).\n",
    "2.   By Multi-hot encoding the lists to turn them into vectors of 0s and 1s. This would mean, for instance, turning the sequence `[8, 5]` into a 10000-dimensional vector that would be all 0s except for indices 8 and 5, which would be 1s. Then we\n",
    "can use a `Dense` layer, capable of handling floating-point vector data, as the first layer in the model."
   ]
  },
  {
   "cell_type": "code",
   "execution_count": 7,
   "id": "758a767b",
   "metadata": {},
   "outputs": [],
   "source": [
    "'''Encoding the integer sequences via multi-hot encoding'''\n",
    "\n",
    "import numpy as np\n",
    "def vectorize_sequences(sequences, dimension=10000):\n",
    "  #Creates an all-zero matrix of shape (len(sequences), dimension)\n",
    "    results = np.zeros((len(sequences), dimension))\n",
    "    for i, sequence in enumerate(sequences):\n",
    "        for j in sequence:\n",
    "          #Sets specific indices of results[i] to 1s\n",
    "            results[i, j] = 1.\n",
    "    return results\n",
    "\n",
    "#Vectorized training data\n",
    "x_train = vectorize_sequences(train_data)\n",
    "#Vectorized test data\n",
    "x_test = vectorize_sequences(test_data)"
   ]
  },
  {
   "cell_type": "code",
   "execution_count": 8,
   "id": "34a1ac36",
   "metadata": {},
   "outputs": [
    {
     "data": {
      "text/plain": [
       "array([0., 1., 1., ..., 0., 0., 0.])"
      ]
     },
     "execution_count": 8,
     "metadata": {},
     "output_type": "execute_result"
    }
   ],
   "source": [
    "#Here’s what the samples look like now\n",
    "x_train[0]"
   ]
  },
  {
   "cell_type": "code",
   "execution_count": 9,
   "id": "35402528",
   "metadata": {},
   "outputs": [],
   "source": [
    "y_train = np.asarray(train_labels).astype(\"float32\")\n",
    "y_test = np.asarray(test_labels).astype(\"float32\")"
   ]
  },
  {
   "cell_type": "markdown",
   "id": "fe43f4b3",
   "metadata": {},
   "source": [
    "#### **Building the Model**\n",
    "\n",
    "The input data is vectors, and the labels are scalars (1s and 0s). This is one of the simplest problem setups you will ever encounter. A type of model that performs well on such a problem is a plain stack of densely connected (`Dense`) layers with `relu` activations.\n",
    "\n",
    "There are two key architecture decisions to be made about such a stack of Dense layers:\n",
    " * How many layers to use\n",
    " * How many units to choose for each layer\n",
    "\n",
    "Later this semester, we will learn the principles to guide us in making these choices. For now, let's follow the following architecture.\n",
    "* Two intermediate layers with 16 units each\n",
    "* A third layer that will output the scalar prediction regarding the sentiment of the current review.\n"
   ]
  },
  {
   "cell_type": "code",
   "execution_count": 10,
   "id": "8cbe277d",
   "metadata": {},
   "outputs": [],
   "source": [
    "from tensorflow import keras\n",
    "from tensorflow.keras import layers\n",
    "\n",
    "model = keras.Sequential([\n",
    "    layers.Dense(16, activation=\"relu\"),\n",
    "    layers.Dense(16, activation=\"relu\"),\n",
    "    layers.Dense(1, activation=\"sigmoid\")\n",
    "])"
   ]
  },
  {
   "cell_type": "markdown",
   "id": "2bc27466",
   "metadata": {},
   "source": [
    "The first argument being passed to each `Dense` layer is the number of units in the layer which is the dimensionality of representation space of the layer. If you recall, each such Dense layer with a relu activation implements the following chain of tensor operations:\n",
    "\n",
    "`output = relu(dot(input, W) + b)`\n",
    "\n",
    "Having 16 units means the weight matrix `W` will have a shape (`input_dimension, 16`). The dot product with `W` will project the input data onto a 16-dimensional representation space, and then you will add the bias vector `b` and apply the `relu` operation.\n",
    "\n",
    "You can intuitively understand the dimensionality of your representation space as “how much freedom you’re allowing the model to have when learning internal representations.” Having more units (a higher-dimensional representation space) allows your\n",
    "model to learn more-complex representations, but it makes the model more computationally expensive and may lead to learning unwanted patterns that will\n",
    "improve performance on the training data but not on the test data.\n",
    "\n",
    "The intermediate layers use `relu` as their activation function, and the final layer uses a `sigmoid` activation so as to output a probability (a score between 0 and 1 indicating how likely the sample is to have the target “1”: how likely the review is to be positive). A `relu` (rectified linear unit) is a function meant to zero out negative values whereas a `sigmoid` “squashes” arbitrary values into the [0, 1] interval, outputting something that can be interpreted as a probability.\n",
    "\n",
    "Finally, you need to choose a loss function and an optimizer. Because you’re facing a binary classification problem and the output of your model is a probability (you end your model with a single-unit layer with a sigmoid activation), it’s best to use the `binary_crossentropy` loss. It isn’t the only viable choice: for instance, you could use\n",
    "`mean_squared_error`. But crossentropy is usually the best choice when you’re dealing with models that output probabilities.\n",
    "\n",
    "**Crossentropy** is a quantity from the field of information theory that measures the distance between probability distributions or, in this case, between the ground-truth distribution and your predictions.\n",
    " As for the choice of the optimizer, we’ll go with `rmsprop`, which is usually a good default choice for virtually any problem."
   ]
  },
  {
   "cell_type": "code",
   "execution_count": 11,
   "id": "a06db596",
   "metadata": {},
   "outputs": [],
   "source": [
    "#This is the step where we configure the model with the rmsprop optimizer\n",
    "#and the binary_crossentropy loss function\n",
    "\n",
    "model.compile(optimizer=\"rmsprop\",\n",
    "              loss=\"binary_crossentropy\",\n",
    "  #We are also monitoring the accuracy\n",
    "              metrics=[\"accuracy\"])"
   ]
  },
  {
   "cell_type": "code",
   "execution_count": 12,
   "id": "c400232e",
   "metadata": {},
   "outputs": [],
   "source": [
    "x_val = x_train[:10000]\n",
    "partial_x_train = x_train[10000:]\n",
    "y_val = y_train[:10000]\n",
    "partial_y_train = y_train[10000:]"
   ]
  },
  {
   "cell_type": "markdown",
   "id": "2fd805ec",
   "metadata": {},
   "source": [
    "We will now train the model for 20 epochs (20 iterations over all samples in the training data) in mini-batches of 512 samples. At the same time, we will monitor loss and accuracy on the 10,000 samples that we set apart. We do so by passing the validation\n",
    "data as the `validation_data` argument."
   ]
  },
  {
   "cell_type": "code",
   "execution_count": 13,
   "id": "9efc139b",
   "metadata": {},
   "outputs": [
    {
     "name": "stdout",
     "output_type": "stream",
     "text": [
      "Epoch 1/20\n",
      "30/30 [==============================] - 1s 31ms/step - loss: 0.4975 - accuracy: 0.7947 - val_loss: 0.3715 - val_accuracy: 0.8691\n",
      "Epoch 2/20\n",
      "30/30 [==============================] - 0s 7ms/step - loss: 0.2968 - accuracy: 0.9022 - val_loss: 0.2987 - val_accuracy: 0.8886\n",
      "Epoch 3/20\n",
      "30/30 [==============================] - 0s 5ms/step - loss: 0.2182 - accuracy: 0.9279 - val_loss: 0.2843 - val_accuracy: 0.8867\n",
      "Epoch 4/20\n",
      "30/30 [==============================] - 0s 5ms/step - loss: 0.1737 - accuracy: 0.9433 - val_loss: 0.2788 - val_accuracy: 0.8881\n",
      "Epoch 5/20\n",
      "30/30 [==============================] - 0s 5ms/step - loss: 0.1400 - accuracy: 0.9559 - val_loss: 0.2836 - val_accuracy: 0.8873\n",
      "Epoch 6/20\n",
      "30/30 [==============================] - 0s 5ms/step - loss: 0.1148 - accuracy: 0.9659 - val_loss: 0.2956 - val_accuracy: 0.8868\n",
      "Epoch 7/20\n",
      "30/30 [==============================] - 0s 5ms/step - loss: 0.0949 - accuracy: 0.9726 - val_loss: 0.3308 - val_accuracy: 0.8761\n",
      "Epoch 8/20\n",
      "30/30 [==============================] - 0s 5ms/step - loss: 0.0799 - accuracy: 0.9769 - val_loss: 0.3335 - val_accuracy: 0.8813\n",
      "Epoch 9/20\n",
      "30/30 [==============================] - 0s 5ms/step - loss: 0.0655 - accuracy: 0.9823 - val_loss: 0.3580 - val_accuracy: 0.8796\n",
      "Epoch 10/20\n",
      "30/30 [==============================] - 0s 5ms/step - loss: 0.0520 - accuracy: 0.9868 - val_loss: 0.3912 - val_accuracy: 0.8741\n",
      "Epoch 11/20\n",
      "30/30 [==============================] - 0s 5ms/step - loss: 0.0425 - accuracy: 0.9903 - val_loss: 0.4127 - val_accuracy: 0.8742\n",
      "Epoch 12/20\n",
      "30/30 [==============================] - 0s 5ms/step - loss: 0.0368 - accuracy: 0.9921 - val_loss: 0.4435 - val_accuracy: 0.8736\n",
      "Epoch 13/20\n",
      "30/30 [==============================] - 0s 5ms/step - loss: 0.0274 - accuracy: 0.9948 - val_loss: 0.4702 - val_accuracy: 0.8724\n",
      "Epoch 14/20\n",
      "30/30 [==============================] - 0s 7ms/step - loss: 0.0224 - accuracy: 0.9963 - val_loss: 0.4999 - val_accuracy: 0.8716\n",
      "Epoch 15/20\n",
      "30/30 [==============================] - 0s 6ms/step - loss: 0.0181 - accuracy: 0.9970 - val_loss: 0.5331 - val_accuracy: 0.8711\n",
      "Epoch 16/20\n",
      "30/30 [==============================] - 0s 5ms/step - loss: 0.0132 - accuracy: 0.9988 - val_loss: 0.5683 - val_accuracy: 0.8686\n",
      "Epoch 17/20\n",
      "30/30 [==============================] - 0s 5ms/step - loss: 0.0112 - accuracy: 0.9987 - val_loss: 0.6004 - val_accuracy: 0.8650\n",
      "Epoch 18/20\n",
      "30/30 [==============================] - 0s 5ms/step - loss: 0.0092 - accuracy: 0.9990 - val_loss: 0.6329 - val_accuracy: 0.8659\n",
      "Epoch 19/20\n",
      "30/30 [==============================] - 0s 6ms/step - loss: 0.0052 - accuracy: 0.9998 - val_loss: 0.6830 - val_accuracy: 0.8653\n",
      "Epoch 20/20\n",
      "30/30 [==============================] - 0s 5ms/step - loss: 0.0071 - accuracy: 0.9991 - val_loss: 0.6980 - val_accuracy: 0.8648\n"
     ]
    }
   ],
   "source": [
    "''' Training your model'''\n",
    "history = model.fit(partial_x_train,\n",
    "                    partial_y_train,\n",
    "                    epochs=20,\n",
    "                    batch_size=512,\n",
    "                    validation_data=(x_val, y_val))"
   ]
  },
  {
   "cell_type": "code",
   "execution_count": 14,
   "id": "2fb67695",
   "metadata": {},
   "outputs": [
    {
     "data": {
      "text/plain": [
       "dict_keys(['loss', 'accuracy', 'val_loss', 'val_accuracy'])"
      ]
     },
     "execution_count": 14,
     "metadata": {},
     "output_type": "execute_result"
    }
   ],
   "source": [
    "history_dict = history.history\n",
    "history_dict.keys()"
   ]
  },
  {
   "cell_type": "markdown",
   "id": "b58890d3",
   "metadata": {},
   "source": [
    "The dictionary contains four entries. One per metric that was being monitored during training and during validation. In the following two listings, let’s use Matplotlib to plot the training and validation loss side by side, as well as the training and validation accuracy."
   ]
  },
  {
   "cell_type": "code",
   "execution_count": 15,
   "id": "cc6cde84",
   "metadata": {},
   "outputs": [
    {
     "data": {
      "image/png": "[encoded data removed]",
      "text/plain": [
       "<Figure size 640x480 with 1 Axes>"
      ]
     },
     "metadata": {},
     "output_type": "display_data"
    },
    {
     "data": {
      "image/png": "[encoded data removed]",
      "text/plain": [
       "<Figure size 640x480 with 1 Axes>"
      ]
     },
     "metadata": {},
     "output_type": "display_data"
    }
   ],
   "source": [
    "'''Plotting the training and validation loss'''\n",
    "\n",
    "import matplotlib.pyplot as plt\n",
    "history_dict = history.history\n",
    "loss_values = history_dict[\"loss\"]\n",
    "val_loss_values = history_dict[\"val_loss\"]\n",
    "epochs = range(1, len(loss_values) + 1)\n",
    "\n",
    "#\"bo\" is for blue dot.\n",
    "plt.plot(epochs, loss_values, \"bo\", label=\"Training loss\")\n",
    "\n",
    "#\"b\" is for solid blue line.\n",
    "plt.plot(epochs, val_loss_values, \"b\", label=\"Validation loss\")\n",
    "plt.title(\"Training and validation loss\")\n",
    "plt.xlabel(\"Epochs\")\n",
    "plt.ylabel(\"Loss\")\n",
    "plt.legend()\n",
    "plt.show()\n",
    "\n",
    "\n",
    "''' Plotting the training and validation accuracy'''\n",
    "\n",
    "#Clears the figure\n",
    "plt.clf()\n",
    "acc = history_dict[\"accuracy\"]\n",
    "val_acc = history_dict[\"val_accuracy\"]\n",
    "plt.plot(epochs, acc, \"bo\", label=\"Training acc\")\n",
    "plt.plot(epochs, val_acc, \"b\", label=\"Validation acc\")\n",
    "plt.title(\"Training and validation accuracy\")\n",
    "plt.xlabel(\"Epochs\")\n",
    "plt.ylabel(\"Accuracy\")\n",
    "plt.legend()\n",
    "plt.show()"
   ]
  },
  {
   "cell_type": "markdown",
   "id": "10da7e54",
   "metadata": {},
   "source": [
    "As you can see, the training loss decreases with every epoch, while the training accuracy increases. That’s what you would expect when running gradient descent optimization. The quantity you’re trying to minimize should be less with every iteration. But that isn’t the case for the validation loss and accuracy: they seem to peak at the fourth epoch. This is an example of what we warned against earlier. A\n",
    "model that performs better on the training data isn’t necessarily a model that will do better on data it has never seen before.\n",
    "\n",
    "In better terms, what you’re seeing is called ***overfitting***. After the fourth epoch, you’re overoptimizing on the training data, and you end up learning representations that are specific to the training data and don’t generalize to data outside of the training set.\n",
    "\n",
    "In this case, to prevent overfitting, you could stop training after four epochs. In general, you can use a range of techniques to mitigate overfitting, which we’ll cover later."
   ]
  },
  {
   "cell_type": "code",
   "execution_count": 16,
   "id": "a4c9ec2b",
   "metadata": {},
   "outputs": [
    {
     "name": "stdout",
     "output_type": "stream",
     "text": [
      "Epoch 1/4\n",
      "49/49 [==============================] - 0s 4ms/step - loss: 0.4374 - accuracy: 0.8185\n",
      "Epoch 2/4\n",
      "49/49 [==============================] - 0s 4ms/step - loss: 0.2530 - accuracy: 0.9092\n",
      "Epoch 3/4\n",
      "49/49 [==============================] - 0s 4ms/step - loss: 0.1950 - accuracy: 0.9305\n",
      "Epoch 4/4\n",
      "49/49 [==============================] - 0s 4ms/step - loss: 0.1616 - accuracy: 0.9415\n",
      "782/782 [==============================] - 0s 429us/step - loss: 0.2954 - accuracy: 0.8831\n"
     ]
    }
   ],
   "source": [
    "'''Retraining a model from scratch'''\n",
    "\n",
    "model = keras.Sequential([\n",
    "    layers.Dense(16, activation=\"relu\"),\n",
    "    layers.Dense(16, activation=\"relu\"),\n",
    "    layers.Dense(1, activation=\"sigmoid\")\n",
    "])\n",
    "model.compile(optimizer=\"rmsprop\",\n",
    "              loss=\"binary_crossentropy\",\n",
    "              metrics=[\"accuracy\"])\n",
    "#limiting the epochs to 4\n",
    "model.fit(x_train, y_train, epochs=4, batch_size=512)\n",
    "results = model.evaluate(x_test, y_test)"
   ]
  },
  {
   "cell_type": "code",
   "execution_count": 17,
   "id": "87464f22",
   "metadata": {},
   "outputs": [
    {
     "data": {
      "text/plain": [
       "[0.2953936457633972, 0.8831200003623962]"
      ]
     },
     "execution_count": 17,
     "metadata": {},
     "output_type": "execute_result"
    }
   ],
   "source": [
    "results"
   ]
  },
  {
   "cell_type": "markdown",
   "id": "f2423c05",
   "metadata": {},
   "source": [
    "The first number, 0.29 (may slightly variate), is the test loss, and the second number, 0.88 (may slightly variate), is the test accuracy.\n",
    "\n",
    "This fairly naive approach achieves an accuracy of 88%. With state-of-the-art approaches, you should be able to get close to 95%."
   ]
  },
  {
   "cell_type": "code",
   "execution_count": 18,
   "id": "717aa576",
   "metadata": {},
   "outputs": [
    {
     "name": "stdout",
     "output_type": "stream",
     "text": [
      "782/782 [==============================] - 0s 414us/step\n"
     ]
    },
    {
     "data": {
      "text/plain": [
       "array([[0.1960832 ],\n",
       "       [0.9996864 ],\n",
       "       [0.89813066],\n",
       "       ...,\n",
       "       [0.13628563],\n",
       "       [0.05237143],\n",
       "       [0.768207  ]], dtype=float32)"
      ]
     },
     "execution_count": 18,
     "metadata": {},
     "output_type": "execute_result"
    }
   ],
   "source": [
    "#using the predict method\n",
    "model.predict(x_test)"
   ]
  },
  {
   "cell_type": "markdown",
   "id": "10f08968",
   "metadata": {},
   "source": [
    "As you can see, the model is confident for some samples (0.99 or more, or 0.01 or less) but less confident for others (0.6, 0.4)"
   ]
  },
  {
   "cell_type": "markdown",
   "id": "947b5fef",
   "metadata": {},
   "source": [
    "#### **Wrapping up the example**\n",
    "\n",
    "From the above example, we can conclude the folowing:\n",
    "\n",
    "*   You usually need to do quite a bit of preprocessing on your raw data in order to be able to feed it as tensors into a neural network. Sequences of words can be encoded as binary vectors, but there are other encoding options too.\n",
    "*   Stacks of `Dense` layers with `relu` activations can solve a wide range of problems including sentiment classification.\n",
    "*   In a binary classification problem, your model should end with a `Dense` layer with one unit and a `sigmoid` activation: the output of your model should be a scalar between 0 and 1, encoding a probability.\n",
    "*   With such a scalar sigmoid output on a binary classification problem, the loss function you should use is `binary_crossentropy`.\n",
    "*   The `rmsprop` optimizer is generally a good enough choice, whatever the problem. That’s one less thing for you to worry about.\n",
    "* As they get better on their training data, neural networks eventually start overfitting and end up obtaining increasingly worse results on data they’ve never seen before. Be sure to always monitor performance on data that is outside of the training set."
   ]
  },
  {
   "cell_type": "markdown",
   "id": "3acc6770",
   "metadata": {},
   "source": [
    "## **Multiclass classification: Classifying Newswires**\n",
    "\n",
    "With Binary Classification, we saw how to classify vector inputs into two mutually exclusive classes using a densely connected neural network. But what happens when we have more than two classes?\n",
    "\n",
    "To anwer this question we will build a model to classify Reuters newswires into 46 mutually exclusive topics. Because we have many classes, this problem is an instance of **multiclass classification**, and because each data point should be classified into only one category. The problem is more specifically an instance of single-label multiclass classification.\n",
    "\n",
    "Note that if each data point could belong to multiple categories (in this case, topics), we’d be facing a multilabel multiclass classification problem.\n",
    "\n",
    "### **The Reuters dataset**\n",
    "\n",
    "The Reuters dataset, a set of short newswires and their topics. It’s a simple, widely used toy dataset for text classification. There are 46 different topics. Some topics are more represented than others, but each one has at least 10 examples in the training set.\n",
    "Like IMDB and MNIST, the Reuters dataset comes packaged as part of Keras. Let’s take a look.\n"
   ]
  },
  {
   "cell_type": "code",
   "execution_count": 19,
   "id": "c5eac509",
   "metadata": {},
   "outputs": [],
   "source": [
    "from tensorflow.keras.datasets import reuters\n",
    "(train_data, train_labels), (test_data, test_labels) = reuters.load_data(\n",
    "    num_words=10000)"
   ]
  },
  {
   "cell_type": "code",
   "execution_count": 20,
   "id": "b4047a08",
   "metadata": {},
   "outputs": [
    {
     "data": {
      "text/plain": [
       "8982"
      ]
     },
     "execution_count": 20,
     "metadata": {},
     "output_type": "execute_result"
    }
   ],
   "source": [
    "#number of training examples\n",
    "len(train_data)\n"
   ]
  },
  {
   "cell_type": "code",
   "execution_count": 21,
   "id": "67c8ea81",
   "metadata": {},
   "outputs": [
    {
     "data": {
      "text/plain": [
       "[1,\n",
       " 2,\n",
       " 2,\n",
       " 8,\n",
       " 43,\n",
       " 10,\n",
       " 447,\n",
       " 5,\n",
       " 25,\n",
       " 207,\n",
       " 270,\n",
       " 5,\n",
       " 3095,\n",
       " 111,\n",
       " 16,\n",
       " 369,\n",
       " 186,\n",
       " 90,\n",
       " 67,\n",
       " 7,\n",
       " 89,\n",
       " 5,\n",
       " 19,\n",
       " 102,\n",
       " 6,\n",
       " 19,\n",
       " 124,\n",
       " 15,\n",
       " 90,\n",
       " 67,\n",
       " 84,\n",
       " 22,\n",
       " 482,\n",
       " 26,\n",
       " 7,\n",
       " 48,\n",
       " 4,\n",
       " 49,\n",
       " 8,\n",
       " 864,\n",
       " 39,\n",
       " 209,\n",
       " 154,\n",
       " 6,\n",
       " 151,\n",
       " 6,\n",
       " 83,\n",
       " 11,\n",
       " 15,\n",
       " 22,\n",
       " 155,\n",
       " 11,\n",
       " 15,\n",
       " 7,\n",
       " 48,\n",
       " 9,\n",
       " 4579,\n",
       " 1005,\n",
       " 504,\n",
       " 6,\n",
       " 258,\n",
       " 6,\n",
       " 272,\n",
       " 11,\n",
       " 15,\n",
       " 22,\n",
       " 134,\n",
       " 44,\n",
       " 11,\n",
       " 15,\n",
       " 16,\n",
       " 8,\n",
       " 197,\n",
       " 1245,\n",
       " 90,\n",
       " 67,\n",
       " 52,\n",
       " 29,\n",
       " 209,\n",
       " 30,\n",
       " 32,\n",
       " 132,\n",
       " 6,\n",
       " 109,\n",
       " 15,\n",
       " 17,\n",
       " 12]"
      ]
     },
     "execution_count": 21,
     "metadata": {},
     "output_type": "execute_result"
    }
   ],
   "source": [
    "train_data[0]"
   ]
  },
  {
   "cell_type": "markdown",
   "id": "ab5e2325",
   "metadata": {},
   "source": [
    "#### **Preparing the data**\n",
    "\n",
    "to prepare the date we can vectorize it with the exact same code as in the binary classification example by using the previously created function `vectorize_sequences`."
   ]
  },
  {
   "cell_type": "code",
   "execution_count": 22,
   "id": "b6bce20a",
   "metadata": {},
   "outputs": [
    {
     "data": {
      "text/plain": [
       "(8982, 10000)"
      ]
     },
     "execution_count": 22,
     "metadata": {},
     "output_type": "execute_result"
    }
   ],
   "source": [
    "'''Encoding the input data'''\n",
    "\n",
    "#Vectorized training data\n",
    "x_train = vectorize_sequences(train_data)\n",
    "#Vectorized test data\n",
    "x_test = vectorize_sequences(test_data)\n",
    "\n",
    "x_train.shape"
   ]
  },
  {
   "cell_type": "markdown",
   "id": "6ad69ed2",
   "metadata": {},
   "source": [
    "Now, to vectorize the labels, there are two possible way:\n",
    "1.  We can cast the label list as an integer tensor.\n",
    "2.  Or we can use one-hot encoding. it is a widely used format for categorical data, and is also called categorical encoding. In this case, one-hot encoding the labels consists of embedding each label as an all-zero vector with a 1 in the place of the label index."
   ]
  },
  {
   "cell_type": "code",
   "execution_count": 23,
   "id": "178698ae",
   "metadata": {},
   "outputs": [],
   "source": [
    "'''Encoding the labels'''\n",
    "\n",
    "\n",
    "def to_one_hot(labels, dimension=46):\n",
    "    results = np.zeros((len(labels), dimension))\n",
    "    for i, label in enumerate(labels):\n",
    "        results[i, label] = 1.\n",
    "    return results\n",
    "\n",
    "#Vectorized training labels\n",
    "y_train = to_one_hot(train_labels)\n",
    "\n",
    "#Vectorized test labels\n",
    "y_test = to_one_hot(test_labels)"
   ]
  },
  {
   "cell_type": "code",
   "execution_count": 24,
   "id": "16e5bea9",
   "metadata": {},
   "outputs": [],
   "source": [
    "#BUILT IN \n",
    "\n",
    "from tensorflow.keras.utils import to_categorical\n",
    "y_train = to_categorical(train_labels)\n",
    "y_test = to_categorical(test_labels)\n"
   ]
  },
  {
   "cell_type": "markdown",
   "id": "e81d73ef",
   "metadata": {},
   "source": [
    "#### **Building your model**\n",
    "\n",
    "Although this problem looks similar to the previous one (movie review), THe number of outputs classes are different. It has gone from 2 to 46. The dimensionality of the output space is much larger.\n",
    "\n",
    "In a stack of Dense layers like those we’ve been using, each layer can only access information present in the output of the previous layer. If one layer drops some information relevant to the classification problem, this information can never be recovered by later layers.\n",
    "Each layer can potentially become an information bottleneck. In the Binary Classification example, we used 16-dimensional intermediate layers, but a\n",
    "16-dimensional space may be too limited to categorize 46 different classes. Such small layers may act as information bottlenecks, permanently dropping relevant information.\n",
    "To prevent that we will use 64 units layers."
   ]
  },
  {
   "cell_type": "code",
   "execution_count": 25,
   "id": "c462859f",
   "metadata": {},
   "outputs": [],
   "source": [
    "'''Model definition'''\n",
    "\n",
    "model = keras.Sequential([\n",
    "    layers.Dense(64, activation=\"relu\"),\n",
    "    layers.Dense(64, activation=\"relu\"),\n",
    "    layers.Dense(46, activation=\"softmax\")\n",
    "])"
   ]
  },
  {
   "cell_type": "markdown",
   "id": "f58d747c",
   "metadata": {},
   "source": [
    "Two other things you should note about this architecture.\n",
    "1.   We ended the model with a `Dense` layer of size 46. This means for each input sample, the network will output a 46-dimensional vector. Each entry in this vector (each dimension) will encode a different output class.\n",
    "2.  the last layer uses a `softmax` activation which means the model will output a probability distribution over the 46 different output classes. For every input sample, the model will produce a 46-dimensional output vector, where `output[i]` is the probability that the sample belongs to class `i`. The 46 scores will sum to 1.\n",
    "\n",
    "In this case The best loss function to use is `categorical_crossentropy`. It measures the distance between two probability distribution output by the model and the true distribution of the labels. By minimizing the distance between these two distributions, you train the model to output something as close as possible to the true"
   ]
  },
  {
   "cell_type": "code",
   "execution_count": 26,
   "id": "308b2319",
   "metadata": {},
   "outputs": [],
   "source": [
    "'''Compiling the model'''\n",
    "\n",
    "model.compile(optimizer=\"rmsprop\",\n",
    "              loss=\"categorical_crossentropy\",\n",
    "              metrics=[\"accuracy\"])"
   ]
  },
  {
   "cell_type": "markdown",
   "id": "3774f96c",
   "metadata": {},
   "source": [
    "#### **Validating your approach**\n",
    "\n",
    "Let’s set apart 1,000 samples in the training data to use as a validation set.\n"
   ]
  },
  {
   "cell_type": "code",
   "execution_count": 27,
   "id": "913215d8",
   "metadata": {},
   "outputs": [],
   "source": [
    "'''Setting aside a validation set'''\n",
    "\n",
    "x_val = x_train[:1000]\n",
    "partial_x_train = x_train[1000:]\n",
    "y_val = y_train[:1000]\n",
    "partial_y_train = y_train[1000:]"
   ]
  },
  {
   "cell_type": "code",
   "execution_count": 28,
   "id": "aa127023",
   "metadata": {},
   "outputs": [
    {
     "name": "stdout",
     "output_type": "stream",
     "text": [
      "Epoch 1/20\n",
      "16/16 [==============================] - 1s 24ms/step - loss: 2.7390 - accuracy: 0.4994 - val_loss: 1.8713 - val_accuracy: 0.6400\n",
      "Epoch 2/20\n",
      "16/16 [==============================] - 0s 10ms/step - loss: 1.4774 - accuracy: 0.7105 - val_loss: 1.3467 - val_accuracy: 0.7200\n",
      "Epoch 3/20\n",
      "16/16 [==============================] - 0s 9ms/step - loss: 1.0714 - accuracy: 0.7740 - val_loss: 1.1448 - val_accuracy: 0.7630\n",
      "Epoch 4/20\n",
      "16/16 [==============================] - 0s 9ms/step - loss: 0.8425 - accuracy: 0.8205 - val_loss: 1.0469 - val_accuracy: 0.7800\n",
      "Epoch 5/20\n",
      "16/16 [==============================] - 0s 10ms/step - loss: 0.6732 - accuracy: 0.8647 - val_loss: 0.9611 - val_accuracy: 0.8100\n",
      "Epoch 6/20\n",
      "16/16 [==============================] - 0s 10ms/step - loss: 0.5367 - accuracy: 0.8901 - val_loss: 0.9286 - val_accuracy: 0.8150\n",
      "Epoch 7/20\n",
      "16/16 [==============================] - 0s 9ms/step - loss: 0.4362 - accuracy: 0.9141 - val_loss: 0.8951 - val_accuracy: 0.8210\n",
      "Epoch 8/20\n",
      "16/16 [==============================] - 0s 10ms/step - loss: 0.3537 - accuracy: 0.9262 - val_loss: 0.8811 - val_accuracy: 0.8170\n",
      "Epoch 9/20\n",
      "16/16 [==============================] - 0s 10ms/step - loss: 0.2924 - accuracy: 0.9365 - val_loss: 0.8855 - val_accuracy: 0.8190\n",
      "Epoch 10/20\n",
      "16/16 [==============================] - 0s 10ms/step - loss: 0.2501 - accuracy: 0.9440 - val_loss: 0.8948 - val_accuracy: 0.8130\n",
      "Epoch 11/20\n",
      "16/16 [==============================] - 0s 10ms/step - loss: 0.2110 - accuracy: 0.9489 - val_loss: 0.9003 - val_accuracy: 0.8210\n",
      "Epoch 12/20\n",
      "16/16 [==============================] - 0s 10ms/step - loss: 0.1863 - accuracy: 0.9535 - val_loss: 0.9102 - val_accuracy: 0.8160\n",
      "Epoch 13/20\n",
      "16/16 [==============================] - 0s 10ms/step - loss: 0.1665 - accuracy: 0.9541 - val_loss: 0.9633 - val_accuracy: 0.8120\n",
      "Epoch 14/20\n",
      "16/16 [==============================] - 0s 10ms/step - loss: 0.1516 - accuracy: 0.9548 - val_loss: 1.0070 - val_accuracy: 0.8020\n",
      "Epoch 15/20\n",
      "16/16 [==============================] - 0s 10ms/step - loss: 0.1437 - accuracy: 0.9565 - val_loss: 1.0161 - val_accuracy: 0.8090\n",
      "Epoch 16/20\n",
      "16/16 [==============================] - 0s 10ms/step - loss: 0.1323 - accuracy: 0.9555 - val_loss: 1.0058 - val_accuracy: 0.8140\n",
      "Epoch 17/20\n",
      "16/16 [==============================] - 0s 10ms/step - loss: 0.1281 - accuracy: 0.9580 - val_loss: 0.9846 - val_accuracy: 0.8140\n",
      "Epoch 18/20\n",
      "16/16 [==============================] - 0s 10ms/step - loss: 0.1186 - accuracy: 0.9582 - val_loss: 1.0477 - val_accuracy: 0.8080\n",
      "Epoch 19/20\n",
      "16/16 [==============================] - 0s 10ms/step - loss: 0.1185 - accuracy: 0.9558 - val_loss: 1.0474 - val_accuracy: 0.8180\n",
      "Epoch 20/20\n",
      "16/16 [==============================] - 0s 9ms/step - loss: 0.1141 - accuracy: 0.9577 - val_loss: 1.0421 - val_accuracy: 0.8160\n"
     ]
    }
   ],
   "source": [
    "''' Training the model'''\n",
    "history = model.fit(partial_x_train,\n",
    "                    partial_y_train,\n",
    "                    epochs=20,\n",
    "                    batch_size=512,\n",
    "                    validation_data=(x_val, y_val))"
   ]
  },
  {
   "cell_type": "code",
   "execution_count": 29,
   "id": "b32b5428",
   "metadata": {},
   "outputs": [
    {
     "data": {
      "image/png": "[encoded data removed]",
      "text/plain": [
       "<Figure size 640x480 with 1 Axes>"
      ]
     },
     "metadata": {},
     "output_type": "display_data"
    },
    {
     "data": {
      "image/png": "[encoded data removed]",
      "text/plain": [
       "<Figure size 640x480 with 1 Axes>"
      ]
     },
     "metadata": {},
     "output_type": "display_data"
    }
   ],
   "source": [
    "''' Plotting the training and validation loss'''\n",
    "\n",
    "loss = history.history[\"loss\"]\n",
    "val_loss = history.history[\"val_loss\"]\n",
    "epochs = range(1, len(loss) + 1)\n",
    "plt.plot(epochs, loss, \"bo\", label=\"Training loss\")\n",
    "plt.plot(epochs, val_loss, \"b\", label=\"Validation loss\")\n",
    "plt.title(\"Training and validation loss\")\n",
    "plt.xlabel(\"Epochs\")\n",
    "plt.ylabel(\"Loss\")\n",
    "plt.legend()\n",
    "plt.show()\n",
    "\n",
    "\n",
    "'''Plotting the training and validation accuracy'''\n",
    "\n",
    "plt.clf() #Clears the figure\n",
    "acc = history.history[\"accuracy\"]\n",
    "val_acc = history.history[\"val_accuracy\"]\n",
    "plt.plot(epochs, acc, \"bo\", label=\"Training accuracy\")\n",
    "plt.plot(epochs, val_acc, \"b\", label=\"Validation accuracy\")\n",
    "plt.title(\"Training and validation accuracy\")\n",
    "plt.xlabel(\"Epochs\")\n",
    "plt.ylabel(\"Accuracy\")\n",
    "plt.legend()\n",
    "plt.show()"
   ]
  },
  {
   "cell_type": "markdown",
   "id": "23edf1cc",
   "metadata": {},
   "source": [
    "The model begins to overfit after nine epochs. Let’s train a new model from scratch for nine epochs and then evaluate it on the test set."
   ]
  },
  {
   "cell_type": "code",
   "execution_count": 30,
   "id": "b98370f0",
   "metadata": {},
   "outputs": [
    {
     "name": "stdout",
     "output_type": "stream",
     "text": [
      "Epoch 1/9\n",
      "18/18 [==============================] - 0s 8ms/step - loss: 2.4593 - accuracy: 0.5019\n",
      "Epoch 2/9\n",
      "18/18 [==============================] - 0s 8ms/step - loss: 1.3696 - accuracy: 0.7106\n",
      "Epoch 3/9\n",
      "18/18 [==============================] - 0s 7ms/step - loss: 1.0212 - accuracy: 0.7808\n",
      "Epoch 4/9\n",
      "18/18 [==============================] - 0s 8ms/step - loss: 0.8004 - accuracy: 0.8298\n",
      "Epoch 5/9\n",
      "18/18 [==============================] - 0s 8ms/step - loss: 0.6363 - accuracy: 0.8657\n",
      "Epoch 6/9\n",
      "18/18 [==============================] - 0s 8ms/step - loss: 0.5071 - accuracy: 0.8945\n",
      "Epoch 7/9\n",
      "18/18 [==============================] - 0s 8ms/step - loss: 0.4072 - accuracy: 0.9148\n",
      "Epoch 8/9\n",
      "18/18 [==============================] - 0s 9ms/step - loss: 0.3288 - accuracy: 0.9296\n",
      "Epoch 9/9\n",
      "18/18 [==============================] - 0s 8ms/step - loss: 0.2741 - accuracy: 0.9403\n",
      "71/71 [==============================] - 0s 701us/step - loss: 0.9697 - accuracy: 0.7912\n"
     ]
    }
   ],
   "source": [
    "'''Retraining a model from scratch'''\n",
    "model = keras.Sequential([\n",
    "  layers.Dense(64, activation=\"relu\"),\n",
    "  layers.Dense(64, activation=\"relu\"),\n",
    "  layers.Dense(46, activation=\"softmax\")\n",
    "])\n",
    "model.compile(optimizer=\"rmsprop\",\n",
    "              loss=\"categorical_crossentropy\",\n",
    "              metrics=[\"accuracy\"])\n",
    "model.fit(x_train,\n",
    "          y_train,\n",
    "          epochs=9,\n",
    "          batch_size=512)\n",
    "results = model.evaluate(x_test, y_test)"
   ]
  },
  {
   "cell_type": "code",
   "execution_count": 31,
   "id": "917eaac4",
   "metadata": {},
   "outputs": [
    {
     "data": {
      "text/plain": [
       "[0.969720721244812, 0.7911843061447144]"
      ]
     },
     "execution_count": 31,
     "metadata": {},
     "output_type": "execute_result"
    }
   ],
   "source": [
    "results"
   ]
  },
  {
   "cell_type": "markdown",
   "id": "cc856ec6",
   "metadata": {},
   "source": [
    "This approach reaches an accuracy of approximately 80%. With a balanced binary classification problem, the accuracy reached by a purely random classifier would be 50%. But in this case, we have 46 classes, and they may not be equally represented. What would be\n",
    "the accuracy of a random baseline? We could try quickly implementing one to check this empirically"
   ]
  },
  {
   "cell_type": "code",
   "execution_count": 32,
   "id": "ce2ad73a",
   "metadata": {},
   "outputs": [
    {
     "data": {
      "text/plain": [
       "0.18788958147818344"
      ]
     },
     "execution_count": 32,
     "metadata": {},
     "output_type": "execute_result"
    }
   ],
   "source": [
    "import copy\n",
    "test_labels_copy = copy.copy(test_labels)\n",
    "np.random.shuffle(test_labels_copy)\n",
    "hits_array = np.array(test_labels) == np.array(test_labels_copy)\n",
    "hits_array.mean()\n",
    "\n"
   ]
  },
  {
   "cell_type": "markdown",
   "id": "6f014bfa",
   "metadata": {},
   "source": [
    "As you can see, a random classifier would score around 19% classification accuracy, so\n",
    "the results of our model seem pretty good in that light."
   ]
  },
  {
   "cell_type": "markdown",
   "id": "2fd7533e",
   "metadata": {},
   "source": [
    "#### **Generating predictions on new data**\n",
    "\n",
    "Calling the model’s `predict` method on new samples returns a class probability distribution over all 46 topics for each sample. Let’s generate topic predictions for all of the test data"
   ]
  },
  {
   "cell_type": "code",
   "execution_count": 33,
   "id": "b4ef6aa9",
   "metadata": {},
   "outputs": [
    {
     "name": "stdout",
     "output_type": "stream",
     "text": [
      "71/71 [==============================] - 0s 583us/step\n"
     ]
    }
   ],
   "source": [
    "predictions = model.predict(x_test)"
   ]
  },
  {
   "cell_type": "code",
   "execution_count": 34,
   "id": "b762e00c",
   "metadata": {},
   "outputs": [
    {
     "data": {
      "text/plain": [
       "(46,)"
      ]
     },
     "execution_count": 34,
     "metadata": {},
     "output_type": "execute_result"
    }
   ],
   "source": [
    "#Each entry in “predictions” is a vector of length 46\n",
    "predictions[0].shape"
   ]
  },
  {
   "cell_type": "code",
   "execution_count": 35,
   "id": "bffdd8ab",
   "metadata": {},
   "outputs": [
    {
     "data": {
      "text/plain": [
       "0.99999976"
      ]
     },
     "execution_count": 35,
     "metadata": {},
     "output_type": "execute_result"
    }
   ],
   "source": [
    "#The coefficients in this vector sum to 1, as they form a probability distribution:\n",
    "np.sum(predictions[0])"
   ]
  },
  {
   "cell_type": "code",
   "execution_count": 36,
   "id": "5faeaf95",
   "metadata": {},
   "outputs": [
    {
     "data": {
      "text/plain": [
       "3"
      ]
     },
     "execution_count": 36,
     "metadata": {},
     "output_type": "execute_result"
    }
   ],
   "source": [
    "#The largest entry is the predicted class, meaning the class with the highest probability:\n",
    "np.argmax(predictions[0])"
   ]
  },
  {
   "cell_type": "markdown",
   "id": "7830eba2",
   "metadata": {},
   "source": [
    "#### **A different way to handle the labels and the loss**\n",
    "\n",
    "We mentioned earlier that another way to encode the labels would be to cast them as an integer tensor, like this\n"
   ]
  },
  {
   "cell_type": "code",
   "execution_count": 37,
   "id": "10f0ce9b",
   "metadata": {},
   "outputs": [],
   "source": [
    "y_train = np.array(train_labels)\n",
    "y_test = np.array(test_labels)"
   ]
  },
  {
   "cell_type": "markdown",
   "id": "54a54fbf",
   "metadata": {},
   "source": [
    "The only thing this approach would change is the choice of the loss function. The previously used loss\n",
    "function, `categorical_crossentropy`, expects the labels to follow a categorical encoding. With integer labels, you should use `sparse_categorical_crossentropy`"
   ]
  },
  {
   "cell_type": "code",
   "execution_count": 38,
   "id": "f9613403",
   "metadata": {},
   "outputs": [],
   "source": [
    "model.compile(optimizer=\"rmsprop\",\n",
    "              loss=\"sparse_categorical_crossentropy\",\n",
    "              metrics=[\"accuracy\"])"
   ]
  },
  {
   "cell_type": "markdown",
   "id": "a49488ba",
   "metadata": {},
   "source": [
    "This new loss function is still mathematically the same as `categorical_crossentropy`. It just has a different interface."
   ]
  },
  {
   "cell_type": "markdown",
   "id": "1953e12c",
   "metadata": {},
   "source": [
    "#### **The importance of having sufficiently large intermediate layers**\n",
    "\n",
    "We mentioned earlier that because the final outputs are 46-dimensional, you should avoid intermediate layers with many fewer than 46 units. Now let’s see what happens when we introduce an information bottleneck by having intermediate layers that are\n",
    "significantly less than 46-dimensional. Let's try with 4 dimensional."
   ]
  },
  {
   "cell_type": "code",
   "execution_count": 39,
   "id": "f90c16c4",
   "metadata": {},
   "outputs": [
    {
     "name": "stdout",
     "output_type": "stream",
     "text": [
      "Epoch 1/20\n",
      "63/63 [==============================] - 0s 5ms/step - loss: 2.9162 - accuracy: 0.2081 - val_loss: 2.2851 - val_accuracy: 0.3620\n",
      "Epoch 2/20\n",
      "63/63 [==============================] - 0s 4ms/step - loss: 1.8478 - accuracy: 0.5695 - val_loss: 1.6049 - val_accuracy: 0.6160\n",
      "Epoch 3/20\n",
      "63/63 [==============================] - 0s 4ms/step - loss: 1.3839 - accuracy: 0.6551 - val_loss: 1.4211 - val_accuracy: 0.6490\n",
      "Epoch 4/20\n",
      "63/63 [==============================] - 0s 4ms/step - loss: 1.2039 - accuracy: 0.6958 - val_loss: 1.3560 - val_accuracy: 0.6800\n",
      "Epoch 5/20\n",
      "63/63 [==============================] - 0s 4ms/step - loss: 1.0853 - accuracy: 0.7254 - val_loss: 1.3327 - val_accuracy: 0.6880\n",
      "Epoch 6/20\n",
      "63/63 [==============================] - 0s 4ms/step - loss: 0.9860 - accuracy: 0.7539 - val_loss: 1.3427 - val_accuracy: 0.6950\n",
      "Epoch 7/20\n",
      "63/63 [==============================] - 0s 4ms/step - loss: 0.8995 - accuracy: 0.7700 - val_loss: 1.3538 - val_accuracy: 0.7010\n",
      "Epoch 8/20\n",
      "63/63 [==============================] - 0s 4ms/step - loss: 0.8248 - accuracy: 0.7840 - val_loss: 1.3551 - val_accuracy: 0.7070\n",
      "Epoch 9/20\n",
      "63/63 [==============================] - 0s 4ms/step - loss: 0.7611 - accuracy: 0.8014 - val_loss: 1.3544 - val_accuracy: 0.7180\n",
      "Epoch 10/20\n",
      "63/63 [==============================] - 0s 4ms/step - loss: 0.7046 - accuracy: 0.8208 - val_loss: 1.4012 - val_accuracy: 0.7110\n",
      "Epoch 11/20\n",
      "63/63 [==============================] - 0s 4ms/step - loss: 0.6553 - accuracy: 0.8306 - val_loss: 1.3940 - val_accuracy: 0.7120\n",
      "Epoch 12/20\n",
      "63/63 [==============================] - 0s 4ms/step - loss: 0.6137 - accuracy: 0.8404 - val_loss: 1.4381 - val_accuracy: 0.7170\n",
      "Epoch 13/20\n",
      "63/63 [==============================] - 0s 4ms/step - loss: 0.5754 - accuracy: 0.8460 - val_loss: 1.4909 - val_accuracy: 0.7120\n",
      "Epoch 14/20\n",
      "63/63 [==============================] - 0s 4ms/step - loss: 0.5419 - accuracy: 0.8543 - val_loss: 1.5590 - val_accuracy: 0.7100\n",
      "Epoch 15/20\n",
      "63/63 [==============================] - 0s 4ms/step - loss: 0.5143 - accuracy: 0.8602 - val_loss: 1.5874 - val_accuracy: 0.7150\n",
      "Epoch 16/20\n",
      "63/63 [==============================] - 0s 4ms/step - loss: 0.4881 - accuracy: 0.8670 - val_loss: 1.6552 - val_accuracy: 0.7160\n",
      "Epoch 17/20\n",
      "63/63 [==============================] - 0s 4ms/step - loss: 0.4646 - accuracy: 0.8716 - val_loss: 1.6946 - val_accuracy: 0.7220\n",
      "Epoch 18/20\n",
      "63/63 [==============================] - 0s 4ms/step - loss: 0.4475 - accuracy: 0.8757 - val_loss: 1.7500 - val_accuracy: 0.7080\n",
      "Epoch 19/20\n",
      "63/63 [==============================] - 0s 4ms/step - loss: 0.4262 - accuracy: 0.8792 - val_loss: 1.8070 - val_accuracy: 0.7040\n",
      "Epoch 20/20\n",
      "63/63 [==============================] - 0s 4ms/step - loss: 0.4081 - accuracy: 0.8820 - val_loss: 1.8533 - val_accuracy: 0.7100\n"
     ]
    },
    {
     "data": {
      "text/plain": [
       "<keras.src.callbacks.History at 0x283f327f0>"
      ]
     },
     "execution_count": 39,
     "metadata": {},
     "output_type": "execute_result"
    }
   ],
   "source": [
    "'''A model with an information bottleneck'''\n",
    "\n",
    "model = keras.Sequential([\n",
    "    layers.Dense(64, activation=\"relu\"),\n",
    "    layers.Dense(4, activation=\"relu\"),\n",
    "    layers.Dense(46, activation=\"softmax\")\n",
    "])\n",
    "model.compile(optimizer=\"rmsprop\",\n",
    "              loss=\"categorical_crossentropy\",\n",
    "              metrics=[\"accuracy\"])\n",
    "model.fit(partial_x_train,\n",
    "          partial_y_train,\n",
    "          epochs=20,\n",
    "          batch_size=128,\n",
    "          validation_data=(x_val, y_val))"
   ]
  },
  {
   "cell_type": "markdown",
   "id": "2e5cd72e",
   "metadata": {},
   "source": [
    "The model now peaks at approximately 71% validation accuracy, an 8% absolute drop. This drop is mostly due to the fact that we’re trying to compress a lot of information (enough information to recover the separation hyperplanes of 46 classes) into an intermediate space that is too low-dimensional. The model is able to cram most of the necessary information into these four-dimensional representations, but not all of it."
   ]
  },
  {
   "cell_type": "markdown",
   "id": "04ee12fd",
   "metadata": {},
   "source": [
    "#### Wrapping up the example\n",
    "\n",
    "From the above example, we have learned that:\n",
    "*    If we’re trying to classify data points among N classes, our model should end with a Dense layer of size N\n",
    "*    In a single-label, multiclass classification problem, your model should end with a `softmax` activation so that it will output a probability distribution over the N output classes.\n",
    "*    Categorical crossentropy is almost always the loss function you should use for such problems. It minimizes the distance between the probability distributions output by the model and the true distribution of the targets.\n",
    "*    There are two ways to handle labels in multiclass classification:\n",
    "    *    Encoding the labels via categorical encoding (also known as one-hot encoding) and using `categorical_crossentropy` as a loss function\n",
    "    *    Encoding the labels as integers and using the `sparse_categorical_crossentropy` loss function\n",
    "*    If we need to classify data into a large number of categories, we should avoid creating information bottlenecks in our model due to intermediate layers that are too small."
   ]
  },
  {
   "cell_type": "code",
   "execution_count": null,
   "id": "428bf973",
   "metadata": {},
   "outputs": [],
   "source": []
  }
 ],
 "metadata": {
  "kernelspec": {
   "display_name": "Python 3 (ipykernel)",
   "language": "python",
   "name": "python3"
  },
  "language_info": {
   "codemirror_mode": {
    "name": "ipython",
    "version": 3
   },
   "file_extension": ".py",
   "mimetype": "text/x-python",
   "name": "python",
   "nbconvert_exporter": "python",
   "pygments_lexer": "ipython3",
   "version": "3.9.13"
  }
 },
 "nbformat": 4,
 "nbformat_minor": 5
}
