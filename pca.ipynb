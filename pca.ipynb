{
 "cells": [
  {
   "cell_type": "code",
   "execution_count": 1,
   "id": "1d4f0814",
   "metadata": {},
   "outputs": [],
   "source": [
    "import pandas as pd\n",
    "import numpy as np"
   ]
  },
  {
   "cell_type": "code",
   "execution_count": 2,
   "id": "e10c63dc",
   "metadata": {},
   "outputs": [],
   "source": [
    "from sklearn.decomposition import PCA\n",
    "import matplotlib.pyplot as plt"
   ]
  },
  {
   "cell_type": "code",
   "execution_count": 3,
   "id": "cfdc520b",
   "metadata": {},
   "outputs": [
    {
     "data": {
      "text/plain": [
       "[<matplotlib.lines.Line2D at 0x17bcd34c0>]"
      ]
     },
     "execution_count": 3,
     "metadata": {},
     "output_type": "execute_result"
    },
    {
     "data": {
      "image/png": "[encoded data removed]",
      "text/plain": [
       "<Figure size 640x480 with 1 Axes>"
      ]
     },
     "metadata": {},
     "output_type": "display_data"
    }
   ],
   "source": [
    "data = np.loadtxt(\"data/linearRegressionSimple.csv\", delimiter=\",\")\n",
    "\n",
    "plt.title(\"Original Data\")\n",
    "plt.plot(data[:,0], data[:,1], 'ro')"
   ]
  },
  {
   "cell_type": "code",
   "execution_count": 4,
   "id": "1f18eab5",
   "metadata": {},
   "outputs": [
    {
     "data": {
      "text/html": [
       "<style>#sk-container-id-1 {color: black;background-color: white;}#sk-container-id-1 pre{padding: 0;}#sk-container-id-1 div.sk-toggleable {background-color: white;}#sk-container-id-1 label.sk-toggleable__label {cursor: pointer;display: block;width: 100%;margin-bottom: 0;padding: 0.3em;box-sizing: border-box;text-align: center;}#sk-container-id-1 label.sk-toggleable__label-arrow:before {content: \"▸\";float: left;margin-right: 0.25em;color: #696969;}#sk-container-id-1 label.sk-toggleable__label-arrow:hover:before {color: black;}#sk-container-id-1 div.sk-estimator:hover label.sk-toggleable__label-arrow:before {color: black;}#sk-container-id-1 div.sk-toggleable__content {max-height: 0;max-width: 0;overflow: hidden;text-align: left;background-color: #f0f8ff;}#sk-container-id-1 div.sk-toggleable__content pre {margin: 0.2em;color: black;border-radius: 0.25em;background-color: #f0f8ff;}#sk-container-id-1 input.sk-toggleable__control:checked~div.sk-toggleable__content {max-height: 200px;max-width: 100%;overflow: auto;}#sk-container-id-1 input.sk-toggleable__control:checked~label.sk-toggleable__label-arrow:before {content: \"▾\";}#sk-container-id-1 div.sk-estimator input.sk-toggleable__control:checked~label.sk-toggleable__label {background-color: #d4ebff;}#sk-container-id-1 div.sk-label input.sk-toggleable__control:checked~label.sk-toggleable__label {background-color: #d4ebff;}#sk-container-id-1 input.sk-hidden--visually {border: 0;clip: rect(1px 1px 1px 1px);clip: rect(1px, 1px, 1px, 1px);height: 1px;margin: -1px;overflow: hidden;padding: 0;position: absolute;width: 1px;}#sk-container-id-1 div.sk-estimator {font-family: monospace;background-color: #f0f8ff;border: 1px dotted black;border-radius: 0.25em;box-sizing: border-box;margin-bottom: 0.5em;}#sk-container-id-1 div.sk-estimator:hover {background-color: #d4ebff;}#sk-container-id-1 div.sk-parallel-item::after {content: \"\";width: 100%;border-bottom: 1px solid gray;flex-grow: 1;}#sk-container-id-1 div.sk-label:hover label.sk-toggleable__label {background-color: #d4ebff;}#sk-container-id-1 div.sk-serial::before {content: \"\";position: absolute;border-left: 1px solid gray;box-sizing: border-box;top: 0;bottom: 0;left: 50%;z-index: 0;}#sk-container-id-1 div.sk-serial {display: flex;flex-direction: column;align-items: center;background-color: white;padding-right: 0.2em;padding-left: 0.2em;position: relative;}#sk-container-id-1 div.sk-item {position: relative;z-index: 1;}#sk-container-id-1 div.sk-parallel {display: flex;align-items: stretch;justify-content: center;background-color: white;position: relative;}#sk-container-id-1 div.sk-item::before, #sk-container-id-1 div.sk-parallel-item::before {content: \"\";position: absolute;border-left: 1px solid gray;box-sizing: border-box;top: 0;bottom: 0;left: 50%;z-index: -1;}#sk-container-id-1 div.sk-parallel-item {display: flex;flex-direction: column;z-index: 1;position: relative;background-color: white;}#sk-container-id-1 div.sk-parallel-item:first-child::after {align-self: flex-end;width: 50%;}#sk-container-id-1 div.sk-parallel-item:last-child::after {align-self: flex-start;width: 50%;}#sk-container-id-1 div.sk-parallel-item:only-child::after {width: 0;}#sk-container-id-1 div.sk-dashed-wrapped {border: 1px dashed gray;margin: 0 0.4em 0.5em 0.4em;box-sizing: border-box;padding-bottom: 0.4em;background-color: white;}#sk-container-id-1 div.sk-label label {font-family: monospace;font-weight: bold;display: inline-block;line-height: 1.2em;}#sk-container-id-1 div.sk-label-container {text-align: center;}#sk-container-id-1 div.sk-container {/* jupyter's `normalize.less` sets `[hidden] { display: none; }` but bootstrap.min.css set `[hidden] { display: none !important; }` so we also need the `!important` here to be able to override the default hidden behavior on the sphinx rendered scikit-learn.org. See: https://github.com/scikit-learn/scikit-learn/issues/21755 */display: inline-block !important;position: relative;}#sk-container-id-1 div.sk-text-repr-fallback {display: none;}</style><div id=\"sk-container-id-1\" class=\"sk-top-container\"><div class=\"sk-text-repr-fallback\"><pre>PCA(n_components=2)</pre><b>In a Jupyter environment, please rerun this cell to show the HTML representation or trust the notebook. <br />On GitHub, the HTML representation is unable to render, please try loading this page with nbviewer.org.</b></div><div class=\"sk-container\" hidden><div class=\"sk-item\"><div class=\"sk-estimator sk-toggleable\"><input class=\"sk-toggleable__control sk-hidden--visually\" id=\"sk-estimator-id-1\" type=\"checkbox\" checked><label for=\"sk-estimator-id-1\" class=\"sk-toggleable__label sk-toggleable__label-arrow\">PCA</label><div class=\"sk-toggleable__content\"><pre>PCA(n_components=2)</pre></div></div></div></div></div>"
      ],
      "text/plain": [
       "PCA(n_components=2)"
      ]
     },
     "execution_count": 4,
     "metadata": {},
     "output_type": "execute_result"
    }
   ],
   "source": [
    "pca_2D = PCA(n_components=2)\n",
    "pca_2D"
   ]
  },
  {
   "cell_type": "code",
   "execution_count": 5,
   "id": "b4314b0d",
   "metadata": {},
   "outputs": [
    {
     "data": {
      "text/plain": [
       "array([9.99999653e-01, 3.47201727e-07])"
      ]
     },
     "execution_count": 5,
     "metadata": {},
     "output_type": "execute_result"
    }
   ],
   "source": [
    "#sklearn does the centering (subtracting mean)\n",
    "pca_2D.fit(data)\n",
    "pca_2D.explained_variance_ratio_"
   ]
  },
  {
   "cell_type": "code",
   "execution_count": 6,
   "id": "71376300",
   "metadata": {},
   "outputs": [
    {
     "data": {
      "text/plain": [
       "array([[ 0.00541659,  0.99998533],\n",
       "       [ 0.99998533, -0.00541659]])"
      ]
     },
     "execution_count": 6,
     "metadata": {},
     "output_type": "execute_result"
    }
   ],
   "source": [
    "pca_2D.components_"
   ]
  },
  {
   "cell_type": "code",
   "execution_count": 7,
   "id": "e0a4f015",
   "metadata": {},
   "outputs": [
    {
     "name": "stdout",
     "output_type": "stream",
     "text": [
      "Sum of variances: 1.0\n",
      "\n",
      "pca_2D (transform):\n",
      " [[-7.00009366e+02  1.66665538e-01]\n",
      " [-5.00006884e+02  8.33330512e-02]\n",
      " [-3.00004401e+02  5.64211476e-07]\n",
      " [-1.00001918e+02 -8.33319228e-02]\n",
      " [ 1.00000564e+02 -1.66664410e-01]\n",
      " [ 3.00003047e+02 -2.49996897e-01]\n",
      " [ 5.00005529e+02 -3.33329384e-01]\n",
      " [ 7.00013429e+02  5.83323459e-01]]\n",
      "\n",
      "pca_2D (inverse_transform):\n",
      " [[1.0e+00 3.0e+02]\n",
      " [2.0e+00 5.0e+02]\n",
      " [3.0e+00 7.0e+02]\n",
      " [4.0e+00 9.0e+02]\n",
      " [5.0e+00 1.1e+03]\n",
      " [6.0e+00 1.3e+03]\n",
      " [7.0e+00 1.5e+03]\n",
      " [9.0e+00 1.7e+03]]\n",
      "\n",
      "Original:\n",
      " [[1.0e+00 3.0e+02]\n",
      " [2.0e+00 5.0e+02]\n",
      " [3.0e+00 7.0e+02]\n",
      " [4.0e+00 9.0e+02]\n",
      " [5.0e+00 1.1e+03]\n",
      " [6.0e+00 1.3e+03]\n",
      " [7.0e+00 1.5e+03]\n",
      " [9.0e+00 1.7e+03]]\n"
     ]
    },
    {
     "data": {
      "image/png": "[encoded data removed]",
      "text/plain": [
       "<Figure size 1000x500 with 2 Axes>"
      ]
     },
     "metadata": {},
     "output_type": "display_data"
    }
   ],
   "source": [
    "data_2D = pca_2D.transform(data)\n",
    "data_2D_inverseTransform = pca_2D.inverse_transform(data_2D)\n",
    "\n",
    "#scaling 2D to 2D doesn't result in a loss in variance sum(==1)\n",
    "print(\"Sum of variances:\",np.sum(pca_2D.explained_variance_ratio_))\n",
    "\n",
    "print(\"\\npca_2D (transform):\\n\",data_2D)\n",
    "print(\"\\npca_2D (inverse_transform):\\n\",data_2D_inverseTransform)\n",
    "print(\"\\nOriginal:\\n\",data)\n",
    "\n",
    "plt.figure(figsize=(10, 5))\n",
    "\n",
    "# Plot 1: transformed 2D data\n",
    "plt.subplot(1, 2, 1)\n",
    "plt.scatter(data_2D[:, 0], data_2D[:, 1], c='r', label='Data points')\n",
    "plt.xlabel('Principal Component 1')\n",
    "plt.ylabel('Principal Component 2')\n",
    "plt.title('pca_2D (transform)')\n",
    "plt.legend()\n",
    "plt.grid(True)\n",
    "\n",
    "# Plot 2: reconstructed 2D data after inverse transformation\n",
    "plt.subplot(1, 2, 2)\n",
    "plt.title(\"pca_2D (inverse_transform)\")\n",
    "plt.plot(data_2D_inverseTransform[:, 0], data_2D_inverseTransform[:, 1], 'bo')\n",
    "\n",
    "plt.tight_layout()\n",
    "plt.show()"
   ]
  },
  {
   "cell_type": "code",
   "execution_count": 8,
   "id": "0281785f",
   "metadata": {},
   "outputs": [
    {
     "data": {
      "text/html": [
       "<style>#sk-container-id-2 {color: black;background-color: white;}#sk-container-id-2 pre{padding: 0;}#sk-container-id-2 div.sk-toggleable {background-color: white;}#sk-container-id-2 label.sk-toggleable__label {cursor: pointer;display: block;width: 100%;margin-bottom: 0;padding: 0.3em;box-sizing: border-box;text-align: center;}#sk-container-id-2 label.sk-toggleable__label-arrow:before {content: \"▸\";float: left;margin-right: 0.25em;color: #696969;}#sk-container-id-2 label.sk-toggleable__label-arrow:hover:before {color: black;}#sk-container-id-2 div.sk-estimator:hover label.sk-toggleable__label-arrow:before {color: black;}#sk-container-id-2 div.sk-toggleable__content {max-height: 0;max-width: 0;overflow: hidden;text-align: left;background-color: #f0f8ff;}#sk-container-id-2 div.sk-toggleable__content pre {margin: 0.2em;color: black;border-radius: 0.25em;background-color: #f0f8ff;}#sk-container-id-2 input.sk-toggleable__control:checked~div.sk-toggleable__content {max-height: 200px;max-width: 100%;overflow: auto;}#sk-container-id-2 input.sk-toggleable__control:checked~label.sk-toggleable__label-arrow:before {content: \"▾\";}#sk-container-id-2 div.sk-estimator input.sk-toggleable__control:checked~label.sk-toggleable__label {background-color: #d4ebff;}#sk-container-id-2 div.sk-label input.sk-toggleable__control:checked~label.sk-toggleable__label {background-color: #d4ebff;}#sk-container-id-2 input.sk-hidden--visually {border: 0;clip: rect(1px 1px 1px 1px);clip: rect(1px, 1px, 1px, 1px);height: 1px;margin: -1px;overflow: hidden;padding: 0;position: absolute;width: 1px;}#sk-container-id-2 div.sk-estimator {font-family: monospace;background-color: #f0f8ff;border: 1px dotted black;border-radius: 0.25em;box-sizing: border-box;margin-bottom: 0.5em;}#sk-container-id-2 div.sk-estimator:hover {background-color: #d4ebff;}#sk-container-id-2 div.sk-parallel-item::after {content: \"\";width: 100%;border-bottom: 1px solid gray;flex-grow: 1;}#sk-container-id-2 div.sk-label:hover label.sk-toggleable__label {background-color: #d4ebff;}#sk-container-id-2 div.sk-serial::before {content: \"\";position: absolute;border-left: 1px solid gray;box-sizing: border-box;top: 0;bottom: 0;left: 50%;z-index: 0;}#sk-container-id-2 div.sk-serial {display: flex;flex-direction: column;align-items: center;background-color: white;padding-right: 0.2em;padding-left: 0.2em;position: relative;}#sk-container-id-2 div.sk-item {position: relative;z-index: 1;}#sk-container-id-2 div.sk-parallel {display: flex;align-items: stretch;justify-content: center;background-color: white;position: relative;}#sk-container-id-2 div.sk-item::before, #sk-container-id-2 div.sk-parallel-item::before {content: \"\";position: absolute;border-left: 1px solid gray;box-sizing: border-box;top: 0;bottom: 0;left: 50%;z-index: -1;}#sk-container-id-2 div.sk-parallel-item {display: flex;flex-direction: column;z-index: 1;position: relative;background-color: white;}#sk-container-id-2 div.sk-parallel-item:first-child::after {align-self: flex-end;width: 50%;}#sk-container-id-2 div.sk-parallel-item:last-child::after {align-self: flex-start;width: 50%;}#sk-container-id-2 div.sk-parallel-item:only-child::after {width: 0;}#sk-container-id-2 div.sk-dashed-wrapped {border: 1px dashed gray;margin: 0 0.4em 0.5em 0.4em;box-sizing: border-box;padding-bottom: 0.4em;background-color: white;}#sk-container-id-2 div.sk-label label {font-family: monospace;font-weight: bold;display: inline-block;line-height: 1.2em;}#sk-container-id-2 div.sk-label-container {text-align: center;}#sk-container-id-2 div.sk-container {/* jupyter's `normalize.less` sets `[hidden] { display: none; }` but bootstrap.min.css set `[hidden] { display: none !important; }` so we also need the `!important` here to be able to override the default hidden behavior on the sphinx rendered scikit-learn.org. See: https://github.com/scikit-learn/scikit-learn/issues/21755 */display: inline-block !important;position: relative;}#sk-container-id-2 div.sk-text-repr-fallback {display: none;}</style><div id=\"sk-container-id-2\" class=\"sk-top-container\"><div class=\"sk-text-repr-fallback\"><pre>PCA(n_components=1)</pre><b>In a Jupyter environment, please rerun this cell to show the HTML representation or trust the notebook. <br />On GitHub, the HTML representation is unable to render, please try loading this page with nbviewer.org.</b></div><div class=\"sk-container\" hidden><div class=\"sk-item\"><div class=\"sk-estimator sk-toggleable\"><input class=\"sk-toggleable__control sk-hidden--visually\" id=\"sk-estimator-id-2\" type=\"checkbox\" checked><label for=\"sk-estimator-id-2\" class=\"sk-toggleable__label sk-toggleable__label-arrow\">PCA</label><div class=\"sk-toggleable__content\"><pre>PCA(n_components=1)</pre></div></div></div></div></div>"
      ],
      "text/plain": [
       "PCA(n_components=1)"
      ]
     },
     "execution_count": 8,
     "metadata": {},
     "output_type": "execute_result"
    }
   ],
   "source": [
    "#PCA 1D\n",
    "pca_1D = PCA(n_components=1)\n",
    "pca_1D"
   ]
  },
  {
   "cell_type": "code",
   "execution_count": 9,
   "id": "bc165c67",
   "metadata": {},
   "outputs": [
    {
     "data": {
      "text/plain": [
       "array([0.99999965])"
      ]
     },
     "execution_count": 9,
     "metadata": {},
     "output_type": "execute_result"
    }
   ],
   "source": [
    "pca_1D.fit(data)\n",
    "pca_1D.explained_variance_ratio_\n",
    "#0.99999952 of the variance is explained"
   ]
  },
  {
   "cell_type": "code",
   "execution_count": 10,
   "id": "cbd8cc9d",
   "metadata": {},
   "outputs": [
    {
     "data": {
      "text/plain": [
       "array([[0.00541659, 0.99998533]])"
      ]
     },
     "execution_count": 10,
     "metadata": {},
     "output_type": "execute_result"
    }
   ],
   "source": [
    "pca_1D.components_"
   ]
  },
  {
   "cell_type": "code",
   "execution_count": 11,
   "id": "bd6e64f9",
   "metadata": {},
   "outputs": [
    {
     "data": {
      "text/plain": [
       "array([[-700.00936626],\n",
       "       [-500.00688363],\n",
       "       [-300.00440101],\n",
       "       [-100.00191839],\n",
       "       [ 100.00056424],\n",
       "       [ 300.00304686],\n",
       "       [ 500.00552949],\n",
       "       [ 700.0134287 ]])"
      ]
     },
     "execution_count": 11,
     "metadata": {},
     "output_type": "execute_result"
    }
   ],
   "source": [
    "data_1D = pca_1D.transform(data)\n",
    "data_1D"
   ]
  },
  {
   "cell_type": "code",
   "execution_count": 12,
   "id": "7badb6d5",
   "metadata": {},
   "outputs": [
    {
     "name": "stdout",
     "output_type": "stream",
     "text": [
      "Sum of variances: 0.9999996527982726\n",
      "\n",
      "pca_1D (transform):\n",
      " [[-700.00936626]\n",
      " [-500.00688363]\n",
      " [-300.00440101]\n",
      " [-100.00191839]\n",
      " [ 100.00056424]\n",
      " [ 300.00304686]\n",
      " [ 500.00552949]\n",
      " [ 700.0134287 ]]\n",
      "\n",
      "pca_1D (inverse_transform):\n",
      " [[8.33336907e-01 3.00000903e+02]\n",
      " [1.91666817e+00 5.00000451e+02]\n",
      " [2.99999944e+00 7.00000000e+02]\n",
      " [4.08333070e+00 8.99999549e+02]\n",
      " [5.16666196e+00 1.09999910e+03]\n",
      " [6.24999323e+00 1.29999865e+03]\n",
      " [7.33332449e+00 1.49999819e+03]\n",
      " [8.41668510e+00 1.70000316e+03]]\n",
      "\n",
      "Original:\n",
      " [[1.0e+00 3.0e+02]\n",
      " [2.0e+00 5.0e+02]\n",
      " [3.0e+00 7.0e+02]\n",
      " [4.0e+00 9.0e+02]\n",
      " [5.0e+00 1.1e+03]\n",
      " [6.0e+00 1.3e+03]\n",
      " [7.0e+00 1.5e+03]\n",
      " [9.0e+00 1.7e+03]]\n"
     ]
    },
    {
     "data": {
      "image/png": "[encoded data removed]",
      "text/plain": [
       "<Figure size 1000x500 with 2 Axes>"
      ]
     },
     "metadata": {},
     "output_type": "display_data"
    }
   ],
   "source": [
    "data_1D = pca_1D.transform(data)\n",
    "data_1D_inverseTransform = pca_1D.inverse_transform(data_1D)\n",
    "\n",
    "print(\"Sum of variances:\", np.sum(pca_1D.explained_variance_ratio_))\n",
    "\n",
    "print(\"\\npca_1D (transform):\\n\", data_1D)\n",
    "print(\"\\npca_1D (inverse_transform):\\n\", data_1D_inverseTransform)\n",
    "print(\"\\nOriginal:\\n\", data)\n",
    "\n",
    "plt.figure(figsize=(10, 5))\n",
    "\n",
    "# Plot 1: Transformed 1D data\n",
    "plt.subplot(1, 2, 1)\n",
    "plt.plot(data_1D[:, 0], np.zeros_like(data_1D[:, 0]), 'bo')\n",
    "plt.ylabel('Principal Component 1 (PC1)')\n",
    "plt.title('pca_1D (transform)')\n",
    "plt.grid(True)\n",
    "\n",
    "# Plot 2: Reconstructed 2D data after inverse transformation\n",
    "plt.subplot(1, 2, 2)\n",
    "plt.plot(data_1D_inverseTransform[:,0], data_1D_inverseTransform[:,1], 'bo')\n",
    "plt.title('pca_1D (inverse_transform)')\n",
    "plt.grid(True)\n",
    "\n",
    "plt.tight_layout()\n",
    "plt.show()\n"
   ]
  },
  {
   "cell_type": "code",
   "execution_count": 13,
   "id": "a62b9218",
   "metadata": {},
   "outputs": [],
   "source": [
    "data2 = np.loadtxt(\"data/multipleFeaturesExtended.csv\", delimiter=\",\",skiprows=1)"
   ]
  },
  {
   "cell_type": "code",
   "execution_count": 14,
   "id": "1adba9d2",
   "metadata": {},
   "outputs": [],
   "source": [
    "X_values = data2[:,:-1]\n",
    "y_values = data2[:,-1]"
   ]
  },
  {
   "cell_type": "code",
   "execution_count": 15,
   "id": "aa25da86",
   "metadata": {},
   "outputs": [
    {
     "name": "stdout",
     "output_type": "stream",
     "text": [
      "(119, 4)\n"
     ]
    },
    {
     "data": {
      "text/plain": [
       "array([9.99929174e-01, 6.77997192e-05, 2.96166508e-06])"
      ]
     },
     "execution_count": 15,
     "metadata": {},
     "output_type": "execute_result"
    }
   ],
   "source": [
    "#reducing 4 dimensions to 3D (to make it easier to plot the features)\n",
    "print(X_values.shape)\n",
    "pca2_3D = PCA(n_components=3)\n",
    "pca2_3D.fit(X_values)\n",
    "pca2_3D.explained_variance_ratio_"
   ]
  },
  {
   "cell_type": "code",
   "execution_count": 16,
   "id": "b2a3b3df",
   "metadata": {},
   "outputs": [],
   "source": [
    "data2_transform3D = pca2_3D.transform(X_values)\n",
    "df_data2_transform3D =pd.DataFrame(data2_transform3D,columns = ['PC1','PC2','PC3'])"
   ]
  },
  {
   "cell_type": "code",
   "execution_count": 17,
   "id": "3fe973c1",
   "metadata": {},
   "outputs": [
    {
     "name": "stdout",
     "output_type": "stream",
     "text": [
      "Sum of variances: 0.9999999351419528\n",
      "\n",
      "pca2_3D (transform):\n",
      " [[-2.57980154e+02 -1.61411807e+00  9.30714527e-01]\n",
      " [ 1.42020665e+02 -1.46123265e+00  3.11463888e-02]\n",
      " [-5.57985405e+02  3.08164529e-01 -1.33953362e+00]\n",
      " [ 2.42025017e+02 -3.16468753e+00 -4.64250194e-01]\n",
      " [-3.57982920e+02 -5.34494260e-01 -2.01169422e-01]\n",
      " [-6.57987437e+02  1.04059112e+00 -1.10052359e+00]\n",
      " [ 4.42027132e+02 -3.83292936e+00 -5.88485104e-03]\n",
      " [-1.57985794e+02  9.08827388e-01  5.72813586e-02]\n",
      " [-2.57983200e+02 -2.97529240e-01 -1.94689173e-01]\n",
      " [-5.79768233e+01 -2.73177403e+00 -9.18199518e-01]]\n",
      "\n",
      "pca2_3D (inverse_transform):\n",
      " [[2.40000000e+03 3.99537689e+00 3.00455714e+00 5.99998044e+00]\n",
      " [2.80000000e+03 3.50509198e+00 2.50211454e+00 5.00213724e+00]\n",
      " [2.10000000e+03 2.00526572e+00 9.94809409e-01 8.00002228e+00]\n",
      " [2.90000000e+03 3.50235736e+00 2.49054241e+00 2.99789428e+00]\n",
      " [2.30000000e+03 3.00036992e+00 1.99963536e+00 7.00000157e+00]\n",
      " [2.00000000e+03 2.00302243e+00 9.97020692e-01 9.00001279e+00]\n",
      " [3.10000000e+03 4.00464170e+00 2.99542452e+00 2.00001964e+00]\n",
      " [2.50000000e+03 2.99841828e+00 2.00155916e+00 7.99999331e+00]\n",
      " [2.40000000e+03 3.00046713e+00 1.99953953e+00 7.00000198e+00]\n",
      " [2.60000000e+03 3.00709978e+00 1.99300151e+00 4.00003004e+00]]\n",
      "\n",
      "Original:\n",
      " [[2.4e+03 4.0e+00 3.0e+00 6.0e+00]\n",
      " [2.8e+03 3.0e+00 3.0e+00 5.0e+00]\n",
      " [2.1e+03 2.0e+00 1.0e+00 8.0e+00]\n",
      " [2.9e+03 4.0e+00 2.0e+00 3.0e+00]\n",
      " [2.3e+03 3.0e+00 2.0e+00 7.0e+00]\n",
      " [2.0e+03 2.0e+00 1.0e+00 9.0e+00]\n",
      " [3.1e+03 4.0e+00 3.0e+00 2.0e+00]\n",
      " [2.5e+03 3.0e+00 2.0e+00 8.0e+00]\n",
      " [2.4e+03 3.0e+00 2.0e+00 7.0e+00]\n",
      " [2.6e+03 3.0e+00 2.0e+00 4.0e+00]]\n"
     ]
    }
   ],
   "source": [
    "data2_3D_inverseTransform = pca2_3D.inverse_transform(data2_transform3D)\n",
    "\n",
    "print(\"Sum of variances:\", np.sum(pca2_3D.explained_variance_ratio_))\n",
    "#0.9999999351419528 of the variance is explained\n",
    "\n",
    "print(\"\\npca2_3D (transform):\\n\", data2_transform3D[:10,:])\n",
    "print(\"\\npca2_3D (inverse_transform):\\n\", data2_3D_inverseTransform[:10,:])\n",
    "print(\"\\nOriginal:\\n\", data2[:10,:-1])"
   ]
  },
  {
   "cell_type": "code",
   "execution_count": 18,
   "id": "79884009",
   "metadata": {},
   "outputs": [
    {
     "data": {
      "text/html": [
       "        <script type=\"text/javascript\">\n",
       "        window.PlotlyConfig = {MathJaxConfig: 'local'};\n",
       "        if (window.MathJax && window.MathJax.Hub && window.MathJax.Hub.Config) {window.MathJax.Hub.Config({SVG: {font: \"STIX-Web\"}});}\n",
       "        if (typeof require !== 'undefined') {\n",
       "        require.undef(\"plotly\");\n",
       "        requirejs.config({\n",
       "            paths: {\n",
       "                'plotly': ['https://cdn.plot.ly/plotly-2.24.1.min']\n",
       "            }\n",
       "        });\n",
       "        require(['plotly'], function(Plotly) {\n",
       "            window._Plotly = Plotly;\n",
       "        });\n",
       "        }\n",
       "        </script>\n",
       "        "
      ]
     },
     "metadata": {},
     "output_type": "display_data"
    },
    {
     "data": {
      "application/vnd.plotly.v1+json": {
       "config": {
        "plotlyServerURL": "https://plot.ly"
       },
       "data": [
        {
         "hovertemplate": "PC1=%{x}<br>PC2=%{y}<br>PC3=%{z}<extra></extra>",
         "legendgroup": "",
         "marker": {
          "color": "#000000",
          "symbol": "circle"
         },
         "mode": "markers",
         "name": "",
         "scene": "scene",
         "showlegend": false,
         "type": "scatter3d",
         "x": [
          -257.9801535393154,
          142.02066538549425,
          -557.9854045102862,
          242.02501698744575,
          -357.98291951108024,
          -657.9874365675123,
          442.0271317719121,
          -157.98579448598298,
          -257.98320048363917,
          -57.976823339402145,
          -357.96830741783174,
          42.020582658254,
          -457.98032550873637,
          -357.9882794851889,
          -157.97349542251945,
          -257.98551351342405,
          -557.9823575659625,
          142.02797468958875,
          42.01826962846906,
          -57.991435432650626,
          -157.9758084523044,
          -457.98726459809114,
          -657.9820765934036,
          242.0300067468148,
          -357.9852325408651,
          -257.9908734875328,
          -157.9781214820893,
          -57.986075458541904,
          -557.9823575659625,
          142.02797468958875,
          42.01826962846906,
          342.0074406771138,
          -157.9781214820893,
          -457.98726459809114,
          -657.9820765934036,
          242.0300067468148,
          -257.98551351342405,
          -157.99115446009174,
          -57.97840245464824,
          42.013643568899184,
          -557.9823575659625,
          142.0302877193737,
          42.01826962846906,
          342.0074406771138,
          -57.980715484433176,
          -457.98726459809114,
          -657.9820765934036,
          242.0300067468148,
          -157.98579448598298,
          -57.991435432650626,
          42.02131657279285,
          142.01336259634027,
          -557.9823575659625,
          142.0302877193737,
          242.01770768335126,
          442.0071597045549,
          42.01900354300791,
          -357.98754557065007,
          -657.9820765934036,
          342.0297257742559,
          -57.986075458541904,
          42.00828359479046,
          142.02103560023394,
          242.01308162378137,
          -457.9826385385213,
          142.0302877193737,
          242.01770768335126,
          342.0074406771138,
          142.018722570449,
          -357.98754557065007,
          -657.9820765934036,
          442.029444801697,
          42.013643568899184,
          142.00800262223152,
          242.02075462767505,
          342.0128006512225,
          -457.9826385385213,
          142.0302877193737,
          242.01770768335126,
          442.0071597045549,
          142.01640954066406,
          -257.99013957299394,
          -557.9846705957474,
          542.029163829138,
          142.01104956655533,
          242.00540861988767,
          342.0181606253312,
          442.0102066488787,
          -357.9852325408651,
          242.02769371702985,
          342.0151136810074,
          542.0045657022109,
          242.01612856810516,
          -157.99042054555287,
          -457.98726459809114,
          642.0265698267942,
          242.0084555642115,
          342.0028146175439,
          442.01556662298736,
          542.0076126465348,
          -257.987826543209,
          342.025099714686,
          442.01251967866364,
          642.0019716998671,
          342.01353456576135,
          -57.99301454789672,
          -357.989858600435,
          742.0239758244503,
          -457.99189065766103,
          42.012064453653096,
          442.0194587680184,
          -57.990701518111784,
          342.02278668490106,
          542.0238038550293,
          -557.994656629426,
          -257.9894056584551,
          242.01539465356632,
          442.02019268255725,
          642.0258359122554
         ],
         "y": [
          -1.6141180682759821,
          -1.461232648662554,
          0.3081645289760262,
          -3.164687525172007,
          -0.53449425979858,
          1.0405911178308218,
          -3.8329293645867772,
          0.9088273881646037,
          -0.29752924009578396,
          -2.731774026362967,
          -6.698041130766737,
          -1.5254173981025796,
          -1.7408508880589677,
          1.7514861769392096,
          -4.2853278742459615,
          0.6718623684618078,
          -1.0084242992041719,
          -4.543824423695165,
          -0.5560257895449877,
          3.4317728446051894,
          -3.3159362656883697,
          1.1673239376138076,
          -1.245389318906968,
          -5.27625101254996,
          0.43489734875901176,
          2.9578428051995975,
          -2.346544657130778,
          1.1457924078673998,
          -1.0084242992041719,
          -4.543824423695165,
          -0.5560257895449877,
          4.379632923416374,
          -2.346544657130778,
          1.1673239376138076,
          -1.245389318906968,
          -5.27625101254996,
          0.6718623684618078,
          3.1948078249023935,
          -2.1095796374279816,
          1.3827574275701957,
          -1.0084242992041719,
          -5.513216032252757,
          -0.5560257895449877,
          4.379632923416374,
          -1.14018802887039,
          1.1673239376138076,
          -1.245389318906968,
          -5.27625101254996,
          0.9088273881646037,
          3.4317728446051894,
          -1.8726146177251857,
          1.6197224472729916,
          -1.0084242992041719,
          -5.513216032252757,
          -0.08209575013939575,
          4.61659794311917,
          -0.903223009167594,
          1.4042889573166035,
          -1.245389318906968,
          -5.039285992847165,
          1.1457924078673998,
          3.6687378643079853,
          -1.6356495980223897,
          1.8566874669757878,
          -0.7714592795013759,
          -5.513216032252757,
          -0.08209575013939575,
          4.379632923416374,
          -0.666257989464798,
          1.4042889573166035,
          -1.245389318906968,
          -4.802320973144369,
          1.3827574275701957,
          3.9057028840107817,
          -1.3986845783195938,
          2.0936524866785837,
          -0.7714592795013759,
          -5.513216032252757,
          -0.08209575013939575,
          4.61659794311917,
          0.3031336190927938,
          2.6106455855769912,
          -0.03903269064658012,
          -4.565355953441573,
          2.5891140558305836,
          5.112059512271169,
          -0.192327950059206,
          3.3000091149389714,
          0.43489734875901176,
          -4.306859403992369,
          1.124260878120992,
          5.822954571379557,
          0.5400986387955897,
          2.847610605279787,
          1.1673239376138076,
          -3.3589993251811854,
          3.7954706840909713,
          6.318416140531557,
          1.0140286782011818,
          4.50636574319936,
          1.6412539770193995,
          -3.1005027757319814,
          2.3306175063813797,
          7.029311199639945,
          1.7464552670559774,
          4.053967233540175,
          2.3736805658741953,
          -2.1526426969207972,
          3.106107154728991,
          2.0049518165051814,
          -0.5775573192913954,
          3.0845756249825835,
          -2.1311111671743896,
          -2.2793755167037832,
          4.185730963206393,
          2.263448365954385,
          0.887295858418196,
          -0.9247545389140017,
          -3.011802105558579
         ],
         "z": [
          0.9307145266057857,
          0.03114638881791127,
          -1.3395336210901558,
          -0.4642501944474707,
          -0.20116942236805235,
          -1.100523589368432,
          -0.005884851036314079,
          0.05728135859846851,
          -0.19468917261978674,
          -0.9181995175332247,
          -0.3032171304924282,
          -0.6662289863149694,
          -0.4531399535863076,
          -1.0810828401236352,
          0.20072393194408228,
          0.050801108850202954,
          -0.21412992186458346,
          -0.025325600281110854,
          -0.42073870484497977,
          -0.8161518094088489,
          0.44621421341407197,
          0.2833308908236615,
          -0.22061017161284902,
          -0.2643356320028349,
          0.044320859101937345,
          -0.82911230890538,
          0.6917044948840617,
          0.06376160834673407,
          -0.21412992186458346,
          -0.025325600281110854,
          -0.42073870484497977,
          -0.7902308104157867,
          0.6917044948840617,
          0.2833308908236615,
          -0.22061017161284902,
          -0.2643356320028349,
          0.050801108850202954,
          -0.8226320591571143,
          0.6981847446323272,
          0.07024185809499962,
          -0.21412992186458346,
          -0.27081588175110055,
          -0.42073870484497977,
          -0.7902308104157867,
          0.9436750261023168,
          0.2833308908236615,
          -0.22061017161284902,
          -0.2643356320028349,
          0.05728135859846851,
          -0.8161518094088489,
          0.7046649943805928,
          0.07672210784326518,
          -0.21412992186458346,
          -0.27081588175110055,
          -0.40777820534844866,
          -0.783750560667521,
          0.9501552758505825,
          0.28981114057192703,
          -0.22061017161284902,
          -0.25785538225456944,
          0.06376160834673407,
          -0.8096715596605832,
          0.7111452441288583,
          0.08320235759153073,
          -0.2076496721163179,
          -0.27081588175110055,
          -0.40777820534844866,
          -0.7902308104157867,
          0.9566355255988479,
          0.28981114057192703,
          -0.22061017161284902,
          -0.2513751325063038,
          0.07024185809499962,
          -0.8031913099123178,
          0.7176254938771239,
          0.08968260733979629,
          -0.2076496721163179,
          -0.27081588175110055,
          -0.40777820534844866,
          -0.783750560667521,
          1.2021258070688376,
          0.5417816717901823,
          0.031360359605406236,
          -0.24489488275803833,
          0.32221238931325485,
          -0.5512207786940624,
          0.969596025095379,
          0.3416531385580515,
          0.044320859101937345,
          -0.01884535053284519,
          -0.15580767413019342,
          -0.5317800294492658,
          1.2086060568171033,
          0.5482619215384479,
          0.2833308908236615,
          0.007075648460217029,
          0.5741829205315101,
          -0.2992502474758073,
          1.2215665563136344,
          0.5936236697763068,
          0.29629139032019264,
          0.23312518068540994,
          0.09616285708806184,
          -0.27980949823101053,
          1.4605765880353585,
          0.8002324527567032,
          0.5353014220419168,
          0.25904617967847215,
          0.7743114537636409,
          1.6866261202605515,
          -0.6403079873219072,
          0.5547421712867134,
          0.47861546215539963,
          -1.1248083005136211,
          -0.3575724952101972,
          1.9126756524857444,
          -0.16228792387845897,
          0.730585993373655,
          -1.3638183322353452
         ]
        }
       ],
       "layout": {
        "legend": {
         "tracegroupgap": 0
        },
        "margin": {
         "t": 60
        },
        "scene": {
         "domain": {
          "x": [
           0,
           1
          ],
          "y": [
           0,
           1
          ]
         },
         "xaxis": {
          "title": {
           "text": "PC1"
          }
         },
         "yaxis": {
          "title": {
           "text": "PC2"
          }
         },
         "zaxis": {
          "title": {
           "text": "PC3"
          }
         }
        },
        "template": {
         "data": {
          "bar": [
           {
            "error_x": {
             "color": "#2a3f5f"
            },
            "error_y": {
             "color": "#2a3f5f"
            },
            "marker": {
             "line": {
              "color": "#E5ECF6",
              "width": 0.5
             },
             "pattern": {
              "fillmode": "overlay",
              "size": 10,
              "solidity": 0.2
             }
            },
            "type": "bar"
           }
          ],
          "barpolar": [
           {
            "marker": {
             "line": {
              "color": "#E5ECF6",
              "width": 0.5
             },
             "pattern": {
              "fillmode": "overlay",
              "size": 10,
              "solidity": 0.2
             }
            },
            "type": "barpolar"
           }
          ],
          "carpet": [
           {
            "aaxis": {
             "endlinecolor": "#2a3f5f",
             "gridcolor": "white",
             "linecolor": "white",
             "minorgridcolor": "white",
             "startlinecolor": "#2a3f5f"
            },
            "baxis": {
             "endlinecolor": "#2a3f5f",
             "gridcolor": "white",
             "linecolor": "white",
             "minorgridcolor": "white",
             "startlinecolor": "#2a3f5f"
            },
            "type": "carpet"
           }
          ],
          "choropleth": [
           {
            "colorbar": {
             "outlinewidth": 0,
             "ticks": ""
            },
            "type": "choropleth"
           }
          ],
          "contour": [
           {
            "colorbar": {
             "outlinewidth": 0,
             "ticks": ""
            },
            "colorscale": [
             [
              0,
              "#0d0887"
             ],
             [
              0.1111111111111111,
              "#46039f"
             ],
             [
              0.2222222222222222,
              "#7201a8"
             ],
             [
              0.3333333333333333,
              "#9c179e"
             ],
             [
              0.4444444444444444,
              "#bd3786"
             ],
             [
              0.5555555555555556,
              "#d8576b"
             ],
             [
              0.6666666666666666,
              "#ed7953"
             ],
             [
              0.7777777777777778,
              "#fb9f3a"
             ],
             [
              0.8888888888888888,
              "#fdca26"
             ],
             [
              1,
              "#f0f921"
             ]
            ],
            "type": "contour"
           }
          ],
          "contourcarpet": [
           {
            "colorbar": {
             "outlinewidth": 0,
             "ticks": ""
            },
            "type": "contourcarpet"
           }
          ],
          "heatmap": [
           {
            "colorbar": {
             "outlinewidth": 0,
             "ticks": ""
            },
            "colorscale": [
             [
              0,
              "#0d0887"
             ],
             [
              0.1111111111111111,
              "#46039f"
             ],
             [
              0.2222222222222222,
              "#7201a8"
             ],
             [
              0.3333333333333333,
              "#9c179e"
             ],
             [
              0.4444444444444444,
              "#bd3786"
             ],
             [
              0.5555555555555556,
              "#d8576b"
             ],
             [
              0.6666666666666666,
              "#ed7953"
             ],
             [
              0.7777777777777778,
              "#fb9f3a"
             ],
             [
              0.8888888888888888,
              "#fdca26"
             ],
             [
              1,
              "#f0f921"
             ]
            ],
            "type": "heatmap"
           }
          ],
          "heatmapgl": [
           {
            "colorbar": {
             "outlinewidth": 0,
             "ticks": ""
            },
            "colorscale": [
             [
              0,
              "#0d0887"
             ],
             [
              0.1111111111111111,
              "#46039f"
             ],
             [
              0.2222222222222222,
              "#7201a8"
             ],
             [
              0.3333333333333333,
              "#9c179e"
             ],
             [
              0.4444444444444444,
              "#bd3786"
             ],
             [
              0.5555555555555556,
              "#d8576b"
             ],
             [
              0.6666666666666666,
              "#ed7953"
             ],
             [
              0.7777777777777778,
              "#fb9f3a"
             ],
             [
              0.8888888888888888,
              "#fdca26"
             ],
             [
              1,
              "#f0f921"
             ]
            ],
            "type": "heatmapgl"
           }
          ],
          "histogram": [
           {
            "marker": {
             "pattern": {
              "fillmode": "overlay",
              "size": 10,
              "solidity": 0.2
             }
            },
            "type": "histogram"
           }
          ],
          "histogram2d": [
           {
            "colorbar": {
             "outlinewidth": 0,
             "ticks": ""
            },
            "colorscale": [
             [
              0,
              "#0d0887"
             ],
             [
              0.1111111111111111,
              "#46039f"
             ],
             [
              0.2222222222222222,
              "#7201a8"
             ],
             [
              0.3333333333333333,
              "#9c179e"
             ],
             [
              0.4444444444444444,
              "#bd3786"
             ],
             [
              0.5555555555555556,
              "#d8576b"
             ],
             [
              0.6666666666666666,
              "#ed7953"
             ],
             [
              0.7777777777777778,
              "#fb9f3a"
             ],
             [
              0.8888888888888888,
              "#fdca26"
             ],
             [
              1,
              "#f0f921"
             ]
            ],
            "type": "histogram2d"
           }
          ],
          "histogram2dcontour": [
           {
            "colorbar": {
             "outlinewidth": 0,
             "ticks": ""
            },
            "colorscale": [
             [
              0,
              "#0d0887"
             ],
             [
              0.1111111111111111,
              "#46039f"
             ],
             [
              0.2222222222222222,
              "#7201a8"
             ],
             [
              0.3333333333333333,
              "#9c179e"
             ],
             [
              0.4444444444444444,
              "#bd3786"
             ],
             [
              0.5555555555555556,
              "#d8576b"
             ],
             [
              0.6666666666666666,
              "#ed7953"
             ],
             [
              0.7777777777777778,
              "#fb9f3a"
             ],
             [
              0.8888888888888888,
              "#fdca26"
             ],
             [
              1,
              "#f0f921"
             ]
            ],
            "type": "histogram2dcontour"
           }
          ],
          "mesh3d": [
           {
            "colorbar": {
             "outlinewidth": 0,
             "ticks": ""
            },
            "type": "mesh3d"
           }
          ],
          "parcoords": [
           {
            "line": {
             "colorbar": {
              "outlinewidth": 0,
              "ticks": ""
             }
            },
            "type": "parcoords"
           }
          ],
          "pie": [
           {
            "automargin": true,
            "type": "pie"
           }
          ],
          "scatter": [
           {
            "fillpattern": {
             "fillmode": "overlay",
             "size": 10,
             "solidity": 0.2
            },
            "type": "scatter"
           }
          ],
          "scatter3d": [
           {
            "line": {
             "colorbar": {
              "outlinewidth": 0,
              "ticks": ""
             }
            },
            "marker": {
             "colorbar": {
              "outlinewidth": 0,
              "ticks": ""
             }
            },
            "type": "scatter3d"
           }
          ],
          "scattercarpet": [
           {
            "marker": {
             "colorbar": {
              "outlinewidth": 0,
              "ticks": ""
             }
            },
            "type": "scattercarpet"
           }
          ],
          "scattergeo": [
           {
            "marker": {
             "colorbar": {
              "outlinewidth": 0,
              "ticks": ""
             }
            },
            "type": "scattergeo"
           }
          ],
          "scattergl": [
           {
            "marker": {
             "colorbar": {
              "outlinewidth": 0,
              "ticks": ""
             }
            },
            "type": "scattergl"
           }
          ],
          "scattermapbox": [
           {
            "marker": {
             "colorbar": {
              "outlinewidth": 0,
              "ticks": ""
             }
            },
            "type": "scattermapbox"
           }
          ],
          "scatterpolar": [
           {
            "marker": {
             "colorbar": {
              "outlinewidth": 0,
              "ticks": ""
             }
            },
            "type": "scatterpolar"
           }
          ],
          "scatterpolargl": [
           {
            "marker": {
             "colorbar": {
              "outlinewidth": 0,
              "ticks": ""
             }
            },
            "type": "scatterpolargl"
           }
          ],
          "scatterternary": [
           {
            "marker": {
             "colorbar": {
              "outlinewidth": 0,
              "ticks": ""
             }
            },
            "type": "scatterternary"
           }
          ],
          "surface": [
           {
            "colorbar": {
             "outlinewidth": 0,
             "ticks": ""
            },
            "colorscale": [
             [
              0,
              "#0d0887"
             ],
             [
              0.1111111111111111,
              "#46039f"
             ],
             [
              0.2222222222222222,
              "#7201a8"
             ],
             [
              0.3333333333333333,
              "#9c179e"
             ],
             [
              0.4444444444444444,
              "#bd3786"
             ],
             [
              0.5555555555555556,
              "#d8576b"
             ],
             [
              0.6666666666666666,
              "#ed7953"
             ],
             [
              0.7777777777777778,
              "#fb9f3a"
             ],
             [
              0.8888888888888888,
              "#fdca26"
             ],
             [
              1,
              "#f0f921"
             ]
            ],
            "type": "surface"
           }
          ],
          "table": [
           {
            "cells": {
             "fill": {
              "color": "#EBF0F8"
             },
             "line": {
              "color": "white"
             }
            },
            "header": {
             "fill": {
              "color": "#C8D4E3"
             },
             "line": {
              "color": "white"
             }
            },
            "type": "table"
           }
          ]
         },
         "layout": {
          "annotationdefaults": {
           "arrowcolor": "#2a3f5f",
           "arrowhead": 0,
           "arrowwidth": 1
          },
          "autotypenumbers": "strict",
          "coloraxis": {
           "colorbar": {
            "outlinewidth": 0,
            "ticks": ""
           }
          },
          "colorscale": {
           "diverging": [
            [
             0,
             "#8e0152"
            ],
            [
             0.1,
             "#c51b7d"
            ],
            [
             0.2,
             "#de77ae"
            ],
            [
             0.3,
             "#f1b6da"
            ],
            [
             0.4,
             "#fde0ef"
            ],
            [
             0.5,
             "#f7f7f7"
            ],
            [
             0.6,
             "#e6f5d0"
            ],
            [
             0.7,
             "#b8e186"
            ],
            [
             0.8,
             "#7fbc41"
            ],
            [
             0.9,
             "#4d9221"
            ],
            [
             1,
             "#276419"
            ]
           ],
           "sequential": [
            [
             0,
             "#0d0887"
            ],
            [
             0.1111111111111111,
             "#46039f"
            ],
            [
             0.2222222222222222,
             "#7201a8"
            ],
            [
             0.3333333333333333,
             "#9c179e"
            ],
            [
             0.4444444444444444,
             "#bd3786"
            ],
            [
             0.5555555555555556,
             "#d8576b"
            ],
            [
             0.6666666666666666,
             "#ed7953"
            ],
            [
             0.7777777777777778,
             "#fb9f3a"
            ],
            [
             0.8888888888888888,
             "#fdca26"
            ],
            [
             1,
             "#f0f921"
            ]
           ],
           "sequentialminus": [
            [
             0,
             "#0d0887"
            ],
            [
             0.1111111111111111,
             "#46039f"
            ],
            [
             0.2222222222222222,
             "#7201a8"
            ],
            [
             0.3333333333333333,
             "#9c179e"
            ],
            [
             0.4444444444444444,
             "#bd3786"
            ],
            [
             0.5555555555555556,
             "#d8576b"
            ],
            [
             0.6666666666666666,
             "#ed7953"
            ],
            [
             0.7777777777777778,
             "#fb9f3a"
            ],
            [
             0.8888888888888888,
             "#fdca26"
            ],
            [
             1,
             "#f0f921"
            ]
           ]
          },
          "colorway": [
           "#636efa",
           "#EF553B",
           "#00cc96",
           "#ab63fa",
           "#FFA15A",
           "#19d3f3",
           "#FF6692",
           "#B6E880",
           "#FF97FF",
           "#FECB52"
          ],
          "font": {
           "color": "#2a3f5f"
          },
          "geo": {
           "bgcolor": "white",
           "lakecolor": "white",
           "landcolor": "#E5ECF6",
           "showlakes": true,
           "showland": true,
           "subunitcolor": "white"
          },
          "hoverlabel": {
           "align": "left"
          },
          "hovermode": "closest",
          "mapbox": {
           "style": "light"
          },
          "paper_bgcolor": "white",
          "plot_bgcolor": "#E5ECF6",
          "polar": {
           "angularaxis": {
            "gridcolor": "white",
            "linecolor": "white",
            "ticks": ""
           },
           "bgcolor": "#E5ECF6",
           "radialaxis": {
            "gridcolor": "white",
            "linecolor": "white",
            "ticks": ""
           }
          },
          "scene": {
           "xaxis": {
            "backgroundcolor": "#E5ECF6",
            "gridcolor": "white",
            "gridwidth": 2,
            "linecolor": "white",
            "showbackground": true,
            "ticks": "",
            "zerolinecolor": "white"
           },
           "yaxis": {
            "backgroundcolor": "#E5ECF6",
            "gridcolor": "white",
            "gridwidth": 2,
            "linecolor": "white",
            "showbackground": true,
            "ticks": "",
            "zerolinecolor": "white"
           },
           "zaxis": {
            "backgroundcolor": "#E5ECF6",
            "gridcolor": "white",
            "gridwidth": 2,
            "linecolor": "white",
            "showbackground": true,
            "ticks": "",
            "zerolinecolor": "white"
           }
          },
          "shapedefaults": {
           "line": {
            "color": "#2a3f5f"
           }
          },
          "ternary": {
           "aaxis": {
            "gridcolor": "white",
            "linecolor": "white",
            "ticks": ""
           },
           "baxis": {
            "gridcolor": "white",
            "linecolor": "white",
            "ticks": ""
           },
           "bgcolor": "#E5ECF6",
           "caxis": {
            "gridcolor": "white",
            "linecolor": "white",
            "ticks": ""
           }
          },
          "title": {
           "x": 0.05
          },
          "xaxis": {
           "automargin": true,
           "gridcolor": "white",
           "linecolor": "white",
           "ticks": "",
           "title": {
            "standoff": 15
           },
           "zerolinecolor": "white",
           "zerolinewidth": 2
          },
          "yaxis": {
           "automargin": true,
           "gridcolor": "white",
           "linecolor": "white",
           "ticks": "",
           "title": {
            "standoff": 15
           },
           "zerolinecolor": "white",
           "zerolinewidth": 2
          }
         }
        }
       }
      },
      "text/html": [
       "<div>                            <div id=\"d2853516-40e4-43ca-9292-84b901ed3a61\" class=\"plotly-graph-div\" style=\"height:525px; width:100%;\"></div>            <script type=\"text/javascript\">                require([\"plotly\"], function(Plotly) {                    window.PLOTLYENV=window.PLOTLYENV || {};                                    if (document.getElementById(\"d2853516-40e4-43ca-9292-84b901ed3a61\")) {                    Plotly.newPlot(                        \"d2853516-40e4-43ca-9292-84b901ed3a61\",                        [{\"hovertemplate\":\"PC1=%{x}\\u003cbr\\u003ePC2=%{y}\\u003cbr\\u003ePC3=%{z}\\u003cextra\\u003e\\u003c\\u002fextra\\u003e\",\"legendgroup\":\"\",\"marker\":{\"color\":\"#000000\",\"symbol\":\"circle\"},\"mode\":\"markers\",\"name\":\"\",\"scene\":\"scene\",\"showlegend\":false,\"x\":[-257.9801535393154,142.02066538549425,-557.9854045102862,242.02501698744575,-357.98291951108024,-657.9874365675123,442.0271317719121,-157.98579448598298,-257.98320048363917,-57.976823339402145,-357.96830741783174,42.020582658254,-457.98032550873637,-357.9882794851889,-157.97349542251945,-257.98551351342405,-557.9823575659625,142.02797468958875,42.01826962846906,-57.991435432650626,-157.9758084523044,-457.98726459809114,-657.9820765934036,242.0300067468148,-357.9852325408651,-257.9908734875328,-157.9781214820893,-57.986075458541904,-557.9823575659625,142.02797468958875,42.01826962846906,342.0074406771138,-157.9781214820893,-457.98726459809114,-657.9820765934036,242.0300067468148,-257.98551351342405,-157.99115446009174,-57.97840245464824,42.013643568899184,-557.9823575659625,142.0302877193737,42.01826962846906,342.0074406771138,-57.980715484433176,-457.98726459809114,-657.9820765934036,242.0300067468148,-157.98579448598298,-57.991435432650626,42.02131657279285,142.01336259634027,-557.9823575659625,142.0302877193737,242.01770768335126,442.0071597045549,42.01900354300791,-357.98754557065007,-657.9820765934036,342.0297257742559,-57.986075458541904,42.00828359479046,142.02103560023394,242.01308162378137,-457.9826385385213,142.0302877193737,242.01770768335126,342.0074406771138,142.018722570449,-357.98754557065007,-657.9820765934036,442.029444801697,42.013643568899184,142.00800262223152,242.02075462767505,342.0128006512225,-457.9826385385213,142.0302877193737,242.01770768335126,442.0071597045549,142.01640954066406,-257.99013957299394,-557.9846705957474,542.029163829138,142.01104956655533,242.00540861988767,342.0181606253312,442.0102066488787,-357.9852325408651,242.02769371702985,342.0151136810074,542.0045657022109,242.01612856810516,-157.99042054555287,-457.98726459809114,642.0265698267942,242.0084555642115,342.0028146175439,442.01556662298736,542.0076126465348,-257.987826543209,342.025099714686,442.01251967866364,642.0019716998671,342.01353456576135,-57.99301454789672,-357.989858600435,742.0239758244503,-457.99189065766103,42.012064453653096,442.0194587680184,-57.990701518111784,342.02278668490106,542.0238038550293,-557.994656629426,-257.9894056584551,242.01539465356632,442.02019268255725,642.0258359122554],\"y\":[-1.6141180682759821,-1.461232648662554,0.3081645289760262,-3.164687525172007,-0.53449425979858,1.0405911178308218,-3.8329293645867772,0.9088273881646037,-0.29752924009578396,-2.731774026362967,-6.698041130766737,-1.5254173981025796,-1.7408508880589677,1.7514861769392096,-4.2853278742459615,0.6718623684618078,-1.0084242992041719,-4.543824423695165,-0.5560257895449877,3.4317728446051894,-3.3159362656883697,1.1673239376138076,-1.245389318906968,-5.27625101254996,0.43489734875901176,2.9578428051995975,-2.346544657130778,1.1457924078673998,-1.0084242992041719,-4.543824423695165,-0.5560257895449877,4.379632923416374,-2.346544657130778,1.1673239376138076,-1.245389318906968,-5.27625101254996,0.6718623684618078,3.1948078249023935,-2.1095796374279816,1.3827574275701957,-1.0084242992041719,-5.513216032252757,-0.5560257895449877,4.379632923416374,-1.14018802887039,1.1673239376138076,-1.245389318906968,-5.27625101254996,0.9088273881646037,3.4317728446051894,-1.8726146177251857,1.6197224472729916,-1.0084242992041719,-5.513216032252757,-0.08209575013939575,4.61659794311917,-0.903223009167594,1.4042889573166035,-1.245389318906968,-5.039285992847165,1.1457924078673998,3.6687378643079853,-1.6356495980223897,1.8566874669757878,-0.7714592795013759,-5.513216032252757,-0.08209575013939575,4.379632923416374,-0.666257989464798,1.4042889573166035,-1.245389318906968,-4.802320973144369,1.3827574275701957,3.9057028840107817,-1.3986845783195938,2.0936524866785837,-0.7714592795013759,-5.513216032252757,-0.08209575013939575,4.61659794311917,0.3031336190927938,2.6106455855769912,-0.03903269064658012,-4.565355953441573,2.5891140558305836,5.112059512271169,-0.192327950059206,3.3000091149389714,0.43489734875901176,-4.306859403992369,1.124260878120992,5.822954571379557,0.5400986387955897,2.847610605279787,1.1673239376138076,-3.3589993251811854,3.7954706840909713,6.318416140531557,1.0140286782011818,4.50636574319936,1.6412539770193995,-3.1005027757319814,2.3306175063813797,7.029311199639945,1.7464552670559774,4.053967233540175,2.3736805658741953,-2.1526426969207972,3.106107154728991,2.0049518165051814,-0.5775573192913954,3.0845756249825835,-2.1311111671743896,-2.2793755167037832,4.185730963206393,2.263448365954385,0.887295858418196,-0.9247545389140017,-3.011802105558579],\"z\":[0.9307145266057857,0.03114638881791127,-1.3395336210901558,-0.4642501944474707,-0.20116942236805235,-1.100523589368432,-0.005884851036314079,0.05728135859846851,-0.19468917261978674,-0.9181995175332247,-0.3032171304924282,-0.6662289863149694,-0.4531399535863076,-1.0810828401236352,0.20072393194408228,0.050801108850202954,-0.21412992186458346,-0.025325600281110854,-0.42073870484497977,-0.8161518094088489,0.44621421341407197,0.2833308908236615,-0.22061017161284902,-0.2643356320028349,0.044320859101937345,-0.82911230890538,0.6917044948840617,0.06376160834673407,-0.21412992186458346,-0.025325600281110854,-0.42073870484497977,-0.7902308104157867,0.6917044948840617,0.2833308908236615,-0.22061017161284902,-0.2643356320028349,0.050801108850202954,-0.8226320591571143,0.6981847446323272,0.07024185809499962,-0.21412992186458346,-0.27081588175110055,-0.42073870484497977,-0.7902308104157867,0.9436750261023168,0.2833308908236615,-0.22061017161284902,-0.2643356320028349,0.05728135859846851,-0.8161518094088489,0.7046649943805928,0.07672210784326518,-0.21412992186458346,-0.27081588175110055,-0.40777820534844866,-0.783750560667521,0.9501552758505825,0.28981114057192703,-0.22061017161284902,-0.25785538225456944,0.06376160834673407,-0.8096715596605832,0.7111452441288583,0.08320235759153073,-0.2076496721163179,-0.27081588175110055,-0.40777820534844866,-0.7902308104157867,0.9566355255988479,0.28981114057192703,-0.22061017161284902,-0.2513751325063038,0.07024185809499962,-0.8031913099123178,0.7176254938771239,0.08968260733979629,-0.2076496721163179,-0.27081588175110055,-0.40777820534844866,-0.783750560667521,1.2021258070688376,0.5417816717901823,0.031360359605406236,-0.24489488275803833,0.32221238931325485,-0.5512207786940624,0.969596025095379,0.3416531385580515,0.044320859101937345,-0.01884535053284519,-0.15580767413019342,-0.5317800294492658,1.2086060568171033,0.5482619215384479,0.2833308908236615,0.007075648460217029,0.5741829205315101,-0.2992502474758073,1.2215665563136344,0.5936236697763068,0.29629139032019264,0.23312518068540994,0.09616285708806184,-0.27980949823101053,1.4605765880353585,0.8002324527567032,0.5353014220419168,0.25904617967847215,0.7743114537636409,1.6866261202605515,-0.6403079873219072,0.5547421712867134,0.47861546215539963,-1.1248083005136211,-0.3575724952101972,1.9126756524857444,-0.16228792387845897,0.730585993373655,-1.3638183322353452],\"type\":\"scatter3d\"}],                        {\"template\":{\"data\":{\"histogram2dcontour\":[{\"type\":\"histogram2dcontour\",\"colorbar\":{\"outlinewidth\":0,\"ticks\":\"\"},\"colorscale\":[[0.0,\"#0d0887\"],[0.1111111111111111,\"#46039f\"],[0.2222222222222222,\"#7201a8\"],[0.3333333333333333,\"#9c179e\"],[0.4444444444444444,\"#bd3786\"],[0.5555555555555556,\"#d8576b\"],[0.6666666666666666,\"#ed7953\"],[0.7777777777777778,\"#fb9f3a\"],[0.8888888888888888,\"#fdca26\"],[1.0,\"#f0f921\"]]}],\"choropleth\":[{\"type\":\"choropleth\",\"colorbar\":{\"outlinewidth\":0,\"ticks\":\"\"}}],\"histogram2d\":[{\"type\":\"histogram2d\",\"colorbar\":{\"outlinewidth\":0,\"ticks\":\"\"},\"colorscale\":[[0.0,\"#0d0887\"],[0.1111111111111111,\"#46039f\"],[0.2222222222222222,\"#7201a8\"],[0.3333333333333333,\"#9c179e\"],[0.4444444444444444,\"#bd3786\"],[0.5555555555555556,\"#d8576b\"],[0.6666666666666666,\"#ed7953\"],[0.7777777777777778,\"#fb9f3a\"],[0.8888888888888888,\"#fdca26\"],[1.0,\"#f0f921\"]]}],\"heatmap\":[{\"type\":\"heatmap\",\"colorbar\":{\"outlinewidth\":0,\"ticks\":\"\"},\"colorscale\":[[0.0,\"#0d0887\"],[0.1111111111111111,\"#46039f\"],[0.2222222222222222,\"#7201a8\"],[0.3333333333333333,\"#9c179e\"],[0.4444444444444444,\"#bd3786\"],[0.5555555555555556,\"#d8576b\"],[0.6666666666666666,\"#ed7953\"],[0.7777777777777778,\"#fb9f3a\"],[0.8888888888888888,\"#fdca26\"],[1.0,\"#f0f921\"]]}],\"heatmapgl\":[{\"type\":\"heatmapgl\",\"colorbar\":{\"outlinewidth\":0,\"ticks\":\"\"},\"colorscale\":[[0.0,\"#0d0887\"],[0.1111111111111111,\"#46039f\"],[0.2222222222222222,\"#7201a8\"],[0.3333333333333333,\"#9c179e\"],[0.4444444444444444,\"#bd3786\"],[0.5555555555555556,\"#d8576b\"],[0.6666666666666666,\"#ed7953\"],[0.7777777777777778,\"#fb9f3a\"],[0.8888888888888888,\"#fdca26\"],[1.0,\"#f0f921\"]]}],\"contourcarpet\":[{\"type\":\"contourcarpet\",\"colorbar\":{\"outlinewidth\":0,\"ticks\":\"\"}}],\"contour\":[{\"type\":\"contour\",\"colorbar\":{\"outlinewidth\":0,\"ticks\":\"\"},\"colorscale\":[[0.0,\"#0d0887\"],[0.1111111111111111,\"#46039f\"],[0.2222222222222222,\"#7201a8\"],[0.3333333333333333,\"#9c179e\"],[0.4444444444444444,\"#bd3786\"],[0.5555555555555556,\"#d8576b\"],[0.6666666666666666,\"#ed7953\"],[0.7777777777777778,\"#fb9f3a\"],[0.8888888888888888,\"#fdca26\"],[1.0,\"#f0f921\"]]}],\"surface\":[{\"type\":\"surface\",\"colorbar\":{\"outlinewidth\":0,\"ticks\":\"\"},\"colorscale\":[[0.0,\"#0d0887\"],[0.1111111111111111,\"#46039f\"],[0.2222222222222222,\"#7201a8\"],[0.3333333333333333,\"#9c179e\"],[0.4444444444444444,\"#bd3786\"],[0.5555555555555556,\"#d8576b\"],[0.6666666666666666,\"#ed7953\"],[0.7777777777777778,\"#fb9f3a\"],[0.8888888888888888,\"#fdca26\"],[1.0,\"#f0f921\"]]}],\"mesh3d\":[{\"type\":\"mesh3d\",\"colorbar\":{\"outlinewidth\":0,\"ticks\":\"\"}}],\"scatter\":[{\"fillpattern\":{\"fillmode\":\"overlay\",\"size\":10,\"solidity\":0.2},\"type\":\"scatter\"}],\"parcoords\":[{\"type\":\"parcoords\",\"line\":{\"colorbar\":{\"outlinewidth\":0,\"ticks\":\"\"}}}],\"scatterpolargl\":[{\"type\":\"scatterpolargl\",\"marker\":{\"colorbar\":{\"outlinewidth\":0,\"ticks\":\"\"}}}],\"bar\":[{\"error_x\":{\"color\":\"#2a3f5f\"},\"error_y\":{\"color\":\"#2a3f5f\"},\"marker\":{\"line\":{\"color\":\"#E5ECF6\",\"width\":0.5},\"pattern\":{\"fillmode\":\"overlay\",\"size\":10,\"solidity\":0.2}},\"type\":\"bar\"}],\"scattergeo\":[{\"type\":\"scattergeo\",\"marker\":{\"colorbar\":{\"outlinewidth\":0,\"ticks\":\"\"}}}],\"scatterpolar\":[{\"type\":\"scatterpolar\",\"marker\":{\"colorbar\":{\"outlinewidth\":0,\"ticks\":\"\"}}}],\"histogram\":[{\"marker\":{\"pattern\":{\"fillmode\":\"overlay\",\"size\":10,\"solidity\":0.2}},\"type\":\"histogram\"}],\"scattergl\":[{\"type\":\"scattergl\",\"marker\":{\"colorbar\":{\"outlinewidth\":0,\"ticks\":\"\"}}}],\"scatter3d\":[{\"type\":\"scatter3d\",\"line\":{\"colorbar\":{\"outlinewidth\":0,\"ticks\":\"\"}},\"marker\":{\"colorbar\":{\"outlinewidth\":0,\"ticks\":\"\"}}}],\"scattermapbox\":[{\"type\":\"scattermapbox\",\"marker\":{\"colorbar\":{\"outlinewidth\":0,\"ticks\":\"\"}}}],\"scatterternary\":[{\"type\":\"scatterternary\",\"marker\":{\"colorbar\":{\"outlinewidth\":0,\"ticks\":\"\"}}}],\"scattercarpet\":[{\"type\":\"scattercarpet\",\"marker\":{\"colorbar\":{\"outlinewidth\":0,\"ticks\":\"\"}}}],\"carpet\":[{\"aaxis\":{\"endlinecolor\":\"#2a3f5f\",\"gridcolor\":\"white\",\"linecolor\":\"white\",\"minorgridcolor\":\"white\",\"startlinecolor\":\"#2a3f5f\"},\"baxis\":{\"endlinecolor\":\"#2a3f5f\",\"gridcolor\":\"white\",\"linecolor\":\"white\",\"minorgridcolor\":\"white\",\"startlinecolor\":\"#2a3f5f\"},\"type\":\"carpet\"}],\"table\":[{\"cells\":{\"fill\":{\"color\":\"#EBF0F8\"},\"line\":{\"color\":\"white\"}},\"header\":{\"fill\":{\"color\":\"#C8D4E3\"},\"line\":{\"color\":\"white\"}},\"type\":\"table\"}],\"barpolar\":[{\"marker\":{\"line\":{\"color\":\"#E5ECF6\",\"width\":0.5},\"pattern\":{\"fillmode\":\"overlay\",\"size\":10,\"solidity\":0.2}},\"type\":\"barpolar\"}],\"pie\":[{\"automargin\":true,\"type\":\"pie\"}]},\"layout\":{\"autotypenumbers\":\"strict\",\"colorway\":[\"#636efa\",\"#EF553B\",\"#00cc96\",\"#ab63fa\",\"#FFA15A\",\"#19d3f3\",\"#FF6692\",\"#B6E880\",\"#FF97FF\",\"#FECB52\"],\"font\":{\"color\":\"#2a3f5f\"},\"hovermode\":\"closest\",\"hoverlabel\":{\"align\":\"left\"},\"paper_bgcolor\":\"white\",\"plot_bgcolor\":\"#E5ECF6\",\"polar\":{\"bgcolor\":\"#E5ECF6\",\"angularaxis\":{\"gridcolor\":\"white\",\"linecolor\":\"white\",\"ticks\":\"\"},\"radialaxis\":{\"gridcolor\":\"white\",\"linecolor\":\"white\",\"ticks\":\"\"}},\"ternary\":{\"bgcolor\":\"#E5ECF6\",\"aaxis\":{\"gridcolor\":\"white\",\"linecolor\":\"white\",\"ticks\":\"\"},\"baxis\":{\"gridcolor\":\"white\",\"linecolor\":\"white\",\"ticks\":\"\"},\"caxis\":{\"gridcolor\":\"white\",\"linecolor\":\"white\",\"ticks\":\"\"}},\"coloraxis\":{\"colorbar\":{\"outlinewidth\":0,\"ticks\":\"\"}},\"colorscale\":{\"sequential\":[[0.0,\"#0d0887\"],[0.1111111111111111,\"#46039f\"],[0.2222222222222222,\"#7201a8\"],[0.3333333333333333,\"#9c179e\"],[0.4444444444444444,\"#bd3786\"],[0.5555555555555556,\"#d8576b\"],[0.6666666666666666,\"#ed7953\"],[0.7777777777777778,\"#fb9f3a\"],[0.8888888888888888,\"#fdca26\"],[1.0,\"#f0f921\"]],\"sequentialminus\":[[0.0,\"#0d0887\"],[0.1111111111111111,\"#46039f\"],[0.2222222222222222,\"#7201a8\"],[0.3333333333333333,\"#9c179e\"],[0.4444444444444444,\"#bd3786\"],[0.5555555555555556,\"#d8576b\"],[0.6666666666666666,\"#ed7953\"],[0.7777777777777778,\"#fb9f3a\"],[0.8888888888888888,\"#fdca26\"],[1.0,\"#f0f921\"]],\"diverging\":[[0,\"#8e0152\"],[0.1,\"#c51b7d\"],[0.2,\"#de77ae\"],[0.3,\"#f1b6da\"],[0.4,\"#fde0ef\"],[0.5,\"#f7f7f7\"],[0.6,\"#e6f5d0\"],[0.7,\"#b8e186\"],[0.8,\"#7fbc41\"],[0.9,\"#4d9221\"],[1,\"#276419\"]]},\"xaxis\":{\"gridcolor\":\"white\",\"linecolor\":\"white\",\"ticks\":\"\",\"title\":{\"standoff\":15},\"zerolinecolor\":\"white\",\"automargin\":true,\"zerolinewidth\":2},\"yaxis\":{\"gridcolor\":\"white\",\"linecolor\":\"white\",\"ticks\":\"\",\"title\":{\"standoff\":15},\"zerolinecolor\":\"white\",\"automargin\":true,\"zerolinewidth\":2},\"scene\":{\"xaxis\":{\"backgroundcolor\":\"#E5ECF6\",\"gridcolor\":\"white\",\"linecolor\":\"white\",\"showbackground\":true,\"ticks\":\"\",\"zerolinecolor\":\"white\",\"gridwidth\":2},\"yaxis\":{\"backgroundcolor\":\"#E5ECF6\",\"gridcolor\":\"white\",\"linecolor\":\"white\",\"showbackground\":true,\"ticks\":\"\",\"zerolinecolor\":\"white\",\"gridwidth\":2},\"zaxis\":{\"backgroundcolor\":\"#E5ECF6\",\"gridcolor\":\"white\",\"linecolor\":\"white\",\"showbackground\":true,\"ticks\":\"\",\"zerolinecolor\":\"white\",\"gridwidth\":2}},\"shapedefaults\":{\"line\":{\"color\":\"#2a3f5f\"}},\"annotationdefaults\":{\"arrowcolor\":\"#2a3f5f\",\"arrowhead\":0,\"arrowwidth\":1},\"geo\":{\"bgcolor\":\"white\",\"landcolor\":\"#E5ECF6\",\"subunitcolor\":\"white\",\"showland\":true,\"showlakes\":true,\"lakecolor\":\"white\"},\"title\":{\"x\":0.05},\"mapbox\":{\"style\":\"light\"}}},\"scene\":{\"domain\":{\"x\":[0.0,1.0],\"y\":[0.0,1.0]},\"xaxis\":{\"title\":{\"text\":\"PC1\"}},\"yaxis\":{\"title\":{\"text\":\"PC2\"}},\"zaxis\":{\"title\":{\"text\":\"PC3\"}}},\"legend\":{\"tracegroupgap\":0},\"margin\":{\"t\":60}},                        {\"responsive\": true}                    ).then(function(){\n",
       "                            \n",
       "var gd = document.getElementById('d2853516-40e4-43ca-9292-84b901ed3a61');\n",
       "var x = new MutationObserver(function (mutations, observer) {{\n",
       "        var display = window.getComputedStyle(gd).display;\n",
       "        if (!display || display === 'none') {{\n",
       "            console.log([gd, 'removed!']);\n",
       "            Plotly.purge(gd);\n",
       "            observer.disconnect();\n",
       "        }}\n",
       "}});\n",
       "\n",
       "// Listen for the removal of the full notebook cells\n",
       "var notebookContainer = gd.closest('#notebook-container');\n",
       "if (notebookContainer) {{\n",
       "    x.observe(notebookContainer, {childList: true});\n",
       "}}\n",
       "\n",
       "// Listen for the clearing of the current output cell\n",
       "var outputEl = gd.closest('.output');\n",
       "if (outputEl) {{\n",
       "    x.observe(outputEl, {childList: true});\n",
       "}}\n",
       "\n",
       "                        })                };                });            </script>        </div>"
      ]
     },
     "metadata": {},
     "output_type": "display_data"
    }
   ],
   "source": [
    "#plotting all 3 principal components \n",
    "\n",
    "import plotly.express as px\n",
    "from plotly.offline import init_notebook_mode, iplot\n",
    "init_notebook_mode(connected=True)\n",
    "\n",
    "fig = px.scatter_3d(df_data2_transform3D, x = 'PC1', y = 'PC2', z = 'PC3').update_traces(marker = dict(color = \"#000000\"))\n",
    "fig.update_traces(marker = dict(color = \"#000000\"))\n",
    "fig.show()"
   ]
  },
  {
   "cell_type": "code",
   "execution_count": 19,
   "id": "25d14611",
   "metadata": {},
   "outputs": [
    {
     "data": {
      "text/html": [
       "<style>#sk-container-id-3 {color: black;background-color: white;}#sk-container-id-3 pre{padding: 0;}#sk-container-id-3 div.sk-toggleable {background-color: white;}#sk-container-id-3 label.sk-toggleable__label {cursor: pointer;display: block;width: 100%;margin-bottom: 0;padding: 0.3em;box-sizing: border-box;text-align: center;}#sk-container-id-3 label.sk-toggleable__label-arrow:before {content: \"▸\";float: left;margin-right: 0.25em;color: #696969;}#sk-container-id-3 label.sk-toggleable__label-arrow:hover:before {color: black;}#sk-container-id-3 div.sk-estimator:hover label.sk-toggleable__label-arrow:before {color: black;}#sk-container-id-3 div.sk-toggleable__content {max-height: 0;max-width: 0;overflow: hidden;text-align: left;background-color: #f0f8ff;}#sk-container-id-3 div.sk-toggleable__content pre {margin: 0.2em;color: black;border-radius: 0.25em;background-color: #f0f8ff;}#sk-container-id-3 input.sk-toggleable__control:checked~div.sk-toggleable__content {max-height: 200px;max-width: 100%;overflow: auto;}#sk-container-id-3 input.sk-toggleable__control:checked~label.sk-toggleable__label-arrow:before {content: \"▾\";}#sk-container-id-3 div.sk-estimator input.sk-toggleable__control:checked~label.sk-toggleable__label {background-color: #d4ebff;}#sk-container-id-3 div.sk-label input.sk-toggleable__control:checked~label.sk-toggleable__label {background-color: #d4ebff;}#sk-container-id-3 input.sk-hidden--visually {border: 0;clip: rect(1px 1px 1px 1px);clip: rect(1px, 1px, 1px, 1px);height: 1px;margin: -1px;overflow: hidden;padding: 0;position: absolute;width: 1px;}#sk-container-id-3 div.sk-estimator {font-family: monospace;background-color: #f0f8ff;border: 1px dotted black;border-radius: 0.25em;box-sizing: border-box;margin-bottom: 0.5em;}#sk-container-id-3 div.sk-estimator:hover {background-color: #d4ebff;}#sk-container-id-3 div.sk-parallel-item::after {content: \"\";width: 100%;border-bottom: 1px solid gray;flex-grow: 1;}#sk-container-id-3 div.sk-label:hover label.sk-toggleable__label {background-color: #d4ebff;}#sk-container-id-3 div.sk-serial::before {content: \"\";position: absolute;border-left: 1px solid gray;box-sizing: border-box;top: 0;bottom: 0;left: 50%;z-index: 0;}#sk-container-id-3 div.sk-serial {display: flex;flex-direction: column;align-items: center;background-color: white;padding-right: 0.2em;padding-left: 0.2em;position: relative;}#sk-container-id-3 div.sk-item {position: relative;z-index: 1;}#sk-container-id-3 div.sk-parallel {display: flex;align-items: stretch;justify-content: center;background-color: white;position: relative;}#sk-container-id-3 div.sk-item::before, #sk-container-id-3 div.sk-parallel-item::before {content: \"\";position: absolute;border-left: 1px solid gray;box-sizing: border-box;top: 0;bottom: 0;left: 50%;z-index: -1;}#sk-container-id-3 div.sk-parallel-item {display: flex;flex-direction: column;z-index: 1;position: relative;background-color: white;}#sk-container-id-3 div.sk-parallel-item:first-child::after {align-self: flex-end;width: 50%;}#sk-container-id-3 div.sk-parallel-item:last-child::after {align-self: flex-start;width: 50%;}#sk-container-id-3 div.sk-parallel-item:only-child::after {width: 0;}#sk-container-id-3 div.sk-dashed-wrapped {border: 1px dashed gray;margin: 0 0.4em 0.5em 0.4em;box-sizing: border-box;padding-bottom: 0.4em;background-color: white;}#sk-container-id-3 div.sk-label label {font-family: monospace;font-weight: bold;display: inline-block;line-height: 1.2em;}#sk-container-id-3 div.sk-label-container {text-align: center;}#sk-container-id-3 div.sk-container {/* jupyter's `normalize.less` sets `[hidden] { display: none; }` but bootstrap.min.css set `[hidden] { display: none !important; }` so we also need the `!important` here to be able to override the default hidden behavior on the sphinx rendered scikit-learn.org. See: https://github.com/scikit-learn/scikit-learn/issues/21755 */display: inline-block !important;position: relative;}#sk-container-id-3 div.sk-text-repr-fallback {display: none;}</style><div id=\"sk-container-id-3\" class=\"sk-top-container\"><div class=\"sk-text-repr-fallback\"><pre>LinearRegression()</pre><b>In a Jupyter environment, please rerun this cell to show the HTML representation or trust the notebook. <br />On GitHub, the HTML representation is unable to render, please try loading this page with nbviewer.org.</b></div><div class=\"sk-container\" hidden><div class=\"sk-item\"><div class=\"sk-estimator sk-toggleable\"><input class=\"sk-toggleable__control sk-hidden--visually\" id=\"sk-estimator-id-3\" type=\"checkbox\" checked><label for=\"sk-estimator-id-3\" class=\"sk-toggleable__label sk-toggleable__label-arrow\">LinearRegression</label><div class=\"sk-toggleable__content\"><pre>LinearRegression()</pre></div></div></div></div></div>"
      ],
      "text/plain": [
       "LinearRegression()"
      ]
     },
     "execution_count": 19,
     "metadata": {},
     "output_type": "execute_result"
    }
   ],
   "source": [
    "from sklearn.linear_model import LinearRegression\n",
    "model = LinearRegression()\n",
    "model.fit(X_values, y_values)"
   ]
  },
  {
   "cell_type": "code",
   "execution_count": 20,
   "id": "99f36ba2",
   "metadata": {},
   "outputs": [],
   "source": [
    "new_points = np.array([[3000,3,2,1],[2000,2,1,2]])"
   ]
  },
  {
   "cell_type": "code",
   "execution_count": 21,
   "id": "8e5628ab",
   "metadata": {},
   "outputs": [
    {
     "data": {
      "text/plain": [
       "array([440918.47650127, 309386.70983283])"
      ]
     },
     "execution_count": 21,
     "metadata": {},
     "output_type": "execute_result"
    }
   ],
   "source": [
    "#model trainined on original data (without PCA)\n",
    "model.predict(new_points)"
   ]
  },
  {
   "cell_type": "code",
   "execution_count": 22,
   "id": "23662515",
   "metadata": {},
   "outputs": [
    {
     "name": "stdout",
     "output_type": "stream",
     "text": [
      "[441101.14075887 309623.38656224]\n"
     ]
    }
   ],
   "source": [
    "model_pca2_3D = LinearRegression()\n",
    "model_pca2_3D.fit(data2_transform3D, y_values)\n",
    "\n",
    "#transforming new points to PCA relative 'dimensions'\n",
    "new_points_centered = new_points - pca2_3D.mean_ #subtracting mean -> centering\n",
    "transformed_points = new_points_centered @ pca2_3D.components_.T\n",
    "predictions = model_pca2_3D.predict(transformed_points)\n",
    "\n",
    "#PCA 3 dimension data\n",
    "#compare the results with multipleFeatureLinearRegression.ipynb\n",
    "print(predictions)"
   ]
  },
  {
   "cell_type": "code",
   "execution_count": 23,
   "id": "ec686b0b",
   "metadata": {},
   "outputs": [
    {
     "data": {
      "text/plain": [
       "array([9.99929174e-01, 6.77997192e-05])"
      ]
     },
     "execution_count": 23,
     "metadata": {},
     "output_type": "execute_result"
    }
   ],
   "source": [
    "#reducing 4 dimensions to 2D (to make it easier for plotting with target)\n",
    "pca2_2D = PCA(n_components=2)\n",
    "pca2_2D.fit(X_values)\n",
    "pca2_2D.explained_variance_ratio_"
   ]
  },
  {
   "cell_type": "code",
   "execution_count": 24,
   "id": "67683755",
   "metadata": {},
   "outputs": [],
   "source": [
    "data2_transform2D = pca2_2D.transform(X_values)\n",
    "df_data2_transform2D =pd.DataFrame(data2_transform2D,columns = ['PC1','PC2'])"
   ]
  },
  {
   "cell_type": "code",
   "execution_count": 25,
   "id": "22baf1e4",
   "metadata": {},
   "outputs": [
    {
     "name": "stdout",
     "output_type": "stream",
     "text": [
      "Sum of variances: 0.999996973476873\n",
      "\n",
      "pca2_2D (transform):\n",
      " [[-2.57980154e+02 -1.61411807e+00]\n",
      " [ 1.42020665e+02 -1.46123265e+00]\n",
      " [-5.57985405e+02  3.08164529e-01]\n",
      " [ 2.42025017e+02 -3.16468753e+00]\n",
      " [-3.57982920e+02 -5.34494260e-01]\n",
      " [-6.57987437e+02  1.04059112e+00]\n",
      " [ 4.42027132e+02 -3.83292936e+00]\n",
      " [-1.57985794e+02  9.08827388e-01]\n",
      " [-2.57983200e+02 -2.97529240e-01]\n",
      " [-5.79768233e+01 -2.73177403e+00]]\n",
      "\n",
      "pca2_2D (inverse_transform):\n",
      " [[2.39999994e+03 3.36249208e+00 2.36153101e+00 5.77149907e+00]\n",
      " [2.80000000e+03 3.48391247e+00 2.48059565e+00 4.99449110e+00]\n",
      " [2.10000009e+03 2.91614705e+00 1.92028666e+00 8.32886477e+00]\n",
      " [2.90000003e+03 3.81804696e+00 2.81129060e+00 3.11186319e+00]\n",
      " [2.30000001e+03 3.13716489e+00 2.13862233e+00 7.04938670e+00]\n",
      " [2.00000007e+03 2.75137721e+00 1.75736708e+00 9.27018063e+00]\n",
      " [3.10000000e+03 4.00864339e+00 2.99949034e+00 2.00146431e+00]\n",
      " [2.50000000e+03 2.95946702e+00 1.96198374e+00 7.98593129e+00]\n",
      " [2.40000001e+03 3.13285555e+00 2.13404933e+00 7.04779628e+00]\n",
      " [2.60000006e+03 3.63147441e+00 2.62738108e+00 4.22543910e+00]]\n",
      "\n",
      "Original:\n",
      " [[2.4e+03 4.0e+00 3.0e+00 6.0e+00]\n",
      " [2.8e+03 3.0e+00 3.0e+00 5.0e+00]\n",
      " [2.1e+03 2.0e+00 1.0e+00 8.0e+00]\n",
      " [2.9e+03 4.0e+00 2.0e+00 3.0e+00]\n",
      " [2.3e+03 3.0e+00 2.0e+00 7.0e+00]\n",
      " [2.0e+03 2.0e+00 1.0e+00 9.0e+00]\n",
      " [3.1e+03 4.0e+00 3.0e+00 2.0e+00]\n",
      " [2.5e+03 3.0e+00 2.0e+00 8.0e+00]\n",
      " [2.4e+03 3.0e+00 2.0e+00 7.0e+00]\n",
      " [2.6e+03 3.0e+00 2.0e+00 4.0e+00]]\n"
     ]
    }
   ],
   "source": [
    "data2_2D_inverseTransform = pca2_2D.inverse_transform(data2_transform2D)\n",
    "\n",
    "print(\"Sum of variances:\", np.sum(pca2_2D.explained_variance_ratio_))\n",
    "#0.999996973476873 the variance is explained\n",
    "\n",
    "print(\"\\npca2_2D (transform):\\n\", data2_transform2D[:10,:])\n",
    "print(\"\\npca2_2D (inverse_transform):\\n\", data2_2D_inverseTransform[:10,:])\n",
    "print(\"\\nOriginal:\\n\", data2[:10,:-1])"
   ]
  },
  {
   "cell_type": "code",
   "execution_count": 26,
   "id": "4730561d",
   "metadata": {},
   "outputs": [
    {
     "data": {
      "application/vnd.plotly.v1+json": {
       "config": {
        "plotlyServerURL": "https://plot.ly"
       },
       "data": [
        {
         "hovertemplate": "PC1=%{x}<br>PC2=%{y}<br>target=%{z}<extra></extra>",
         "legendgroup": "",
         "marker": {
          "color": "#FF0000",
          "symbol": "circle"
         },
         "mode": "markers",
         "name": "",
         "scene": "scene",
         "showlegend": false,
         "type": "scatter3d",
         "x": [
          -257.9801535393154,
          142.02066538549425,
          -557.9854045102862,
          242.02501698744575,
          -357.98291951108024,
          -657.9874365675123,
          442.0271317719121,
          -157.98579448598298,
          -257.98320048363917,
          -57.976823339402145,
          -357.96830741783174,
          42.020582658254,
          -457.98032550873637,
          -357.9882794851889,
          -157.97349542251945,
          -257.98551351342405,
          -557.9823575659625,
          142.02797468958875,
          42.01826962846906,
          -57.991435432650626,
          -157.9758084523044,
          -457.98726459809114,
          -657.9820765934036,
          242.0300067468148,
          -357.9852325408651,
          -257.9908734875328,
          -157.9781214820893,
          -57.986075458541904,
          -557.9823575659625,
          142.02797468958875,
          42.01826962846906,
          342.0074406771138,
          -157.9781214820893,
          -457.98726459809114,
          -657.9820765934036,
          242.0300067468148,
          -257.98551351342405,
          -157.99115446009174,
          -57.97840245464824,
          42.013643568899184,
          -557.9823575659625,
          142.0302877193737,
          42.01826962846906,
          342.0074406771138,
          -57.980715484433176,
          -457.98726459809114,
          -657.9820765934036,
          242.0300067468148,
          -157.98579448598298,
          -57.991435432650626,
          42.02131657279285,
          142.01336259634027,
          -557.9823575659625,
          142.0302877193737,
          242.01770768335126,
          442.0071597045549,
          42.01900354300791,
          -357.98754557065007,
          -657.9820765934036,
          342.0297257742559,
          -57.986075458541904,
          42.00828359479046,
          142.02103560023394,
          242.01308162378137,
          -457.9826385385213,
          142.0302877193737,
          242.01770768335126,
          342.0074406771138,
          142.018722570449,
          -357.98754557065007,
          -657.9820765934036,
          442.029444801697,
          42.013643568899184,
          142.00800262223152,
          242.02075462767505,
          342.0128006512225,
          -457.9826385385213,
          142.0302877193737,
          242.01770768335126,
          442.0071597045549,
          142.01640954066406,
          -257.99013957299394,
          -557.9846705957474,
          542.029163829138,
          142.01104956655533,
          242.00540861988767,
          342.0181606253312,
          442.0102066488787,
          -357.9852325408651,
          242.02769371702985,
          342.0151136810074,
          542.0045657022109,
          242.01612856810516,
          -157.99042054555287,
          -457.98726459809114,
          642.0265698267942,
          242.0084555642115,
          342.0028146175439,
          442.01556662298736,
          542.0076126465348,
          -257.987826543209,
          342.025099714686,
          442.01251967866364,
          642.0019716998671,
          342.01353456576135,
          -57.99301454789672,
          -357.989858600435,
          742.0239758244503,
          -457.99189065766103,
          42.012064453653096,
          442.0194587680184,
          -57.990701518111784,
          342.02278668490106,
          542.0238038550293,
          -557.994656629426,
          -257.9894056584551,
          242.01539465356632,
          442.02019268255725,
          642.0258359122554
         ],
         "y": [
          -1.6141180682759821,
          -1.461232648662554,
          0.3081645289760262,
          -3.164687525172007,
          -0.53449425979858,
          1.0405911178308218,
          -3.8329293645867772,
          0.9088273881646037,
          -0.29752924009578396,
          -2.731774026362967,
          -6.698041130766737,
          -1.5254173981025796,
          -1.7408508880589677,
          1.7514861769392096,
          -4.2853278742459615,
          0.6718623684618078,
          -1.0084242992041719,
          -4.543824423695165,
          -0.5560257895449877,
          3.4317728446051894,
          -3.3159362656883697,
          1.1673239376138076,
          -1.245389318906968,
          -5.27625101254996,
          0.43489734875901176,
          2.9578428051995975,
          -2.346544657130778,
          1.1457924078673998,
          -1.0084242992041719,
          -4.543824423695165,
          -0.5560257895449877,
          4.379632923416374,
          -2.346544657130778,
          1.1673239376138076,
          -1.245389318906968,
          -5.27625101254996,
          0.6718623684618078,
          3.1948078249023935,
          -2.1095796374279816,
          1.3827574275701957,
          -1.0084242992041719,
          -5.513216032252757,
          -0.5560257895449877,
          4.379632923416374,
          -1.14018802887039,
          1.1673239376138076,
          -1.245389318906968,
          -5.27625101254996,
          0.9088273881646037,
          3.4317728446051894,
          -1.8726146177251857,
          1.6197224472729916,
          -1.0084242992041719,
          -5.513216032252757,
          -0.08209575013939575,
          4.61659794311917,
          -0.903223009167594,
          1.4042889573166035,
          -1.245389318906968,
          -5.039285992847165,
          1.1457924078673998,
          3.6687378643079853,
          -1.6356495980223897,
          1.8566874669757878,
          -0.7714592795013759,
          -5.513216032252757,
          -0.08209575013939575,
          4.379632923416374,
          -0.666257989464798,
          1.4042889573166035,
          -1.245389318906968,
          -4.802320973144369,
          1.3827574275701957,
          3.9057028840107817,
          -1.3986845783195938,
          2.0936524866785837,
          -0.7714592795013759,
          -5.513216032252757,
          -0.08209575013939575,
          4.61659794311917,
          0.3031336190927938,
          2.6106455855769912,
          -0.03903269064658012,
          -4.565355953441573,
          2.5891140558305836,
          5.112059512271169,
          -0.192327950059206,
          3.3000091149389714,
          0.43489734875901176,
          -4.306859403992369,
          1.124260878120992,
          5.822954571379557,
          0.5400986387955897,
          2.847610605279787,
          1.1673239376138076,
          -3.3589993251811854,
          3.7954706840909713,
          6.318416140531557,
          1.0140286782011818,
          4.50636574319936,
          1.6412539770193995,
          -3.1005027757319814,
          2.3306175063813797,
          7.029311199639945,
          1.7464552670559774,
          4.053967233540175,
          2.3736805658741953,
          -2.1526426969207972,
          3.106107154728991,
          2.0049518165051814,
          -0.5775573192913954,
          3.0845756249825835,
          -2.1311111671743896,
          -2.2793755167037832,
          4.185730963206393,
          2.263448365954385,
          0.887295858418196,
          -0.9247545389140017,
          -3.011802105558579
         ],
         "z": [
          430000,
          420000,
          270000,
          450000,
          360000,
          280000,
          510000,
          380000,
          370000,
          400000,
          480000,
          410000,
          350000,
          290000,
          460000,
          360000,
          340000,
          490000,
          400000,
          300000,
          470000,
          350000,
          330000,
          500000,
          360000,
          310000,
          440000,
          380000,
          340000,
          490000,
          400000,
          320000,
          430000,
          340000,
          330000,
          500000,
          370000,
          310000,
          440000,
          390000,
          340000,
          480000,
          400000,
          320000,
          420000,
          340000,
          330000,
          500000,
          380000,
          310000,
          430000,
          390000,
          340000,
          480000,
          410000,
          330000,
          420000,
          350000,
          330000,
          510000,
          380000,
          320000,
          430000,
          390000,
          350000,
          480000,
          410000,
          330000,
          420000,
          350000,
          330000,
          510000,
          390000,
          320000,
          450000,
          410000,
          360000,
          490000,
          410000,
          340000,
          430000,
          360000,
          340000,
          520000,
          400000,
          330000,
          450000,
          420000,
          360000,
          480000,
          420000,
          340000,
          450000,
          370000,
          350000,
          530000,
          410000,
          350000,
          460000,
          430000,
          370000,
          490000,
          430000,
          360000,
          460000,
          380000,
          360000,
          540000,
          350000,
          440000,
          410000,
          380000,
          490000,
          430000,
          280000,
          420000,
          390000,
          460000,
          440000
         ]
        }
       ],
       "layout": {
        "legend": {
         "tracegroupgap": 0
        },
        "margin": {
         "t": 60
        },
        "scene": {
         "domain": {
          "x": [
           0,
           1
          ],
          "y": [
           0,
           1
          ]
         },
         "xaxis": {
          "title": {
           "text": "PC1"
          }
         },
         "yaxis": {
          "title": {
           "text": "PC2"
          }
         },
         "zaxis": {
          "title": {
           "text": "target"
          }
         }
        },
        "template": {
         "data": {
          "bar": [
           {
            "error_x": {
             "color": "#2a3f5f"
            },
            "error_y": {
             "color": "#2a3f5f"
            },
            "marker": {
             "line": {
              "color": "#E5ECF6",
              "width": 0.5
             },
             "pattern": {
              "fillmode": "overlay",
              "size": 10,
              "solidity": 0.2
             }
            },
            "type": "bar"
           }
          ],
          "barpolar": [
           {
            "marker": {
             "line": {
              "color": "#E5ECF6",
              "width": 0.5
             },
             "pattern": {
              "fillmode": "overlay",
              "size": 10,
              "solidity": 0.2
             }
            },
            "type": "barpolar"
           }
          ],
          "carpet": [
           {
            "aaxis": {
             "endlinecolor": "#2a3f5f",
             "gridcolor": "white",
             "linecolor": "white",
             "minorgridcolor": "white",
             "startlinecolor": "#2a3f5f"
            },
            "baxis": {
             "endlinecolor": "#2a3f5f",
             "gridcolor": "white",
             "linecolor": "white",
             "minorgridcolor": "white",
             "startlinecolor": "#2a3f5f"
            },
            "type": "carpet"
           }
          ],
          "choropleth": [
           {
            "colorbar": {
             "outlinewidth": 0,
             "ticks": ""
            },
            "type": "choropleth"
           }
          ],
          "contour": [
           {
            "colorbar": {
             "outlinewidth": 0,
             "ticks": ""
            },
            "colorscale": [
             [
              0,
              "#0d0887"
             ],
             [
              0.1111111111111111,
              "#46039f"
             ],
             [
              0.2222222222222222,
              "#7201a8"
             ],
             [
              0.3333333333333333,
              "#9c179e"
             ],
             [
              0.4444444444444444,
              "#bd3786"
             ],
             [
              0.5555555555555556,
              "#d8576b"
             ],
             [
              0.6666666666666666,
              "#ed7953"
             ],
             [
              0.7777777777777778,
              "#fb9f3a"
             ],
             [
              0.8888888888888888,
              "#fdca26"
             ],
             [
              1,
              "#f0f921"
             ]
            ],
            "type": "contour"
           }
          ],
          "contourcarpet": [
           {
            "colorbar": {
             "outlinewidth": 0,
             "ticks": ""
            },
            "type": "contourcarpet"
           }
          ],
          "heatmap": [
           {
            "colorbar": {
             "outlinewidth": 0,
             "ticks": ""
            },
            "colorscale": [
             [
              0,
              "#0d0887"
             ],
             [
              0.1111111111111111,
              "#46039f"
             ],
             [
              0.2222222222222222,
              "#7201a8"
             ],
             [
              0.3333333333333333,
              "#9c179e"
             ],
             [
              0.4444444444444444,
              "#bd3786"
             ],
             [
              0.5555555555555556,
              "#d8576b"
             ],
             [
              0.6666666666666666,
              "#ed7953"
             ],
             [
              0.7777777777777778,
              "#fb9f3a"
             ],
             [
              0.8888888888888888,
              "#fdca26"
             ],
             [
              1,
              "#f0f921"
             ]
            ],
            "type": "heatmap"
           }
          ],
          "heatmapgl": [
           {
            "colorbar": {
             "outlinewidth": 0,
             "ticks": ""
            },
            "colorscale": [
             [
              0,
              "#0d0887"
             ],
             [
              0.1111111111111111,
              "#46039f"
             ],
             [
              0.2222222222222222,
              "#7201a8"
             ],
             [
              0.3333333333333333,
              "#9c179e"
             ],
             [
              0.4444444444444444,
              "#bd3786"
             ],
             [
              0.5555555555555556,
              "#d8576b"
             ],
             [
              0.6666666666666666,
              "#ed7953"
             ],
             [
              0.7777777777777778,
              "#fb9f3a"
             ],
             [
              0.8888888888888888,
              "#fdca26"
             ],
             [
              1,
              "#f0f921"
             ]
            ],
            "type": "heatmapgl"
           }
          ],
          "histogram": [
           {
            "marker": {
             "pattern": {
              "fillmode": "overlay",
              "size": 10,
              "solidity": 0.2
             }
            },
            "type": "histogram"
           }
          ],
          "histogram2d": [
           {
            "colorbar": {
             "outlinewidth": 0,
             "ticks": ""
            },
            "colorscale": [
             [
              0,
              "#0d0887"
             ],
             [
              0.1111111111111111,
              "#46039f"
             ],
             [
              0.2222222222222222,
              "#7201a8"
             ],
             [
              0.3333333333333333,
              "#9c179e"
             ],
             [
              0.4444444444444444,
              "#bd3786"
             ],
             [
              0.5555555555555556,
              "#d8576b"
             ],
             [
              0.6666666666666666,
              "#ed7953"
             ],
             [
              0.7777777777777778,
              "#fb9f3a"
             ],
             [
              0.8888888888888888,
              "#fdca26"
             ],
             [
              1,
              "#f0f921"
             ]
            ],
            "type": "histogram2d"
           }
          ],
          "histogram2dcontour": [
           {
            "colorbar": {
             "outlinewidth": 0,
             "ticks": ""
            },
            "colorscale": [
             [
              0,
              "#0d0887"
             ],
             [
              0.1111111111111111,
              "#46039f"
             ],
             [
              0.2222222222222222,
              "#7201a8"
             ],
             [
              0.3333333333333333,
              "#9c179e"
             ],
             [
              0.4444444444444444,
              "#bd3786"
             ],
             [
              0.5555555555555556,
              "#d8576b"
             ],
             [
              0.6666666666666666,
              "#ed7953"
             ],
             [
              0.7777777777777778,
              "#fb9f3a"
             ],
             [
              0.8888888888888888,
              "#fdca26"
             ],
             [
              1,
              "#f0f921"
             ]
            ],
            "type": "histogram2dcontour"
           }
          ],
          "mesh3d": [
           {
            "colorbar": {
             "outlinewidth": 0,
             "ticks": ""
            },
            "type": "mesh3d"
           }
          ],
          "parcoords": [
           {
            "line": {
             "colorbar": {
              "outlinewidth": 0,
              "ticks": ""
             }
            },
            "type": "parcoords"
           }
          ],
          "pie": [
           {
            "automargin": true,
            "type": "pie"
           }
          ],
          "scatter": [
           {
            "fillpattern": {
             "fillmode": "overlay",
             "size": 10,
             "solidity": 0.2
            },
            "type": "scatter"
           }
          ],
          "scatter3d": [
           {
            "line": {
             "colorbar": {
              "outlinewidth": 0,
              "ticks": ""
             }
            },
            "marker": {
             "colorbar": {
              "outlinewidth": 0,
              "ticks": ""
             }
            },
            "type": "scatter3d"
           }
          ],
          "scattercarpet": [
           {
            "marker": {
             "colorbar": {
              "outlinewidth": 0,
              "ticks": ""
             }
            },
            "type": "scattercarpet"
           }
          ],
          "scattergeo": [
           {
            "marker": {
             "colorbar": {
              "outlinewidth": 0,
              "ticks": ""
             }
            },
            "type": "scattergeo"
           }
          ],
          "scattergl": [
           {
            "marker": {
             "colorbar": {
              "outlinewidth": 0,
              "ticks": ""
             }
            },
            "type": "scattergl"
           }
          ],
          "scattermapbox": [
           {
            "marker": {
             "colorbar": {
              "outlinewidth": 0,
              "ticks": ""
             }
            },
            "type": "scattermapbox"
           }
          ],
          "scatterpolar": [
           {
            "marker": {
             "colorbar": {
              "outlinewidth": 0,
              "ticks": ""
             }
            },
            "type": "scatterpolar"
           }
          ],
          "scatterpolargl": [
           {
            "marker": {
             "colorbar": {
              "outlinewidth": 0,
              "ticks": ""
             }
            },
            "type": "scatterpolargl"
           }
          ],
          "scatterternary": [
           {
            "marker": {
             "colorbar": {
              "outlinewidth": 0,
              "ticks": ""
             }
            },
            "type": "scatterternary"
           }
          ],
          "surface": [
           {
            "colorbar": {
             "outlinewidth": 0,
             "ticks": ""
            },
            "colorscale": [
             [
              0,
              "#0d0887"
             ],
             [
              0.1111111111111111,
              "#46039f"
             ],
             [
              0.2222222222222222,
              "#7201a8"
             ],
             [
              0.3333333333333333,
              "#9c179e"
             ],
             [
              0.4444444444444444,
              "#bd3786"
             ],
             [
              0.5555555555555556,
              "#d8576b"
             ],
             [
              0.6666666666666666,
              "#ed7953"
             ],
             [
              0.7777777777777778,
              "#fb9f3a"
             ],
             [
              0.8888888888888888,
              "#fdca26"
             ],
             [
              1,
              "#f0f921"
             ]
            ],
            "type": "surface"
           }
          ],
          "table": [
           {
            "cells": {
             "fill": {
              "color": "#EBF0F8"
             },
             "line": {
              "color": "white"
             }
            },
            "header": {
             "fill": {
              "color": "#C8D4E3"
             },
             "line": {
              "color": "white"
             }
            },
            "type": "table"
           }
          ]
         },
         "layout": {
          "annotationdefaults": {
           "arrowcolor": "#2a3f5f",
           "arrowhead": 0,
           "arrowwidth": 1
          },
          "autotypenumbers": "strict",
          "coloraxis": {
           "colorbar": {
            "outlinewidth": 0,
            "ticks": ""
           }
          },
          "colorscale": {
           "diverging": [
            [
             0,
             "#8e0152"
            ],
            [
             0.1,
             "#c51b7d"
            ],
            [
             0.2,
             "#de77ae"
            ],
            [
             0.3,
             "#f1b6da"
            ],
            [
             0.4,
             "#fde0ef"
            ],
            [
             0.5,
             "#f7f7f7"
            ],
            [
             0.6,
             "#e6f5d0"
            ],
            [
             0.7,
             "#b8e186"
            ],
            [
             0.8,
             "#7fbc41"
            ],
            [
             0.9,
             "#4d9221"
            ],
            [
             1,
             "#276419"
            ]
           ],
           "sequential": [
            [
             0,
             "#0d0887"
            ],
            [
             0.1111111111111111,
             "#46039f"
            ],
            [
             0.2222222222222222,
             "#7201a8"
            ],
            [
             0.3333333333333333,
             "#9c179e"
            ],
            [
             0.4444444444444444,
             "#bd3786"
            ],
            [
             0.5555555555555556,
             "#d8576b"
            ],
            [
             0.6666666666666666,
             "#ed7953"
            ],
            [
             0.7777777777777778,
             "#fb9f3a"
            ],
            [
             0.8888888888888888,
             "#fdca26"
            ],
            [
             1,
             "#f0f921"
            ]
           ],
           "sequentialminus": [
            [
             0,
             "#0d0887"
            ],
            [
             0.1111111111111111,
             "#46039f"
            ],
            [
             0.2222222222222222,
             "#7201a8"
            ],
            [
             0.3333333333333333,
             "#9c179e"
            ],
            [
             0.4444444444444444,
             "#bd3786"
            ],
            [
             0.5555555555555556,
             "#d8576b"
            ],
            [
             0.6666666666666666,
             "#ed7953"
            ],
            [
             0.7777777777777778,
             "#fb9f3a"
            ],
            [
             0.8888888888888888,
             "#fdca26"
            ],
            [
             1,
             "#f0f921"
            ]
           ]
          },
          "colorway": [
           "#636efa",
           "#EF553B",
           "#00cc96",
           "#ab63fa",
           "#FFA15A",
           "#19d3f3",
           "#FF6692",
           "#B6E880",
           "#FF97FF",
           "#FECB52"
          ],
          "font": {
           "color": "#2a3f5f"
          },
          "geo": {
           "bgcolor": "white",
           "lakecolor": "white",
           "landcolor": "#E5ECF6",
           "showlakes": true,
           "showland": true,
           "subunitcolor": "white"
          },
          "hoverlabel": {
           "align": "left"
          },
          "hovermode": "closest",
          "mapbox": {
           "style": "light"
          },
          "paper_bgcolor": "white",
          "plot_bgcolor": "#E5ECF6",
          "polar": {
           "angularaxis": {
            "gridcolor": "white",
            "linecolor": "white",
            "ticks": ""
           },
           "bgcolor": "#E5ECF6",
           "radialaxis": {
            "gridcolor": "white",
            "linecolor": "white",
            "ticks": ""
           }
          },
          "scene": {
           "xaxis": {
            "backgroundcolor": "#E5ECF6",
            "gridcolor": "white",
            "gridwidth": 2,
            "linecolor": "white",
            "showbackground": true,
            "ticks": "",
            "zerolinecolor": "white"
           },
           "yaxis": {
            "backgroundcolor": "#E5ECF6",
            "gridcolor": "white",
            "gridwidth": 2,
            "linecolor": "white",
            "showbackground": true,
            "ticks": "",
            "zerolinecolor": "white"
           },
           "zaxis": {
            "backgroundcolor": "#E5ECF6",
            "gridcolor": "white",
            "gridwidth": 2,
            "linecolor": "white",
            "showbackground": true,
            "ticks": "",
            "zerolinecolor": "white"
           }
          },
          "shapedefaults": {
           "line": {
            "color": "#2a3f5f"
           }
          },
          "ternary": {
           "aaxis": {
            "gridcolor": "white",
            "linecolor": "white",
            "ticks": ""
           },
           "baxis": {
            "gridcolor": "white",
            "linecolor": "white",
            "ticks": ""
           },
           "bgcolor": "#E5ECF6",
           "caxis": {
            "gridcolor": "white",
            "linecolor": "white",
            "ticks": ""
           }
          },
          "title": {
           "x": 0.05
          },
          "xaxis": {
           "automargin": true,
           "gridcolor": "white",
           "linecolor": "white",
           "ticks": "",
           "title": {
            "standoff": 15
           },
           "zerolinecolor": "white",
           "zerolinewidth": 2
          },
          "yaxis": {
           "automargin": true,
           "gridcolor": "white",
           "linecolor": "white",
           "ticks": "",
           "title": {
            "standoff": 15
           },
           "zerolinecolor": "white",
           "zerolinewidth": 2
          }
         }
        }
       }
      },
      "text/html": [
       "<div>                            <div id=\"2473e630-c856-4bff-bc0d-25c1ec1b051a\" class=\"plotly-graph-div\" style=\"height:525px; width:100%;\"></div>            <script type=\"text/javascript\">                require([\"plotly\"], function(Plotly) {                    window.PLOTLYENV=window.PLOTLYENV || {};                                    if (document.getElementById(\"2473e630-c856-4bff-bc0d-25c1ec1b051a\")) {                    Plotly.newPlot(                        \"2473e630-c856-4bff-bc0d-25c1ec1b051a\",                        [{\"hovertemplate\":\"PC1=%{x}\\u003cbr\\u003ePC2=%{y}\\u003cbr\\u003etarget=%{z}\\u003cextra\\u003e\\u003c\\u002fextra\\u003e\",\"legendgroup\":\"\",\"marker\":{\"color\":\"#FF0000\",\"symbol\":\"circle\"},\"mode\":\"markers\",\"name\":\"\",\"scene\":\"scene\",\"showlegend\":false,\"x\":[-257.9801535393154,142.02066538549425,-557.9854045102862,242.02501698744575,-357.98291951108024,-657.9874365675123,442.0271317719121,-157.98579448598298,-257.98320048363917,-57.976823339402145,-357.96830741783174,42.020582658254,-457.98032550873637,-357.9882794851889,-157.97349542251945,-257.98551351342405,-557.9823575659625,142.02797468958875,42.01826962846906,-57.991435432650626,-157.9758084523044,-457.98726459809114,-657.9820765934036,242.0300067468148,-357.9852325408651,-257.9908734875328,-157.9781214820893,-57.986075458541904,-557.9823575659625,142.02797468958875,42.01826962846906,342.0074406771138,-157.9781214820893,-457.98726459809114,-657.9820765934036,242.0300067468148,-257.98551351342405,-157.99115446009174,-57.97840245464824,42.013643568899184,-557.9823575659625,142.0302877193737,42.01826962846906,342.0074406771138,-57.980715484433176,-457.98726459809114,-657.9820765934036,242.0300067468148,-157.98579448598298,-57.991435432650626,42.02131657279285,142.01336259634027,-557.9823575659625,142.0302877193737,242.01770768335126,442.0071597045549,42.01900354300791,-357.98754557065007,-657.9820765934036,342.0297257742559,-57.986075458541904,42.00828359479046,142.02103560023394,242.01308162378137,-457.9826385385213,142.0302877193737,242.01770768335126,342.0074406771138,142.018722570449,-357.98754557065007,-657.9820765934036,442.029444801697,42.013643568899184,142.00800262223152,242.02075462767505,342.0128006512225,-457.9826385385213,142.0302877193737,242.01770768335126,442.0071597045549,142.01640954066406,-257.99013957299394,-557.9846705957474,542.029163829138,142.01104956655533,242.00540861988767,342.0181606253312,442.0102066488787,-357.9852325408651,242.02769371702985,342.0151136810074,542.0045657022109,242.01612856810516,-157.99042054555287,-457.98726459809114,642.0265698267942,242.0084555642115,342.0028146175439,442.01556662298736,542.0076126465348,-257.987826543209,342.025099714686,442.01251967866364,642.0019716998671,342.01353456576135,-57.99301454789672,-357.989858600435,742.0239758244503,-457.99189065766103,42.012064453653096,442.0194587680184,-57.990701518111784,342.02278668490106,542.0238038550293,-557.994656629426,-257.9894056584551,242.01539465356632,442.02019268255725,642.0258359122554],\"y\":[-1.6141180682759821,-1.461232648662554,0.3081645289760262,-3.164687525172007,-0.53449425979858,1.0405911178308218,-3.8329293645867772,0.9088273881646037,-0.29752924009578396,-2.731774026362967,-6.698041130766737,-1.5254173981025796,-1.7408508880589677,1.7514861769392096,-4.2853278742459615,0.6718623684618078,-1.0084242992041719,-4.543824423695165,-0.5560257895449877,3.4317728446051894,-3.3159362656883697,1.1673239376138076,-1.245389318906968,-5.27625101254996,0.43489734875901176,2.9578428051995975,-2.346544657130778,1.1457924078673998,-1.0084242992041719,-4.543824423695165,-0.5560257895449877,4.379632923416374,-2.346544657130778,1.1673239376138076,-1.245389318906968,-5.27625101254996,0.6718623684618078,3.1948078249023935,-2.1095796374279816,1.3827574275701957,-1.0084242992041719,-5.513216032252757,-0.5560257895449877,4.379632923416374,-1.14018802887039,1.1673239376138076,-1.245389318906968,-5.27625101254996,0.9088273881646037,3.4317728446051894,-1.8726146177251857,1.6197224472729916,-1.0084242992041719,-5.513216032252757,-0.08209575013939575,4.61659794311917,-0.903223009167594,1.4042889573166035,-1.245389318906968,-5.039285992847165,1.1457924078673998,3.6687378643079853,-1.6356495980223897,1.8566874669757878,-0.7714592795013759,-5.513216032252757,-0.08209575013939575,4.379632923416374,-0.666257989464798,1.4042889573166035,-1.245389318906968,-4.802320973144369,1.3827574275701957,3.9057028840107817,-1.3986845783195938,2.0936524866785837,-0.7714592795013759,-5.513216032252757,-0.08209575013939575,4.61659794311917,0.3031336190927938,2.6106455855769912,-0.03903269064658012,-4.565355953441573,2.5891140558305836,5.112059512271169,-0.192327950059206,3.3000091149389714,0.43489734875901176,-4.306859403992369,1.124260878120992,5.822954571379557,0.5400986387955897,2.847610605279787,1.1673239376138076,-3.3589993251811854,3.7954706840909713,6.318416140531557,1.0140286782011818,4.50636574319936,1.6412539770193995,-3.1005027757319814,2.3306175063813797,7.029311199639945,1.7464552670559774,4.053967233540175,2.3736805658741953,-2.1526426969207972,3.106107154728991,2.0049518165051814,-0.5775573192913954,3.0845756249825835,-2.1311111671743896,-2.2793755167037832,4.185730963206393,2.263448365954385,0.887295858418196,-0.9247545389140017,-3.011802105558579],\"z\":[430000.0,420000.0,270000.0,450000.0,360000.0,280000.0,510000.0,380000.0,370000.0,400000.0,480000.0,410000.0,350000.0,290000.0,460000.0,360000.0,340000.0,490000.0,400000.0,300000.0,470000.0,350000.0,330000.0,500000.0,360000.0,310000.0,440000.0,380000.0,340000.0,490000.0,400000.0,320000.0,430000.0,340000.0,330000.0,500000.0,370000.0,310000.0,440000.0,390000.0,340000.0,480000.0,400000.0,320000.0,420000.0,340000.0,330000.0,500000.0,380000.0,310000.0,430000.0,390000.0,340000.0,480000.0,410000.0,330000.0,420000.0,350000.0,330000.0,510000.0,380000.0,320000.0,430000.0,390000.0,350000.0,480000.0,410000.0,330000.0,420000.0,350000.0,330000.0,510000.0,390000.0,320000.0,450000.0,410000.0,360000.0,490000.0,410000.0,340000.0,430000.0,360000.0,340000.0,520000.0,400000.0,330000.0,450000.0,420000.0,360000.0,480000.0,420000.0,340000.0,450000.0,370000.0,350000.0,530000.0,410000.0,350000.0,460000.0,430000.0,370000.0,490000.0,430000.0,360000.0,460000.0,380000.0,360000.0,540000.0,350000.0,440000.0,410000.0,380000.0,490000.0,430000.0,280000.0,420000.0,390000.0,460000.0,440000.0],\"type\":\"scatter3d\"}],                        {\"template\":{\"data\":{\"histogram2dcontour\":[{\"type\":\"histogram2dcontour\",\"colorbar\":{\"outlinewidth\":0,\"ticks\":\"\"},\"colorscale\":[[0.0,\"#0d0887\"],[0.1111111111111111,\"#46039f\"],[0.2222222222222222,\"#7201a8\"],[0.3333333333333333,\"#9c179e\"],[0.4444444444444444,\"#bd3786\"],[0.5555555555555556,\"#d8576b\"],[0.6666666666666666,\"#ed7953\"],[0.7777777777777778,\"#fb9f3a\"],[0.8888888888888888,\"#fdca26\"],[1.0,\"#f0f921\"]]}],\"choropleth\":[{\"type\":\"choropleth\",\"colorbar\":{\"outlinewidth\":0,\"ticks\":\"\"}}],\"histogram2d\":[{\"type\":\"histogram2d\",\"colorbar\":{\"outlinewidth\":0,\"ticks\":\"\"},\"colorscale\":[[0.0,\"#0d0887\"],[0.1111111111111111,\"#46039f\"],[0.2222222222222222,\"#7201a8\"],[0.3333333333333333,\"#9c179e\"],[0.4444444444444444,\"#bd3786\"],[0.5555555555555556,\"#d8576b\"],[0.6666666666666666,\"#ed7953\"],[0.7777777777777778,\"#fb9f3a\"],[0.8888888888888888,\"#fdca26\"],[1.0,\"#f0f921\"]]}],\"heatmap\":[{\"type\":\"heatmap\",\"colorbar\":{\"outlinewidth\":0,\"ticks\":\"\"},\"colorscale\":[[0.0,\"#0d0887\"],[0.1111111111111111,\"#46039f\"],[0.2222222222222222,\"#7201a8\"],[0.3333333333333333,\"#9c179e\"],[0.4444444444444444,\"#bd3786\"],[0.5555555555555556,\"#d8576b\"],[0.6666666666666666,\"#ed7953\"],[0.7777777777777778,\"#fb9f3a\"],[0.8888888888888888,\"#fdca26\"],[1.0,\"#f0f921\"]]}],\"heatmapgl\":[{\"type\":\"heatmapgl\",\"colorbar\":{\"outlinewidth\":0,\"ticks\":\"\"},\"colorscale\":[[0.0,\"#0d0887\"],[0.1111111111111111,\"#46039f\"],[0.2222222222222222,\"#7201a8\"],[0.3333333333333333,\"#9c179e\"],[0.4444444444444444,\"#bd3786\"],[0.5555555555555556,\"#d8576b\"],[0.6666666666666666,\"#ed7953\"],[0.7777777777777778,\"#fb9f3a\"],[0.8888888888888888,\"#fdca26\"],[1.0,\"#f0f921\"]]}],\"contourcarpet\":[{\"type\":\"contourcarpet\",\"colorbar\":{\"outlinewidth\":0,\"ticks\":\"\"}}],\"contour\":[{\"type\":\"contour\",\"colorbar\":{\"outlinewidth\":0,\"ticks\":\"\"},\"colorscale\":[[0.0,\"#0d0887\"],[0.1111111111111111,\"#46039f\"],[0.2222222222222222,\"#7201a8\"],[0.3333333333333333,\"#9c179e\"],[0.4444444444444444,\"#bd3786\"],[0.5555555555555556,\"#d8576b\"],[0.6666666666666666,\"#ed7953\"],[0.7777777777777778,\"#fb9f3a\"],[0.8888888888888888,\"#fdca26\"],[1.0,\"#f0f921\"]]}],\"surface\":[{\"type\":\"surface\",\"colorbar\":{\"outlinewidth\":0,\"ticks\":\"\"},\"colorscale\":[[0.0,\"#0d0887\"],[0.1111111111111111,\"#46039f\"],[0.2222222222222222,\"#7201a8\"],[0.3333333333333333,\"#9c179e\"],[0.4444444444444444,\"#bd3786\"],[0.5555555555555556,\"#d8576b\"],[0.6666666666666666,\"#ed7953\"],[0.7777777777777778,\"#fb9f3a\"],[0.8888888888888888,\"#fdca26\"],[1.0,\"#f0f921\"]]}],\"mesh3d\":[{\"type\":\"mesh3d\",\"colorbar\":{\"outlinewidth\":0,\"ticks\":\"\"}}],\"scatter\":[{\"fillpattern\":{\"fillmode\":\"overlay\",\"size\":10,\"solidity\":0.2},\"type\":\"scatter\"}],\"parcoords\":[{\"type\":\"parcoords\",\"line\":{\"colorbar\":{\"outlinewidth\":0,\"ticks\":\"\"}}}],\"scatterpolargl\":[{\"type\":\"scatterpolargl\",\"marker\":{\"colorbar\":{\"outlinewidth\":0,\"ticks\":\"\"}}}],\"bar\":[{\"error_x\":{\"color\":\"#2a3f5f\"},\"error_y\":{\"color\":\"#2a3f5f\"},\"marker\":{\"line\":{\"color\":\"#E5ECF6\",\"width\":0.5},\"pattern\":{\"fillmode\":\"overlay\",\"size\":10,\"solidity\":0.2}},\"type\":\"bar\"}],\"scattergeo\":[{\"type\":\"scattergeo\",\"marker\":{\"colorbar\":{\"outlinewidth\":0,\"ticks\":\"\"}}}],\"scatterpolar\":[{\"type\":\"scatterpolar\",\"marker\":{\"colorbar\":{\"outlinewidth\":0,\"ticks\":\"\"}}}],\"histogram\":[{\"marker\":{\"pattern\":{\"fillmode\":\"overlay\",\"size\":10,\"solidity\":0.2}},\"type\":\"histogram\"}],\"scattergl\":[{\"type\":\"scattergl\",\"marker\":{\"colorbar\":{\"outlinewidth\":0,\"ticks\":\"\"}}}],\"scatter3d\":[{\"type\":\"scatter3d\",\"line\":{\"colorbar\":{\"outlinewidth\":0,\"ticks\":\"\"}},\"marker\":{\"colorbar\":{\"outlinewidth\":0,\"ticks\":\"\"}}}],\"scattermapbox\":[{\"type\":\"scattermapbox\",\"marker\":{\"colorbar\":{\"outlinewidth\":0,\"ticks\":\"\"}}}],\"scatterternary\":[{\"type\":\"scatterternary\",\"marker\":{\"colorbar\":{\"outlinewidth\":0,\"ticks\":\"\"}}}],\"scattercarpet\":[{\"type\":\"scattercarpet\",\"marker\":{\"colorbar\":{\"outlinewidth\":0,\"ticks\":\"\"}}}],\"carpet\":[{\"aaxis\":{\"endlinecolor\":\"#2a3f5f\",\"gridcolor\":\"white\",\"linecolor\":\"white\",\"minorgridcolor\":\"white\",\"startlinecolor\":\"#2a3f5f\"},\"baxis\":{\"endlinecolor\":\"#2a3f5f\",\"gridcolor\":\"white\",\"linecolor\":\"white\",\"minorgridcolor\":\"white\",\"startlinecolor\":\"#2a3f5f\"},\"type\":\"carpet\"}],\"table\":[{\"cells\":{\"fill\":{\"color\":\"#EBF0F8\"},\"line\":{\"color\":\"white\"}},\"header\":{\"fill\":{\"color\":\"#C8D4E3\"},\"line\":{\"color\":\"white\"}},\"type\":\"table\"}],\"barpolar\":[{\"marker\":{\"line\":{\"color\":\"#E5ECF6\",\"width\":0.5},\"pattern\":{\"fillmode\":\"overlay\",\"size\":10,\"solidity\":0.2}},\"type\":\"barpolar\"}],\"pie\":[{\"automargin\":true,\"type\":\"pie\"}]},\"layout\":{\"autotypenumbers\":\"strict\",\"colorway\":[\"#636efa\",\"#EF553B\",\"#00cc96\",\"#ab63fa\",\"#FFA15A\",\"#19d3f3\",\"#FF6692\",\"#B6E880\",\"#FF97FF\",\"#FECB52\"],\"font\":{\"color\":\"#2a3f5f\"},\"hovermode\":\"closest\",\"hoverlabel\":{\"align\":\"left\"},\"paper_bgcolor\":\"white\",\"plot_bgcolor\":\"#E5ECF6\",\"polar\":{\"bgcolor\":\"#E5ECF6\",\"angularaxis\":{\"gridcolor\":\"white\",\"linecolor\":\"white\",\"ticks\":\"\"},\"radialaxis\":{\"gridcolor\":\"white\",\"linecolor\":\"white\",\"ticks\":\"\"}},\"ternary\":{\"bgcolor\":\"#E5ECF6\",\"aaxis\":{\"gridcolor\":\"white\",\"linecolor\":\"white\",\"ticks\":\"\"},\"baxis\":{\"gridcolor\":\"white\",\"linecolor\":\"white\",\"ticks\":\"\"},\"caxis\":{\"gridcolor\":\"white\",\"linecolor\":\"white\",\"ticks\":\"\"}},\"coloraxis\":{\"colorbar\":{\"outlinewidth\":0,\"ticks\":\"\"}},\"colorscale\":{\"sequential\":[[0.0,\"#0d0887\"],[0.1111111111111111,\"#46039f\"],[0.2222222222222222,\"#7201a8\"],[0.3333333333333333,\"#9c179e\"],[0.4444444444444444,\"#bd3786\"],[0.5555555555555556,\"#d8576b\"],[0.6666666666666666,\"#ed7953\"],[0.7777777777777778,\"#fb9f3a\"],[0.8888888888888888,\"#fdca26\"],[1.0,\"#f0f921\"]],\"sequentialminus\":[[0.0,\"#0d0887\"],[0.1111111111111111,\"#46039f\"],[0.2222222222222222,\"#7201a8\"],[0.3333333333333333,\"#9c179e\"],[0.4444444444444444,\"#bd3786\"],[0.5555555555555556,\"#d8576b\"],[0.6666666666666666,\"#ed7953\"],[0.7777777777777778,\"#fb9f3a\"],[0.8888888888888888,\"#fdca26\"],[1.0,\"#f0f921\"]],\"diverging\":[[0,\"#8e0152\"],[0.1,\"#c51b7d\"],[0.2,\"#de77ae\"],[0.3,\"#f1b6da\"],[0.4,\"#fde0ef\"],[0.5,\"#f7f7f7\"],[0.6,\"#e6f5d0\"],[0.7,\"#b8e186\"],[0.8,\"#7fbc41\"],[0.9,\"#4d9221\"],[1,\"#276419\"]]},\"xaxis\":{\"gridcolor\":\"white\",\"linecolor\":\"white\",\"ticks\":\"\",\"title\":{\"standoff\":15},\"zerolinecolor\":\"white\",\"automargin\":true,\"zerolinewidth\":2},\"yaxis\":{\"gridcolor\":\"white\",\"linecolor\":\"white\",\"ticks\":\"\",\"title\":{\"standoff\":15},\"zerolinecolor\":\"white\",\"automargin\":true,\"zerolinewidth\":2},\"scene\":{\"xaxis\":{\"backgroundcolor\":\"#E5ECF6\",\"gridcolor\":\"white\",\"linecolor\":\"white\",\"showbackground\":true,\"ticks\":\"\",\"zerolinecolor\":\"white\",\"gridwidth\":2},\"yaxis\":{\"backgroundcolor\":\"#E5ECF6\",\"gridcolor\":\"white\",\"linecolor\":\"white\",\"showbackground\":true,\"ticks\":\"\",\"zerolinecolor\":\"white\",\"gridwidth\":2},\"zaxis\":{\"backgroundcolor\":\"#E5ECF6\",\"gridcolor\":\"white\",\"linecolor\":\"white\",\"showbackground\":true,\"ticks\":\"\",\"zerolinecolor\":\"white\",\"gridwidth\":2}},\"shapedefaults\":{\"line\":{\"color\":\"#2a3f5f\"}},\"annotationdefaults\":{\"arrowcolor\":\"#2a3f5f\",\"arrowhead\":0,\"arrowwidth\":1},\"geo\":{\"bgcolor\":\"white\",\"landcolor\":\"#E5ECF6\",\"subunitcolor\":\"white\",\"showland\":true,\"showlakes\":true,\"lakecolor\":\"white\"},\"title\":{\"x\":0.05},\"mapbox\":{\"style\":\"light\"}}},\"scene\":{\"domain\":{\"x\":[0.0,1.0],\"y\":[0.0,1.0]},\"xaxis\":{\"title\":{\"text\":\"PC1\"}},\"yaxis\":{\"title\":{\"text\":\"PC2\"}},\"zaxis\":{\"title\":{\"text\":\"target\"}}},\"legend\":{\"tracegroupgap\":0},\"margin\":{\"t\":60}},                        {\"responsive\": true}                    ).then(function(){\n",
       "                            \n",
       "var gd = document.getElementById('2473e630-c856-4bff-bc0d-25c1ec1b051a');\n",
       "var x = new MutationObserver(function (mutations, observer) {{\n",
       "        var display = window.getComputedStyle(gd).display;\n",
       "        if (!display || display === 'none') {{\n",
       "            console.log([gd, 'removed!']);\n",
       "            Plotly.purge(gd);\n",
       "            observer.disconnect();\n",
       "        }}\n",
       "}});\n",
       "\n",
       "// Listen for the removal of the full notebook cells\n",
       "var notebookContainer = gd.closest('#notebook-container');\n",
       "if (notebookContainer) {{\n",
       "    x.observe(notebookContainer, {childList: true});\n",
       "}}\n",
       "\n",
       "// Listen for the clearing of the current output cell\n",
       "var outputEl = gd.closest('.output');\n",
       "if (outputEl) {{\n",
       "    x.observe(outputEl, {childList: true});\n",
       "}}\n",
       "\n",
       "                        })                };                });            </script>        </div>"
      ]
     },
     "metadata": {},
     "output_type": "display_data"
    }
   ],
   "source": [
    "#plotting all 2 principal components with target \n",
    "dataset_3D = df_data2_transform2D.copy()\n",
    "dataset_3D[\"target\"] = y_values\n",
    "\n",
    "fig = px.scatter_3d(dataset_3D, x = 'PC1', y = 'PC2', z = 'target').update_traces(marker = dict(color = \"#000000\"))\n",
    "fig.update_traces(marker = dict(color = \"#FF0000\"))\n",
    "fig.show()"
   ]
  },
  {
   "cell_type": "code",
   "execution_count": 27,
   "id": "3101dbfb",
   "metadata": {},
   "outputs": [
    {
     "name": "stdout",
     "output_type": "stream",
     "text": [
      "[501056.38210479 413390.8321664 ]\n"
     ]
    }
   ],
   "source": [
    "#linear regression with 2 PCs and Target\n",
    "model_pca2_2D = LinearRegression()\n",
    "model_pca2_2D.fit(data2_transform2D, y_values)\n",
    "\n",
    "\n",
    "#transforming new points to PCA relative 'dimensions'\n",
    "new_points_centered = new_points - pca2_2D.mean_ #subtracting mean -> centering\n",
    "transformed_points = new_points_centered @ pca2_2D.components_.T\n",
    "predictions = model_pca2_2D.predict(transformed_points)\n",
    "\n",
    "#PCA 2 dimension data\n",
    "print(predictions)"
   ]
  },
  {
   "cell_type": "code",
   "execution_count": 28,
   "id": "d2b7c38a",
   "metadata": {},
   "outputs": [
    {
     "data": {
      "application/vnd.plotly.v1+json": {
       "config": {
        "linkText": "Export to plot.ly",
        "plotlyServerURL": "https://plot.ly",
        "showLink": false
       },
       "data": [
        {
         "marker": {
          "color": "#000000"
         },
         "mode": "markers",
         "type": "scatter3d",
         "x": [
          -257.9801535393154,
          142.02066538549425,
          -557.9854045102862,
          242.02501698744575,
          -357.98291951108024,
          -657.9874365675123,
          442.0271317719121,
          -157.98579448598298,
          -257.98320048363917,
          -57.976823339402145,
          -357.96830741783174,
          42.020582658254,
          -457.98032550873637,
          -357.9882794851889,
          -157.97349542251945,
          -257.98551351342405,
          -557.9823575659625,
          142.02797468958875,
          42.01826962846906,
          -57.991435432650626,
          -157.9758084523044,
          -457.98726459809114,
          -657.9820765934036,
          242.0300067468148,
          -357.9852325408651,
          -257.9908734875328,
          -157.9781214820893,
          -57.986075458541904,
          -557.9823575659625,
          142.02797468958875,
          42.01826962846906,
          342.0074406771138,
          -157.9781214820893,
          -457.98726459809114,
          -657.9820765934036,
          242.0300067468148,
          -257.98551351342405,
          -157.99115446009174,
          -57.97840245464824,
          42.013643568899184,
          -557.9823575659625,
          142.0302877193737,
          42.01826962846906,
          342.0074406771138,
          -57.980715484433176,
          -457.98726459809114,
          -657.9820765934036,
          242.0300067468148,
          -157.98579448598298,
          -57.991435432650626,
          42.02131657279285,
          142.01336259634027,
          -557.9823575659625,
          142.0302877193737,
          242.01770768335126,
          442.0071597045549,
          42.01900354300791,
          -357.98754557065007,
          -657.9820765934036,
          342.0297257742559,
          -57.986075458541904,
          42.00828359479046,
          142.02103560023394,
          242.01308162378137,
          -457.9826385385213,
          142.0302877193737,
          242.01770768335126,
          342.0074406771138,
          142.018722570449,
          -357.98754557065007,
          -657.9820765934036,
          442.029444801697,
          42.013643568899184,
          142.00800262223152,
          242.02075462767505,
          342.0128006512225,
          -457.9826385385213,
          142.0302877193737,
          242.01770768335126,
          442.0071597045549,
          142.01640954066406,
          -257.99013957299394,
          -557.9846705957474,
          542.029163829138,
          142.01104956655533,
          242.00540861988767,
          342.0181606253312,
          442.0102066488787,
          -357.9852325408651,
          242.02769371702985,
          342.0151136810074,
          542.0045657022109,
          242.01612856810516,
          -157.99042054555287,
          -457.98726459809114,
          642.0265698267942,
          242.0084555642115,
          342.0028146175439,
          442.01556662298736,
          542.0076126465348,
          -257.987826543209,
          342.025099714686,
          442.01251967866364,
          642.0019716998671,
          342.01353456576135,
          -57.99301454789672,
          -357.989858600435,
          742.0239758244503,
          -457.99189065766103,
          42.012064453653096,
          442.0194587680184,
          -57.990701518111784,
          342.02278668490106,
          542.0238038550293,
          -557.994656629426,
          -257.9894056584551,
          242.01539465356632,
          442.02019268255725,
          642.0258359122554
         ],
         "y": [
          -1.6141180682759821,
          -1.461232648662554,
          0.3081645289760262,
          -3.164687525172007,
          -0.53449425979858,
          1.0405911178308218,
          -3.8329293645867772,
          0.9088273881646037,
          -0.29752924009578396,
          -2.731774026362967,
          -6.698041130766737,
          -1.5254173981025796,
          -1.7408508880589677,
          1.7514861769392096,
          -4.2853278742459615,
          0.6718623684618078,
          -1.0084242992041719,
          -4.543824423695165,
          -0.5560257895449877,
          3.4317728446051894,
          -3.3159362656883697,
          1.1673239376138076,
          -1.245389318906968,
          -5.27625101254996,
          0.43489734875901176,
          2.9578428051995975,
          -2.346544657130778,
          1.1457924078673998,
          -1.0084242992041719,
          -4.543824423695165,
          -0.5560257895449877,
          4.379632923416374,
          -2.346544657130778,
          1.1673239376138076,
          -1.245389318906968,
          -5.27625101254996,
          0.6718623684618078,
          3.1948078249023935,
          -2.1095796374279816,
          1.3827574275701957,
          -1.0084242992041719,
          -5.513216032252757,
          -0.5560257895449877,
          4.379632923416374,
          -1.14018802887039,
          1.1673239376138076,
          -1.245389318906968,
          -5.27625101254996,
          0.9088273881646037,
          3.4317728446051894,
          -1.8726146177251857,
          1.6197224472729916,
          -1.0084242992041719,
          -5.513216032252757,
          -0.08209575013939575,
          4.61659794311917,
          -0.903223009167594,
          1.4042889573166035,
          -1.245389318906968,
          -5.039285992847165,
          1.1457924078673998,
          3.6687378643079853,
          -1.6356495980223897,
          1.8566874669757878,
          -0.7714592795013759,
          -5.513216032252757,
          -0.08209575013939575,
          4.379632923416374,
          -0.666257989464798,
          1.4042889573166035,
          -1.245389318906968,
          -4.802320973144369,
          1.3827574275701957,
          3.9057028840107817,
          -1.3986845783195938,
          2.0936524866785837,
          -0.7714592795013759,
          -5.513216032252757,
          -0.08209575013939575,
          4.61659794311917,
          0.3031336190927938,
          2.6106455855769912,
          -0.03903269064658012,
          -4.565355953441573,
          2.5891140558305836,
          5.112059512271169,
          -0.192327950059206,
          3.3000091149389714,
          0.43489734875901176,
          -4.306859403992369,
          1.124260878120992,
          5.822954571379557,
          0.5400986387955897,
          2.847610605279787,
          1.1673239376138076,
          -3.3589993251811854,
          3.7954706840909713,
          6.318416140531557,
          1.0140286782011818,
          4.50636574319936,
          1.6412539770193995,
          -3.1005027757319814,
          2.3306175063813797,
          7.029311199639945,
          1.7464552670559774,
          4.053967233540175,
          2.3736805658741953,
          -2.1526426969207972,
          3.106107154728991,
          2.0049518165051814,
          -0.5775573192913954,
          3.0845756249825835,
          -2.1311111671743896,
          -2.2793755167037832,
          4.185730963206393,
          2.263448365954385,
          0.887295858418196,
          -0.9247545389140017,
          -3.011802105558579
         ],
         "z": [
          430000,
          420000,
          270000,
          450000,
          360000,
          280000,
          510000,
          380000,
          370000,
          400000,
          480000,
          410000,
          350000,
          290000,
          460000,
          360000,
          340000,
          490000,
          400000,
          300000,
          470000,
          350000,
          330000,
          500000,
          360000,
          310000,
          440000,
          380000,
          340000,
          490000,
          400000,
          320000,
          430000,
          340000,
          330000,
          500000,
          370000,
          310000,
          440000,
          390000,
          340000,
          480000,
          400000,
          320000,
          420000,
          340000,
          330000,
          500000,
          380000,
          310000,
          430000,
          390000,
          340000,
          480000,
          410000,
          330000,
          420000,
          350000,
          330000,
          510000,
          380000,
          320000,
          430000,
          390000,
          350000,
          480000,
          410000,
          330000,
          420000,
          350000,
          330000,
          510000,
          390000,
          320000,
          450000,
          410000,
          360000,
          490000,
          410000,
          340000,
          430000,
          360000,
          340000,
          520000,
          400000,
          330000,
          450000,
          420000,
          360000,
          480000,
          420000,
          340000,
          450000,
          370000,
          350000,
          530000,
          410000,
          350000,
          460000,
          430000,
          370000,
          490000,
          430000,
          360000,
          460000,
          380000,
          360000,
          540000,
          350000,
          440000,
          410000,
          380000,
          490000,
          430000,
          280000,
          420000,
          390000,
          460000,
          440000
         ]
        },
        {
         "colorscale": [
          [
           0,
           "#440154"
          ],
          [
           0.1111111111111111,
           "#482878"
          ],
          [
           0.2222222222222222,
           "#3e4989"
          ],
          [
           0.3333333333333333,
           "#31688e"
          ],
          [
           0.4444444444444444,
           "#26828e"
          ],
          [
           0.5555555555555556,
           "#1f9e89"
          ],
          [
           0.6666666666666666,
           "#35b779"
          ],
          [
           0.7777777777777778,
           "#6ece58"
          ],
          [
           0.8888888888888888,
           "#b5de2b"
          ],
          [
           1,
           "#fde725"
          ]
         ],
         "type": "surface",
         "x": [
          [
           -657.9874365675123,
           -502.4306129684054,
           -346.87378936929844,
           -191.31696577019147,
           -35.76014217108457,
           119.79668142802234,
           275.35350502712936,
           430.91032862623615,
           586.4671522253432,
           742.0239758244503
          ],
          [
           -657.9874365675123,
           -502.4306129684054,
           -346.87378936929844,
           -191.31696577019147,
           -35.76014217108457,
           119.79668142802234,
           275.35350502712936,
           430.91032862623615,
           586.4671522253432,
           742.0239758244503
          ],
          [
           -657.9874365675123,
           -502.4306129684054,
           -346.87378936929844,
           -191.31696577019147,
           -35.76014217108457,
           119.79668142802234,
           275.35350502712936,
           430.91032862623615,
           586.4671522253432,
           742.0239758244503
          ],
          [
           -657.9874365675123,
           -502.4306129684054,
           -346.87378936929844,
           -191.31696577019147,
           -35.76014217108457,
           119.79668142802234,
           275.35350502712936,
           430.91032862623615,
           586.4671522253432,
           742.0239758244503
          ],
          [
           -657.9874365675123,
           -502.4306129684054,
           -346.87378936929844,
           -191.31696577019147,
           -35.76014217108457,
           119.79668142802234,
           275.35350502712936,
           430.91032862623615,
           586.4671522253432,
           742.0239758244503
          ],
          [
           -657.9874365675123,
           -502.4306129684054,
           -346.87378936929844,
           -191.31696577019147,
           -35.76014217108457,
           119.79668142802234,
           275.35350502712936,
           430.91032862623615,
           586.4671522253432,
           742.0239758244503
          ],
          [
           -657.9874365675123,
           -502.4306129684054,
           -346.87378936929844,
           -191.31696577019147,
           -35.76014217108457,
           119.79668142802234,
           275.35350502712936,
           430.91032862623615,
           586.4671522253432,
           742.0239758244503
          ],
          [
           -657.9874365675123,
           -502.4306129684054,
           -346.87378936929844,
           -191.31696577019147,
           -35.76014217108457,
           119.79668142802234,
           275.35350502712936,
           430.91032862623615,
           586.4671522253432,
           742.0239758244503
          ],
          [
           -657.9874365675123,
           -502.4306129684054,
           -346.87378936929844,
           -191.31696577019147,
           -35.76014217108457,
           119.79668142802234,
           275.35350502712936,
           430.91032862623615,
           586.4671522253432,
           742.0239758244503
          ],
          [
           -657.9874365675123,
           -502.4306129684054,
           -346.87378936929844,
           -191.31696577019147,
           -35.76014217108457,
           119.79668142802234,
           275.35350502712936,
           430.91032862623615,
           586.4671522253432,
           742.0239758244503
          ]
         ],
         "y": [
          [
           -6.698041130766737,
           -6.698041130766737,
           -6.698041130766737,
           -6.698041130766737,
           -6.698041130766737,
           -6.698041130766737,
           -6.698041130766737,
           -6.698041130766737,
           -6.698041130766737,
           -6.698041130766737
          ],
          [
           -5.17277976072155,
           -5.17277976072155,
           -5.17277976072155,
           -5.17277976072155,
           -5.17277976072155,
           -5.17277976072155,
           -5.17277976072155,
           -5.17277976072155,
           -5.17277976072155,
           -5.17277976072155
          ],
          [
           -3.647518390676363,
           -3.647518390676363,
           -3.647518390676363,
           -3.647518390676363,
           -3.647518390676363,
           -3.647518390676363,
           -3.647518390676363,
           -3.647518390676363,
           -3.647518390676363,
           -3.647518390676363
          ],
          [
           -2.122257020631176,
           -2.122257020631176,
           -2.122257020631176,
           -2.122257020631176,
           -2.122257020631176,
           -2.122257020631176,
           -2.122257020631176,
           -2.122257020631176,
           -2.122257020631176,
           -2.122257020631176
          ],
          [
           -0.5969956505859892,
           -0.5969956505859892,
           -0.5969956505859892,
           -0.5969956505859892,
           -0.5969956505859892,
           -0.5969956505859892,
           -0.5969956505859892,
           -0.5969956505859892,
           -0.5969956505859892,
           -0.5969956505859892
          ],
          [
           0.9282657194591977,
           0.9282657194591977,
           0.9282657194591977,
           0.9282657194591977,
           0.9282657194591977,
           0.9282657194591977,
           0.9282657194591977,
           0.9282657194591977,
           0.9282657194591977,
           0.9282657194591977
          ],
          [
           2.4535270895043846,
           2.4535270895043846,
           2.4535270895043846,
           2.4535270895043846,
           2.4535270895043846,
           2.4535270895043846,
           2.4535270895043846,
           2.4535270895043846,
           2.4535270895043846,
           2.4535270895043846
          ],
          [
           3.9787884595495724,
           3.9787884595495724,
           3.9787884595495724,
           3.9787884595495724,
           3.9787884595495724,
           3.9787884595495724,
           3.9787884595495724,
           3.9787884595495724,
           3.9787884595495724,
           3.9787884595495724
          ],
          [
           5.504049829594758,
           5.504049829594758,
           5.504049829594758,
           5.504049829594758,
           5.504049829594758,
           5.504049829594758,
           5.504049829594758,
           5.504049829594758,
           5.504049829594758,
           5.504049829594758
          ],
          [
           7.029311199639945,
           7.029311199639945,
           7.029311199639945,
           7.029311199639945,
           7.029311199639945,
           7.029311199639945,
           7.029311199639945,
           7.029311199639945,
           7.029311199639945,
           7.029311199639945
          ]
         ],
         "z": [
          [
           427253.4892290746,
           443273.86709965975,
           459294.2449702449,
           475314.62284083,
           491335.0007114151,
           507355.3785820002,
           523375.75645258534,
           539396.1343231704,
           555416.5121937555,
           571436.8900643407
          ],
          [
           405061.31938888005,
           421081.6972594651,
           437102.07513005025,
           453122.4530006354,
           469142.8308712205,
           485163.20874180563,
           501183.5866123907,
           517203.96448297583,
           533224.342353561,
           549244.720224146
          ],
          [
           382869.1495486854,
           398889.52741927054,
           414909.90528985567,
           430930.2831604408,
           446950.66103102587,
           462971.038901611,
           478991.4167721961,
           495011.7946427812,
           511032.1725133663,
           527052.5503839515
          ],
          [
           360676.97970849084,
           376697.3575790759,
           392717.73544966104,
           408738.11332024616,
           424758.4911908313,
           440778.86906141636,
           456799.2469320015,
           472819.6248025866,
           488840.00267317175,
           504860.3805437569
          ],
          [
           338484.8098682962,
           354505.18773888133,
           370525.56560946646,
           386545.9434800516,
           402566.32135063666,
           418586.6992212218,
           434607.0770918069,
           450627.454962392,
           466647.8328329771,
           482668.21070356225
          ],
          [
           316292.6400281016,
           332313.0178986867,
           348333.3957692718,
           364353.77363985695,
           380374.1515104421,
           396394.52938102715,
           412414.9072516123,
           428435.2851221974,
           444455.66299278254,
           460476.04086336767
          ],
          [
           294100.470187907,
           310120.8480584921,
           326141.22592907725,
           342161.6037996623,
           358181.98167024745,
           374202.3595408326,
           390222.7374114177,
           406243.1152820028,
           422263.4931525879,
           438283.87102317304
          ],
          [
           271908.30034771236,
           287928.6782182975,
           303949.0560888826,
           319969.43395946774,
           335989.8118300529,
           352010.18970063794,
           368030.5675712231,
           384050.9454418082,
           400071.3233123933,
           416091.70118297846
          ],
          [
           249716.13050751778,
           265736.5083781029,
           281756.88624868804,
           297777.26411927317,
           313797.64198985824,
           329818.01986044337,
           345838.3977310285,
           361858.77560161357,
           377879.1534721987,
           393899.5313427838
          ],
          [
           227523.96066732318,
           243544.3385379083,
           259564.7164084934,
           275585.09427907853,
           291605.47214966366,
           307625.85002024873,
           323646.22789083386,
           339666.605761419,
           355686.9836320041,
           371707.36150258925
          ]
         ]
        }
       ],
       "layout": {
        "autosize": true,
        "height": 500,
        "margin": {
         "b": 65,
         "l": 65,
         "r": 50,
         "t": 90
        },
        "scene": {
         "camera": {
          "eye": {
           "x": 1.87,
           "y": 0.88,
           "z": -0.64
          }
         }
        },
        "template": {
         "data": {
          "bar": [
           {
            "error_x": {
             "color": "#2a3f5f"
            },
            "error_y": {
             "color": "#2a3f5f"
            },
            "marker": {
             "line": {
              "color": "#E5ECF6",
              "width": 0.5
             },
             "pattern": {
              "fillmode": "overlay",
              "size": 10,
              "solidity": 0.2
             }
            },
            "type": "bar"
           }
          ],
          "barpolar": [
           {
            "marker": {
             "line": {
              "color": "#E5ECF6",
              "width": 0.5
             },
             "pattern": {
              "fillmode": "overlay",
              "size": 10,
              "solidity": 0.2
             }
            },
            "type": "barpolar"
           }
          ],
          "carpet": [
           {
            "aaxis": {
             "endlinecolor": "#2a3f5f",
             "gridcolor": "white",
             "linecolor": "white",
             "minorgridcolor": "white",
             "startlinecolor": "#2a3f5f"
            },
            "baxis": {
             "endlinecolor": "#2a3f5f",
             "gridcolor": "white",
             "linecolor": "white",
             "minorgridcolor": "white",
             "startlinecolor": "#2a3f5f"
            },
            "type": "carpet"
           }
          ],
          "choropleth": [
           {
            "colorbar": {
             "outlinewidth": 0,
             "ticks": ""
            },
            "type": "choropleth"
           }
          ],
          "contour": [
           {
            "colorbar": {
             "outlinewidth": 0,
             "ticks": ""
            },
            "colorscale": [
             [
              0,
              "#0d0887"
             ],
             [
              0.1111111111111111,
              "#46039f"
             ],
             [
              0.2222222222222222,
              "#7201a8"
             ],
             [
              0.3333333333333333,
              "#9c179e"
             ],
             [
              0.4444444444444444,
              "#bd3786"
             ],
             [
              0.5555555555555556,
              "#d8576b"
             ],
             [
              0.6666666666666666,
              "#ed7953"
             ],
             [
              0.7777777777777778,
              "#fb9f3a"
             ],
             [
              0.8888888888888888,
              "#fdca26"
             ],
             [
              1,
              "#f0f921"
             ]
            ],
            "type": "contour"
           }
          ],
          "contourcarpet": [
           {
            "colorbar": {
             "outlinewidth": 0,
             "ticks": ""
            },
            "type": "contourcarpet"
           }
          ],
          "heatmap": [
           {
            "colorbar": {
             "outlinewidth": 0,
             "ticks": ""
            },
            "colorscale": [
             [
              0,
              "#0d0887"
             ],
             [
              0.1111111111111111,
              "#46039f"
             ],
             [
              0.2222222222222222,
              "#7201a8"
             ],
             [
              0.3333333333333333,
              "#9c179e"
             ],
             [
              0.4444444444444444,
              "#bd3786"
             ],
             [
              0.5555555555555556,
              "#d8576b"
             ],
             [
              0.6666666666666666,
              "#ed7953"
             ],
             [
              0.7777777777777778,
              "#fb9f3a"
             ],
             [
              0.8888888888888888,
              "#fdca26"
             ],
             [
              1,
              "#f0f921"
             ]
            ],
            "type": "heatmap"
           }
          ],
          "heatmapgl": [
           {
            "colorbar": {
             "outlinewidth": 0,
             "ticks": ""
            },
            "colorscale": [
             [
              0,
              "#0d0887"
             ],
             [
              0.1111111111111111,
              "#46039f"
             ],
             [
              0.2222222222222222,
              "#7201a8"
             ],
             [
              0.3333333333333333,
              "#9c179e"
             ],
             [
              0.4444444444444444,
              "#bd3786"
             ],
             [
              0.5555555555555556,
              "#d8576b"
             ],
             [
              0.6666666666666666,
              "#ed7953"
             ],
             [
              0.7777777777777778,
              "#fb9f3a"
             ],
             [
              0.8888888888888888,
              "#fdca26"
             ],
             [
              1,
              "#f0f921"
             ]
            ],
            "type": "heatmapgl"
           }
          ],
          "histogram": [
           {
            "marker": {
             "pattern": {
              "fillmode": "overlay",
              "size": 10,
              "solidity": 0.2
             }
            },
            "type": "histogram"
           }
          ],
          "histogram2d": [
           {
            "colorbar": {
             "outlinewidth": 0,
             "ticks": ""
            },
            "colorscale": [
             [
              0,
              "#0d0887"
             ],
             [
              0.1111111111111111,
              "#46039f"
             ],
             [
              0.2222222222222222,
              "#7201a8"
             ],
             [
              0.3333333333333333,
              "#9c179e"
             ],
             [
              0.4444444444444444,
              "#bd3786"
             ],
             [
              0.5555555555555556,
              "#d8576b"
             ],
             [
              0.6666666666666666,
              "#ed7953"
             ],
             [
              0.7777777777777778,
              "#fb9f3a"
             ],
             [
              0.8888888888888888,
              "#fdca26"
             ],
             [
              1,
              "#f0f921"
             ]
            ],
            "type": "histogram2d"
           }
          ],
          "histogram2dcontour": [
           {
            "colorbar": {
             "outlinewidth": 0,
             "ticks": ""
            },
            "colorscale": [
             [
              0,
              "#0d0887"
             ],
             [
              0.1111111111111111,
              "#46039f"
             ],
             [
              0.2222222222222222,
              "#7201a8"
             ],
             [
              0.3333333333333333,
              "#9c179e"
             ],
             [
              0.4444444444444444,
              "#bd3786"
             ],
             [
              0.5555555555555556,
              "#d8576b"
             ],
             [
              0.6666666666666666,
              "#ed7953"
             ],
             [
              0.7777777777777778,
              "#fb9f3a"
             ],
             [
              0.8888888888888888,
              "#fdca26"
             ],
             [
              1,
              "#f0f921"
             ]
            ],
            "type": "histogram2dcontour"
           }
          ],
          "mesh3d": [
           {
            "colorbar": {
             "outlinewidth": 0,
             "ticks": ""
            },
            "type": "mesh3d"
           }
          ],
          "parcoords": [
           {
            "line": {
             "colorbar": {
              "outlinewidth": 0,
              "ticks": ""
             }
            },
            "type": "parcoords"
           }
          ],
          "pie": [
           {
            "automargin": true,
            "type": "pie"
           }
          ],
          "scatter": [
           {
            "fillpattern": {
             "fillmode": "overlay",
             "size": 10,
             "solidity": 0.2
            },
            "type": "scatter"
           }
          ],
          "scatter3d": [
           {
            "line": {
             "colorbar": {
              "outlinewidth": 0,
              "ticks": ""
             }
            },
            "marker": {
             "colorbar": {
              "outlinewidth": 0,
              "ticks": ""
             }
            },
            "type": "scatter3d"
           }
          ],
          "scattercarpet": [
           {
            "marker": {
             "colorbar": {
              "outlinewidth": 0,
              "ticks": ""
             }
            },
            "type": "scattercarpet"
           }
          ],
          "scattergeo": [
           {
            "marker": {
             "colorbar": {
              "outlinewidth": 0,
              "ticks": ""
             }
            },
            "type": "scattergeo"
           }
          ],
          "scattergl": [
           {
            "marker": {
             "colorbar": {
              "outlinewidth": 0,
              "ticks": ""
             }
            },
            "type": "scattergl"
           }
          ],
          "scattermapbox": [
           {
            "marker": {
             "colorbar": {
              "outlinewidth": 0,
              "ticks": ""
             }
            },
            "type": "scattermapbox"
           }
          ],
          "scatterpolar": [
           {
            "marker": {
             "colorbar": {
              "outlinewidth": 0,
              "ticks": ""
             }
            },
            "type": "scatterpolar"
           }
          ],
          "scatterpolargl": [
           {
            "marker": {
             "colorbar": {
              "outlinewidth": 0,
              "ticks": ""
             }
            },
            "type": "scatterpolargl"
           }
          ],
          "scatterternary": [
           {
            "marker": {
             "colorbar": {
              "outlinewidth": 0,
              "ticks": ""
             }
            },
            "type": "scatterternary"
           }
          ],
          "surface": [
           {
            "colorbar": {
             "outlinewidth": 0,
             "ticks": ""
            },
            "colorscale": [
             [
              0,
              "#0d0887"
             ],
             [
              0.1111111111111111,
              "#46039f"
             ],
             [
              0.2222222222222222,
              "#7201a8"
             ],
             [
              0.3333333333333333,
              "#9c179e"
             ],
             [
              0.4444444444444444,
              "#bd3786"
             ],
             [
              0.5555555555555556,
              "#d8576b"
             ],
             [
              0.6666666666666666,
              "#ed7953"
             ],
             [
              0.7777777777777778,
              "#fb9f3a"
             ],
             [
              0.8888888888888888,
              "#fdca26"
             ],
             [
              1,
              "#f0f921"
             ]
            ],
            "type": "surface"
           }
          ],
          "table": [
           {
            "cells": {
             "fill": {
              "color": "#EBF0F8"
             },
             "line": {
              "color": "white"
             }
            },
            "header": {
             "fill": {
              "color": "#C8D4E3"
             },
             "line": {
              "color": "white"
             }
            },
            "type": "table"
           }
          ]
         },
         "layout": {
          "annotationdefaults": {
           "arrowcolor": "#2a3f5f",
           "arrowhead": 0,
           "arrowwidth": 1
          },
          "autotypenumbers": "strict",
          "coloraxis": {
           "colorbar": {
            "outlinewidth": 0,
            "ticks": ""
           }
          },
          "colorscale": {
           "diverging": [
            [
             0,
             "#8e0152"
            ],
            [
             0.1,
             "#c51b7d"
            ],
            [
             0.2,
             "#de77ae"
            ],
            [
             0.3,
             "#f1b6da"
            ],
            [
             0.4,
             "#fde0ef"
            ],
            [
             0.5,
             "#f7f7f7"
            ],
            [
             0.6,
             "#e6f5d0"
            ],
            [
             0.7,
             "#b8e186"
            ],
            [
             0.8,
             "#7fbc41"
            ],
            [
             0.9,
             "#4d9221"
            ],
            [
             1,
             "#276419"
            ]
           ],
           "sequential": [
            [
             0,
             "#0d0887"
            ],
            [
             0.1111111111111111,
             "#46039f"
            ],
            [
             0.2222222222222222,
             "#7201a8"
            ],
            [
             0.3333333333333333,
             "#9c179e"
            ],
            [
             0.4444444444444444,
             "#bd3786"
            ],
            [
             0.5555555555555556,
             "#d8576b"
            ],
            [
             0.6666666666666666,
             "#ed7953"
            ],
            [
             0.7777777777777778,
             "#fb9f3a"
            ],
            [
             0.8888888888888888,
             "#fdca26"
            ],
            [
             1,
             "#f0f921"
            ]
           ],
           "sequentialminus": [
            [
             0,
             "#0d0887"
            ],
            [
             0.1111111111111111,
             "#46039f"
            ],
            [
             0.2222222222222222,
             "#7201a8"
            ],
            [
             0.3333333333333333,
             "#9c179e"
            ],
            [
             0.4444444444444444,
             "#bd3786"
            ],
            [
             0.5555555555555556,
             "#d8576b"
            ],
            [
             0.6666666666666666,
             "#ed7953"
            ],
            [
             0.7777777777777778,
             "#fb9f3a"
            ],
            [
             0.8888888888888888,
             "#fdca26"
            ],
            [
             1,
             "#f0f921"
            ]
           ]
          },
          "colorway": [
           "#636efa",
           "#EF553B",
           "#00cc96",
           "#ab63fa",
           "#FFA15A",
           "#19d3f3",
           "#FF6692",
           "#B6E880",
           "#FF97FF",
           "#FECB52"
          ],
          "font": {
           "color": "#2a3f5f"
          },
          "geo": {
           "bgcolor": "white",
           "lakecolor": "white",
           "landcolor": "#E5ECF6",
           "showlakes": true,
           "showland": true,
           "subunitcolor": "white"
          },
          "hoverlabel": {
           "align": "left"
          },
          "hovermode": "closest",
          "mapbox": {
           "style": "light"
          },
          "paper_bgcolor": "white",
          "plot_bgcolor": "#E5ECF6",
          "polar": {
           "angularaxis": {
            "gridcolor": "white",
            "linecolor": "white",
            "ticks": ""
           },
           "bgcolor": "#E5ECF6",
           "radialaxis": {
            "gridcolor": "white",
            "linecolor": "white",
            "ticks": ""
           }
          },
          "scene": {
           "xaxis": {
            "backgroundcolor": "#E5ECF6",
            "gridcolor": "white",
            "gridwidth": 2,
            "linecolor": "white",
            "showbackground": true,
            "ticks": "",
            "zerolinecolor": "white"
           },
           "yaxis": {
            "backgroundcolor": "#E5ECF6",
            "gridcolor": "white",
            "gridwidth": 2,
            "linecolor": "white",
            "showbackground": true,
            "ticks": "",
            "zerolinecolor": "white"
           },
           "zaxis": {
            "backgroundcolor": "#E5ECF6",
            "gridcolor": "white",
            "gridwidth": 2,
            "linecolor": "white",
            "showbackground": true,
            "ticks": "",
            "zerolinecolor": "white"
           }
          },
          "shapedefaults": {
           "line": {
            "color": "#2a3f5f"
           }
          },
          "ternary": {
           "aaxis": {
            "gridcolor": "white",
            "linecolor": "white",
            "ticks": ""
           },
           "baxis": {
            "gridcolor": "white",
            "linecolor": "white",
            "ticks": ""
           },
           "bgcolor": "#E5ECF6",
           "caxis": {
            "gridcolor": "white",
            "linecolor": "white",
            "ticks": ""
           }
          },
          "title": {
           "x": 0.05
          },
          "xaxis": {
           "automargin": true,
           "gridcolor": "white",
           "linecolor": "white",
           "ticks": "",
           "title": {
            "standoff": 15
           },
           "zerolinecolor": "white",
           "zerolinewidth": 2
          },
          "yaxis": {
           "automargin": true,
           "gridcolor": "white",
           "linecolor": "white",
           "ticks": "",
           "title": {
            "standoff": 15
           },
           "zerolinecolor": "white",
           "zerolinewidth": 2
          }
         }
        },
        "title": {
         "text": "Linear Regres. Plane"
        },
        "width": 500
       }
      },
      "text/html": [
       "<div>                            <div id=\"aa39999c-732d-4539-a37a-43bdf0ab3f2c\" class=\"plotly-graph-div\" style=\"height:500px; width:500px;\"></div>            <script type=\"text/javascript\">                require([\"plotly\"], function(Plotly) {                    window.PLOTLYENV=window.PLOTLYENV || {};                                    if (document.getElementById(\"aa39999c-732d-4539-a37a-43bdf0ab3f2c\")) {                    Plotly.newPlot(                        \"aa39999c-732d-4539-a37a-43bdf0ab3f2c\",                        [{\"marker\":{\"color\":\"#000000\"},\"mode\":\"markers\",\"x\":[-257.9801535393154,142.02066538549425,-557.9854045102862,242.02501698744575,-357.98291951108024,-657.9874365675123,442.0271317719121,-157.98579448598298,-257.98320048363917,-57.976823339402145,-357.96830741783174,42.020582658254,-457.98032550873637,-357.9882794851889,-157.97349542251945,-257.98551351342405,-557.9823575659625,142.02797468958875,42.01826962846906,-57.991435432650626,-157.9758084523044,-457.98726459809114,-657.9820765934036,242.0300067468148,-357.9852325408651,-257.9908734875328,-157.9781214820893,-57.986075458541904,-557.9823575659625,142.02797468958875,42.01826962846906,342.0074406771138,-157.9781214820893,-457.98726459809114,-657.9820765934036,242.0300067468148,-257.98551351342405,-157.99115446009174,-57.97840245464824,42.013643568899184,-557.9823575659625,142.0302877193737,42.01826962846906,342.0074406771138,-57.980715484433176,-457.98726459809114,-657.9820765934036,242.0300067468148,-157.98579448598298,-57.991435432650626,42.02131657279285,142.01336259634027,-557.9823575659625,142.0302877193737,242.01770768335126,442.0071597045549,42.01900354300791,-357.98754557065007,-657.9820765934036,342.0297257742559,-57.986075458541904,42.00828359479046,142.02103560023394,242.01308162378137,-457.9826385385213,142.0302877193737,242.01770768335126,342.0074406771138,142.018722570449,-357.98754557065007,-657.9820765934036,442.029444801697,42.013643568899184,142.00800262223152,242.02075462767505,342.0128006512225,-457.9826385385213,142.0302877193737,242.01770768335126,442.0071597045549,142.01640954066406,-257.99013957299394,-557.9846705957474,542.029163829138,142.01104956655533,242.00540861988767,342.0181606253312,442.0102066488787,-357.9852325408651,242.02769371702985,342.0151136810074,542.0045657022109,242.01612856810516,-157.99042054555287,-457.98726459809114,642.0265698267942,242.0084555642115,342.0028146175439,442.01556662298736,542.0076126465348,-257.987826543209,342.025099714686,442.01251967866364,642.0019716998671,342.01353456576135,-57.99301454789672,-357.989858600435,742.0239758244503,-457.99189065766103,42.012064453653096,442.0194587680184,-57.990701518111784,342.02278668490106,542.0238038550293,-557.994656629426,-257.9894056584551,242.01539465356632,442.02019268255725,642.0258359122554],\"y\":[-1.6141180682759821,-1.461232648662554,0.3081645289760262,-3.164687525172007,-0.53449425979858,1.0405911178308218,-3.8329293645867772,0.9088273881646037,-0.29752924009578396,-2.731774026362967,-6.698041130766737,-1.5254173981025796,-1.7408508880589677,1.7514861769392096,-4.2853278742459615,0.6718623684618078,-1.0084242992041719,-4.543824423695165,-0.5560257895449877,3.4317728446051894,-3.3159362656883697,1.1673239376138076,-1.245389318906968,-5.27625101254996,0.43489734875901176,2.9578428051995975,-2.346544657130778,1.1457924078673998,-1.0084242992041719,-4.543824423695165,-0.5560257895449877,4.379632923416374,-2.346544657130778,1.1673239376138076,-1.245389318906968,-5.27625101254996,0.6718623684618078,3.1948078249023935,-2.1095796374279816,1.3827574275701957,-1.0084242992041719,-5.513216032252757,-0.5560257895449877,4.379632923416374,-1.14018802887039,1.1673239376138076,-1.245389318906968,-5.27625101254996,0.9088273881646037,3.4317728446051894,-1.8726146177251857,1.6197224472729916,-1.0084242992041719,-5.513216032252757,-0.08209575013939575,4.61659794311917,-0.903223009167594,1.4042889573166035,-1.245389318906968,-5.039285992847165,1.1457924078673998,3.6687378643079853,-1.6356495980223897,1.8566874669757878,-0.7714592795013759,-5.513216032252757,-0.08209575013939575,4.379632923416374,-0.666257989464798,1.4042889573166035,-1.245389318906968,-4.802320973144369,1.3827574275701957,3.9057028840107817,-1.3986845783195938,2.0936524866785837,-0.7714592795013759,-5.513216032252757,-0.08209575013939575,4.61659794311917,0.3031336190927938,2.6106455855769912,-0.03903269064658012,-4.565355953441573,2.5891140558305836,5.112059512271169,-0.192327950059206,3.3000091149389714,0.43489734875901176,-4.306859403992369,1.124260878120992,5.822954571379557,0.5400986387955897,2.847610605279787,1.1673239376138076,-3.3589993251811854,3.7954706840909713,6.318416140531557,1.0140286782011818,4.50636574319936,1.6412539770193995,-3.1005027757319814,2.3306175063813797,7.029311199639945,1.7464552670559774,4.053967233540175,2.3736805658741953,-2.1526426969207972,3.106107154728991,2.0049518165051814,-0.5775573192913954,3.0845756249825835,-2.1311111671743896,-2.2793755167037832,4.185730963206393,2.263448365954385,0.887295858418196,-0.9247545389140017,-3.011802105558579],\"z\":[430000.0,420000.0,270000.0,450000.0,360000.0,280000.0,510000.0,380000.0,370000.0,400000.0,480000.0,410000.0,350000.0,290000.0,460000.0,360000.0,340000.0,490000.0,400000.0,300000.0,470000.0,350000.0,330000.0,500000.0,360000.0,310000.0,440000.0,380000.0,340000.0,490000.0,400000.0,320000.0,430000.0,340000.0,330000.0,500000.0,370000.0,310000.0,440000.0,390000.0,340000.0,480000.0,400000.0,320000.0,420000.0,340000.0,330000.0,500000.0,380000.0,310000.0,430000.0,390000.0,340000.0,480000.0,410000.0,330000.0,420000.0,350000.0,330000.0,510000.0,380000.0,320000.0,430000.0,390000.0,350000.0,480000.0,410000.0,330000.0,420000.0,350000.0,330000.0,510000.0,390000.0,320000.0,450000.0,410000.0,360000.0,490000.0,410000.0,340000.0,430000.0,360000.0,340000.0,520000.0,400000.0,330000.0,450000.0,420000.0,360000.0,480000.0,420000.0,340000.0,450000.0,370000.0,350000.0,530000.0,410000.0,350000.0,460000.0,430000.0,370000.0,490000.0,430000.0,360000.0,460000.0,380000.0,360000.0,540000.0,350000.0,440000.0,410000.0,380000.0,490000.0,430000.0,280000.0,420000.0,390000.0,460000.0,440000.0],\"type\":\"scatter3d\"},{\"colorscale\":[[0.0,\"#440154\"],[0.1111111111111111,\"#482878\"],[0.2222222222222222,\"#3e4989\"],[0.3333333333333333,\"#31688e\"],[0.4444444444444444,\"#26828e\"],[0.5555555555555556,\"#1f9e89\"],[0.6666666666666666,\"#35b779\"],[0.7777777777777778,\"#6ece58\"],[0.8888888888888888,\"#b5de2b\"],[1.0,\"#fde725\"]],\"x\":[[-657.9874365675123,-502.4306129684054,-346.87378936929844,-191.31696577019147,-35.76014217108457,119.79668142802234,275.35350502712936,430.91032862623615,586.4671522253432,742.0239758244503],[-657.9874365675123,-502.4306129684054,-346.87378936929844,-191.31696577019147,-35.76014217108457,119.79668142802234,275.35350502712936,430.91032862623615,586.4671522253432,742.0239758244503],[-657.9874365675123,-502.4306129684054,-346.87378936929844,-191.31696577019147,-35.76014217108457,119.79668142802234,275.35350502712936,430.91032862623615,586.4671522253432,742.0239758244503],[-657.9874365675123,-502.4306129684054,-346.87378936929844,-191.31696577019147,-35.76014217108457,119.79668142802234,275.35350502712936,430.91032862623615,586.4671522253432,742.0239758244503],[-657.9874365675123,-502.4306129684054,-346.87378936929844,-191.31696577019147,-35.76014217108457,119.79668142802234,275.35350502712936,430.91032862623615,586.4671522253432,742.0239758244503],[-657.9874365675123,-502.4306129684054,-346.87378936929844,-191.31696577019147,-35.76014217108457,119.79668142802234,275.35350502712936,430.91032862623615,586.4671522253432,742.0239758244503],[-657.9874365675123,-502.4306129684054,-346.87378936929844,-191.31696577019147,-35.76014217108457,119.79668142802234,275.35350502712936,430.91032862623615,586.4671522253432,742.0239758244503],[-657.9874365675123,-502.4306129684054,-346.87378936929844,-191.31696577019147,-35.76014217108457,119.79668142802234,275.35350502712936,430.91032862623615,586.4671522253432,742.0239758244503],[-657.9874365675123,-502.4306129684054,-346.87378936929844,-191.31696577019147,-35.76014217108457,119.79668142802234,275.35350502712936,430.91032862623615,586.4671522253432,742.0239758244503],[-657.9874365675123,-502.4306129684054,-346.87378936929844,-191.31696577019147,-35.76014217108457,119.79668142802234,275.35350502712936,430.91032862623615,586.4671522253432,742.0239758244503]],\"y\":[[-6.698041130766737,-6.698041130766737,-6.698041130766737,-6.698041130766737,-6.698041130766737,-6.698041130766737,-6.698041130766737,-6.698041130766737,-6.698041130766737,-6.698041130766737],[-5.17277976072155,-5.17277976072155,-5.17277976072155,-5.17277976072155,-5.17277976072155,-5.17277976072155,-5.17277976072155,-5.17277976072155,-5.17277976072155,-5.17277976072155],[-3.647518390676363,-3.647518390676363,-3.647518390676363,-3.647518390676363,-3.647518390676363,-3.647518390676363,-3.647518390676363,-3.647518390676363,-3.647518390676363,-3.647518390676363],[-2.122257020631176,-2.122257020631176,-2.122257020631176,-2.122257020631176,-2.122257020631176,-2.122257020631176,-2.122257020631176,-2.122257020631176,-2.122257020631176,-2.122257020631176],[-0.5969956505859892,-0.5969956505859892,-0.5969956505859892,-0.5969956505859892,-0.5969956505859892,-0.5969956505859892,-0.5969956505859892,-0.5969956505859892,-0.5969956505859892,-0.5969956505859892],[0.9282657194591977,0.9282657194591977,0.9282657194591977,0.9282657194591977,0.9282657194591977,0.9282657194591977,0.9282657194591977,0.9282657194591977,0.9282657194591977,0.9282657194591977],[2.4535270895043846,2.4535270895043846,2.4535270895043846,2.4535270895043846,2.4535270895043846,2.4535270895043846,2.4535270895043846,2.4535270895043846,2.4535270895043846,2.4535270895043846],[3.9787884595495724,3.9787884595495724,3.9787884595495724,3.9787884595495724,3.9787884595495724,3.9787884595495724,3.9787884595495724,3.9787884595495724,3.9787884595495724,3.9787884595495724],[5.504049829594758,5.504049829594758,5.504049829594758,5.504049829594758,5.504049829594758,5.504049829594758,5.504049829594758,5.504049829594758,5.504049829594758,5.504049829594758],[7.029311199639945,7.029311199639945,7.029311199639945,7.029311199639945,7.029311199639945,7.029311199639945,7.029311199639945,7.029311199639945,7.029311199639945,7.029311199639945]],\"z\":[[427253.4892290746,443273.86709965975,459294.2449702449,475314.62284083,491335.0007114151,507355.3785820002,523375.75645258534,539396.1343231704,555416.5121937555,571436.8900643407],[405061.31938888005,421081.6972594651,437102.07513005025,453122.4530006354,469142.8308712205,485163.20874180563,501183.5866123907,517203.96448297583,533224.342353561,549244.720224146],[382869.1495486854,398889.52741927054,414909.90528985567,430930.2831604408,446950.66103102587,462971.038901611,478991.4167721961,495011.7946427812,511032.1725133663,527052.5503839515],[360676.97970849084,376697.3575790759,392717.73544966104,408738.11332024616,424758.4911908313,440778.86906141636,456799.2469320015,472819.6248025866,488840.00267317175,504860.3805437569],[338484.8098682962,354505.18773888133,370525.56560946646,386545.9434800516,402566.32135063666,418586.6992212218,434607.0770918069,450627.454962392,466647.8328329771,482668.21070356225],[316292.6400281016,332313.0178986867,348333.3957692718,364353.77363985695,380374.1515104421,396394.52938102715,412414.9072516123,428435.2851221974,444455.66299278254,460476.04086336767],[294100.470187907,310120.8480584921,326141.22592907725,342161.6037996623,358181.98167024745,374202.3595408326,390222.7374114177,406243.1152820028,422263.4931525879,438283.87102317304],[271908.30034771236,287928.6782182975,303949.0560888826,319969.43395946774,335989.8118300529,352010.18970063794,368030.5675712231,384050.9454418082,400071.3233123933,416091.70118297846],[249716.13050751778,265736.5083781029,281756.88624868804,297777.26411927317,313797.64198985824,329818.01986044337,345838.3977310285,361858.77560161357,377879.1534721987,393899.5313427838],[227523.96066732318,243544.3385379083,259564.7164084934,275585.09427907853,291605.47214966366,307625.85002024873,323646.22789083386,339666.605761419,355686.9836320041,371707.36150258925]],\"type\":\"surface\"}],                        {\"autosize\":true,\"height\":500,\"margin\":{\"b\":65,\"l\":65,\"r\":50,\"t\":90},\"scene\":{\"camera\":{\"eye\":{\"x\":1.87,\"y\":0.88,\"z\":-0.64}}},\"template\":{\"data\":{\"barpolar\":[{\"marker\":{\"line\":{\"color\":\"#E5ECF6\",\"width\":0.5},\"pattern\":{\"fillmode\":\"overlay\",\"size\":10,\"solidity\":0.2}},\"type\":\"barpolar\"}],\"bar\":[{\"error_x\":{\"color\":\"#2a3f5f\"},\"error_y\":{\"color\":\"#2a3f5f\"},\"marker\":{\"line\":{\"color\":\"#E5ECF6\",\"width\":0.5},\"pattern\":{\"fillmode\":\"overlay\",\"size\":10,\"solidity\":0.2}},\"type\":\"bar\"}],\"carpet\":[{\"aaxis\":{\"endlinecolor\":\"#2a3f5f\",\"gridcolor\":\"white\",\"linecolor\":\"white\",\"minorgridcolor\":\"white\",\"startlinecolor\":\"#2a3f5f\"},\"baxis\":{\"endlinecolor\":\"#2a3f5f\",\"gridcolor\":\"white\",\"linecolor\":\"white\",\"minorgridcolor\":\"white\",\"startlinecolor\":\"#2a3f5f\"},\"type\":\"carpet\"}],\"choropleth\":[{\"colorbar\":{\"outlinewidth\":0,\"ticks\":\"\"},\"type\":\"choropleth\"}],\"contourcarpet\":[{\"colorbar\":{\"outlinewidth\":0,\"ticks\":\"\"},\"type\":\"contourcarpet\"}],\"contour\":[{\"colorbar\":{\"outlinewidth\":0,\"ticks\":\"\"},\"colorscale\":[[0.0,\"#0d0887\"],[0.1111111111111111,\"#46039f\"],[0.2222222222222222,\"#7201a8\"],[0.3333333333333333,\"#9c179e\"],[0.4444444444444444,\"#bd3786\"],[0.5555555555555556,\"#d8576b\"],[0.6666666666666666,\"#ed7953\"],[0.7777777777777778,\"#fb9f3a\"],[0.8888888888888888,\"#fdca26\"],[1.0,\"#f0f921\"]],\"type\":\"contour\"}],\"heatmapgl\":[{\"colorbar\":{\"outlinewidth\":0,\"ticks\":\"\"},\"colorscale\":[[0.0,\"#0d0887\"],[0.1111111111111111,\"#46039f\"],[0.2222222222222222,\"#7201a8\"],[0.3333333333333333,\"#9c179e\"],[0.4444444444444444,\"#bd3786\"],[0.5555555555555556,\"#d8576b\"],[0.6666666666666666,\"#ed7953\"],[0.7777777777777778,\"#fb9f3a\"],[0.8888888888888888,\"#fdca26\"],[1.0,\"#f0f921\"]],\"type\":\"heatmapgl\"}],\"heatmap\":[{\"colorbar\":{\"outlinewidth\":0,\"ticks\":\"\"},\"colorscale\":[[0.0,\"#0d0887\"],[0.1111111111111111,\"#46039f\"],[0.2222222222222222,\"#7201a8\"],[0.3333333333333333,\"#9c179e\"],[0.4444444444444444,\"#bd3786\"],[0.5555555555555556,\"#d8576b\"],[0.6666666666666666,\"#ed7953\"],[0.7777777777777778,\"#fb9f3a\"],[0.8888888888888888,\"#fdca26\"],[1.0,\"#f0f921\"]],\"type\":\"heatmap\"}],\"histogram2dcontour\":[{\"colorbar\":{\"outlinewidth\":0,\"ticks\":\"\"},\"colorscale\":[[0.0,\"#0d0887\"],[0.1111111111111111,\"#46039f\"],[0.2222222222222222,\"#7201a8\"],[0.3333333333333333,\"#9c179e\"],[0.4444444444444444,\"#bd3786\"],[0.5555555555555556,\"#d8576b\"],[0.6666666666666666,\"#ed7953\"],[0.7777777777777778,\"#fb9f3a\"],[0.8888888888888888,\"#fdca26\"],[1.0,\"#f0f921\"]],\"type\":\"histogram2dcontour\"}],\"histogram2d\":[{\"colorbar\":{\"outlinewidth\":0,\"ticks\":\"\"},\"colorscale\":[[0.0,\"#0d0887\"],[0.1111111111111111,\"#46039f\"],[0.2222222222222222,\"#7201a8\"],[0.3333333333333333,\"#9c179e\"],[0.4444444444444444,\"#bd3786\"],[0.5555555555555556,\"#d8576b\"],[0.6666666666666666,\"#ed7953\"],[0.7777777777777778,\"#fb9f3a\"],[0.8888888888888888,\"#fdca26\"],[1.0,\"#f0f921\"]],\"type\":\"histogram2d\"}],\"histogram\":[{\"marker\":{\"pattern\":{\"fillmode\":\"overlay\",\"size\":10,\"solidity\":0.2}},\"type\":\"histogram\"}],\"mesh3d\":[{\"colorbar\":{\"outlinewidth\":0,\"ticks\":\"\"},\"type\":\"mesh3d\"}],\"parcoords\":[{\"line\":{\"colorbar\":{\"outlinewidth\":0,\"ticks\":\"\"}},\"type\":\"parcoords\"}],\"pie\":[{\"automargin\":true,\"type\":\"pie\"}],\"scatter3d\":[{\"line\":{\"colorbar\":{\"outlinewidth\":0,\"ticks\":\"\"}},\"marker\":{\"colorbar\":{\"outlinewidth\":0,\"ticks\":\"\"}},\"type\":\"scatter3d\"}],\"scattercarpet\":[{\"marker\":{\"colorbar\":{\"outlinewidth\":0,\"ticks\":\"\"}},\"type\":\"scattercarpet\"}],\"scattergeo\":[{\"marker\":{\"colorbar\":{\"outlinewidth\":0,\"ticks\":\"\"}},\"type\":\"scattergeo\"}],\"scattergl\":[{\"marker\":{\"colorbar\":{\"outlinewidth\":0,\"ticks\":\"\"}},\"type\":\"scattergl\"}],\"scattermapbox\":[{\"marker\":{\"colorbar\":{\"outlinewidth\":0,\"ticks\":\"\"}},\"type\":\"scattermapbox\"}],\"scatterpolargl\":[{\"marker\":{\"colorbar\":{\"outlinewidth\":0,\"ticks\":\"\"}},\"type\":\"scatterpolargl\"}],\"scatterpolar\":[{\"marker\":{\"colorbar\":{\"outlinewidth\":0,\"ticks\":\"\"}},\"type\":\"scatterpolar\"}],\"scatter\":[{\"fillpattern\":{\"fillmode\":\"overlay\",\"size\":10,\"solidity\":0.2},\"type\":\"scatter\"}],\"scatterternary\":[{\"marker\":{\"colorbar\":{\"outlinewidth\":0,\"ticks\":\"\"}},\"type\":\"scatterternary\"}],\"surface\":[{\"colorbar\":{\"outlinewidth\":0,\"ticks\":\"\"},\"colorscale\":[[0.0,\"#0d0887\"],[0.1111111111111111,\"#46039f\"],[0.2222222222222222,\"#7201a8\"],[0.3333333333333333,\"#9c179e\"],[0.4444444444444444,\"#bd3786\"],[0.5555555555555556,\"#d8576b\"],[0.6666666666666666,\"#ed7953\"],[0.7777777777777778,\"#fb9f3a\"],[0.8888888888888888,\"#fdca26\"],[1.0,\"#f0f921\"]],\"type\":\"surface\"}],\"table\":[{\"cells\":{\"fill\":{\"color\":\"#EBF0F8\"},\"line\":{\"color\":\"white\"}},\"header\":{\"fill\":{\"color\":\"#C8D4E3\"},\"line\":{\"color\":\"white\"}},\"type\":\"table\"}]},\"layout\":{\"annotationdefaults\":{\"arrowcolor\":\"#2a3f5f\",\"arrowhead\":0,\"arrowwidth\":1},\"autotypenumbers\":\"strict\",\"coloraxis\":{\"colorbar\":{\"outlinewidth\":0,\"ticks\":\"\"}},\"colorscale\":{\"diverging\":[[0,\"#8e0152\"],[0.1,\"#c51b7d\"],[0.2,\"#de77ae\"],[0.3,\"#f1b6da\"],[0.4,\"#fde0ef\"],[0.5,\"#f7f7f7\"],[0.6,\"#e6f5d0\"],[0.7,\"#b8e186\"],[0.8,\"#7fbc41\"],[0.9,\"#4d9221\"],[1,\"#276419\"]],\"sequential\":[[0.0,\"#0d0887\"],[0.1111111111111111,\"#46039f\"],[0.2222222222222222,\"#7201a8\"],[0.3333333333333333,\"#9c179e\"],[0.4444444444444444,\"#bd3786\"],[0.5555555555555556,\"#d8576b\"],[0.6666666666666666,\"#ed7953\"],[0.7777777777777778,\"#fb9f3a\"],[0.8888888888888888,\"#fdca26\"],[1.0,\"#f0f921\"]],\"sequentialminus\":[[0.0,\"#0d0887\"],[0.1111111111111111,\"#46039f\"],[0.2222222222222222,\"#7201a8\"],[0.3333333333333333,\"#9c179e\"],[0.4444444444444444,\"#bd3786\"],[0.5555555555555556,\"#d8576b\"],[0.6666666666666666,\"#ed7953\"],[0.7777777777777778,\"#fb9f3a\"],[0.8888888888888888,\"#fdca26\"],[1.0,\"#f0f921\"]]},\"colorway\":[\"#636efa\",\"#EF553B\",\"#00cc96\",\"#ab63fa\",\"#FFA15A\",\"#19d3f3\",\"#FF6692\",\"#B6E880\",\"#FF97FF\",\"#FECB52\"],\"font\":{\"color\":\"#2a3f5f\"},\"geo\":{\"bgcolor\":\"white\",\"lakecolor\":\"white\",\"landcolor\":\"#E5ECF6\",\"showlakes\":true,\"showland\":true,\"subunitcolor\":\"white\"},\"hoverlabel\":{\"align\":\"left\"},\"hovermode\":\"closest\",\"mapbox\":{\"style\":\"light\"},\"paper_bgcolor\":\"white\",\"plot_bgcolor\":\"#E5ECF6\",\"polar\":{\"angularaxis\":{\"gridcolor\":\"white\",\"linecolor\":\"white\",\"ticks\":\"\"},\"bgcolor\":\"#E5ECF6\",\"radialaxis\":{\"gridcolor\":\"white\",\"linecolor\":\"white\",\"ticks\":\"\"}},\"scene\":{\"xaxis\":{\"backgroundcolor\":\"#E5ECF6\",\"gridcolor\":\"white\",\"gridwidth\":2,\"linecolor\":\"white\",\"showbackground\":true,\"ticks\":\"\",\"zerolinecolor\":\"white\"},\"yaxis\":{\"backgroundcolor\":\"#E5ECF6\",\"gridcolor\":\"white\",\"gridwidth\":2,\"linecolor\":\"white\",\"showbackground\":true,\"ticks\":\"\",\"zerolinecolor\":\"white\"},\"zaxis\":{\"backgroundcolor\":\"#E5ECF6\",\"gridcolor\":\"white\",\"gridwidth\":2,\"linecolor\":\"white\",\"showbackground\":true,\"ticks\":\"\",\"zerolinecolor\":\"white\"}},\"shapedefaults\":{\"line\":{\"color\":\"#2a3f5f\"}},\"ternary\":{\"aaxis\":{\"gridcolor\":\"white\",\"linecolor\":\"white\",\"ticks\":\"\"},\"baxis\":{\"gridcolor\":\"white\",\"linecolor\":\"white\",\"ticks\":\"\"},\"bgcolor\":\"#E5ECF6\",\"caxis\":{\"gridcolor\":\"white\",\"linecolor\":\"white\",\"ticks\":\"\"}},\"title\":{\"x\":0.05},\"xaxis\":{\"automargin\":true,\"gridcolor\":\"white\",\"linecolor\":\"white\",\"ticks\":\"\",\"title\":{\"standoff\":15},\"zerolinecolor\":\"white\",\"zerolinewidth\":2},\"yaxis\":{\"automargin\":true,\"gridcolor\":\"white\",\"linecolor\":\"white\",\"ticks\":\"\",\"title\":{\"standoff\":15},\"zerolinecolor\":\"white\",\"zerolinewidth\":2}}},\"title\":{\"text\":\"Linear Regres. Plane\"},\"width\":500},                        {\"responsive\": true}                    ).then(function(){\n",
       "                            \n",
       "var gd = document.getElementById('aa39999c-732d-4539-a37a-43bdf0ab3f2c');\n",
       "var x = new MutationObserver(function (mutations, observer) {{\n",
       "        var display = window.getComputedStyle(gd).display;\n",
       "        if (!display || display === 'none') {{\n",
       "            console.log([gd, 'removed!']);\n",
       "            Plotly.purge(gd);\n",
       "            observer.disconnect();\n",
       "        }}\n",
       "}});\n",
       "\n",
       "// Listen for the removal of the full notebook cells\n",
       "var notebookContainer = gd.closest('#notebook-container');\n",
       "if (notebookContainer) {{\n",
       "    x.observe(notebookContainer, {childList: true});\n",
       "}}\n",
       "\n",
       "// Listen for the clearing of the current output cell\n",
       "var outputEl = gd.closest('.output');\n",
       "if (outputEl) {{\n",
       "    x.observe(outputEl, {childList: true});\n",
       "}}\n",
       "\n",
       "                        })                };                });            </script>        </div>"
      ]
     },
     "metadata": {},
     "output_type": "display_data"
    }
   ],
   "source": [
    "import numpy as np\n",
    "import plotly.graph_objs as go\n",
    "\n",
    "# defining the range for PC1, PC2\n",
    "pc1 = np.linspace(df_data2_transform2D['PC1'].min(), df_data2_transform2D['PC1'].max(), 10)\n",
    "pc2 = np.linspace(df_data2_transform2D['PC2'].min(), df_data2_transform2D['PC2'].max(), 10)\n",
    "\n",
    "#meshgrid\n",
    "pc1_grid, pc2_grid = np.meshgrid(pc1, pc2)\n",
    "\n",
    "# a col stack (pc1_grid.ravel, pc2_grid.ravel)\n",
    "grid = np.c_[pc1_grid.ravel(), pc2_grid.ravel()]\n",
    "\n",
    "# predicting the output for every point on the grid\n",
    "predicted = model_pca2_2D.predict(grid).reshape(pc1_grid.shape)\n",
    "\n",
    "# plotting the original data as scatter plot\n",
    "scatter = go.Scatter3d(x = df_data2_transform3D['PC1'], y = df_data2_transform3D['PC2'], z = y_values, mode='markers', marker=dict(color=\"#000000\"))\n",
    "\n",
    "surface = go.Surface(x=pc1_grid, y=pc2_grid, z=predicted, colorscale='Viridis')\n",
    "\n",
    "# creating the layout and adding the traces\n",
    "layout = go.Layout(title='Linear Regres. Plane', autosize=True, scene=dict(camera=dict(eye=dict(x=1.87, y=0.88, z=-0.64))), width=500, height=500, margin=dict(l=65, r=50, b=65, t=90))\n",
    "fig = go.Figure(data=[scatter, surface], layout=layout)\n",
    "\n",
    "iplot(fig)\n"
   ]
  },
  {
   "cell_type": "code",
   "execution_count": 29,
   "id": "2bfdd7b8",
   "metadata": {},
   "outputs": [
    {
     "data": {
      "text/plain": [
       "array([0.99992917])"
      ]
     },
     "execution_count": 29,
     "metadata": {},
     "output_type": "execute_result"
    }
   ],
   "source": [
    "#reducing 4 dimensions to 1D (to make it easier for plotting with target)\n",
    "pca2_1D = PCA(n_components=1)\n",
    "pca2_1D.fit(X_values)\n",
    "pca2_1D.explained_variance_ratio_ "
   ]
  },
  {
   "cell_type": "code",
   "execution_count": 30,
   "id": "7ee2d266",
   "metadata": {},
   "outputs": [],
   "source": [
    "data2_transform1D = pca2_1D.transform(X_values)\n",
    "df_data2_transform1D =pd.DataFrame(data2_transform1D,columns = ['PC1'])"
   ]
  },
  {
   "cell_type": "code",
   "execution_count": 31,
   "id": "2f8f4168",
   "metadata": {},
   "outputs": [
    {
     "name": "stdout",
     "output_type": "stream",
     "text": [
      "Sum of variances: 0.9999291737577198\n",
      "\n",
      "pca2_1D (transform):\n",
      " [[-257.98015354]\n",
      " [ 142.02066539]\n",
      " [-557.98540451]\n",
      " [ 242.02501699]\n",
      " [-357.98291951]\n",
      " [-657.98743657]\n",
      " [ 442.02713177]\n",
      " [-157.98579449]\n",
      " [-257.98320048]\n",
      " [ -57.97682334]]\n",
      "\n",
      "pca2_1D (inverse_transform):\n",
      " [[2.40000376e+03 3.08096253e+00 2.08264326e+00 7.33621158e+00]\n",
      " [2.80000346e+03 3.22904873e+00 2.22812348e+00 6.41099777e+00]\n",
      " [2.09999936e+03 2.96989617e+00 1.97353141e+00 8.03013266e+00]\n",
      " [2.90000753e+03 3.26607182e+00 2.26449504e+00 6.17968473e+00]\n",
      " [2.30000128e+03 3.04394003e+00 2.04627227e+00 7.56752095e+00]\n",
      " [1.99999761e+03 2.93287394e+00 1.93716069e+00 8.26144034e+00]\n",
      " [3.10000908e+03 3.34011555e+00 2.33723577e+00 5.71707388e+00]\n",
      " [2.49999784e+03 3.11798192e+00 2.11901119e+00 7.10492165e+00]\n",
      " [2.40000072e+03 3.08096140e+00 2.08264215e+00 7.33621863e+00]\n",
      " [2.60000653e+03 3.15500671e+00 2.15538443e+00 6.87359792e+00]]\n",
      "\n",
      "Original:\n",
      " [[2.4e+03 4.0e+00 3.0e+00 6.0e+00]\n",
      " [2.8e+03 3.0e+00 3.0e+00 5.0e+00]\n",
      " [2.1e+03 2.0e+00 1.0e+00 8.0e+00]\n",
      " [2.9e+03 4.0e+00 2.0e+00 3.0e+00]\n",
      " [2.3e+03 3.0e+00 2.0e+00 7.0e+00]\n",
      " [2.0e+03 2.0e+00 1.0e+00 9.0e+00]\n",
      " [3.1e+03 4.0e+00 3.0e+00 2.0e+00]\n",
      " [2.5e+03 3.0e+00 2.0e+00 8.0e+00]\n",
      " [2.4e+03 3.0e+00 2.0e+00 7.0e+00]\n",
      " [2.6e+03 3.0e+00 2.0e+00 4.0e+00]]\n"
     ]
    }
   ],
   "source": [
    "data2_1D_inverseTransform = pca2_1D.inverse_transform(data2_transform1D)\n",
    "\n",
    "print(\"Sum of variances:\", np.sum(pca2_1D.explained_variance_ratio_))\n",
    "#0.9999291737577198 the variance is explained\n",
    "\n",
    "print(\"\\npca2_1D (transform):\\n\", data2_transform1D[:10,:])\n",
    "print(\"\\npca2_1D (inverse_transform):\\n\", data2_1D_inverseTransform[:10,:])\n",
    "print(\"\\nOriginal:\\n\", data2[:10,:-1])"
   ]
  },
  {
   "cell_type": "code",
   "execution_count": 32,
   "id": "34142596",
   "metadata": {},
   "outputs": [
    {
     "name": "stdout",
     "output_type": "stream",
     "text": [
      "[432787.66894805 329800.34058625]\n"
     ]
    }
   ],
   "source": [
    "model_pca2_1D = LinearRegression()\n",
    "model_pca2_1D.fit(data2_transform1D, y_values)\n",
    "\n",
    "\n",
    "#transforming new points to PCA relative 'dimensions'\n",
    "new_points_centered = new_points - pca2_1D.mean_ #subtracting mean -> centering\n",
    "transformed_points = new_points_centered @ pca2_1D.components_.T\n",
    "predictions = model_pca2_1D.predict(transformed_points)\n",
    "\n",
    "#PCA 1 dimension data\n",
    "print(predictions)"
   ]
  },
  {
   "cell_type": "code",
   "execution_count": 33,
   "id": "a1a26b41",
   "metadata": {},
   "outputs": [
    {
     "data": {
      "image/png": "[encoded data removed]",
      "text/plain": [
       "<Figure size 640x480 with 1 Axes>"
      ]
     },
     "metadata": {},
     "output_type": "display_data"
    }
   ],
   "source": [
    "#data points\n",
    "plt.scatter(data2_transform1D, y_values, color='blue', label='Original data')\n",
    "\n",
    "# predicted values for new points\n",
    "transformed_all = (X_values - pca2_1D.mean_) @ pca2_1D.components_.T\n",
    "\n",
    "plt.scatter(data2_transform1D, model_pca2_1D.predict(transformed_all), color='red', label='Predictions')\n",
    "\n",
    "plt.xlabel('PC1')\n",
    "plt.ylabel('Target')\n",
    "plt.legend()\n",
    "\n",
    "plt.show()"
   ]
  },
  {
   "cell_type": "code",
   "execution_count": null,
   "id": "05c76272",
   "metadata": {},
   "outputs": [],
   "source": []
  }
 ],
 "metadata": {
  "kernelspec": {
   "display_name": "Python 3 (ipykernel)",
   "language": "python",
   "name": "python3"
  },
  "language_info": {
   "codemirror_mode": {
    "name": "ipython",
    "version": 3
   },
   "file_extension": ".py",
   "mimetype": "text/x-python",
   "name": "python",
   "nbconvert_exporter": "python",
   "pygments_lexer": "ipython3",
   "version": "3.9.13"
  }
 },
 "nbformat": 4,
 "nbformat_minor": 5
}
